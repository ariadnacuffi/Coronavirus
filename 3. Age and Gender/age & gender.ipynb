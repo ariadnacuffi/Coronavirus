{
 "cells": [
  {
   "cell_type": "markdown",
   "metadata": {},
   "source": [
    "age: https://www.kaggle.com/vanshjatana/analysis-on-coronavirus"
   ]
  },
  {
   "cell_type": "code",
   "execution_count": 2,
   "metadata": {},
   "outputs": [],
   "source": [
    "import pandas as pd \n",
    "cases = pd.read_csv(\"covid_19_data.csv\")\n",
    "import plotly.offline as py\n",
    "import plotly.express as px"
   ]
  },
  {
   "cell_type": "markdown",
   "metadata": {},
   "source": [
    "**Libraries**"
   ]
  },
  {
   "cell_type": "code",
   "execution_count": 3,
   "metadata": {
    "_cell_guid": "b1076dfc-b9ad-4769-8c92-a6c4dae69d19",
    "_uuid": "8f2839f25d086af736a60e9eeb907d3b93b6e0e5"
   },
   "outputs": [],
   "source": [
    "import numpy as np\n",
    "import pandas as pd \n",
    "import seaborn as sns\n",
    "import matplotlib.pyplot as plt\n",
    "import matplotlib.dates as mdates\n",
    "import plotly.express as px\n",
    "from datetime import date, timedelta\n",
    "import plotly.offline as py"
   ]
  },
  {
   "cell_type": "markdown",
   "metadata": {},
   "source": [
    "**Reading Data**"
   ]
  },
  {
   "cell_type": "code",
   "execution_count": 4,
   "metadata": {
    "_cell_guid": "79c7e3d0-c299-4dcb-8224-4455121ee9b0",
    "_uuid": "d629ff2d2480ee46fbb7e2d37f6b5fab8052498a"
   },
   "outputs": [],
   "source": [
    "df_patient = pd.read_csv(\"PatientInfo.csv\")"
   ]
  },
  {
   "cell_type": "code",
   "execution_count": 5,
   "metadata": {},
   "outputs": [],
   "source": [
    "weather = pd.read_csv(\"temperature_dataframe copy.csv\")"
   ]
  },
  {
   "cell_type": "markdown",
   "metadata": {},
   "source": [
    "**Looking into patient data**"
   ]
  },
  {
   "cell_type": "code",
   "execution_count": 6,
   "metadata": {},
   "outputs": [
    {
     "data": {
      "text/html": [
       "<div>\n",
       "<style scoped>\n",
       "    .dataframe tbody tr th:only-of-type {\n",
       "        vertical-align: middle;\n",
       "    }\n",
       "\n",
       "    .dataframe tbody tr th {\n",
       "        vertical-align: top;\n",
       "    }\n",
       "\n",
       "    .dataframe thead th {\n",
       "        text-align: right;\n",
       "    }\n",
       "</style>\n",
       "<table border=\"1\" class=\"dataframe\">\n",
       "  <thead>\n",
       "    <tr style=\"text-align: right;\">\n",
       "      <th></th>\n",
       "      <th>patient_id</th>\n",
       "      <th>global_num</th>\n",
       "      <th>sex</th>\n",
       "      <th>birth_year</th>\n",
       "      <th>age</th>\n",
       "      <th>country</th>\n",
       "      <th>province</th>\n",
       "      <th>city</th>\n",
       "      <th>disease</th>\n",
       "      <th>infection_case</th>\n",
       "      <th>infection_order</th>\n",
       "      <th>infected_by</th>\n",
       "      <th>contact_number</th>\n",
       "      <th>symptom_onset_date</th>\n",
       "      <th>confirmed_date</th>\n",
       "      <th>released_date</th>\n",
       "      <th>deceased_date</th>\n",
       "      <th>state</th>\n",
       "    </tr>\n",
       "  </thead>\n",
       "  <tbody>\n",
       "    <tr>\n",
       "      <td>0</td>\n",
       "      <td>1000000001</td>\n",
       "      <td>2.0</td>\n",
       "      <td>male</td>\n",
       "      <td>1964.0</td>\n",
       "      <td>50s</td>\n",
       "      <td>Korea</td>\n",
       "      <td>Seoul</td>\n",
       "      <td>Gangseo-gu</td>\n",
       "      <td>NaN</td>\n",
       "      <td>overseas inflow</td>\n",
       "      <td>1.0</td>\n",
       "      <td>NaN</td>\n",
       "      <td>75.0</td>\n",
       "      <td>2020-01-22</td>\n",
       "      <td>2020-01-23</td>\n",
       "      <td>2020-02-05</td>\n",
       "      <td>NaN</td>\n",
       "      <td>released</td>\n",
       "    </tr>\n",
       "    <tr>\n",
       "      <td>1</td>\n",
       "      <td>1000000002</td>\n",
       "      <td>5.0</td>\n",
       "      <td>male</td>\n",
       "      <td>1987.0</td>\n",
       "      <td>30s</td>\n",
       "      <td>Korea</td>\n",
       "      <td>Seoul</td>\n",
       "      <td>Jungnang-gu</td>\n",
       "      <td>NaN</td>\n",
       "      <td>overseas inflow</td>\n",
       "      <td>1.0</td>\n",
       "      <td>NaN</td>\n",
       "      <td>31.0</td>\n",
       "      <td>NaN</td>\n",
       "      <td>2020-01-30</td>\n",
       "      <td>2020-03-02</td>\n",
       "      <td>NaN</td>\n",
       "      <td>released</td>\n",
       "    </tr>\n",
       "    <tr>\n",
       "      <td>2</td>\n",
       "      <td>1000000003</td>\n",
       "      <td>6.0</td>\n",
       "      <td>male</td>\n",
       "      <td>1964.0</td>\n",
       "      <td>50s</td>\n",
       "      <td>Korea</td>\n",
       "      <td>Seoul</td>\n",
       "      <td>Jongno-gu</td>\n",
       "      <td>NaN</td>\n",
       "      <td>contact with patient</td>\n",
       "      <td>2.0</td>\n",
       "      <td>2.002000e+09</td>\n",
       "      <td>17.0</td>\n",
       "      <td>NaN</td>\n",
       "      <td>2020-01-30</td>\n",
       "      <td>2020-02-19</td>\n",
       "      <td>NaN</td>\n",
       "      <td>released</td>\n",
       "    </tr>\n",
       "    <tr>\n",
       "      <td>3</td>\n",
       "      <td>1000000004</td>\n",
       "      <td>7.0</td>\n",
       "      <td>male</td>\n",
       "      <td>1991.0</td>\n",
       "      <td>20s</td>\n",
       "      <td>Korea</td>\n",
       "      <td>Seoul</td>\n",
       "      <td>Mapo-gu</td>\n",
       "      <td>NaN</td>\n",
       "      <td>overseas inflow</td>\n",
       "      <td>1.0</td>\n",
       "      <td>NaN</td>\n",
       "      <td>9.0</td>\n",
       "      <td>2020-01-26</td>\n",
       "      <td>2020-01-30</td>\n",
       "      <td>2020-02-15</td>\n",
       "      <td>NaN</td>\n",
       "      <td>released</td>\n",
       "    </tr>\n",
       "    <tr>\n",
       "      <td>4</td>\n",
       "      <td>1000000005</td>\n",
       "      <td>9.0</td>\n",
       "      <td>female</td>\n",
       "      <td>1992.0</td>\n",
       "      <td>20s</td>\n",
       "      <td>Korea</td>\n",
       "      <td>Seoul</td>\n",
       "      <td>Seongbuk-gu</td>\n",
       "      <td>NaN</td>\n",
       "      <td>contact with patient</td>\n",
       "      <td>2.0</td>\n",
       "      <td>1.000000e+09</td>\n",
       "      <td>2.0</td>\n",
       "      <td>NaN</td>\n",
       "      <td>2020-01-31</td>\n",
       "      <td>2020-02-24</td>\n",
       "      <td>NaN</td>\n",
       "      <td>released</td>\n",
       "    </tr>\n",
       "  </tbody>\n",
       "</table>\n",
       "</div>"
      ],
      "text/plain": [
       "   patient_id  global_num     sex  birth_year  age country province  \\\n",
       "0  1000000001         2.0    male      1964.0  50s   Korea    Seoul   \n",
       "1  1000000002         5.0    male      1987.0  30s   Korea    Seoul   \n",
       "2  1000000003         6.0    male      1964.0  50s   Korea    Seoul   \n",
       "3  1000000004         7.0    male      1991.0  20s   Korea    Seoul   \n",
       "4  1000000005         9.0  female      1992.0  20s   Korea    Seoul   \n",
       "\n",
       "          city disease        infection_case  infection_order   infected_by  \\\n",
       "0   Gangseo-gu     NaN       overseas inflow              1.0           NaN   \n",
       "1  Jungnang-gu     NaN       overseas inflow              1.0           NaN   \n",
       "2    Jongno-gu     NaN  contact with patient              2.0  2.002000e+09   \n",
       "3      Mapo-gu     NaN       overseas inflow              1.0           NaN   \n",
       "4  Seongbuk-gu     NaN  contact with patient              2.0  1.000000e+09   \n",
       "\n",
       "   contact_number symptom_onset_date confirmed_date released_date  \\\n",
       "0            75.0         2020-01-22     2020-01-23    2020-02-05   \n",
       "1            31.0                NaN     2020-01-30    2020-03-02   \n",
       "2            17.0                NaN     2020-01-30    2020-02-19   \n",
       "3             9.0         2020-01-26     2020-01-30    2020-02-15   \n",
       "4             2.0                NaN     2020-01-31    2020-02-24   \n",
       "\n",
       "  deceased_date     state  \n",
       "0           NaN  released  \n",
       "1           NaN  released  \n",
       "2           NaN  released  \n",
       "3           NaN  released  \n",
       "4           NaN  released  "
      ]
     },
     "execution_count": 6,
     "metadata": {},
     "output_type": "execute_result"
    }
   ],
   "source": [
    "df_patient.head()"
   ]
  },
  {
   "cell_type": "markdown",
   "metadata": {},
   "source": [
    "1.  **id** the ID of the patient (n-th confirmed patient)\n",
    "2.  **sex** the sex of the patient\n",
    "3.  **birth_year** the birth year of the patient\n",
    "4.  **country** the country of the patient\n",
    "5.  **region** the region of the patient\n",
    "6.  **group** the collective infection\n",
    "7.  **infection_reason** the reason of infection\n",
    "8.  **infection_order** the order of infection\n",
    "9.  **infected_by** the ID of who has infected the patient\n",
    "10. **contact_number** the number of contacts with people\n",
    "11. **confirmed_date** the date of confirmation\n",
    "12. **released_date** the date of discharge\n",
    "13. **deceased_date** the date of decease\n",
    "14. **state** isolated / released / deceased"
   ]
  },
  {
   "cell_type": "code",
   "execution_count": 7,
   "metadata": {},
   "outputs": [
    {
     "data": {
      "text/plain": [
       "patient_id               0\n",
       "global_num            1107\n",
       "sex                      6\n",
       "birth_year             357\n",
       "age                     13\n",
       "country                  0\n",
       "province                 0\n",
       "city                    68\n",
       "disease               2752\n",
       "infection_case         928\n",
       "infection_order       2740\n",
       "infected_by           2121\n",
       "contact_number        2254\n",
       "symptom_onset_date    2382\n",
       "confirmed_date           0\n",
       "released_date         2062\n",
       "deceased_date         2723\n",
       "state                    0\n",
       "dtype: int64"
      ]
     },
     "execution_count": 7,
     "metadata": {},
     "output_type": "execute_result"
    }
   ],
   "source": [
    "df_patient.isna().sum()"
   ]
  },
  {
   "cell_type": "code",
   "execution_count": 8,
   "metadata": {},
   "outputs": [],
   "source": [
    "df_patient['birth_year'] = df_patient.birth_year.fillna(0.0).astype(int)\n",
    "df_patient['birth_year'] = df_patient['birth_year'].map(lambda val: val if val > 0 else np.nan)"
   ]
  },
  {
   "cell_type": "code",
   "execution_count": 9,
   "metadata": {},
   "outputs": [],
   "source": [
    "df_patient.confirmed_date = pd.to_datetime(df_patient.confirmed_date)\n",
    "daily_count = df_patient.groupby(df_patient.confirmed_date).patient_id.count()\n",
    "accumulated_count = daily_count.cumsum()"
   ]
  },
  {
   "cell_type": "code",
   "execution_count": 10,
   "metadata": {},
   "outputs": [],
   "source": [
    "df_patient['age'] = 2020 - df_patient['birth_year'] "
   ]
  },
  {
   "cell_type": "code",
   "execution_count": 11,
   "metadata": {},
   "outputs": [],
   "source": [
    "import math\n",
    "def group_age(age):\n",
    "    if age >= 0: # not NaN\n",
    "        if age % 10 != 0:\n",
    "            lower = int(math.floor(age / 10.0)) * 10\n",
    "            upper = int(math.ceil(age / 10.0)) * 10 - 1\n",
    "            return f\"{lower}-{upper}\"\n",
    "        else:\n",
    "            lower = int(age)\n",
    "            upper = int(age + 9) \n",
    "            return f\"{lower}-{upper}\"\n",
    "    return \"Unknown\"\n",
    "\n",
    "\n",
    "df_patient[\"age_range\"] = df_patient[\"age\"].apply(group_age)"
   ]
  },
  {
   "cell_type": "code",
   "execution_count": 12,
   "metadata": {},
   "outputs": [
    {
     "data": {
      "text/html": [
       "<div>\n",
       "<style scoped>\n",
       "    .dataframe tbody tr th:only-of-type {\n",
       "        vertical-align: middle;\n",
       "    }\n",
       "\n",
       "    .dataframe tbody tr th {\n",
       "        vertical-align: top;\n",
       "    }\n",
       "\n",
       "    .dataframe thead th {\n",
       "        text-align: right;\n",
       "    }\n",
       "</style>\n",
       "<table border=\"1\" class=\"dataframe\">\n",
       "  <thead>\n",
       "    <tr style=\"text-align: right;\">\n",
       "      <th></th>\n",
       "      <th>patient_id</th>\n",
       "      <th>global_num</th>\n",
       "      <th>sex</th>\n",
       "      <th>birth_year</th>\n",
       "      <th>age</th>\n",
       "      <th>country</th>\n",
       "      <th>province</th>\n",
       "      <th>city</th>\n",
       "      <th>disease</th>\n",
       "      <th>infection_case</th>\n",
       "      <th>infection_order</th>\n",
       "      <th>infected_by</th>\n",
       "      <th>contact_number</th>\n",
       "      <th>symptom_onset_date</th>\n",
       "      <th>confirmed_date</th>\n",
       "      <th>released_date</th>\n",
       "      <th>deceased_date</th>\n",
       "      <th>state</th>\n",
       "      <th>age_range</th>\n",
       "    </tr>\n",
       "  </thead>\n",
       "  <tbody>\n",
       "    <tr>\n",
       "      <td>0</td>\n",
       "      <td>1000000001</td>\n",
       "      <td>2.0</td>\n",
       "      <td>male</td>\n",
       "      <td>1964.0</td>\n",
       "      <td>56.0</td>\n",
       "      <td>Korea</td>\n",
       "      <td>Seoul</td>\n",
       "      <td>Gangseo-gu</td>\n",
       "      <td>NaN</td>\n",
       "      <td>overseas inflow</td>\n",
       "      <td>1.0</td>\n",
       "      <td>NaN</td>\n",
       "      <td>75.0</td>\n",
       "      <td>2020-01-22</td>\n",
       "      <td>2020-01-23</td>\n",
       "      <td>2020-02-05</td>\n",
       "      <td>NaN</td>\n",
       "      <td>released</td>\n",
       "      <td>50-59</td>\n",
       "    </tr>\n",
       "    <tr>\n",
       "      <td>1</td>\n",
       "      <td>1000000002</td>\n",
       "      <td>5.0</td>\n",
       "      <td>male</td>\n",
       "      <td>1987.0</td>\n",
       "      <td>33.0</td>\n",
       "      <td>Korea</td>\n",
       "      <td>Seoul</td>\n",
       "      <td>Jungnang-gu</td>\n",
       "      <td>NaN</td>\n",
       "      <td>overseas inflow</td>\n",
       "      <td>1.0</td>\n",
       "      <td>NaN</td>\n",
       "      <td>31.0</td>\n",
       "      <td>NaN</td>\n",
       "      <td>2020-01-30</td>\n",
       "      <td>2020-03-02</td>\n",
       "      <td>NaN</td>\n",
       "      <td>released</td>\n",
       "      <td>30-39</td>\n",
       "    </tr>\n",
       "    <tr>\n",
       "      <td>2</td>\n",
       "      <td>1000000003</td>\n",
       "      <td>6.0</td>\n",
       "      <td>male</td>\n",
       "      <td>1964.0</td>\n",
       "      <td>56.0</td>\n",
       "      <td>Korea</td>\n",
       "      <td>Seoul</td>\n",
       "      <td>Jongno-gu</td>\n",
       "      <td>NaN</td>\n",
       "      <td>contact with patient</td>\n",
       "      <td>2.0</td>\n",
       "      <td>2.002000e+09</td>\n",
       "      <td>17.0</td>\n",
       "      <td>NaN</td>\n",
       "      <td>2020-01-30</td>\n",
       "      <td>2020-02-19</td>\n",
       "      <td>NaN</td>\n",
       "      <td>released</td>\n",
       "      <td>50-59</td>\n",
       "    </tr>\n",
       "    <tr>\n",
       "      <td>3</td>\n",
       "      <td>1000000004</td>\n",
       "      <td>7.0</td>\n",
       "      <td>male</td>\n",
       "      <td>1991.0</td>\n",
       "      <td>29.0</td>\n",
       "      <td>Korea</td>\n",
       "      <td>Seoul</td>\n",
       "      <td>Mapo-gu</td>\n",
       "      <td>NaN</td>\n",
       "      <td>overseas inflow</td>\n",
       "      <td>1.0</td>\n",
       "      <td>NaN</td>\n",
       "      <td>9.0</td>\n",
       "      <td>2020-01-26</td>\n",
       "      <td>2020-01-30</td>\n",
       "      <td>2020-02-15</td>\n",
       "      <td>NaN</td>\n",
       "      <td>released</td>\n",
       "      <td>20-29</td>\n",
       "    </tr>\n",
       "    <tr>\n",
       "      <td>4</td>\n",
       "      <td>1000000005</td>\n",
       "      <td>9.0</td>\n",
       "      <td>female</td>\n",
       "      <td>1992.0</td>\n",
       "      <td>28.0</td>\n",
       "      <td>Korea</td>\n",
       "      <td>Seoul</td>\n",
       "      <td>Seongbuk-gu</td>\n",
       "      <td>NaN</td>\n",
       "      <td>contact with patient</td>\n",
       "      <td>2.0</td>\n",
       "      <td>1.000000e+09</td>\n",
       "      <td>2.0</td>\n",
       "      <td>NaN</td>\n",
       "      <td>2020-01-31</td>\n",
       "      <td>2020-02-24</td>\n",
       "      <td>NaN</td>\n",
       "      <td>released</td>\n",
       "      <td>20-29</td>\n",
       "    </tr>\n",
       "    <tr>\n",
       "      <td>...</td>\n",
       "      <td>...</td>\n",
       "      <td>...</td>\n",
       "      <td>...</td>\n",
       "      <td>...</td>\n",
       "      <td>...</td>\n",
       "      <td>...</td>\n",
       "      <td>...</td>\n",
       "      <td>...</td>\n",
       "      <td>...</td>\n",
       "      <td>...</td>\n",
       "      <td>...</td>\n",
       "      <td>...</td>\n",
       "      <td>...</td>\n",
       "      <td>...</td>\n",
       "      <td>...</td>\n",
       "      <td>...</td>\n",
       "      <td>...</td>\n",
       "      <td>...</td>\n",
       "      <td>...</td>\n",
       "    </tr>\n",
       "    <tr>\n",
       "      <td>2766</td>\n",
       "      <td>7000000005</td>\n",
       "      <td>9120.0</td>\n",
       "      <td>female</td>\n",
       "      <td>NaN</td>\n",
       "      <td>NaN</td>\n",
       "      <td>Korea</td>\n",
       "      <td>Jeju-do</td>\n",
       "      <td>Jeju-do</td>\n",
       "      <td>NaN</td>\n",
       "      <td>overseas inflow</td>\n",
       "      <td>NaN</td>\n",
       "      <td>NaN</td>\n",
       "      <td>20.0</td>\n",
       "      <td>NaN</td>\n",
       "      <td>2020-03-24</td>\n",
       "      <td>NaN</td>\n",
       "      <td>NaN</td>\n",
       "      <td>isolated</td>\n",
       "      <td>Unknown</td>\n",
       "    </tr>\n",
       "    <tr>\n",
       "      <td>2767</td>\n",
       "      <td>7000000006</td>\n",
       "      <td>9087.0</td>\n",
       "      <td>male</td>\n",
       "      <td>NaN</td>\n",
       "      <td>NaN</td>\n",
       "      <td>United States</td>\n",
       "      <td>Jeju-do</td>\n",
       "      <td>Jeju-do</td>\n",
       "      <td>NaN</td>\n",
       "      <td>overseas inflow</td>\n",
       "      <td>NaN</td>\n",
       "      <td>NaN</td>\n",
       "      <td>23.0</td>\n",
       "      <td>NaN</td>\n",
       "      <td>2020-03-24</td>\n",
       "      <td>NaN</td>\n",
       "      <td>NaN</td>\n",
       "      <td>isolated</td>\n",
       "      <td>Unknown</td>\n",
       "    </tr>\n",
       "    <tr>\n",
       "      <td>2768</td>\n",
       "      <td>7000000007</td>\n",
       "      <td>NaN</td>\n",
       "      <td>female</td>\n",
       "      <td>1996.0</td>\n",
       "      <td>24.0</td>\n",
       "      <td>Korea</td>\n",
       "      <td>Jeju-do</td>\n",
       "      <td>Jeju-do</td>\n",
       "      <td>NaN</td>\n",
       "      <td>overseas inflow</td>\n",
       "      <td>NaN</td>\n",
       "      <td>NaN</td>\n",
       "      <td>26.0</td>\n",
       "      <td>NaN</td>\n",
       "      <td>2020-03-25</td>\n",
       "      <td>NaN</td>\n",
       "      <td>NaN</td>\n",
       "      <td>isolated</td>\n",
       "      <td>20-29</td>\n",
       "    </tr>\n",
       "    <tr>\n",
       "      <td>2769</td>\n",
       "      <td>7000000008</td>\n",
       "      <td>NaN</td>\n",
       "      <td>female</td>\n",
       "      <td>NaN</td>\n",
       "      <td>NaN</td>\n",
       "      <td>Korea</td>\n",
       "      <td>Jeju-do</td>\n",
       "      <td>Jeju-do</td>\n",
       "      <td>NaN</td>\n",
       "      <td>overseas inflow</td>\n",
       "      <td>NaN</td>\n",
       "      <td>NaN</td>\n",
       "      <td>25.0</td>\n",
       "      <td>NaN</td>\n",
       "      <td>2020-03-27</td>\n",
       "      <td>NaN</td>\n",
       "      <td>NaN</td>\n",
       "      <td>isolated</td>\n",
       "      <td>Unknown</td>\n",
       "    </tr>\n",
       "    <tr>\n",
       "      <td>2770</td>\n",
       "      <td>7000000009</td>\n",
       "      <td>NaN</td>\n",
       "      <td>female</td>\n",
       "      <td>NaN</td>\n",
       "      <td>NaN</td>\n",
       "      <td>Korea</td>\n",
       "      <td>Jeju-do</td>\n",
       "      <td>Jeju-do</td>\n",
       "      <td>NaN</td>\n",
       "      <td>overseas inflow</td>\n",
       "      <td>NaN</td>\n",
       "      <td>NaN</td>\n",
       "      <td>14.0</td>\n",
       "      <td>NaN</td>\n",
       "      <td>2020-03-29</td>\n",
       "      <td>NaN</td>\n",
       "      <td>NaN</td>\n",
       "      <td>isolated</td>\n",
       "      <td>Unknown</td>\n",
       "    </tr>\n",
       "  </tbody>\n",
       "</table>\n",
       "<p>2771 rows × 19 columns</p>\n",
       "</div>"
      ],
      "text/plain": [
       "      patient_id  global_num     sex  birth_year   age        country  \\\n",
       "0     1000000001         2.0    male      1964.0  56.0          Korea   \n",
       "1     1000000002         5.0    male      1987.0  33.0          Korea   \n",
       "2     1000000003         6.0    male      1964.0  56.0          Korea   \n",
       "3     1000000004         7.0    male      1991.0  29.0          Korea   \n",
       "4     1000000005         9.0  female      1992.0  28.0          Korea   \n",
       "...          ...         ...     ...         ...   ...            ...   \n",
       "2766  7000000005      9120.0  female         NaN   NaN          Korea   \n",
       "2767  7000000006      9087.0    male         NaN   NaN  United States   \n",
       "2768  7000000007         NaN  female      1996.0  24.0          Korea   \n",
       "2769  7000000008         NaN  female         NaN   NaN          Korea   \n",
       "2770  7000000009         NaN  female         NaN   NaN          Korea   \n",
       "\n",
       "     province         city disease        infection_case  infection_order  \\\n",
       "0       Seoul   Gangseo-gu     NaN       overseas inflow              1.0   \n",
       "1       Seoul  Jungnang-gu     NaN       overseas inflow              1.0   \n",
       "2       Seoul    Jongno-gu     NaN  contact with patient              2.0   \n",
       "3       Seoul      Mapo-gu     NaN       overseas inflow              1.0   \n",
       "4       Seoul  Seongbuk-gu     NaN  contact with patient              2.0   \n",
       "...       ...          ...     ...                   ...              ...   \n",
       "2766  Jeju-do      Jeju-do     NaN       overseas inflow              NaN   \n",
       "2767  Jeju-do      Jeju-do     NaN       overseas inflow              NaN   \n",
       "2768  Jeju-do      Jeju-do     NaN       overseas inflow              NaN   \n",
       "2769  Jeju-do      Jeju-do     NaN       overseas inflow              NaN   \n",
       "2770  Jeju-do      Jeju-do     NaN       overseas inflow              NaN   \n",
       "\n",
       "       infected_by  contact_number symptom_onset_date confirmed_date  \\\n",
       "0              NaN            75.0         2020-01-22     2020-01-23   \n",
       "1              NaN            31.0                NaN     2020-01-30   \n",
       "2     2.002000e+09            17.0                NaN     2020-01-30   \n",
       "3              NaN             9.0         2020-01-26     2020-01-30   \n",
       "4     1.000000e+09             2.0                NaN     2020-01-31   \n",
       "...            ...             ...                ...            ...   \n",
       "2766           NaN            20.0                NaN     2020-03-24   \n",
       "2767           NaN            23.0                NaN     2020-03-24   \n",
       "2768           NaN            26.0                NaN     2020-03-25   \n",
       "2769           NaN            25.0                NaN     2020-03-27   \n",
       "2770           NaN            14.0                NaN     2020-03-29   \n",
       "\n",
       "     released_date deceased_date     state age_range  \n",
       "0       2020-02-05           NaN  released     50-59  \n",
       "1       2020-03-02           NaN  released     30-39  \n",
       "2       2020-02-19           NaN  released     50-59  \n",
       "3       2020-02-15           NaN  released     20-29  \n",
       "4       2020-02-24           NaN  released     20-29  \n",
       "...            ...           ...       ...       ...  \n",
       "2766           NaN           NaN  isolated   Unknown  \n",
       "2767           NaN           NaN  isolated   Unknown  \n",
       "2768           NaN           NaN  isolated     20-29  \n",
       "2769           NaN           NaN  isolated   Unknown  \n",
       "2770           NaN           NaN  isolated   Unknown  \n",
       "\n",
       "[2771 rows x 19 columns]"
      ]
     },
     "execution_count": 12,
     "metadata": {},
     "output_type": "execute_result"
    }
   ],
   "source": [
    "df_patient"
   ]
  },
  {
   "cell_type": "code",
   "execution_count": 13,
   "metadata": {},
   "outputs": [],
   "source": [
    "patient=df_patient"
   ]
  },
  {
   "cell_type": "markdown",
   "metadata": {},
   "source": [
    "**Preprocessing**"
   ]
  },
  {
   "cell_type": "code",
   "execution_count": 14,
   "metadata": {},
   "outputs": [],
   "source": [
    "date_cols = [\"confirmed_date\", \"released_date\", \"deceased_date\"]\n",
    "for col in date_cols:\n",
    "    patient[col] = pd.to_datetime(patient[col])"
   ]
  },
  {
   "cell_type": "code",
   "execution_count": 15,
   "metadata": {},
   "outputs": [],
   "source": [
    "patient[\"time_to_release_since_confirmed\"] = patient[\"released_date\"] - patient[\"confirmed_date\"]\n",
    "\n",
    "patient[\"time_to_death_since_confirmed\"] = patient[\"deceased_date\"] - patient[\"confirmed_date\"]\n",
    "patient[\"duration_since_confirmed\"] = patient[[\"time_to_release_since_confirmed\", \"time_to_death_since_confirmed\"]].min(axis=1)\n",
    "patient[\"duration_days\"] = patient[\"duration_since_confirmed\"].dt.days\n",
    "age_ranges = sorted(set([ar for ar in patient[\"age_range\"] if ar != \"Unknown\"]))\n",
    "patient[\"state_by_gender\"] = patient[\"state\"] + \"_\" + patient[\"sex\"]\n"
   ]
  },
  {
   "cell_type": "code",
   "execution_count": 16,
   "metadata": {},
   "outputs": [
    {
     "data": {
      "image/png": "[encoded data removed]",
      "text/plain": [
       "<Figure size 432x288 with 1 Axes>"
      ]
     },
     "metadata": {
      "needs_background": "light"
     },
     "output_type": "display_data"
    }
   ],
   "source": [
    "accumulated_count.plot()\n",
    "plt.title('Accumulated Confirmed Count');"
   ]
  },
  {
   "cell_type": "code",
   "execution_count": 17,
   "metadata": {},
   "outputs": [
    {
     "name": "stdout",
     "output_type": "stream",
     "text": [
      "The percentage of recovery is 31.721400216528327\n",
      "The percentage of deceased is 1.912666907253699\n",
      "The percentage of isolated is 66.36593287621797\n"
     ]
    }
   ],
   "source": [
    "infected_patient = patient.shape[0]\n",
    "rp = patient.loc[patient[\"state\"] == \"released\"].shape[0]\n",
    "dp = patient.loc[patient[\"state\"] == \"deceased\"].shape[0]\n",
    "ip = patient.loc[patient[\"state\"]== \"isolated\"].shape[0]\n",
    "rp=rp/patient.shape[0]\n",
    "dp=dp/patient.shape[0]\n",
    "ip=ip/patient.shape[0]\n",
    "print(\"The percentage of recovery is \"+ str(rp*100) )\n",
    "print(\"The percentage of deceased is \"+ str(dp*100) )\n",
    "print(\"The percentage of isolated is \"+ str(ip*100) )\n"
   ]
  },
  {
   "cell_type": "markdown",
   "metadata": {},
   "source": [
    "**People who released**"
   ]
  },
  {
   "cell_type": "code",
   "execution_count": 18,
   "metadata": {},
   "outputs": [
    {
     "data": {
      "text/html": [
       "<div>\n",
       "<style scoped>\n",
       "    .dataframe tbody tr th:only-of-type {\n",
       "        vertical-align: middle;\n",
       "    }\n",
       "\n",
       "    .dataframe tbody tr th {\n",
       "        vertical-align: top;\n",
       "    }\n",
       "\n",
       "    .dataframe thead th {\n",
       "        text-align: right;\n",
       "    }\n",
       "</style>\n",
       "<table border=\"1\" class=\"dataframe\">\n",
       "  <thead>\n",
       "    <tr style=\"text-align: right;\">\n",
       "      <th></th>\n",
       "      <th>patient_id</th>\n",
       "      <th>global_num</th>\n",
       "      <th>sex</th>\n",
       "      <th>birth_year</th>\n",
       "      <th>age</th>\n",
       "      <th>country</th>\n",
       "      <th>province</th>\n",
       "      <th>city</th>\n",
       "      <th>disease</th>\n",
       "      <th>infection_case</th>\n",
       "      <th>...</th>\n",
       "      <th>confirmed_date</th>\n",
       "      <th>released_date</th>\n",
       "      <th>deceased_date</th>\n",
       "      <th>state</th>\n",
       "      <th>age_range</th>\n",
       "      <th>time_to_release_since_confirmed</th>\n",
       "      <th>time_to_death_since_confirmed</th>\n",
       "      <th>duration_since_confirmed</th>\n",
       "      <th>duration_days</th>\n",
       "      <th>state_by_gender</th>\n",
       "    </tr>\n",
       "  </thead>\n",
       "  <tbody>\n",
       "    <tr>\n",
       "      <td>0</td>\n",
       "      <td>1000000001</td>\n",
       "      <td>2.0</td>\n",
       "      <td>male</td>\n",
       "      <td>1964.0</td>\n",
       "      <td>56.0</td>\n",
       "      <td>Korea</td>\n",
       "      <td>Seoul</td>\n",
       "      <td>Gangseo-gu</td>\n",
       "      <td>NaN</td>\n",
       "      <td>overseas inflow</td>\n",
       "      <td>...</td>\n",
       "      <td>2020-01-23</td>\n",
       "      <td>2020-02-05</td>\n",
       "      <td>NaT</td>\n",
       "      <td>released</td>\n",
       "      <td>50-59</td>\n",
       "      <td>13 days</td>\n",
       "      <td>NaT</td>\n",
       "      <td>13 days</td>\n",
       "      <td>13.0</td>\n",
       "      <td>released_male</td>\n",
       "    </tr>\n",
       "    <tr>\n",
       "      <td>1</td>\n",
       "      <td>1000000002</td>\n",
       "      <td>5.0</td>\n",
       "      <td>male</td>\n",
       "      <td>1987.0</td>\n",
       "      <td>33.0</td>\n",
       "      <td>Korea</td>\n",
       "      <td>Seoul</td>\n",
       "      <td>Jungnang-gu</td>\n",
       "      <td>NaN</td>\n",
       "      <td>overseas inflow</td>\n",
       "      <td>...</td>\n",
       "      <td>2020-01-30</td>\n",
       "      <td>2020-03-02</td>\n",
       "      <td>NaT</td>\n",
       "      <td>released</td>\n",
       "      <td>30-39</td>\n",
       "      <td>32 days</td>\n",
       "      <td>NaT</td>\n",
       "      <td>32 days</td>\n",
       "      <td>32.0</td>\n",
       "      <td>released_male</td>\n",
       "    </tr>\n",
       "    <tr>\n",
       "      <td>2</td>\n",
       "      <td>1000000003</td>\n",
       "      <td>6.0</td>\n",
       "      <td>male</td>\n",
       "      <td>1964.0</td>\n",
       "      <td>56.0</td>\n",
       "      <td>Korea</td>\n",
       "      <td>Seoul</td>\n",
       "      <td>Jongno-gu</td>\n",
       "      <td>NaN</td>\n",
       "      <td>contact with patient</td>\n",
       "      <td>...</td>\n",
       "      <td>2020-01-30</td>\n",
       "      <td>2020-02-19</td>\n",
       "      <td>NaT</td>\n",
       "      <td>released</td>\n",
       "      <td>50-59</td>\n",
       "      <td>20 days</td>\n",
       "      <td>NaT</td>\n",
       "      <td>20 days</td>\n",
       "      <td>20.0</td>\n",
       "      <td>released_male</td>\n",
       "    </tr>\n",
       "    <tr>\n",
       "      <td>3</td>\n",
       "      <td>1000000004</td>\n",
       "      <td>7.0</td>\n",
       "      <td>male</td>\n",
       "      <td>1991.0</td>\n",
       "      <td>29.0</td>\n",
       "      <td>Korea</td>\n",
       "      <td>Seoul</td>\n",
       "      <td>Mapo-gu</td>\n",
       "      <td>NaN</td>\n",
       "      <td>overseas inflow</td>\n",
       "      <td>...</td>\n",
       "      <td>2020-01-30</td>\n",
       "      <td>2020-02-15</td>\n",
       "      <td>NaT</td>\n",
       "      <td>released</td>\n",
       "      <td>20-29</td>\n",
       "      <td>16 days</td>\n",
       "      <td>NaT</td>\n",
       "      <td>16 days</td>\n",
       "      <td>16.0</td>\n",
       "      <td>released_male</td>\n",
       "    </tr>\n",
       "    <tr>\n",
       "      <td>4</td>\n",
       "      <td>1000000005</td>\n",
       "      <td>9.0</td>\n",
       "      <td>female</td>\n",
       "      <td>1992.0</td>\n",
       "      <td>28.0</td>\n",
       "      <td>Korea</td>\n",
       "      <td>Seoul</td>\n",
       "      <td>Seongbuk-gu</td>\n",
       "      <td>NaN</td>\n",
       "      <td>contact with patient</td>\n",
       "      <td>...</td>\n",
       "      <td>2020-01-31</td>\n",
       "      <td>2020-02-24</td>\n",
       "      <td>NaT</td>\n",
       "      <td>released</td>\n",
       "      <td>20-29</td>\n",
       "      <td>24 days</td>\n",
       "      <td>NaT</td>\n",
       "      <td>24 days</td>\n",
       "      <td>24.0</td>\n",
       "      <td>released_female</td>\n",
       "    </tr>\n",
       "  </tbody>\n",
       "</table>\n",
       "<p>5 rows × 24 columns</p>\n",
       "</div>"
      ],
      "text/plain": [
       "   patient_id  global_num     sex  birth_year   age country province  \\\n",
       "0  1000000001         2.0    male      1964.0  56.0   Korea    Seoul   \n",
       "1  1000000002         5.0    male      1987.0  33.0   Korea    Seoul   \n",
       "2  1000000003         6.0    male      1964.0  56.0   Korea    Seoul   \n",
       "3  1000000004         7.0    male      1991.0  29.0   Korea    Seoul   \n",
       "4  1000000005         9.0  female      1992.0  28.0   Korea    Seoul   \n",
       "\n",
       "          city disease        infection_case  ...  confirmed_date  \\\n",
       "0   Gangseo-gu     NaN       overseas inflow  ...      2020-01-23   \n",
       "1  Jungnang-gu     NaN       overseas inflow  ...      2020-01-30   \n",
       "2    Jongno-gu     NaN  contact with patient  ...      2020-01-30   \n",
       "3      Mapo-gu     NaN       overseas inflow  ...      2020-01-30   \n",
       "4  Seongbuk-gu     NaN  contact with patient  ...      2020-01-31   \n",
       "\n",
       "   released_date  deceased_date     state age_range  \\\n",
       "0     2020-02-05            NaT  released     50-59   \n",
       "1     2020-03-02            NaT  released     30-39   \n",
       "2     2020-02-19            NaT  released     50-59   \n",
       "3     2020-02-15            NaT  released     20-29   \n",
       "4     2020-02-24            NaT  released     20-29   \n",
       "\n",
       "  time_to_release_since_confirmed time_to_death_since_confirmed  \\\n",
       "0                         13 days                           NaT   \n",
       "1                         32 days                           NaT   \n",
       "2                         20 days                           NaT   \n",
       "3                         16 days                           NaT   \n",
       "4                         24 days                           NaT   \n",
       "\n",
       "  duration_since_confirmed duration_days  state_by_gender  \n",
       "0                  13 days          13.0    released_male  \n",
       "1                  32 days          32.0    released_male  \n",
       "2                  20 days          20.0    released_male  \n",
       "3                  16 days          16.0    released_male  \n",
       "4                  24 days          24.0  released_female  \n",
       "\n",
       "[5 rows x 24 columns]"
      ]
     },
     "execution_count": 18,
     "metadata": {},
     "output_type": "execute_result"
    }
   ],
   "source": [
    "released = df_patient[df_patient.state == 'released']\n",
    "released.head()"
   ]
  },
  {
   "cell_type": "markdown",
   "metadata": {},
   "source": [
    "**People who are in isolated state**"
   ]
  },
  {
   "cell_type": "code",
   "execution_count": 19,
   "metadata": {},
   "outputs": [
    {
     "data": {
      "text/html": [
       "<div>\n",
       "<style scoped>\n",
       "    .dataframe tbody tr th:only-of-type {\n",
       "        vertical-align: middle;\n",
       "    }\n",
       "\n",
       "    .dataframe tbody tr th {\n",
       "        vertical-align: top;\n",
       "    }\n",
       "\n",
       "    .dataframe thead th {\n",
       "        text-align: right;\n",
       "    }\n",
       "</style>\n",
       "<table border=\"1\" class=\"dataframe\">\n",
       "  <thead>\n",
       "    <tr style=\"text-align: right;\">\n",
       "      <th></th>\n",
       "      <th>patient_id</th>\n",
       "      <th>global_num</th>\n",
       "      <th>sex</th>\n",
       "      <th>birth_year</th>\n",
       "      <th>age</th>\n",
       "      <th>country</th>\n",
       "      <th>province</th>\n",
       "      <th>city</th>\n",
       "      <th>disease</th>\n",
       "      <th>infection_case</th>\n",
       "      <th>...</th>\n",
       "      <th>confirmed_date</th>\n",
       "      <th>released_date</th>\n",
       "      <th>deceased_date</th>\n",
       "      <th>state</th>\n",
       "      <th>age_range</th>\n",
       "      <th>time_to_release_since_confirmed</th>\n",
       "      <th>time_to_death_since_confirmed</th>\n",
       "      <th>duration_since_confirmed</th>\n",
       "      <th>duration_days</th>\n",
       "      <th>state_by_gender</th>\n",
       "    </tr>\n",
       "  </thead>\n",
       "  <tbody>\n",
       "    <tr>\n",
       "      <td>14</td>\n",
       "      <td>1000000015</td>\n",
       "      <td>40.0</td>\n",
       "      <td>male</td>\n",
       "      <td>1943.0</td>\n",
       "      <td>77.0</td>\n",
       "      <td>Korea</td>\n",
       "      <td>Seoul</td>\n",
       "      <td>Seongdong-gu</td>\n",
       "      <td>NaN</td>\n",
       "      <td>Seongdong-gu APT</td>\n",
       "      <td>...</td>\n",
       "      <td>2020-02-19</td>\n",
       "      <td>NaT</td>\n",
       "      <td>NaT</td>\n",
       "      <td>isolated</td>\n",
       "      <td>70-79</td>\n",
       "      <td>NaT</td>\n",
       "      <td>NaT</td>\n",
       "      <td>NaT</td>\n",
       "      <td>NaN</td>\n",
       "      <td>isolated_male</td>\n",
       "    </tr>\n",
       "    <tr>\n",
       "      <td>17</td>\n",
       "      <td>1000000018</td>\n",
       "      <td>111.0</td>\n",
       "      <td>male</td>\n",
       "      <td>2000.0</td>\n",
       "      <td>20.0</td>\n",
       "      <td>Korea</td>\n",
       "      <td>Seoul</td>\n",
       "      <td>etc</td>\n",
       "      <td>NaN</td>\n",
       "      <td>etc</td>\n",
       "      <td>...</td>\n",
       "      <td>2020-02-20</td>\n",
       "      <td>NaT</td>\n",
       "      <td>NaT</td>\n",
       "      <td>isolated</td>\n",
       "      <td>20-29</td>\n",
       "      <td>NaT</td>\n",
       "      <td>NaT</td>\n",
       "      <td>NaT</td>\n",
       "      <td>NaN</td>\n",
       "      <td>isolated_male</td>\n",
       "    </tr>\n",
       "    <tr>\n",
       "      <td>19</td>\n",
       "      <td>1000000020</td>\n",
       "      <td>121.0</td>\n",
       "      <td>female</td>\n",
       "      <td>1944.0</td>\n",
       "      <td>76.0</td>\n",
       "      <td>Korea</td>\n",
       "      <td>Seoul</td>\n",
       "      <td>Seongdong-gu</td>\n",
       "      <td>NaN</td>\n",
       "      <td>Seongdong-gu APT</td>\n",
       "      <td>...</td>\n",
       "      <td>2020-02-20</td>\n",
       "      <td>NaT</td>\n",
       "      <td>NaT</td>\n",
       "      <td>isolated</td>\n",
       "      <td>70-79</td>\n",
       "      <td>NaT</td>\n",
       "      <td>NaT</td>\n",
       "      <td>NaT</td>\n",
       "      <td>NaN</td>\n",
       "      <td>isolated_female</td>\n",
       "    </tr>\n",
       "    <tr>\n",
       "      <td>21</td>\n",
       "      <td>1000000022</td>\n",
       "      <td>161.0</td>\n",
       "      <td>male</td>\n",
       "      <td>1985.0</td>\n",
       "      <td>35.0</td>\n",
       "      <td>Korea</td>\n",
       "      <td>Seoul</td>\n",
       "      <td>Seodaemun-gu</td>\n",
       "      <td>NaN</td>\n",
       "      <td>Eunpyeong St. Mary's Hospital</td>\n",
       "      <td>...</td>\n",
       "      <td>2020-02-21</td>\n",
       "      <td>NaT</td>\n",
       "      <td>NaT</td>\n",
       "      <td>isolated</td>\n",
       "      <td>30-39</td>\n",
       "      <td>NaT</td>\n",
       "      <td>NaT</td>\n",
       "      <td>NaT</td>\n",
       "      <td>NaN</td>\n",
       "      <td>isolated_male</td>\n",
       "    </tr>\n",
       "    <tr>\n",
       "      <td>22</td>\n",
       "      <td>1000000023</td>\n",
       "      <td>188.0</td>\n",
       "      <td>male</td>\n",
       "      <td>1961.0</td>\n",
       "      <td>59.0</td>\n",
       "      <td>Korea</td>\n",
       "      <td>Seoul</td>\n",
       "      <td>Seocho-gu</td>\n",
       "      <td>NaN</td>\n",
       "      <td>Shincheonji Church</td>\n",
       "      <td>...</td>\n",
       "      <td>2020-02-21</td>\n",
       "      <td>NaT</td>\n",
       "      <td>NaT</td>\n",
       "      <td>isolated</td>\n",
       "      <td>50-59</td>\n",
       "      <td>NaT</td>\n",
       "      <td>NaT</td>\n",
       "      <td>NaT</td>\n",
       "      <td>NaN</td>\n",
       "      <td>isolated_male</td>\n",
       "    </tr>\n",
       "  </tbody>\n",
       "</table>\n",
       "<p>5 rows × 24 columns</p>\n",
       "</div>"
      ],
      "text/plain": [
       "    patient_id  global_num     sex  birth_year   age country province  \\\n",
       "14  1000000015        40.0    male      1943.0  77.0   Korea    Seoul   \n",
       "17  1000000018       111.0    male      2000.0  20.0   Korea    Seoul   \n",
       "19  1000000020       121.0  female      1944.0  76.0   Korea    Seoul   \n",
       "21  1000000022       161.0    male      1985.0  35.0   Korea    Seoul   \n",
       "22  1000000023       188.0    male      1961.0  59.0   Korea    Seoul   \n",
       "\n",
       "            city disease                 infection_case  ...  confirmed_date  \\\n",
       "14  Seongdong-gu     NaN               Seongdong-gu APT  ...      2020-02-19   \n",
       "17           etc     NaN                            etc  ...      2020-02-20   \n",
       "19  Seongdong-gu     NaN               Seongdong-gu APT  ...      2020-02-20   \n",
       "21  Seodaemun-gu     NaN  Eunpyeong St. Mary's Hospital  ...      2020-02-21   \n",
       "22     Seocho-gu     NaN             Shincheonji Church  ...      2020-02-21   \n",
       "\n",
       "    released_date  deceased_date     state age_range  \\\n",
       "14            NaT            NaT  isolated     70-79   \n",
       "17            NaT            NaT  isolated     20-29   \n",
       "19            NaT            NaT  isolated     70-79   \n",
       "21            NaT            NaT  isolated     30-39   \n",
       "22            NaT            NaT  isolated     50-59   \n",
       "\n",
       "   time_to_release_since_confirmed time_to_death_since_confirmed  \\\n",
       "14                             NaT                           NaT   \n",
       "17                             NaT                           NaT   \n",
       "19                             NaT                           NaT   \n",
       "21                             NaT                           NaT   \n",
       "22                             NaT                           NaT   \n",
       "\n",
       "   duration_since_confirmed duration_days  state_by_gender  \n",
       "14                      NaT           NaN    isolated_male  \n",
       "17                      NaT           NaN    isolated_male  \n",
       "19                      NaT           NaN  isolated_female  \n",
       "21                      NaT           NaN    isolated_male  \n",
       "22                      NaT           NaN    isolated_male  \n",
       "\n",
       "[5 rows x 24 columns]"
      ]
     },
     "execution_count": 19,
     "metadata": {},
     "output_type": "execute_result"
    }
   ],
   "source": [
    "isolated_state = df_patient[df_patient.state == 'isolated']\n",
    "isolated_state.head()"
   ]
  },
  {
   "cell_type": "markdown",
   "metadata": {},
   "source": [
    "**Patient who died**"
   ]
  },
  {
   "cell_type": "code",
   "execution_count": 20,
   "metadata": {},
   "outputs": [
    {
     "data": {
      "text/html": [
       "<div>\n",
       "<style scoped>\n",
       "    .dataframe tbody tr th:only-of-type {\n",
       "        vertical-align: middle;\n",
       "    }\n",
       "\n",
       "    .dataframe tbody tr th {\n",
       "        vertical-align: top;\n",
       "    }\n",
       "\n",
       "    .dataframe thead th {\n",
       "        text-align: right;\n",
       "    }\n",
       "</style>\n",
       "<table border=\"1\" class=\"dataframe\">\n",
       "  <thead>\n",
       "    <tr style=\"text-align: right;\">\n",
       "      <th></th>\n",
       "      <th>patient_id</th>\n",
       "      <th>global_num</th>\n",
       "      <th>sex</th>\n",
       "      <th>birth_year</th>\n",
       "      <th>age</th>\n",
       "      <th>country</th>\n",
       "      <th>province</th>\n",
       "      <th>city</th>\n",
       "      <th>disease</th>\n",
       "      <th>infection_case</th>\n",
       "      <th>...</th>\n",
       "      <th>confirmed_date</th>\n",
       "      <th>released_date</th>\n",
       "      <th>deceased_date</th>\n",
       "      <th>state</th>\n",
       "      <th>age_range</th>\n",
       "      <th>time_to_release_since_confirmed</th>\n",
       "      <th>time_to_death_since_confirmed</th>\n",
       "      <th>duration_since_confirmed</th>\n",
       "      <th>duration_days</th>\n",
       "      <th>state_by_gender</th>\n",
       "    </tr>\n",
       "  </thead>\n",
       "  <tbody>\n",
       "    <tr>\n",
       "      <td>504</td>\n",
       "      <td>1100000071</td>\n",
       "      <td>NaN</td>\n",
       "      <td>male</td>\n",
       "      <td>1941.0</td>\n",
       "      <td>79.0</td>\n",
       "      <td>Korea</td>\n",
       "      <td>Busan</td>\n",
       "      <td>Busanjin-gu</td>\n",
       "      <td>NaN</td>\n",
       "      <td>etc</td>\n",
       "      <td>...</td>\n",
       "      <td>2020-02-28</td>\n",
       "      <td>NaT</td>\n",
       "      <td>NaT</td>\n",
       "      <td>deceased</td>\n",
       "      <td>70-79</td>\n",
       "      <td>NaT</td>\n",
       "      <td>NaT</td>\n",
       "      <td>NaT</td>\n",
       "      <td>NaN</td>\n",
       "      <td>deceased_male</td>\n",
       "    </tr>\n",
       "    <tr>\n",
       "      <td>528</td>\n",
       "      <td>1100000095</td>\n",
       "      <td>NaN</td>\n",
       "      <td>female</td>\n",
       "      <td>1932.0</td>\n",
       "      <td>88.0</td>\n",
       "      <td>Korea</td>\n",
       "      <td>Busan</td>\n",
       "      <td>etc</td>\n",
       "      <td>NaN</td>\n",
       "      <td>NaN</td>\n",
       "      <td>...</td>\n",
       "      <td>2020-03-13</td>\n",
       "      <td>NaT</td>\n",
       "      <td>NaT</td>\n",
       "      <td>deceased</td>\n",
       "      <td>80-89</td>\n",
       "      <td>NaT</td>\n",
       "      <td>NaT</td>\n",
       "      <td>NaT</td>\n",
       "      <td>NaN</td>\n",
       "      <td>deceased_female</td>\n",
       "    </tr>\n",
       "    <tr>\n",
       "      <td>530</td>\n",
       "      <td>1100000097</td>\n",
       "      <td>NaN</td>\n",
       "      <td>male</td>\n",
       "      <td>1947.0</td>\n",
       "      <td>73.0</td>\n",
       "      <td>Korea</td>\n",
       "      <td>Busan</td>\n",
       "      <td>Busanjin-gu</td>\n",
       "      <td>NaN</td>\n",
       "      <td>etc</td>\n",
       "      <td>...</td>\n",
       "      <td>2020-03-13</td>\n",
       "      <td>NaT</td>\n",
       "      <td>NaT</td>\n",
       "      <td>deceased</td>\n",
       "      <td>70-79</td>\n",
       "      <td>NaT</td>\n",
       "      <td>NaT</td>\n",
       "      <td>NaT</td>\n",
       "      <td>NaN</td>\n",
       "      <td>deceased_male</td>\n",
       "    </tr>\n",
       "    <tr>\n",
       "      <td>555</td>\n",
       "      <td>1200000038</td>\n",
       "      <td>38.0</td>\n",
       "      <td>female</td>\n",
       "      <td>1963.0</td>\n",
       "      <td>57.0</td>\n",
       "      <td>Korea</td>\n",
       "      <td>Daegu</td>\n",
       "      <td>Nam-gu</td>\n",
       "      <td>True</td>\n",
       "      <td>NaN</td>\n",
       "      <td>...</td>\n",
       "      <td>2020-02-18</td>\n",
       "      <td>NaT</td>\n",
       "      <td>2020-02-23</td>\n",
       "      <td>deceased</td>\n",
       "      <td>50-59</td>\n",
       "      <td>NaT</td>\n",
       "      <td>5 days</td>\n",
       "      <td>5 days</td>\n",
       "      <td>5.0</td>\n",
       "      <td>deceased_female</td>\n",
       "    </tr>\n",
       "    <tr>\n",
       "      <td>594</td>\n",
       "      <td>1200000114</td>\n",
       "      <td>114.0</td>\n",
       "      <td>male</td>\n",
       "      <td>1946.0</td>\n",
       "      <td>74.0</td>\n",
       "      <td>Korea</td>\n",
       "      <td>Daegu</td>\n",
       "      <td>NaN</td>\n",
       "      <td>NaN</td>\n",
       "      <td>Shincheonji Church</td>\n",
       "      <td>...</td>\n",
       "      <td>2020-02-21</td>\n",
       "      <td>NaT</td>\n",
       "      <td>2020-02-26</td>\n",
       "      <td>deceased</td>\n",
       "      <td>70-79</td>\n",
       "      <td>NaT</td>\n",
       "      <td>5 days</td>\n",
       "      <td>5 days</td>\n",
       "      <td>5.0</td>\n",
       "      <td>deceased_male</td>\n",
       "    </tr>\n",
       "    <tr>\n",
       "      <td>595</td>\n",
       "      <td>1200000620</td>\n",
       "      <td>620.0</td>\n",
       "      <td>male</td>\n",
       "      <td>1949.0</td>\n",
       "      <td>71.0</td>\n",
       "      <td>Korea</td>\n",
       "      <td>Daegu</td>\n",
       "      <td>NaN</td>\n",
       "      <td>NaN</td>\n",
       "      <td>NaN</td>\n",
       "      <td>...</td>\n",
       "      <td>2020-02-24</td>\n",
       "      <td>NaT</td>\n",
       "      <td>2020-03-02</td>\n",
       "      <td>deceased</td>\n",
       "      <td>70-79</td>\n",
       "      <td>NaT</td>\n",
       "      <td>7 days</td>\n",
       "      <td>7 days</td>\n",
       "      <td>7.0</td>\n",
       "      <td>deceased_male</td>\n",
       "    </tr>\n",
       "    <tr>\n",
       "      <td>596</td>\n",
       "      <td>1200000901</td>\n",
       "      <td>901.0</td>\n",
       "      <td>female</td>\n",
       "      <td>1934.0</td>\n",
       "      <td>86.0</td>\n",
       "      <td>Korea</td>\n",
       "      <td>Daegu</td>\n",
       "      <td>NaN</td>\n",
       "      <td>NaN</td>\n",
       "      <td>NaN</td>\n",
       "      <td>...</td>\n",
       "      <td>2020-02-25</td>\n",
       "      <td>NaT</td>\n",
       "      <td>2020-03-04</td>\n",
       "      <td>deceased</td>\n",
       "      <td>80-89</td>\n",
       "      <td>NaT</td>\n",
       "      <td>8 days</td>\n",
       "      <td>8 days</td>\n",
       "      <td>8.0</td>\n",
       "      <td>deceased_female</td>\n",
       "    </tr>\n",
       "    <tr>\n",
       "      <td>597</td>\n",
       "      <td>1200001064</td>\n",
       "      <td>1064.0</td>\n",
       "      <td>female</td>\n",
       "      <td>1943.0</td>\n",
       "      <td>77.0</td>\n",
       "      <td>Korea</td>\n",
       "      <td>Daegu</td>\n",
       "      <td>NaN</td>\n",
       "      <td>NaN</td>\n",
       "      <td>NaN</td>\n",
       "      <td>...</td>\n",
       "      <td>2020-02-26</td>\n",
       "      <td>NaT</td>\n",
       "      <td>2020-03-01</td>\n",
       "      <td>deceased</td>\n",
       "      <td>70-79</td>\n",
       "      <td>NaT</td>\n",
       "      <td>4 days</td>\n",
       "      <td>4 days</td>\n",
       "      <td>4.0</td>\n",
       "      <td>deceased_female</td>\n",
       "    </tr>\n",
       "    <tr>\n",
       "      <td>598</td>\n",
       "      <td>1200001288</td>\n",
       "      <td>1288.0</td>\n",
       "      <td>male</td>\n",
       "      <td>1955.0</td>\n",
       "      <td>65.0</td>\n",
       "      <td>Korea</td>\n",
       "      <td>Daegu</td>\n",
       "      <td>NaN</td>\n",
       "      <td>True</td>\n",
       "      <td>NaN</td>\n",
       "      <td>...</td>\n",
       "      <td>2020-02-27</td>\n",
       "      <td>NaT</td>\n",
       "      <td>2020-03-02</td>\n",
       "      <td>deceased</td>\n",
       "      <td>60-69</td>\n",
       "      <td>NaT</td>\n",
       "      <td>4 days</td>\n",
       "      <td>4 days</td>\n",
       "      <td>4.0</td>\n",
       "      <td>deceased_male</td>\n",
       "    </tr>\n",
       "    <tr>\n",
       "      <td>599</td>\n",
       "      <td>1200001443</td>\n",
       "      <td>1443.0</td>\n",
       "      <td>male</td>\n",
       "      <td>1945.0</td>\n",
       "      <td>75.0</td>\n",
       "      <td>Korea</td>\n",
       "      <td>Daegu</td>\n",
       "      <td>NaN</td>\n",
       "      <td>NaN</td>\n",
       "      <td>NaN</td>\n",
       "      <td>...</td>\n",
       "      <td>2020-02-27</td>\n",
       "      <td>NaT</td>\n",
       "      <td>2020-02-27</td>\n",
       "      <td>deceased</td>\n",
       "      <td>70-79</td>\n",
       "      <td>NaT</td>\n",
       "      <td>0 days</td>\n",
       "      <td>0 days</td>\n",
       "      <td>0.0</td>\n",
       "      <td>deceased_male</td>\n",
       "    </tr>\n",
       "    <tr>\n",
       "      <td>600</td>\n",
       "      <td>1200001921</td>\n",
       "      <td>1921.0</td>\n",
       "      <td>male</td>\n",
       "      <td>1953.0</td>\n",
       "      <td>67.0</td>\n",
       "      <td>Korea</td>\n",
       "      <td>Daegu</td>\n",
       "      <td>NaN</td>\n",
       "      <td>True</td>\n",
       "      <td>NaN</td>\n",
       "      <td>...</td>\n",
       "      <td>2020-02-28</td>\n",
       "      <td>NaT</td>\n",
       "      <td>2020-03-05</td>\n",
       "      <td>deceased</td>\n",
       "      <td>60-69</td>\n",
       "      <td>NaT</td>\n",
       "      <td>6 days</td>\n",
       "      <td>6 days</td>\n",
       "      <td>6.0</td>\n",
       "      <td>deceased_male</td>\n",
       "    </tr>\n",
       "    <tr>\n",
       "      <td>601</td>\n",
       "      <td>1200002085</td>\n",
       "      <td>2085.0</td>\n",
       "      <td>male</td>\n",
       "      <td>1949.0</td>\n",
       "      <td>71.0</td>\n",
       "      <td>Korea</td>\n",
       "      <td>Daegu</td>\n",
       "      <td>NaN</td>\n",
       "      <td>True</td>\n",
       "      <td>NaN</td>\n",
       "      <td>...</td>\n",
       "      <td>2020-02-28</td>\n",
       "      <td>NaT</td>\n",
       "      <td>2020-03-04</td>\n",
       "      <td>deceased</td>\n",
       "      <td>70-79</td>\n",
       "      <td>NaT</td>\n",
       "      <td>5 days</td>\n",
       "      <td>5 days</td>\n",
       "      <td>5.0</td>\n",
       "      <td>deceased_male</td>\n",
       "    </tr>\n",
       "    <tr>\n",
       "      <td>602</td>\n",
       "      <td>1200002289</td>\n",
       "      <td>2289.0</td>\n",
       "      <td>male</td>\n",
       "      <td>1954.0</td>\n",
       "      <td>66.0</td>\n",
       "      <td>Korea</td>\n",
       "      <td>Daegu</td>\n",
       "      <td>NaN</td>\n",
       "      <td>NaN</td>\n",
       "      <td>NaN</td>\n",
       "      <td>...</td>\n",
       "      <td>2020-02-28</td>\n",
       "      <td>NaT</td>\n",
       "      <td>2020-03-05</td>\n",
       "      <td>deceased</td>\n",
       "      <td>60-69</td>\n",
       "      <td>NaT</td>\n",
       "      <td>6 days</td>\n",
       "      <td>6 days</td>\n",
       "      <td>6.0</td>\n",
       "      <td>deceased_male</td>\n",
       "    </tr>\n",
       "    <tr>\n",
       "      <td>603</td>\n",
       "      <td>1200002614</td>\n",
       "      <td>2614.0</td>\n",
       "      <td>female</td>\n",
       "      <td>1943.0</td>\n",
       "      <td>77.0</td>\n",
       "      <td>Korea</td>\n",
       "      <td>Daegu</td>\n",
       "      <td>NaN</td>\n",
       "      <td>True</td>\n",
       "      <td>NaN</td>\n",
       "      <td>...</td>\n",
       "      <td>2020-02-29</td>\n",
       "      <td>NaT</td>\n",
       "      <td>2020-03-01</td>\n",
       "      <td>deceased</td>\n",
       "      <td>70-79</td>\n",
       "      <td>NaT</td>\n",
       "      <td>1 days</td>\n",
       "      <td>1 days</td>\n",
       "      <td>1.0</td>\n",
       "      <td>deceased_female</td>\n",
       "    </tr>\n",
       "    <tr>\n",
       "      <td>604</td>\n",
       "      <td>1200002769</td>\n",
       "      <td>2769.0</td>\n",
       "      <td>female</td>\n",
       "      <td>1934.0</td>\n",
       "      <td>86.0</td>\n",
       "      <td>Korea</td>\n",
       "      <td>Daegu</td>\n",
       "      <td>NaN</td>\n",
       "      <td>NaN</td>\n",
       "      <td>NaN</td>\n",
       "      <td>...</td>\n",
       "      <td>2020-02-29</td>\n",
       "      <td>NaT</td>\n",
       "      <td>2020-03-02</td>\n",
       "      <td>deceased</td>\n",
       "      <td>80-89</td>\n",
       "      <td>NaT</td>\n",
       "      <td>2 days</td>\n",
       "      <td>2 days</td>\n",
       "      <td>2.0</td>\n",
       "      <td>deceased_female</td>\n",
       "    </tr>\n",
       "    <tr>\n",
       "      <td>605</td>\n",
       "      <td>1200002936</td>\n",
       "      <td>2936.0</td>\n",
       "      <td>male</td>\n",
       "      <td>1939.0</td>\n",
       "      <td>81.0</td>\n",
       "      <td>Korea</td>\n",
       "      <td>Daegu</td>\n",
       "      <td>NaN</td>\n",
       "      <td>NaN</td>\n",
       "      <td>NaN</td>\n",
       "      <td>...</td>\n",
       "      <td>2020-02-29</td>\n",
       "      <td>NaT</td>\n",
       "      <td>2020-03-06</td>\n",
       "      <td>deceased</td>\n",
       "      <td>80-89</td>\n",
       "      <td>NaT</td>\n",
       "      <td>6 days</td>\n",
       "      <td>6 days</td>\n",
       "      <td>6.0</td>\n",
       "      <td>deceased_male</td>\n",
       "    </tr>\n",
       "    <tr>\n",
       "      <td>606</td>\n",
       "      <td>1200003550</td>\n",
       "      <td>3550.0</td>\n",
       "      <td>female</td>\n",
       "      <td>1951.0</td>\n",
       "      <td>69.0</td>\n",
       "      <td>Korea</td>\n",
       "      <td>Daegu</td>\n",
       "      <td>NaN</td>\n",
       "      <td>NaN</td>\n",
       "      <td>NaN</td>\n",
       "      <td>...</td>\n",
       "      <td>2020-03-01</td>\n",
       "      <td>NaT</td>\n",
       "      <td>2020-03-09</td>\n",
       "      <td>deceased</td>\n",
       "      <td>60-69</td>\n",
       "      <td>NaT</td>\n",
       "      <td>8 days</td>\n",
       "      <td>8 days</td>\n",
       "      <td>8.0</td>\n",
       "      <td>deceased_female</td>\n",
       "    </tr>\n",
       "    <tr>\n",
       "      <td>607</td>\n",
       "      <td>1200003578</td>\n",
       "      <td>3578.0</td>\n",
       "      <td>male</td>\n",
       "      <td>1930.0</td>\n",
       "      <td>90.0</td>\n",
       "      <td>Korea</td>\n",
       "      <td>Daegu</td>\n",
       "      <td>NaN</td>\n",
       "      <td>NaN</td>\n",
       "      <td>NaN</td>\n",
       "      <td>...</td>\n",
       "      <td>2020-03-01</td>\n",
       "      <td>NaT</td>\n",
       "      <td>2020-03-07</td>\n",
       "      <td>deceased</td>\n",
       "      <td>90-99</td>\n",
       "      <td>NaT</td>\n",
       "      <td>6 days</td>\n",
       "      <td>6 days</td>\n",
       "      <td>6.0</td>\n",
       "      <td>deceased_male</td>\n",
       "    </tr>\n",
       "    <tr>\n",
       "      <td>608</td>\n",
       "      <td>1200003896</td>\n",
       "      <td>3896.0</td>\n",
       "      <td>male</td>\n",
       "      <td>1933.0</td>\n",
       "      <td>87.0</td>\n",
       "      <td>Korea</td>\n",
       "      <td>Daegu</td>\n",
       "      <td>NaN</td>\n",
       "      <td>True</td>\n",
       "      <td>NaN</td>\n",
       "      <td>...</td>\n",
       "      <td>2020-03-01</td>\n",
       "      <td>NaT</td>\n",
       "      <td>2020-03-03</td>\n",
       "      <td>deceased</td>\n",
       "      <td>80-89</td>\n",
       "      <td>NaT</td>\n",
       "      <td>2 days</td>\n",
       "      <td>2 days</td>\n",
       "      <td>2.0</td>\n",
       "      <td>deceased_male</td>\n",
       "    </tr>\n",
       "    <tr>\n",
       "      <td>609</td>\n",
       "      <td>1200003914</td>\n",
       "      <td>3914.0</td>\n",
       "      <td>male</td>\n",
       "      <td>1938.0</td>\n",
       "      <td>82.0</td>\n",
       "      <td>Korea</td>\n",
       "      <td>Daegu</td>\n",
       "      <td>NaN</td>\n",
       "      <td>True</td>\n",
       "      <td>NaN</td>\n",
       "      <td>...</td>\n",
       "      <td>2020-03-01</td>\n",
       "      <td>NaT</td>\n",
       "      <td>2020-03-09</td>\n",
       "      <td>deceased</td>\n",
       "      <td>80-89</td>\n",
       "      <td>NaT</td>\n",
       "      <td>8 days</td>\n",
       "      <td>8 days</td>\n",
       "      <td>8.0</td>\n",
       "      <td>deceased_male</td>\n",
       "    </tr>\n",
       "    <tr>\n",
       "      <td>610</td>\n",
       "      <td>1200004046</td>\n",
       "      <td>4046.0</td>\n",
       "      <td>female</td>\n",
       "      <td>1962.0</td>\n",
       "      <td>58.0</td>\n",
       "      <td>Korea</td>\n",
       "      <td>Daegu</td>\n",
       "      <td>NaN</td>\n",
       "      <td>True</td>\n",
       "      <td>NaN</td>\n",
       "      <td>...</td>\n",
       "      <td>2020-03-01</td>\n",
       "      <td>NaT</td>\n",
       "      <td>2020-03-01</td>\n",
       "      <td>deceased</td>\n",
       "      <td>50-59</td>\n",
       "      <td>NaT</td>\n",
       "      <td>0 days</td>\n",
       "      <td>0 days</td>\n",
       "      <td>0.0</td>\n",
       "      <td>deceased_female</td>\n",
       "    </tr>\n",
       "    <tr>\n",
       "      <td>611</td>\n",
       "      <td>1200005767</td>\n",
       "      <td>5767.0</td>\n",
       "      <td>male</td>\n",
       "      <td>1938.0</td>\n",
       "      <td>82.0</td>\n",
       "      <td>Korea</td>\n",
       "      <td>Daegu</td>\n",
       "      <td>NaN</td>\n",
       "      <td>True</td>\n",
       "      <td>NaN</td>\n",
       "      <td>...</td>\n",
       "      <td>2020-03-05</td>\n",
       "      <td>NaT</td>\n",
       "      <td>2020-03-05</td>\n",
       "      <td>deceased</td>\n",
       "      <td>80-89</td>\n",
       "      <td>NaT</td>\n",
       "      <td>0 days</td>\n",
       "      <td>0 days</td>\n",
       "      <td>0.0</td>\n",
       "      <td>deceased_male</td>\n",
       "    </tr>\n",
       "    <tr>\n",
       "      <td>612</td>\n",
       "      <td>1200007196</td>\n",
       "      <td>7196.0</td>\n",
       "      <td>male</td>\n",
       "      <td>1945.0</td>\n",
       "      <td>75.0</td>\n",
       "      <td>Korea</td>\n",
       "      <td>Daegu</td>\n",
       "      <td>NaN</td>\n",
       "      <td>True</td>\n",
       "      <td>NaN</td>\n",
       "      <td>...</td>\n",
       "      <td>2020-03-08</td>\n",
       "      <td>NaT</td>\n",
       "      <td>2020-03-09</td>\n",
       "      <td>deceased</td>\n",
       "      <td>70-79</td>\n",
       "      <td>NaT</td>\n",
       "      <td>1 days</td>\n",
       "      <td>1 days</td>\n",
       "      <td>1.0</td>\n",
       "      <td>deceased_male</td>\n",
       "    </tr>\n",
       "    <tr>\n",
       "      <td>851</td>\n",
       "      <td>2000000039</td>\n",
       "      <td>875.0</td>\n",
       "      <td>male</td>\n",
       "      <td>1984.0</td>\n",
       "      <td>36.0</td>\n",
       "      <td>Mongolia</td>\n",
       "      <td>Gyeonggi-do</td>\n",
       "      <td>Namyangju-si</td>\n",
       "      <td>True</td>\n",
       "      <td>etc</td>\n",
       "      <td>...</td>\n",
       "      <td>2020-02-25</td>\n",
       "      <td>NaT</td>\n",
       "      <td>2020-02-25</td>\n",
       "      <td>deceased</td>\n",
       "      <td>30-39</td>\n",
       "      <td>NaT</td>\n",
       "      <td>0 days</td>\n",
       "      <td>0 days</td>\n",
       "      <td>0.0</td>\n",
       "      <td>deceased_male</td>\n",
       "    </tr>\n",
       "    <tr>\n",
       "      <td>1314</td>\n",
       "      <td>3014000001</td>\n",
       "      <td>NaN</td>\n",
       "      <td>female</td>\n",
       "      <td>NaN</td>\n",
       "      <td>NaN</td>\n",
       "      <td>Korea</td>\n",
       "      <td>Gangwon-do</td>\n",
       "      <td>Taebaek-si</td>\n",
       "      <td>True</td>\n",
       "      <td>contact with patient</td>\n",
       "      <td>...</td>\n",
       "      <td>2020-03-04</td>\n",
       "      <td>NaT</td>\n",
       "      <td>2020-03-04</td>\n",
       "      <td>deceased</td>\n",
       "      <td>Unknown</td>\n",
       "      <td>NaT</td>\n",
       "      <td>0 days</td>\n",
       "      <td>0 days</td>\n",
       "      <td>0.0</td>\n",
       "      <td>deceased_female</td>\n",
       "    </tr>\n",
       "    <tr>\n",
       "      <td>1571</td>\n",
       "      <td>6001000062</td>\n",
       "      <td>1201.0</td>\n",
       "      <td>male</td>\n",
       "      <td>1951.0</td>\n",
       "      <td>69.0</td>\n",
       "      <td>Korea</td>\n",
       "      <td>Gyeongsangbuk-do</td>\n",
       "      <td>Gyeongsan-si</td>\n",
       "      <td>NaN</td>\n",
       "      <td>NaN</td>\n",
       "      <td>...</td>\n",
       "      <td>2020-02-26</td>\n",
       "      <td>NaT</td>\n",
       "      <td>2020-03-08</td>\n",
       "      <td>deceased</td>\n",
       "      <td>60-69</td>\n",
       "      <td>NaT</td>\n",
       "      <td>11 days</td>\n",
       "      <td>11 days</td>\n",
       "      <td>11.0</td>\n",
       "      <td>deceased_male</td>\n",
       "    </tr>\n",
       "    <tr>\n",
       "      <td>1581</td>\n",
       "      <td>6001000072</td>\n",
       "      <td>1179.0</td>\n",
       "      <td>male</td>\n",
       "      <td>1969.0</td>\n",
       "      <td>51.0</td>\n",
       "      <td>Korea</td>\n",
       "      <td>Gyeongsangbuk-do</td>\n",
       "      <td>Gyeongsan-si</td>\n",
       "      <td>NaN</td>\n",
       "      <td>NaN</td>\n",
       "      <td>...</td>\n",
       "      <td>2020-02-26</td>\n",
       "      <td>NaT</td>\n",
       "      <td>2020-03-18</td>\n",
       "      <td>deceased</td>\n",
       "      <td>50-59</td>\n",
       "      <td>NaT</td>\n",
       "      <td>21 days</td>\n",
       "      <td>21 days</td>\n",
       "      <td>21.0</td>\n",
       "      <td>deceased_male</td>\n",
       "    </tr>\n",
       "    <tr>\n",
       "      <td>1612</td>\n",
       "      <td>6001000103</td>\n",
       "      <td>2034.0</td>\n",
       "      <td>male</td>\n",
       "      <td>1947.0</td>\n",
       "      <td>73.0</td>\n",
       "      <td>Korea</td>\n",
       "      <td>Gyeongsangbuk-do</td>\n",
       "      <td>Gyeongsan-si</td>\n",
       "      <td>NaN</td>\n",
       "      <td>NaN</td>\n",
       "      <td>...</td>\n",
       "      <td>2020-02-28</td>\n",
       "      <td>NaT</td>\n",
       "      <td>2020-03-11</td>\n",
       "      <td>deceased</td>\n",
       "      <td>70-79</td>\n",
       "      <td>NaT</td>\n",
       "      <td>12 days</td>\n",
       "      <td>12 days</td>\n",
       "      <td>12.0</td>\n",
       "      <td>deceased_male</td>\n",
       "    </tr>\n",
       "    <tr>\n",
       "      <td>1632</td>\n",
       "      <td>6001000123</td>\n",
       "      <td>2769.0</td>\n",
       "      <td>female</td>\n",
       "      <td>1935.0</td>\n",
       "      <td>85.0</td>\n",
       "      <td>Korea</td>\n",
       "      <td>Gyeongsangbuk-do</td>\n",
       "      <td>Gyeongsan-si</td>\n",
       "      <td>NaN</td>\n",
       "      <td>NaN</td>\n",
       "      <td>...</td>\n",
       "      <td>2020-02-28</td>\n",
       "      <td>NaT</td>\n",
       "      <td>2020-03-02</td>\n",
       "      <td>deceased</td>\n",
       "      <td>80-89</td>\n",
       "      <td>NaT</td>\n",
       "      <td>3 days</td>\n",
       "      <td>3 days</td>\n",
       "      <td>3.0</td>\n",
       "      <td>deceased_female</td>\n",
       "    </tr>\n",
       "    <tr>\n",
       "      <td>1794</td>\n",
       "      <td>6001000285</td>\n",
       "      <td>5143.0</td>\n",
       "      <td>male</td>\n",
       "      <td>1960.0</td>\n",
       "      <td>60.0</td>\n",
       "      <td>Korea</td>\n",
       "      <td>Gyeongsangbuk-do</td>\n",
       "      <td>Gyeongsan-si</td>\n",
       "      <td>NaN</td>\n",
       "      <td>NaN</td>\n",
       "      <td>...</td>\n",
       "      <td>2020-03-03</td>\n",
       "      <td>NaT</td>\n",
       "      <td>2020-03-04</td>\n",
       "      <td>deceased</td>\n",
       "      <td>60-69</td>\n",
       "      <td>NaT</td>\n",
       "      <td>1 days</td>\n",
       "      <td>1 days</td>\n",
       "      <td>1.0</td>\n",
       "      <td>deceased_male</td>\n",
       "    </tr>\n",
       "    <tr>\n",
       "      <td>1911</td>\n",
       "      <td>6001000402</td>\n",
       "      <td>6064.0</td>\n",
       "      <td>female</td>\n",
       "      <td>1939.0</td>\n",
       "      <td>81.0</td>\n",
       "      <td>Korea</td>\n",
       "      <td>Gyeongsangbuk-do</td>\n",
       "      <td>Gyeongsan-si</td>\n",
       "      <td>NaN</td>\n",
       "      <td>NaN</td>\n",
       "      <td>...</td>\n",
       "      <td>2020-03-05</td>\n",
       "      <td>NaT</td>\n",
       "      <td>2020-03-16</td>\n",
       "      <td>deceased</td>\n",
       "      <td>80-89</td>\n",
       "      <td>NaT</td>\n",
       "      <td>11 days</td>\n",
       "      <td>11 days</td>\n",
       "      <td>11.0</td>\n",
       "      <td>deceased_female</td>\n",
       "    </tr>\n",
       "    <tr>\n",
       "      <td>1969</td>\n",
       "      <td>6001000460</td>\n",
       "      <td>7119.0</td>\n",
       "      <td>female</td>\n",
       "      <td>1938.0</td>\n",
       "      <td>82.0</td>\n",
       "      <td>Korea</td>\n",
       "      <td>Gyeongsangbuk-do</td>\n",
       "      <td>Gyeongsan-si</td>\n",
       "      <td>NaN</td>\n",
       "      <td>NaN</td>\n",
       "      <td>...</td>\n",
       "      <td>2020-03-07</td>\n",
       "      <td>NaT</td>\n",
       "      <td>2020-03-20</td>\n",
       "      <td>deceased</td>\n",
       "      <td>80-89</td>\n",
       "      <td>NaT</td>\n",
       "      <td>13 days</td>\n",
       "      <td>13 days</td>\n",
       "      <td>13.0</td>\n",
       "      <td>deceased_female</td>\n",
       "    </tr>\n",
       "    <tr>\n",
       "      <td>1981</td>\n",
       "      <td>6001000472</td>\n",
       "      <td>7090.0</td>\n",
       "      <td>female</td>\n",
       "      <td>1929.0</td>\n",
       "      <td>91.0</td>\n",
       "      <td>Korea</td>\n",
       "      <td>Gyeongsangbuk-do</td>\n",
       "      <td>Gyeongsan-si</td>\n",
       "      <td>NaN</td>\n",
       "      <td>NaN</td>\n",
       "      <td>...</td>\n",
       "      <td>2020-03-07</td>\n",
       "      <td>NaT</td>\n",
       "      <td>2020-03-16</td>\n",
       "      <td>deceased</td>\n",
       "      <td>90-99</td>\n",
       "      <td>NaT</td>\n",
       "      <td>9 days</td>\n",
       "      <td>9 days</td>\n",
       "      <td>9.0</td>\n",
       "      <td>deceased_female</td>\n",
       "    </tr>\n",
       "    <tr>\n",
       "      <td>2009</td>\n",
       "      <td>6001000500</td>\n",
       "      <td>8062.0</td>\n",
       "      <td>male</td>\n",
       "      <td>1938.0</td>\n",
       "      <td>82.0</td>\n",
       "      <td>Korea</td>\n",
       "      <td>Gyeongsangbuk-do</td>\n",
       "      <td>Gyeongsan-si</td>\n",
       "      <td>NaN</td>\n",
       "      <td>NaN</td>\n",
       "      <td>...</td>\n",
       "      <td>2020-03-10</td>\n",
       "      <td>NaT</td>\n",
       "      <td>2020-03-26</td>\n",
       "      <td>deceased</td>\n",
       "      <td>80-89</td>\n",
       "      <td>NaT</td>\n",
       "      <td>16 days</td>\n",
       "      <td>16 days</td>\n",
       "      <td>16.0</td>\n",
       "      <td>deceased_male</td>\n",
       "    </tr>\n",
       "    <tr>\n",
       "      <td>2010</td>\n",
       "      <td>6001000501</td>\n",
       "      <td>7722.0</td>\n",
       "      <td>male</td>\n",
       "      <td>1930.0</td>\n",
       "      <td>90.0</td>\n",
       "      <td>Korea</td>\n",
       "      <td>Gyeongsangbuk-do</td>\n",
       "      <td>Gyeongsan-si</td>\n",
       "      <td>NaN</td>\n",
       "      <td>NaN</td>\n",
       "      <td>...</td>\n",
       "      <td>2020-03-10</td>\n",
       "      <td>NaT</td>\n",
       "      <td>2020-03-26</td>\n",
       "      <td>deceased</td>\n",
       "      <td>90-99</td>\n",
       "      <td>NaT</td>\n",
       "      <td>16 days</td>\n",
       "      <td>16 days</td>\n",
       "      <td>16.0</td>\n",
       "      <td>deceased_male</td>\n",
       "    </tr>\n",
       "    <tr>\n",
       "      <td>2037</td>\n",
       "      <td>6001000528</td>\n",
       "      <td>NaN</td>\n",
       "      <td>male</td>\n",
       "      <td>1949.0</td>\n",
       "      <td>71.0</td>\n",
       "      <td>Korea</td>\n",
       "      <td>Gyeongsangbuk-do</td>\n",
       "      <td>Gyeongsan-si</td>\n",
       "      <td>NaN</td>\n",
       "      <td>NaN</td>\n",
       "      <td>...</td>\n",
       "      <td>2020-03-15</td>\n",
       "      <td>NaT</td>\n",
       "      <td>2020-03-16</td>\n",
       "      <td>deceased</td>\n",
       "      <td>70-79</td>\n",
       "      <td>NaT</td>\n",
       "      <td>1 days</td>\n",
       "      <td>1 days</td>\n",
       "      <td>1.0</td>\n",
       "      <td>deceased_male</td>\n",
       "    </tr>\n",
       "    <tr>\n",
       "      <td>2076</td>\n",
       "      <td>6001000567</td>\n",
       "      <td>NaN</td>\n",
       "      <td>male</td>\n",
       "      <td>1930.0</td>\n",
       "      <td>90.0</td>\n",
       "      <td>Korea</td>\n",
       "      <td>Gyeongsangbuk-do</td>\n",
       "      <td>Gyeongsan-si</td>\n",
       "      <td>NaN</td>\n",
       "      <td>NaN</td>\n",
       "      <td>...</td>\n",
       "      <td>2020-03-20</td>\n",
       "      <td>NaT</td>\n",
       "      <td>2020-03-27</td>\n",
       "      <td>deceased</td>\n",
       "      <td>90-99</td>\n",
       "      <td>NaT</td>\n",
       "      <td>7 days</td>\n",
       "      <td>7 days</td>\n",
       "      <td>7.0</td>\n",
       "      <td>deceased_male</td>\n",
       "    </tr>\n",
       "    <tr>\n",
       "      <td>2077</td>\n",
       "      <td>6001000568</td>\n",
       "      <td>NaN</td>\n",
       "      <td>male</td>\n",
       "      <td>1939.0</td>\n",
       "      <td>81.0</td>\n",
       "      <td>Korea</td>\n",
       "      <td>Gyeongsangbuk-do</td>\n",
       "      <td>Gyeongsan-si</td>\n",
       "      <td>NaN</td>\n",
       "      <td>NaN</td>\n",
       "      <td>...</td>\n",
       "      <td>2020-03-20</td>\n",
       "      <td>NaT</td>\n",
       "      <td>2020-03-25</td>\n",
       "      <td>deceased</td>\n",
       "      <td>80-89</td>\n",
       "      <td>NaT</td>\n",
       "      <td>5 days</td>\n",
       "      <td>5 days</td>\n",
       "      <td>5.0</td>\n",
       "      <td>deceased_male</td>\n",
       "    </tr>\n",
       "    <tr>\n",
       "      <td>2080</td>\n",
       "      <td>6001000571</td>\n",
       "      <td>NaN</td>\n",
       "      <td>female</td>\n",
       "      <td>1934.0</td>\n",
       "      <td>86.0</td>\n",
       "      <td>Korea</td>\n",
       "      <td>Gyeongsangbuk-do</td>\n",
       "      <td>Gyeongsan-si</td>\n",
       "      <td>NaN</td>\n",
       "      <td>NaN</td>\n",
       "      <td>...</td>\n",
       "      <td>2020-03-20</td>\n",
       "      <td>NaT</td>\n",
       "      <td>2020-03-29</td>\n",
       "      <td>deceased</td>\n",
       "      <td>80-89</td>\n",
       "      <td>NaT</td>\n",
       "      <td>9 days</td>\n",
       "      <td>9 days</td>\n",
       "      <td>9.0</td>\n",
       "      <td>deceased_female</td>\n",
       "    </tr>\n",
       "    <tr>\n",
       "      <td>2082</td>\n",
       "      <td>6001000573</td>\n",
       "      <td>NaN</td>\n",
       "      <td>male</td>\n",
       "      <td>1941.0</td>\n",
       "      <td>79.0</td>\n",
       "      <td>Korea</td>\n",
       "      <td>Gyeongsangbuk-do</td>\n",
       "      <td>Gyeongsan-si</td>\n",
       "      <td>NaN</td>\n",
       "      <td>NaN</td>\n",
       "      <td>...</td>\n",
       "      <td>2020-03-20</td>\n",
       "      <td>NaT</td>\n",
       "      <td>2020-03-25</td>\n",
       "      <td>deceased</td>\n",
       "      <td>70-79</td>\n",
       "      <td>NaT</td>\n",
       "      <td>5 days</td>\n",
       "      <td>5 days</td>\n",
       "      <td>5.0</td>\n",
       "      <td>deceased_male</td>\n",
       "    </tr>\n",
       "    <tr>\n",
       "      <td>2083</td>\n",
       "      <td>6001000574</td>\n",
       "      <td>NaN</td>\n",
       "      <td>male</td>\n",
       "      <td>1944.0</td>\n",
       "      <td>76.0</td>\n",
       "      <td>Korea</td>\n",
       "      <td>Gyeongsangbuk-do</td>\n",
       "      <td>Gyeongsan-si</td>\n",
       "      <td>NaN</td>\n",
       "      <td>NaN</td>\n",
       "      <td>...</td>\n",
       "      <td>2020-03-20</td>\n",
       "      <td>NaT</td>\n",
       "      <td>2020-03-24</td>\n",
       "      <td>deceased</td>\n",
       "      <td>70-79</td>\n",
       "      <td>NaT</td>\n",
       "      <td>4 days</td>\n",
       "      <td>4 days</td>\n",
       "      <td>4.0</td>\n",
       "      <td>deceased_male</td>\n",
       "    </tr>\n",
       "    <tr>\n",
       "      <td>2097</td>\n",
       "      <td>6001000588</td>\n",
       "      <td>NaN</td>\n",
       "      <td>female</td>\n",
       "      <td>1937.0</td>\n",
       "      <td>83.0</td>\n",
       "      <td>Korea</td>\n",
       "      <td>Gyeongsangbuk-do</td>\n",
       "      <td>Gyeongsan-si</td>\n",
       "      <td>NaN</td>\n",
       "      <td>NaN</td>\n",
       "      <td>...</td>\n",
       "      <td>2020-03-25</td>\n",
       "      <td>NaT</td>\n",
       "      <td>2020-03-26</td>\n",
       "      <td>deceased</td>\n",
       "      <td>80-89</td>\n",
       "      <td>NaT</td>\n",
       "      <td>1 days</td>\n",
       "      <td>1 days</td>\n",
       "      <td>1.0</td>\n",
       "      <td>deceased_female</td>\n",
       "    </tr>\n",
       "    <tr>\n",
       "      <td>2125</td>\n",
       "      <td>6002000002</td>\n",
       "      <td>NaN</td>\n",
       "      <td>male</td>\n",
       "      <td>1980.0</td>\n",
       "      <td>40.0</td>\n",
       "      <td>Korea</td>\n",
       "      <td>Gyeongsangbuk-do</td>\n",
       "      <td>Gyeongju-si</td>\n",
       "      <td>NaN</td>\n",
       "      <td>NaN</td>\n",
       "      <td>...</td>\n",
       "      <td>2020-02-22</td>\n",
       "      <td>NaT</td>\n",
       "      <td>NaT</td>\n",
       "      <td>deceased</td>\n",
       "      <td>40-49</td>\n",
       "      <td>NaT</td>\n",
       "      <td>NaT</td>\n",
       "      <td>NaT</td>\n",
       "      <td>NaN</td>\n",
       "      <td>deceased_male</td>\n",
       "    </tr>\n",
       "    <tr>\n",
       "      <td>2334</td>\n",
       "      <td>6008000060</td>\n",
       "      <td>NaN</td>\n",
       "      <td>female</td>\n",
       "      <td>1930.0</td>\n",
       "      <td>90.0</td>\n",
       "      <td>Korea</td>\n",
       "      <td>Gyeongsangbuk-do</td>\n",
       "      <td>Bonghwa-gun</td>\n",
       "      <td>NaN</td>\n",
       "      <td>Bonghwa Pureun Nursing Home</td>\n",
       "      <td>...</td>\n",
       "      <td>2020-03-11</td>\n",
       "      <td>NaT</td>\n",
       "      <td>2020-03-22</td>\n",
       "      <td>deceased</td>\n",
       "      <td>90-99</td>\n",
       "      <td>NaT</td>\n",
       "      <td>11 days</td>\n",
       "      <td>11 days</td>\n",
       "      <td>11.0</td>\n",
       "      <td>deceased_female</td>\n",
       "    </tr>\n",
       "    <tr>\n",
       "      <td>2373</td>\n",
       "      <td>6010000014</td>\n",
       "      <td>NaN</td>\n",
       "      <td>male</td>\n",
       "      <td>NaN</td>\n",
       "      <td>NaN</td>\n",
       "      <td>Korea</td>\n",
       "      <td>Gyeongsangbuk-do</td>\n",
       "      <td>Seongju-gun</td>\n",
       "      <td>NaN</td>\n",
       "      <td>contact with patient</td>\n",
       "      <td>...</td>\n",
       "      <td>2020-03-04</td>\n",
       "      <td>2020-03-05</td>\n",
       "      <td>NaT</td>\n",
       "      <td>deceased</td>\n",
       "      <td>Unknown</td>\n",
       "      <td>1 days</td>\n",
       "      <td>NaT</td>\n",
       "      <td>1 days</td>\n",
       "      <td>1.0</td>\n",
       "      <td>deceased_male</td>\n",
       "    </tr>\n",
       "    <tr>\n",
       "      <td>2473</td>\n",
       "      <td>6015000035</td>\n",
       "      <td>6309.0</td>\n",
       "      <td>male</td>\n",
       "      <td>NaN</td>\n",
       "      <td>NaN</td>\n",
       "      <td>Korea</td>\n",
       "      <td>Gyeongsangbuk-do</td>\n",
       "      <td>Yeongcheon-si</td>\n",
       "      <td>NaN</td>\n",
       "      <td>etc</td>\n",
       "      <td>...</td>\n",
       "      <td>2020-03-06</td>\n",
       "      <td>NaT</td>\n",
       "      <td>2020-03-07</td>\n",
       "      <td>deceased</td>\n",
       "      <td>Unknown</td>\n",
       "      <td>NaT</td>\n",
       "      <td>1 days</td>\n",
       "      <td>1 days</td>\n",
       "      <td>1.0</td>\n",
       "      <td>deceased_male</td>\n",
       "    </tr>\n",
       "    <tr>\n",
       "      <td>2558</td>\n",
       "      <td>6020100054</td>\n",
       "      <td>54.0</td>\n",
       "      <td>male</td>\n",
       "      <td>1963.0</td>\n",
       "      <td>57.0</td>\n",
       "      <td>Korea</td>\n",
       "      <td>Gyeongsangbuk-do</td>\n",
       "      <td>Cheongdo-gun</td>\n",
       "      <td>True</td>\n",
       "      <td>Cheongdo Daenam Hospital</td>\n",
       "      <td>...</td>\n",
       "      <td>2020-02-19</td>\n",
       "      <td>NaT</td>\n",
       "      <td>2020-02-23</td>\n",
       "      <td>deceased</td>\n",
       "      <td>50-59</td>\n",
       "      <td>NaT</td>\n",
       "      <td>4 days</td>\n",
       "      <td>4 days</td>\n",
       "      <td>4.0</td>\n",
       "      <td>deceased_male</td>\n",
       "    </tr>\n",
       "    <tr>\n",
       "      <td>2559</td>\n",
       "      <td>6020100055</td>\n",
       "      <td>55.0</td>\n",
       "      <td>male</td>\n",
       "      <td>1961.0</td>\n",
       "      <td>59.0</td>\n",
       "      <td>Korea</td>\n",
       "      <td>Gyeongsangbuk-do</td>\n",
       "      <td>Cheongdo-gun</td>\n",
       "      <td>True</td>\n",
       "      <td>Cheongdo Daenam Hospital</td>\n",
       "      <td>...</td>\n",
       "      <td>2020-02-19</td>\n",
       "      <td>NaT</td>\n",
       "      <td>2020-02-23</td>\n",
       "      <td>deceased</td>\n",
       "      <td>50-59</td>\n",
       "      <td>NaT</td>\n",
       "      <td>4 days</td>\n",
       "      <td>4 days</td>\n",
       "      <td>4.0</td>\n",
       "      <td>deceased_male</td>\n",
       "    </tr>\n",
       "    <tr>\n",
       "      <td>2560</td>\n",
       "      <td>6020100104</td>\n",
       "      <td>104.0</td>\n",
       "      <td>male</td>\n",
       "      <td>1957.0</td>\n",
       "      <td>63.0</td>\n",
       "      <td>Korea</td>\n",
       "      <td>Gyeongsangbuk-do</td>\n",
       "      <td>Cheongdo-gun</td>\n",
       "      <td>True</td>\n",
       "      <td>Cheongdo Daenam Hospital</td>\n",
       "      <td>...</td>\n",
       "      <td>2020-02-20</td>\n",
       "      <td>NaT</td>\n",
       "      <td>2020-02-19</td>\n",
       "      <td>deceased</td>\n",
       "      <td>60-69</td>\n",
       "      <td>NaT</td>\n",
       "      <td>-1 days</td>\n",
       "      <td>-1 days</td>\n",
       "      <td>-1.0</td>\n",
       "      <td>deceased_male</td>\n",
       "    </tr>\n",
       "    <tr>\n",
       "      <td>2561</td>\n",
       "      <td>6020100107</td>\n",
       "      <td>107.0</td>\n",
       "      <td>male</td>\n",
       "      <td>1953.0</td>\n",
       "      <td>67.0</td>\n",
       "      <td>Korea</td>\n",
       "      <td>Gyeongsangbuk-do</td>\n",
       "      <td>Cheongdo-gun</td>\n",
       "      <td>True</td>\n",
       "      <td>Cheongdo Daenam Hospital</td>\n",
       "      <td>...</td>\n",
       "      <td>2020-02-21</td>\n",
       "      <td>NaT</td>\n",
       "      <td>2020-02-24</td>\n",
       "      <td>deceased</td>\n",
       "      <td>60-69</td>\n",
       "      <td>NaT</td>\n",
       "      <td>3 days</td>\n",
       "      <td>3 days</td>\n",
       "      <td>3.0</td>\n",
       "      <td>deceased_male</td>\n",
       "    </tr>\n",
       "    <tr>\n",
       "      <td>2562</td>\n",
       "      <td>6020100205</td>\n",
       "      <td>205.0</td>\n",
       "      <td>female</td>\n",
       "      <td>1965.0</td>\n",
       "      <td>55.0</td>\n",
       "      <td>Korea</td>\n",
       "      <td>Gyeongsangbuk-do</td>\n",
       "      <td>Cheongdo-gun</td>\n",
       "      <td>True</td>\n",
       "      <td>Cheongdo Daenam Hospital</td>\n",
       "      <td>...</td>\n",
       "      <td>2020-02-22</td>\n",
       "      <td>NaT</td>\n",
       "      <td>2020-02-21</td>\n",
       "      <td>deceased</td>\n",
       "      <td>50-59</td>\n",
       "      <td>NaT</td>\n",
       "      <td>-1 days</td>\n",
       "      <td>-1 days</td>\n",
       "      <td>-1.0</td>\n",
       "      <td>deceased_female</td>\n",
       "    </tr>\n",
       "    <tr>\n",
       "      <td>2563</td>\n",
       "      <td>6020100286</td>\n",
       "      <td>286.0</td>\n",
       "      <td>male</td>\n",
       "      <td>1958.0</td>\n",
       "      <td>62.0</td>\n",
       "      <td>Korea</td>\n",
       "      <td>Gyeongsangbuk-do</td>\n",
       "      <td>Cheongdo-gun</td>\n",
       "      <td>True</td>\n",
       "      <td>Cheongdo Daenam Hospital</td>\n",
       "      <td>...</td>\n",
       "      <td>2020-02-22</td>\n",
       "      <td>NaT</td>\n",
       "      <td>2020-02-23</td>\n",
       "      <td>deceased</td>\n",
       "      <td>60-69</td>\n",
       "      <td>NaT</td>\n",
       "      <td>1 days</td>\n",
       "      <td>1 days</td>\n",
       "      <td>1.0</td>\n",
       "      <td>deceased_male</td>\n",
       "    </tr>\n",
       "    <tr>\n",
       "      <td>2564</td>\n",
       "      <td>6020100298</td>\n",
       "      <td>298.0</td>\n",
       "      <td>male</td>\n",
       "      <td>1962.0</td>\n",
       "      <td>58.0</td>\n",
       "      <td>Korea</td>\n",
       "      <td>Gyeongsangbuk-do</td>\n",
       "      <td>Cheongdo-gun</td>\n",
       "      <td>True</td>\n",
       "      <td>Cheongdo Daenam Hospital</td>\n",
       "      <td>...</td>\n",
       "      <td>2020-02-22</td>\n",
       "      <td>NaT</td>\n",
       "      <td>2020-02-25</td>\n",
       "      <td>deceased</td>\n",
       "      <td>50-59</td>\n",
       "      <td>NaT</td>\n",
       "      <td>3 days</td>\n",
       "      <td>3 days</td>\n",
       "      <td>3.0</td>\n",
       "      <td>deceased_male</td>\n",
       "    </tr>\n",
       "  </tbody>\n",
       "</table>\n",
       "<p>53 rows × 24 columns</p>\n",
       "</div>"
      ],
      "text/plain": [
       "      patient_id  global_num     sex  birth_year   age   country  \\\n",
       "504   1100000071         NaN    male      1941.0  79.0     Korea   \n",
       "528   1100000095         NaN  female      1932.0  88.0     Korea   \n",
       "530   1100000097         NaN    male      1947.0  73.0     Korea   \n",
       "555   1200000038        38.0  female      1963.0  57.0     Korea   \n",
       "594   1200000114       114.0    male      1946.0  74.0     Korea   \n",
       "595   1200000620       620.0    male      1949.0  71.0     Korea   \n",
       "596   1200000901       901.0  female      1934.0  86.0     Korea   \n",
       "597   1200001064      1064.0  female      1943.0  77.0     Korea   \n",
       "598   1200001288      1288.0    male      1955.0  65.0     Korea   \n",
       "599   1200001443      1443.0    male      1945.0  75.0     Korea   \n",
       "600   1200001921      1921.0    male      1953.0  67.0     Korea   \n",
       "601   1200002085      2085.0    male      1949.0  71.0     Korea   \n",
       "602   1200002289      2289.0    male      1954.0  66.0     Korea   \n",
       "603   1200002614      2614.0  female      1943.0  77.0     Korea   \n",
       "604   1200002769      2769.0  female      1934.0  86.0     Korea   \n",
       "605   1200002936      2936.0    male      1939.0  81.0     Korea   \n",
       "606   1200003550      3550.0  female      1951.0  69.0     Korea   \n",
       "607   1200003578      3578.0    male      1930.0  90.0     Korea   \n",
       "608   1200003896      3896.0    male      1933.0  87.0     Korea   \n",
       "609   1200003914      3914.0    male      1938.0  82.0     Korea   \n",
       "610   1200004046      4046.0  female      1962.0  58.0     Korea   \n",
       "611   1200005767      5767.0    male      1938.0  82.0     Korea   \n",
       "612   1200007196      7196.0    male      1945.0  75.0     Korea   \n",
       "851   2000000039       875.0    male      1984.0  36.0  Mongolia   \n",
       "1314  3014000001         NaN  female         NaN   NaN     Korea   \n",
       "1571  6001000062      1201.0    male      1951.0  69.0     Korea   \n",
       "1581  6001000072      1179.0    male      1969.0  51.0     Korea   \n",
       "1612  6001000103      2034.0    male      1947.0  73.0     Korea   \n",
       "1632  6001000123      2769.0  female      1935.0  85.0     Korea   \n",
       "1794  6001000285      5143.0    male      1960.0  60.0     Korea   \n",
       "1911  6001000402      6064.0  female      1939.0  81.0     Korea   \n",
       "1969  6001000460      7119.0  female      1938.0  82.0     Korea   \n",
       "1981  6001000472      7090.0  female      1929.0  91.0     Korea   \n",
       "2009  6001000500      8062.0    male      1938.0  82.0     Korea   \n",
       "2010  6001000501      7722.0    male      1930.0  90.0     Korea   \n",
       "2037  6001000528         NaN    male      1949.0  71.0     Korea   \n",
       "2076  6001000567         NaN    male      1930.0  90.0     Korea   \n",
       "2077  6001000568         NaN    male      1939.0  81.0     Korea   \n",
       "2080  6001000571         NaN  female      1934.0  86.0     Korea   \n",
       "2082  6001000573         NaN    male      1941.0  79.0     Korea   \n",
       "2083  6001000574         NaN    male      1944.0  76.0     Korea   \n",
       "2097  6001000588         NaN  female      1937.0  83.0     Korea   \n",
       "2125  6002000002         NaN    male      1980.0  40.0     Korea   \n",
       "2334  6008000060         NaN  female      1930.0  90.0     Korea   \n",
       "2373  6010000014         NaN    male         NaN   NaN     Korea   \n",
       "2473  6015000035      6309.0    male         NaN   NaN     Korea   \n",
       "2558  6020100054        54.0    male      1963.0  57.0     Korea   \n",
       "2559  6020100055        55.0    male      1961.0  59.0     Korea   \n",
       "2560  6020100104       104.0    male      1957.0  63.0     Korea   \n",
       "2561  6020100107       107.0    male      1953.0  67.0     Korea   \n",
       "2562  6020100205       205.0  female      1965.0  55.0     Korea   \n",
       "2563  6020100286       286.0    male      1958.0  62.0     Korea   \n",
       "2564  6020100298       298.0    male      1962.0  58.0     Korea   \n",
       "\n",
       "              province           city disease               infection_case  \\\n",
       "504              Busan    Busanjin-gu     NaN                          etc   \n",
       "528              Busan            etc     NaN                          NaN   \n",
       "530              Busan    Busanjin-gu     NaN                          etc   \n",
       "555              Daegu         Nam-gu    True                          NaN   \n",
       "594              Daegu            NaN     NaN           Shincheonji Church   \n",
       "595              Daegu            NaN     NaN                          NaN   \n",
       "596              Daegu            NaN     NaN                          NaN   \n",
       "597              Daegu            NaN     NaN                          NaN   \n",
       "598              Daegu            NaN    True                          NaN   \n",
       "599              Daegu            NaN     NaN                          NaN   \n",
       "600              Daegu            NaN    True                          NaN   \n",
       "601              Daegu            NaN    True                          NaN   \n",
       "602              Daegu            NaN     NaN                          NaN   \n",
       "603              Daegu            NaN    True                          NaN   \n",
       "604              Daegu            NaN     NaN                          NaN   \n",
       "605              Daegu            NaN     NaN                          NaN   \n",
       "606              Daegu            NaN     NaN                          NaN   \n",
       "607              Daegu            NaN     NaN                          NaN   \n",
       "608              Daegu            NaN    True                          NaN   \n",
       "609              Daegu            NaN    True                          NaN   \n",
       "610              Daegu            NaN    True                          NaN   \n",
       "611              Daegu            NaN    True                          NaN   \n",
       "612              Daegu            NaN    True                          NaN   \n",
       "851        Gyeonggi-do   Namyangju-si    True                          etc   \n",
       "1314        Gangwon-do     Taebaek-si    True         contact with patient   \n",
       "1571  Gyeongsangbuk-do   Gyeongsan-si     NaN                          NaN   \n",
       "1581  Gyeongsangbuk-do   Gyeongsan-si     NaN                          NaN   \n",
       "1612  Gyeongsangbuk-do   Gyeongsan-si     NaN                          NaN   \n",
       "1632  Gyeongsangbuk-do   Gyeongsan-si     NaN                          NaN   \n",
       "1794  Gyeongsangbuk-do   Gyeongsan-si     NaN                          NaN   \n",
       "1911  Gyeongsangbuk-do   Gyeongsan-si     NaN                          NaN   \n",
       "1969  Gyeongsangbuk-do   Gyeongsan-si     NaN                          NaN   \n",
       "1981  Gyeongsangbuk-do   Gyeongsan-si     NaN                          NaN   \n",
       "2009  Gyeongsangbuk-do   Gyeongsan-si     NaN                          NaN   \n",
       "2010  Gyeongsangbuk-do   Gyeongsan-si     NaN                          NaN   \n",
       "2037  Gyeongsangbuk-do   Gyeongsan-si     NaN                          NaN   \n",
       "2076  Gyeongsangbuk-do   Gyeongsan-si     NaN                          NaN   \n",
       "2077  Gyeongsangbuk-do   Gyeongsan-si     NaN                          NaN   \n",
       "2080  Gyeongsangbuk-do   Gyeongsan-si     NaN                          NaN   \n",
       "2082  Gyeongsangbuk-do   Gyeongsan-si     NaN                          NaN   \n",
       "2083  Gyeongsangbuk-do   Gyeongsan-si     NaN                          NaN   \n",
       "2097  Gyeongsangbuk-do   Gyeongsan-si     NaN                          NaN   \n",
       "2125  Gyeongsangbuk-do    Gyeongju-si     NaN                          NaN   \n",
       "2334  Gyeongsangbuk-do    Bonghwa-gun     NaN  Bonghwa Pureun Nursing Home   \n",
       "2373  Gyeongsangbuk-do    Seongju-gun     NaN         contact with patient   \n",
       "2473  Gyeongsangbuk-do  Yeongcheon-si     NaN                          etc   \n",
       "2558  Gyeongsangbuk-do   Cheongdo-gun    True     Cheongdo Daenam Hospital   \n",
       "2559  Gyeongsangbuk-do   Cheongdo-gun    True     Cheongdo Daenam Hospital   \n",
       "2560  Gyeongsangbuk-do   Cheongdo-gun    True     Cheongdo Daenam Hospital   \n",
       "2561  Gyeongsangbuk-do   Cheongdo-gun    True     Cheongdo Daenam Hospital   \n",
       "2562  Gyeongsangbuk-do   Cheongdo-gun    True     Cheongdo Daenam Hospital   \n",
       "2563  Gyeongsangbuk-do   Cheongdo-gun    True     Cheongdo Daenam Hospital   \n",
       "2564  Gyeongsangbuk-do   Cheongdo-gun    True     Cheongdo Daenam Hospital   \n",
       "\n",
       "      ...  confirmed_date  released_date  deceased_date     state age_range  \\\n",
       "504   ...      2020-02-28            NaT            NaT  deceased     70-79   \n",
       "528   ...      2020-03-13            NaT            NaT  deceased     80-89   \n",
       "530   ...      2020-03-13            NaT            NaT  deceased     70-79   \n",
       "555   ...      2020-02-18            NaT     2020-02-23  deceased     50-59   \n",
       "594   ...      2020-02-21            NaT     2020-02-26  deceased     70-79   \n",
       "595   ...      2020-02-24            NaT     2020-03-02  deceased     70-79   \n",
       "596   ...      2020-02-25            NaT     2020-03-04  deceased     80-89   \n",
       "597   ...      2020-02-26            NaT     2020-03-01  deceased     70-79   \n",
       "598   ...      2020-02-27            NaT     2020-03-02  deceased     60-69   \n",
       "599   ...      2020-02-27            NaT     2020-02-27  deceased     70-79   \n",
       "600   ...      2020-02-28            NaT     2020-03-05  deceased     60-69   \n",
       "601   ...      2020-02-28            NaT     2020-03-04  deceased     70-79   \n",
       "602   ...      2020-02-28            NaT     2020-03-05  deceased     60-69   \n",
       "603   ...      2020-02-29            NaT     2020-03-01  deceased     70-79   \n",
       "604   ...      2020-02-29            NaT     2020-03-02  deceased     80-89   \n",
       "605   ...      2020-02-29            NaT     2020-03-06  deceased     80-89   \n",
       "606   ...      2020-03-01            NaT     2020-03-09  deceased     60-69   \n",
       "607   ...      2020-03-01            NaT     2020-03-07  deceased     90-99   \n",
       "608   ...      2020-03-01            NaT     2020-03-03  deceased     80-89   \n",
       "609   ...      2020-03-01            NaT     2020-03-09  deceased     80-89   \n",
       "610   ...      2020-03-01            NaT     2020-03-01  deceased     50-59   \n",
       "611   ...      2020-03-05            NaT     2020-03-05  deceased     80-89   \n",
       "612   ...      2020-03-08            NaT     2020-03-09  deceased     70-79   \n",
       "851   ...      2020-02-25            NaT     2020-02-25  deceased     30-39   \n",
       "1314  ...      2020-03-04            NaT     2020-03-04  deceased   Unknown   \n",
       "1571  ...      2020-02-26            NaT     2020-03-08  deceased     60-69   \n",
       "1581  ...      2020-02-26            NaT     2020-03-18  deceased     50-59   \n",
       "1612  ...      2020-02-28            NaT     2020-03-11  deceased     70-79   \n",
       "1632  ...      2020-02-28            NaT     2020-03-02  deceased     80-89   \n",
       "1794  ...      2020-03-03            NaT     2020-03-04  deceased     60-69   \n",
       "1911  ...      2020-03-05            NaT     2020-03-16  deceased     80-89   \n",
       "1969  ...      2020-03-07            NaT     2020-03-20  deceased     80-89   \n",
       "1981  ...      2020-03-07            NaT     2020-03-16  deceased     90-99   \n",
       "2009  ...      2020-03-10            NaT     2020-03-26  deceased     80-89   \n",
       "2010  ...      2020-03-10            NaT     2020-03-26  deceased     90-99   \n",
       "2037  ...      2020-03-15            NaT     2020-03-16  deceased     70-79   \n",
       "2076  ...      2020-03-20            NaT     2020-03-27  deceased     90-99   \n",
       "2077  ...      2020-03-20            NaT     2020-03-25  deceased     80-89   \n",
       "2080  ...      2020-03-20            NaT     2020-03-29  deceased     80-89   \n",
       "2082  ...      2020-03-20            NaT     2020-03-25  deceased     70-79   \n",
       "2083  ...      2020-03-20            NaT     2020-03-24  deceased     70-79   \n",
       "2097  ...      2020-03-25            NaT     2020-03-26  deceased     80-89   \n",
       "2125  ...      2020-02-22            NaT            NaT  deceased     40-49   \n",
       "2334  ...      2020-03-11            NaT     2020-03-22  deceased     90-99   \n",
       "2373  ...      2020-03-04     2020-03-05            NaT  deceased   Unknown   \n",
       "2473  ...      2020-03-06            NaT     2020-03-07  deceased   Unknown   \n",
       "2558  ...      2020-02-19            NaT     2020-02-23  deceased     50-59   \n",
       "2559  ...      2020-02-19            NaT     2020-02-23  deceased     50-59   \n",
       "2560  ...      2020-02-20            NaT     2020-02-19  deceased     60-69   \n",
       "2561  ...      2020-02-21            NaT     2020-02-24  deceased     60-69   \n",
       "2562  ...      2020-02-22            NaT     2020-02-21  deceased     50-59   \n",
       "2563  ...      2020-02-22            NaT     2020-02-23  deceased     60-69   \n",
       "2564  ...      2020-02-22            NaT     2020-02-25  deceased     50-59   \n",
       "\n",
       "     time_to_release_since_confirmed time_to_death_since_confirmed  \\\n",
       "504                              NaT                           NaT   \n",
       "528                              NaT                           NaT   \n",
       "530                              NaT                           NaT   \n",
       "555                              NaT                        5 days   \n",
       "594                              NaT                        5 days   \n",
       "595                              NaT                        7 days   \n",
       "596                              NaT                        8 days   \n",
       "597                              NaT                        4 days   \n",
       "598                              NaT                        4 days   \n",
       "599                              NaT                        0 days   \n",
       "600                              NaT                        6 days   \n",
       "601                              NaT                        5 days   \n",
       "602                              NaT                        6 days   \n",
       "603                              NaT                        1 days   \n",
       "604                              NaT                        2 days   \n",
       "605                              NaT                        6 days   \n",
       "606                              NaT                        8 days   \n",
       "607                              NaT                        6 days   \n",
       "608                              NaT                        2 days   \n",
       "609                              NaT                        8 days   \n",
       "610                              NaT                        0 days   \n",
       "611                              NaT                        0 days   \n",
       "612                              NaT                        1 days   \n",
       "851                              NaT                        0 days   \n",
       "1314                             NaT                        0 days   \n",
       "1571                             NaT                       11 days   \n",
       "1581                             NaT                       21 days   \n",
       "1612                             NaT                       12 days   \n",
       "1632                             NaT                        3 days   \n",
       "1794                             NaT                        1 days   \n",
       "1911                             NaT                       11 days   \n",
       "1969                             NaT                       13 days   \n",
       "1981                             NaT                        9 days   \n",
       "2009                             NaT                       16 days   \n",
       "2010                             NaT                       16 days   \n",
       "2037                             NaT                        1 days   \n",
       "2076                             NaT                        7 days   \n",
       "2077                             NaT                        5 days   \n",
       "2080                             NaT                        9 days   \n",
       "2082                             NaT                        5 days   \n",
       "2083                             NaT                        4 days   \n",
       "2097                             NaT                        1 days   \n",
       "2125                             NaT                           NaT   \n",
       "2334                             NaT                       11 days   \n",
       "2373                          1 days                           NaT   \n",
       "2473                             NaT                        1 days   \n",
       "2558                             NaT                        4 days   \n",
       "2559                             NaT                        4 days   \n",
       "2560                             NaT                       -1 days   \n",
       "2561                             NaT                        3 days   \n",
       "2562                             NaT                       -1 days   \n",
       "2563                             NaT                        1 days   \n",
       "2564                             NaT                        3 days   \n",
       "\n",
       "     duration_since_confirmed duration_days  state_by_gender  \n",
       "504                       NaT           NaN    deceased_male  \n",
       "528                       NaT           NaN  deceased_female  \n",
       "530                       NaT           NaN    deceased_male  \n",
       "555                    5 days           5.0  deceased_female  \n",
       "594                    5 days           5.0    deceased_male  \n",
       "595                    7 days           7.0    deceased_male  \n",
       "596                    8 days           8.0  deceased_female  \n",
       "597                    4 days           4.0  deceased_female  \n",
       "598                    4 days           4.0    deceased_male  \n",
       "599                    0 days           0.0    deceased_male  \n",
       "600                    6 days           6.0    deceased_male  \n",
       "601                    5 days           5.0    deceased_male  \n",
       "602                    6 days           6.0    deceased_male  \n",
       "603                    1 days           1.0  deceased_female  \n",
       "604                    2 days           2.0  deceased_female  \n",
       "605                    6 days           6.0    deceased_male  \n",
       "606                    8 days           8.0  deceased_female  \n",
       "607                    6 days           6.0    deceased_male  \n",
       "608                    2 days           2.0    deceased_male  \n",
       "609                    8 days           8.0    deceased_male  \n",
       "610                    0 days           0.0  deceased_female  \n",
       "611                    0 days           0.0    deceased_male  \n",
       "612                    1 days           1.0    deceased_male  \n",
       "851                    0 days           0.0    deceased_male  \n",
       "1314                   0 days           0.0  deceased_female  \n",
       "1571                  11 days          11.0    deceased_male  \n",
       "1581                  21 days          21.0    deceased_male  \n",
       "1612                  12 days          12.0    deceased_male  \n",
       "1632                   3 days           3.0  deceased_female  \n",
       "1794                   1 days           1.0    deceased_male  \n",
       "1911                  11 days          11.0  deceased_female  \n",
       "1969                  13 days          13.0  deceased_female  \n",
       "1981                   9 days           9.0  deceased_female  \n",
       "2009                  16 days          16.0    deceased_male  \n",
       "2010                  16 days          16.0    deceased_male  \n",
       "2037                   1 days           1.0    deceased_male  \n",
       "2076                   7 days           7.0    deceased_male  \n",
       "2077                   5 days           5.0    deceased_male  \n",
       "2080                   9 days           9.0  deceased_female  \n",
       "2082                   5 days           5.0    deceased_male  \n",
       "2083                   4 days           4.0    deceased_male  \n",
       "2097                   1 days           1.0  deceased_female  \n",
       "2125                      NaT           NaN    deceased_male  \n",
       "2334                  11 days          11.0  deceased_female  \n",
       "2373                   1 days           1.0    deceased_male  \n",
       "2473                   1 days           1.0    deceased_male  \n",
       "2558                   4 days           4.0    deceased_male  \n",
       "2559                   4 days           4.0    deceased_male  \n",
       "2560                  -1 days          -1.0    deceased_male  \n",
       "2561                   3 days           3.0    deceased_male  \n",
       "2562                  -1 days          -1.0  deceased_female  \n",
       "2563                   1 days           1.0    deceased_male  \n",
       "2564                   3 days           3.0    deceased_male  \n",
       "\n",
       "[53 rows x 24 columns]"
      ]
     },
     "execution_count": 20,
     "metadata": {},
     "output_type": "execute_result"
    }
   ],
   "source": [
    "dead = df_patient[df_patient.state == 'deceased']\n",
    "dead"
   ]
  },
  {
   "cell_type": "code",
   "execution_count": 21,
   "metadata": {},
   "outputs": [
    {
     "data": {
      "text/plain": [
       "patient_id                          0\n",
       "global_num                         14\n",
       "sex                                 0\n",
       "birth_year                          3\n",
       "age                                 3\n",
       "country                             0\n",
       "province                            0\n",
       "city                               19\n",
       "disease                            34\n",
       "infection_case                     38\n",
       "infection_order                    53\n",
       "infected_by                        53\n",
       "contact_number                     50\n",
       "symptom_onset_date                 49\n",
       "confirmed_date                      0\n",
       "released_date                      52\n",
       "deceased_date                       5\n",
       "state                               0\n",
       "age_range                           0\n",
       "time_to_release_since_confirmed    52\n",
       "time_to_death_since_confirmed       5\n",
       "duration_since_confirmed            4\n",
       "duration_days                       4\n",
       "state_by_gender                     0\n",
       "dtype: int64"
      ]
     },
     "execution_count": 21,
     "metadata": {},
     "output_type": "execute_result"
    }
   ],
   "source": [
    "dead.isna().sum()"
   ]
  },
  {
   "cell_type": "code",
   "execution_count": 22,
   "metadata": {},
   "outputs": [
    {
     "data": {
      "text/html": [
       "<div>\n",
       "<style scoped>\n",
       "    .dataframe tbody tr th:only-of-type {\n",
       "        vertical-align: middle;\n",
       "    }\n",
       "\n",
       "    .dataframe tbody tr th {\n",
       "        vertical-align: top;\n",
       "    }\n",
       "\n",
       "    .dataframe thead th {\n",
       "        text-align: right;\n",
       "    }\n",
       "</style>\n",
       "<table border=\"1\" class=\"dataframe\">\n",
       "  <thead>\n",
       "    <tr style=\"text-align: right;\">\n",
       "      <th></th>\n",
       "      <th>patient_id</th>\n",
       "      <th>global_num</th>\n",
       "      <th>sex</th>\n",
       "      <th>birth_year</th>\n",
       "      <th>age</th>\n",
       "      <th>country</th>\n",
       "      <th>province</th>\n",
       "      <th>city</th>\n",
       "      <th>disease</th>\n",
       "      <th>infection_case</th>\n",
       "      <th>...</th>\n",
       "      <th>confirmed_date</th>\n",
       "      <th>released_date</th>\n",
       "      <th>deceased_date</th>\n",
       "      <th>state</th>\n",
       "      <th>age_range</th>\n",
       "      <th>time_to_release_since_confirmed</th>\n",
       "      <th>time_to_death_since_confirmed</th>\n",
       "      <th>duration_since_confirmed</th>\n",
       "      <th>duration_days</th>\n",
       "      <th>state_by_gender</th>\n",
       "    </tr>\n",
       "  </thead>\n",
       "  <tbody>\n",
       "    <tr>\n",
       "      <td>504</td>\n",
       "      <td>1100000071</td>\n",
       "      <td>NaN</td>\n",
       "      <td>male</td>\n",
       "      <td>1941.0</td>\n",
       "      <td>79.0</td>\n",
       "      <td>Korea</td>\n",
       "      <td>Busan</td>\n",
       "      <td>Busanjin-gu</td>\n",
       "      <td>NaN</td>\n",
       "      <td>etc</td>\n",
       "      <td>...</td>\n",
       "      <td>2020-02-28</td>\n",
       "      <td>NaT</td>\n",
       "      <td>NaT</td>\n",
       "      <td>deceased</td>\n",
       "      <td>70-79</td>\n",
       "      <td>NaT</td>\n",
       "      <td>NaT</td>\n",
       "      <td>NaT</td>\n",
       "      <td>NaN</td>\n",
       "      <td>deceased_male</td>\n",
       "    </tr>\n",
       "    <tr>\n",
       "      <td>528</td>\n",
       "      <td>1100000095</td>\n",
       "      <td>NaN</td>\n",
       "      <td>female</td>\n",
       "      <td>1932.0</td>\n",
       "      <td>88.0</td>\n",
       "      <td>Korea</td>\n",
       "      <td>Busan</td>\n",
       "      <td>etc</td>\n",
       "      <td>NaN</td>\n",
       "      <td>NaN</td>\n",
       "      <td>...</td>\n",
       "      <td>2020-03-13</td>\n",
       "      <td>NaT</td>\n",
       "      <td>NaT</td>\n",
       "      <td>deceased</td>\n",
       "      <td>80-89</td>\n",
       "      <td>NaT</td>\n",
       "      <td>NaT</td>\n",
       "      <td>NaT</td>\n",
       "      <td>NaN</td>\n",
       "      <td>deceased_female</td>\n",
       "    </tr>\n",
       "    <tr>\n",
       "      <td>530</td>\n",
       "      <td>1100000097</td>\n",
       "      <td>NaN</td>\n",
       "      <td>male</td>\n",
       "      <td>1947.0</td>\n",
       "      <td>73.0</td>\n",
       "      <td>Korea</td>\n",
       "      <td>Busan</td>\n",
       "      <td>Busanjin-gu</td>\n",
       "      <td>NaN</td>\n",
       "      <td>etc</td>\n",
       "      <td>...</td>\n",
       "      <td>2020-03-13</td>\n",
       "      <td>NaT</td>\n",
       "      <td>NaT</td>\n",
       "      <td>deceased</td>\n",
       "      <td>70-79</td>\n",
       "      <td>NaT</td>\n",
       "      <td>NaT</td>\n",
       "      <td>NaT</td>\n",
       "      <td>NaN</td>\n",
       "      <td>deceased_male</td>\n",
       "    </tr>\n",
       "    <tr>\n",
       "      <td>555</td>\n",
       "      <td>1200000038</td>\n",
       "      <td>38.0</td>\n",
       "      <td>female</td>\n",
       "      <td>1963.0</td>\n",
       "      <td>57.0</td>\n",
       "      <td>Korea</td>\n",
       "      <td>Daegu</td>\n",
       "      <td>Nam-gu</td>\n",
       "      <td>True</td>\n",
       "      <td>NaN</td>\n",
       "      <td>...</td>\n",
       "      <td>2020-02-18</td>\n",
       "      <td>NaT</td>\n",
       "      <td>2020-02-23</td>\n",
       "      <td>deceased</td>\n",
       "      <td>50-59</td>\n",
       "      <td>NaT</td>\n",
       "      <td>5 days</td>\n",
       "      <td>5 days</td>\n",
       "      <td>5.0</td>\n",
       "      <td>deceased_female</td>\n",
       "    </tr>\n",
       "    <tr>\n",
       "      <td>594</td>\n",
       "      <td>1200000114</td>\n",
       "      <td>114.0</td>\n",
       "      <td>male</td>\n",
       "      <td>1946.0</td>\n",
       "      <td>74.0</td>\n",
       "      <td>Korea</td>\n",
       "      <td>Daegu</td>\n",
       "      <td>NaN</td>\n",
       "      <td>NaN</td>\n",
       "      <td>Shincheonji Church</td>\n",
       "      <td>...</td>\n",
       "      <td>2020-02-21</td>\n",
       "      <td>NaT</td>\n",
       "      <td>2020-02-26</td>\n",
       "      <td>deceased</td>\n",
       "      <td>70-79</td>\n",
       "      <td>NaT</td>\n",
       "      <td>5 days</td>\n",
       "      <td>5 days</td>\n",
       "      <td>5.0</td>\n",
       "      <td>deceased_male</td>\n",
       "    </tr>\n",
       "    <tr>\n",
       "      <td>595</td>\n",
       "      <td>1200000620</td>\n",
       "      <td>620.0</td>\n",
       "      <td>male</td>\n",
       "      <td>1949.0</td>\n",
       "      <td>71.0</td>\n",
       "      <td>Korea</td>\n",
       "      <td>Daegu</td>\n",
       "      <td>NaN</td>\n",
       "      <td>NaN</td>\n",
       "      <td>NaN</td>\n",
       "      <td>...</td>\n",
       "      <td>2020-02-24</td>\n",
       "      <td>NaT</td>\n",
       "      <td>2020-03-02</td>\n",
       "      <td>deceased</td>\n",
       "      <td>70-79</td>\n",
       "      <td>NaT</td>\n",
       "      <td>7 days</td>\n",
       "      <td>7 days</td>\n",
       "      <td>7.0</td>\n",
       "      <td>deceased_male</td>\n",
       "    </tr>\n",
       "    <tr>\n",
       "      <td>596</td>\n",
       "      <td>1200000901</td>\n",
       "      <td>901.0</td>\n",
       "      <td>female</td>\n",
       "      <td>1934.0</td>\n",
       "      <td>86.0</td>\n",
       "      <td>Korea</td>\n",
       "      <td>Daegu</td>\n",
       "      <td>NaN</td>\n",
       "      <td>NaN</td>\n",
       "      <td>NaN</td>\n",
       "      <td>...</td>\n",
       "      <td>2020-02-25</td>\n",
       "      <td>NaT</td>\n",
       "      <td>2020-03-04</td>\n",
       "      <td>deceased</td>\n",
       "      <td>80-89</td>\n",
       "      <td>NaT</td>\n",
       "      <td>8 days</td>\n",
       "      <td>8 days</td>\n",
       "      <td>8.0</td>\n",
       "      <td>deceased_female</td>\n",
       "    </tr>\n",
       "    <tr>\n",
       "      <td>597</td>\n",
       "      <td>1200001064</td>\n",
       "      <td>1064.0</td>\n",
       "      <td>female</td>\n",
       "      <td>1943.0</td>\n",
       "      <td>77.0</td>\n",
       "      <td>Korea</td>\n",
       "      <td>Daegu</td>\n",
       "      <td>NaN</td>\n",
       "      <td>NaN</td>\n",
       "      <td>NaN</td>\n",
       "      <td>...</td>\n",
       "      <td>2020-02-26</td>\n",
       "      <td>NaT</td>\n",
       "      <td>2020-03-01</td>\n",
       "      <td>deceased</td>\n",
       "      <td>70-79</td>\n",
       "      <td>NaT</td>\n",
       "      <td>4 days</td>\n",
       "      <td>4 days</td>\n",
       "      <td>4.0</td>\n",
       "      <td>deceased_female</td>\n",
       "    </tr>\n",
       "    <tr>\n",
       "      <td>598</td>\n",
       "      <td>1200001288</td>\n",
       "      <td>1288.0</td>\n",
       "      <td>male</td>\n",
       "      <td>1955.0</td>\n",
       "      <td>65.0</td>\n",
       "      <td>Korea</td>\n",
       "      <td>Daegu</td>\n",
       "      <td>NaN</td>\n",
       "      <td>True</td>\n",
       "      <td>NaN</td>\n",
       "      <td>...</td>\n",
       "      <td>2020-02-27</td>\n",
       "      <td>NaT</td>\n",
       "      <td>2020-03-02</td>\n",
       "      <td>deceased</td>\n",
       "      <td>60-69</td>\n",
       "      <td>NaT</td>\n",
       "      <td>4 days</td>\n",
       "      <td>4 days</td>\n",
       "      <td>4.0</td>\n",
       "      <td>deceased_male</td>\n",
       "    </tr>\n",
       "    <tr>\n",
       "      <td>599</td>\n",
       "      <td>1200001443</td>\n",
       "      <td>1443.0</td>\n",
       "      <td>male</td>\n",
       "      <td>1945.0</td>\n",
       "      <td>75.0</td>\n",
       "      <td>Korea</td>\n",
       "      <td>Daegu</td>\n",
       "      <td>NaN</td>\n",
       "      <td>NaN</td>\n",
       "      <td>NaN</td>\n",
       "      <td>...</td>\n",
       "      <td>2020-02-27</td>\n",
       "      <td>NaT</td>\n",
       "      <td>2020-02-27</td>\n",
       "      <td>deceased</td>\n",
       "      <td>70-79</td>\n",
       "      <td>NaT</td>\n",
       "      <td>0 days</td>\n",
       "      <td>0 days</td>\n",
       "      <td>0.0</td>\n",
       "      <td>deceased_male</td>\n",
       "    </tr>\n",
       "    <tr>\n",
       "      <td>600</td>\n",
       "      <td>1200001921</td>\n",
       "      <td>1921.0</td>\n",
       "      <td>male</td>\n",
       "      <td>1953.0</td>\n",
       "      <td>67.0</td>\n",
       "      <td>Korea</td>\n",
       "      <td>Daegu</td>\n",
       "      <td>NaN</td>\n",
       "      <td>True</td>\n",
       "      <td>NaN</td>\n",
       "      <td>...</td>\n",
       "      <td>2020-02-28</td>\n",
       "      <td>NaT</td>\n",
       "      <td>2020-03-05</td>\n",
       "      <td>deceased</td>\n",
       "      <td>60-69</td>\n",
       "      <td>NaT</td>\n",
       "      <td>6 days</td>\n",
       "      <td>6 days</td>\n",
       "      <td>6.0</td>\n",
       "      <td>deceased_male</td>\n",
       "    </tr>\n",
       "    <tr>\n",
       "      <td>601</td>\n",
       "      <td>1200002085</td>\n",
       "      <td>2085.0</td>\n",
       "      <td>male</td>\n",
       "      <td>1949.0</td>\n",
       "      <td>71.0</td>\n",
       "      <td>Korea</td>\n",
       "      <td>Daegu</td>\n",
       "      <td>NaN</td>\n",
       "      <td>True</td>\n",
       "      <td>NaN</td>\n",
       "      <td>...</td>\n",
       "      <td>2020-02-28</td>\n",
       "      <td>NaT</td>\n",
       "      <td>2020-03-04</td>\n",
       "      <td>deceased</td>\n",
       "      <td>70-79</td>\n",
       "      <td>NaT</td>\n",
       "      <td>5 days</td>\n",
       "      <td>5 days</td>\n",
       "      <td>5.0</td>\n",
       "      <td>deceased_male</td>\n",
       "    </tr>\n",
       "    <tr>\n",
       "      <td>602</td>\n",
       "      <td>1200002289</td>\n",
       "      <td>2289.0</td>\n",
       "      <td>male</td>\n",
       "      <td>1954.0</td>\n",
       "      <td>66.0</td>\n",
       "      <td>Korea</td>\n",
       "      <td>Daegu</td>\n",
       "      <td>NaN</td>\n",
       "      <td>NaN</td>\n",
       "      <td>NaN</td>\n",
       "      <td>...</td>\n",
       "      <td>2020-02-28</td>\n",
       "      <td>NaT</td>\n",
       "      <td>2020-03-05</td>\n",
       "      <td>deceased</td>\n",
       "      <td>60-69</td>\n",
       "      <td>NaT</td>\n",
       "      <td>6 days</td>\n",
       "      <td>6 days</td>\n",
       "      <td>6.0</td>\n",
       "      <td>deceased_male</td>\n",
       "    </tr>\n",
       "    <tr>\n",
       "      <td>603</td>\n",
       "      <td>1200002614</td>\n",
       "      <td>2614.0</td>\n",
       "      <td>female</td>\n",
       "      <td>1943.0</td>\n",
       "      <td>77.0</td>\n",
       "      <td>Korea</td>\n",
       "      <td>Daegu</td>\n",
       "      <td>NaN</td>\n",
       "      <td>True</td>\n",
       "      <td>NaN</td>\n",
       "      <td>...</td>\n",
       "      <td>2020-02-29</td>\n",
       "      <td>NaT</td>\n",
       "      <td>2020-03-01</td>\n",
       "      <td>deceased</td>\n",
       "      <td>70-79</td>\n",
       "      <td>NaT</td>\n",
       "      <td>1 days</td>\n",
       "      <td>1 days</td>\n",
       "      <td>1.0</td>\n",
       "      <td>deceased_female</td>\n",
       "    </tr>\n",
       "    <tr>\n",
       "      <td>604</td>\n",
       "      <td>1200002769</td>\n",
       "      <td>2769.0</td>\n",
       "      <td>female</td>\n",
       "      <td>1934.0</td>\n",
       "      <td>86.0</td>\n",
       "      <td>Korea</td>\n",
       "      <td>Daegu</td>\n",
       "      <td>NaN</td>\n",
       "      <td>NaN</td>\n",
       "      <td>NaN</td>\n",
       "      <td>...</td>\n",
       "      <td>2020-02-29</td>\n",
       "      <td>NaT</td>\n",
       "      <td>2020-03-02</td>\n",
       "      <td>deceased</td>\n",
       "      <td>80-89</td>\n",
       "      <td>NaT</td>\n",
       "      <td>2 days</td>\n",
       "      <td>2 days</td>\n",
       "      <td>2.0</td>\n",
       "      <td>deceased_female</td>\n",
       "    </tr>\n",
       "    <tr>\n",
       "      <td>605</td>\n",
       "      <td>1200002936</td>\n",
       "      <td>2936.0</td>\n",
       "      <td>male</td>\n",
       "      <td>1939.0</td>\n",
       "      <td>81.0</td>\n",
       "      <td>Korea</td>\n",
       "      <td>Daegu</td>\n",
       "      <td>NaN</td>\n",
       "      <td>NaN</td>\n",
       "      <td>NaN</td>\n",
       "      <td>...</td>\n",
       "      <td>2020-02-29</td>\n",
       "      <td>NaT</td>\n",
       "      <td>2020-03-06</td>\n",
       "      <td>deceased</td>\n",
       "      <td>80-89</td>\n",
       "      <td>NaT</td>\n",
       "      <td>6 days</td>\n",
       "      <td>6 days</td>\n",
       "      <td>6.0</td>\n",
       "      <td>deceased_male</td>\n",
       "    </tr>\n",
       "    <tr>\n",
       "      <td>606</td>\n",
       "      <td>1200003550</td>\n",
       "      <td>3550.0</td>\n",
       "      <td>female</td>\n",
       "      <td>1951.0</td>\n",
       "      <td>69.0</td>\n",
       "      <td>Korea</td>\n",
       "      <td>Daegu</td>\n",
       "      <td>NaN</td>\n",
       "      <td>NaN</td>\n",
       "      <td>NaN</td>\n",
       "      <td>...</td>\n",
       "      <td>2020-03-01</td>\n",
       "      <td>NaT</td>\n",
       "      <td>2020-03-09</td>\n",
       "      <td>deceased</td>\n",
       "      <td>60-69</td>\n",
       "      <td>NaT</td>\n",
       "      <td>8 days</td>\n",
       "      <td>8 days</td>\n",
       "      <td>8.0</td>\n",
       "      <td>deceased_female</td>\n",
       "    </tr>\n",
       "    <tr>\n",
       "      <td>607</td>\n",
       "      <td>1200003578</td>\n",
       "      <td>3578.0</td>\n",
       "      <td>male</td>\n",
       "      <td>1930.0</td>\n",
       "      <td>90.0</td>\n",
       "      <td>Korea</td>\n",
       "      <td>Daegu</td>\n",
       "      <td>NaN</td>\n",
       "      <td>NaN</td>\n",
       "      <td>NaN</td>\n",
       "      <td>...</td>\n",
       "      <td>2020-03-01</td>\n",
       "      <td>NaT</td>\n",
       "      <td>2020-03-07</td>\n",
       "      <td>deceased</td>\n",
       "      <td>90-99</td>\n",
       "      <td>NaT</td>\n",
       "      <td>6 days</td>\n",
       "      <td>6 days</td>\n",
       "      <td>6.0</td>\n",
       "      <td>deceased_male</td>\n",
       "    </tr>\n",
       "    <tr>\n",
       "      <td>608</td>\n",
       "      <td>1200003896</td>\n",
       "      <td>3896.0</td>\n",
       "      <td>male</td>\n",
       "      <td>1933.0</td>\n",
       "      <td>87.0</td>\n",
       "      <td>Korea</td>\n",
       "      <td>Daegu</td>\n",
       "      <td>NaN</td>\n",
       "      <td>True</td>\n",
       "      <td>NaN</td>\n",
       "      <td>...</td>\n",
       "      <td>2020-03-01</td>\n",
       "      <td>NaT</td>\n",
       "      <td>2020-03-03</td>\n",
       "      <td>deceased</td>\n",
       "      <td>80-89</td>\n",
       "      <td>NaT</td>\n",
       "      <td>2 days</td>\n",
       "      <td>2 days</td>\n",
       "      <td>2.0</td>\n",
       "      <td>deceased_male</td>\n",
       "    </tr>\n",
       "    <tr>\n",
       "      <td>609</td>\n",
       "      <td>1200003914</td>\n",
       "      <td>3914.0</td>\n",
       "      <td>male</td>\n",
       "      <td>1938.0</td>\n",
       "      <td>82.0</td>\n",
       "      <td>Korea</td>\n",
       "      <td>Daegu</td>\n",
       "      <td>NaN</td>\n",
       "      <td>True</td>\n",
       "      <td>NaN</td>\n",
       "      <td>...</td>\n",
       "      <td>2020-03-01</td>\n",
       "      <td>NaT</td>\n",
       "      <td>2020-03-09</td>\n",
       "      <td>deceased</td>\n",
       "      <td>80-89</td>\n",
       "      <td>NaT</td>\n",
       "      <td>8 days</td>\n",
       "      <td>8 days</td>\n",
       "      <td>8.0</td>\n",
       "      <td>deceased_male</td>\n",
       "    </tr>\n",
       "    <tr>\n",
       "      <td>610</td>\n",
       "      <td>1200004046</td>\n",
       "      <td>4046.0</td>\n",
       "      <td>female</td>\n",
       "      <td>1962.0</td>\n",
       "      <td>58.0</td>\n",
       "      <td>Korea</td>\n",
       "      <td>Daegu</td>\n",
       "      <td>NaN</td>\n",
       "      <td>True</td>\n",
       "      <td>NaN</td>\n",
       "      <td>...</td>\n",
       "      <td>2020-03-01</td>\n",
       "      <td>NaT</td>\n",
       "      <td>2020-03-01</td>\n",
       "      <td>deceased</td>\n",
       "      <td>50-59</td>\n",
       "      <td>NaT</td>\n",
       "      <td>0 days</td>\n",
       "      <td>0 days</td>\n",
       "      <td>0.0</td>\n",
       "      <td>deceased_female</td>\n",
       "    </tr>\n",
       "    <tr>\n",
       "      <td>611</td>\n",
       "      <td>1200005767</td>\n",
       "      <td>5767.0</td>\n",
       "      <td>male</td>\n",
       "      <td>1938.0</td>\n",
       "      <td>82.0</td>\n",
       "      <td>Korea</td>\n",
       "      <td>Daegu</td>\n",
       "      <td>NaN</td>\n",
       "      <td>True</td>\n",
       "      <td>NaN</td>\n",
       "      <td>...</td>\n",
       "      <td>2020-03-05</td>\n",
       "      <td>NaT</td>\n",
       "      <td>2020-03-05</td>\n",
       "      <td>deceased</td>\n",
       "      <td>80-89</td>\n",
       "      <td>NaT</td>\n",
       "      <td>0 days</td>\n",
       "      <td>0 days</td>\n",
       "      <td>0.0</td>\n",
       "      <td>deceased_male</td>\n",
       "    </tr>\n",
       "    <tr>\n",
       "      <td>612</td>\n",
       "      <td>1200007196</td>\n",
       "      <td>7196.0</td>\n",
       "      <td>male</td>\n",
       "      <td>1945.0</td>\n",
       "      <td>75.0</td>\n",
       "      <td>Korea</td>\n",
       "      <td>Daegu</td>\n",
       "      <td>NaN</td>\n",
       "      <td>True</td>\n",
       "      <td>NaN</td>\n",
       "      <td>...</td>\n",
       "      <td>2020-03-08</td>\n",
       "      <td>NaT</td>\n",
       "      <td>2020-03-09</td>\n",
       "      <td>deceased</td>\n",
       "      <td>70-79</td>\n",
       "      <td>NaT</td>\n",
       "      <td>1 days</td>\n",
       "      <td>1 days</td>\n",
       "      <td>1.0</td>\n",
       "      <td>deceased_male</td>\n",
       "    </tr>\n",
       "    <tr>\n",
       "      <td>851</td>\n",
       "      <td>2000000039</td>\n",
       "      <td>875.0</td>\n",
       "      <td>male</td>\n",
       "      <td>1984.0</td>\n",
       "      <td>36.0</td>\n",
       "      <td>Mongolia</td>\n",
       "      <td>Gyeonggi-do</td>\n",
       "      <td>Namyangju-si</td>\n",
       "      <td>True</td>\n",
       "      <td>etc</td>\n",
       "      <td>...</td>\n",
       "      <td>2020-02-25</td>\n",
       "      <td>NaT</td>\n",
       "      <td>2020-02-25</td>\n",
       "      <td>deceased</td>\n",
       "      <td>30-39</td>\n",
       "      <td>NaT</td>\n",
       "      <td>0 days</td>\n",
       "      <td>0 days</td>\n",
       "      <td>0.0</td>\n",
       "      <td>deceased_male</td>\n",
       "    </tr>\n",
       "    <tr>\n",
       "      <td>1314</td>\n",
       "      <td>3014000001</td>\n",
       "      <td>NaN</td>\n",
       "      <td>female</td>\n",
       "      <td>NaN</td>\n",
       "      <td>NaN</td>\n",
       "      <td>Korea</td>\n",
       "      <td>Gangwon-do</td>\n",
       "      <td>Taebaek-si</td>\n",
       "      <td>True</td>\n",
       "      <td>contact with patient</td>\n",
       "      <td>...</td>\n",
       "      <td>2020-03-04</td>\n",
       "      <td>NaT</td>\n",
       "      <td>2020-03-04</td>\n",
       "      <td>deceased</td>\n",
       "      <td>Unknown</td>\n",
       "      <td>NaT</td>\n",
       "      <td>0 days</td>\n",
       "      <td>0 days</td>\n",
       "      <td>0.0</td>\n",
       "      <td>deceased_female</td>\n",
       "    </tr>\n",
       "    <tr>\n",
       "      <td>1571</td>\n",
       "      <td>6001000062</td>\n",
       "      <td>1201.0</td>\n",
       "      <td>male</td>\n",
       "      <td>1951.0</td>\n",
       "      <td>69.0</td>\n",
       "      <td>Korea</td>\n",
       "      <td>Gyeongsangbuk-do</td>\n",
       "      <td>Gyeongsan-si</td>\n",
       "      <td>NaN</td>\n",
       "      <td>NaN</td>\n",
       "      <td>...</td>\n",
       "      <td>2020-02-26</td>\n",
       "      <td>NaT</td>\n",
       "      <td>2020-03-08</td>\n",
       "      <td>deceased</td>\n",
       "      <td>60-69</td>\n",
       "      <td>NaT</td>\n",
       "      <td>11 days</td>\n",
       "      <td>11 days</td>\n",
       "      <td>11.0</td>\n",
       "      <td>deceased_male</td>\n",
       "    </tr>\n",
       "    <tr>\n",
       "      <td>1581</td>\n",
       "      <td>6001000072</td>\n",
       "      <td>1179.0</td>\n",
       "      <td>male</td>\n",
       "      <td>1969.0</td>\n",
       "      <td>51.0</td>\n",
       "      <td>Korea</td>\n",
       "      <td>Gyeongsangbuk-do</td>\n",
       "      <td>Gyeongsan-si</td>\n",
       "      <td>NaN</td>\n",
       "      <td>NaN</td>\n",
       "      <td>...</td>\n",
       "      <td>2020-02-26</td>\n",
       "      <td>NaT</td>\n",
       "      <td>2020-03-18</td>\n",
       "      <td>deceased</td>\n",
       "      <td>50-59</td>\n",
       "      <td>NaT</td>\n",
       "      <td>21 days</td>\n",
       "      <td>21 days</td>\n",
       "      <td>21.0</td>\n",
       "      <td>deceased_male</td>\n",
       "    </tr>\n",
       "    <tr>\n",
       "      <td>1612</td>\n",
       "      <td>6001000103</td>\n",
       "      <td>2034.0</td>\n",
       "      <td>male</td>\n",
       "      <td>1947.0</td>\n",
       "      <td>73.0</td>\n",
       "      <td>Korea</td>\n",
       "      <td>Gyeongsangbuk-do</td>\n",
       "      <td>Gyeongsan-si</td>\n",
       "      <td>NaN</td>\n",
       "      <td>NaN</td>\n",
       "      <td>...</td>\n",
       "      <td>2020-02-28</td>\n",
       "      <td>NaT</td>\n",
       "      <td>2020-03-11</td>\n",
       "      <td>deceased</td>\n",
       "      <td>70-79</td>\n",
       "      <td>NaT</td>\n",
       "      <td>12 days</td>\n",
       "      <td>12 days</td>\n",
       "      <td>12.0</td>\n",
       "      <td>deceased_male</td>\n",
       "    </tr>\n",
       "    <tr>\n",
       "      <td>1632</td>\n",
       "      <td>6001000123</td>\n",
       "      <td>2769.0</td>\n",
       "      <td>female</td>\n",
       "      <td>1935.0</td>\n",
       "      <td>85.0</td>\n",
       "      <td>Korea</td>\n",
       "      <td>Gyeongsangbuk-do</td>\n",
       "      <td>Gyeongsan-si</td>\n",
       "      <td>NaN</td>\n",
       "      <td>NaN</td>\n",
       "      <td>...</td>\n",
       "      <td>2020-02-28</td>\n",
       "      <td>NaT</td>\n",
       "      <td>2020-03-02</td>\n",
       "      <td>deceased</td>\n",
       "      <td>80-89</td>\n",
       "      <td>NaT</td>\n",
       "      <td>3 days</td>\n",
       "      <td>3 days</td>\n",
       "      <td>3.0</td>\n",
       "      <td>deceased_female</td>\n",
       "    </tr>\n",
       "    <tr>\n",
       "      <td>1794</td>\n",
       "      <td>6001000285</td>\n",
       "      <td>5143.0</td>\n",
       "      <td>male</td>\n",
       "      <td>1960.0</td>\n",
       "      <td>60.0</td>\n",
       "      <td>Korea</td>\n",
       "      <td>Gyeongsangbuk-do</td>\n",
       "      <td>Gyeongsan-si</td>\n",
       "      <td>NaN</td>\n",
       "      <td>NaN</td>\n",
       "      <td>...</td>\n",
       "      <td>2020-03-03</td>\n",
       "      <td>NaT</td>\n",
       "      <td>2020-03-04</td>\n",
       "      <td>deceased</td>\n",
       "      <td>60-69</td>\n",
       "      <td>NaT</td>\n",
       "      <td>1 days</td>\n",
       "      <td>1 days</td>\n",
       "      <td>1.0</td>\n",
       "      <td>deceased_male</td>\n",
       "    </tr>\n",
       "    <tr>\n",
       "      <td>1911</td>\n",
       "      <td>6001000402</td>\n",
       "      <td>6064.0</td>\n",
       "      <td>female</td>\n",
       "      <td>1939.0</td>\n",
       "      <td>81.0</td>\n",
       "      <td>Korea</td>\n",
       "      <td>Gyeongsangbuk-do</td>\n",
       "      <td>Gyeongsan-si</td>\n",
       "      <td>NaN</td>\n",
       "      <td>NaN</td>\n",
       "      <td>...</td>\n",
       "      <td>2020-03-05</td>\n",
       "      <td>NaT</td>\n",
       "      <td>2020-03-16</td>\n",
       "      <td>deceased</td>\n",
       "      <td>80-89</td>\n",
       "      <td>NaT</td>\n",
       "      <td>11 days</td>\n",
       "      <td>11 days</td>\n",
       "      <td>11.0</td>\n",
       "      <td>deceased_female</td>\n",
       "    </tr>\n",
       "    <tr>\n",
       "      <td>1969</td>\n",
       "      <td>6001000460</td>\n",
       "      <td>7119.0</td>\n",
       "      <td>female</td>\n",
       "      <td>1938.0</td>\n",
       "      <td>82.0</td>\n",
       "      <td>Korea</td>\n",
       "      <td>Gyeongsangbuk-do</td>\n",
       "      <td>Gyeongsan-si</td>\n",
       "      <td>NaN</td>\n",
       "      <td>NaN</td>\n",
       "      <td>...</td>\n",
       "      <td>2020-03-07</td>\n",
       "      <td>NaT</td>\n",
       "      <td>2020-03-20</td>\n",
       "      <td>deceased</td>\n",
       "      <td>80-89</td>\n",
       "      <td>NaT</td>\n",
       "      <td>13 days</td>\n",
       "      <td>13 days</td>\n",
       "      <td>13.0</td>\n",
       "      <td>deceased_female</td>\n",
       "    </tr>\n",
       "    <tr>\n",
       "      <td>1981</td>\n",
       "      <td>6001000472</td>\n",
       "      <td>7090.0</td>\n",
       "      <td>female</td>\n",
       "      <td>1929.0</td>\n",
       "      <td>91.0</td>\n",
       "      <td>Korea</td>\n",
       "      <td>Gyeongsangbuk-do</td>\n",
       "      <td>Gyeongsan-si</td>\n",
       "      <td>NaN</td>\n",
       "      <td>NaN</td>\n",
       "      <td>...</td>\n",
       "      <td>2020-03-07</td>\n",
       "      <td>NaT</td>\n",
       "      <td>2020-03-16</td>\n",
       "      <td>deceased</td>\n",
       "      <td>90-99</td>\n",
       "      <td>NaT</td>\n",
       "      <td>9 days</td>\n",
       "      <td>9 days</td>\n",
       "      <td>9.0</td>\n",
       "      <td>deceased_female</td>\n",
       "    </tr>\n",
       "    <tr>\n",
       "      <td>2009</td>\n",
       "      <td>6001000500</td>\n",
       "      <td>8062.0</td>\n",
       "      <td>male</td>\n",
       "      <td>1938.0</td>\n",
       "      <td>82.0</td>\n",
       "      <td>Korea</td>\n",
       "      <td>Gyeongsangbuk-do</td>\n",
       "      <td>Gyeongsan-si</td>\n",
       "      <td>NaN</td>\n",
       "      <td>NaN</td>\n",
       "      <td>...</td>\n",
       "      <td>2020-03-10</td>\n",
       "      <td>NaT</td>\n",
       "      <td>2020-03-26</td>\n",
       "      <td>deceased</td>\n",
       "      <td>80-89</td>\n",
       "      <td>NaT</td>\n",
       "      <td>16 days</td>\n",
       "      <td>16 days</td>\n",
       "      <td>16.0</td>\n",
       "      <td>deceased_male</td>\n",
       "    </tr>\n",
       "    <tr>\n",
       "      <td>2010</td>\n",
       "      <td>6001000501</td>\n",
       "      <td>7722.0</td>\n",
       "      <td>male</td>\n",
       "      <td>1930.0</td>\n",
       "      <td>90.0</td>\n",
       "      <td>Korea</td>\n",
       "      <td>Gyeongsangbuk-do</td>\n",
       "      <td>Gyeongsan-si</td>\n",
       "      <td>NaN</td>\n",
       "      <td>NaN</td>\n",
       "      <td>...</td>\n",
       "      <td>2020-03-10</td>\n",
       "      <td>NaT</td>\n",
       "      <td>2020-03-26</td>\n",
       "      <td>deceased</td>\n",
       "      <td>90-99</td>\n",
       "      <td>NaT</td>\n",
       "      <td>16 days</td>\n",
       "      <td>16 days</td>\n",
       "      <td>16.0</td>\n",
       "      <td>deceased_male</td>\n",
       "    </tr>\n",
       "    <tr>\n",
       "      <td>2037</td>\n",
       "      <td>6001000528</td>\n",
       "      <td>NaN</td>\n",
       "      <td>male</td>\n",
       "      <td>1949.0</td>\n",
       "      <td>71.0</td>\n",
       "      <td>Korea</td>\n",
       "      <td>Gyeongsangbuk-do</td>\n",
       "      <td>Gyeongsan-si</td>\n",
       "      <td>NaN</td>\n",
       "      <td>NaN</td>\n",
       "      <td>...</td>\n",
       "      <td>2020-03-15</td>\n",
       "      <td>NaT</td>\n",
       "      <td>2020-03-16</td>\n",
       "      <td>deceased</td>\n",
       "      <td>70-79</td>\n",
       "      <td>NaT</td>\n",
       "      <td>1 days</td>\n",
       "      <td>1 days</td>\n",
       "      <td>1.0</td>\n",
       "      <td>deceased_male</td>\n",
       "    </tr>\n",
       "    <tr>\n",
       "      <td>2076</td>\n",
       "      <td>6001000567</td>\n",
       "      <td>NaN</td>\n",
       "      <td>male</td>\n",
       "      <td>1930.0</td>\n",
       "      <td>90.0</td>\n",
       "      <td>Korea</td>\n",
       "      <td>Gyeongsangbuk-do</td>\n",
       "      <td>Gyeongsan-si</td>\n",
       "      <td>NaN</td>\n",
       "      <td>NaN</td>\n",
       "      <td>...</td>\n",
       "      <td>2020-03-20</td>\n",
       "      <td>NaT</td>\n",
       "      <td>2020-03-27</td>\n",
       "      <td>deceased</td>\n",
       "      <td>90-99</td>\n",
       "      <td>NaT</td>\n",
       "      <td>7 days</td>\n",
       "      <td>7 days</td>\n",
       "      <td>7.0</td>\n",
       "      <td>deceased_male</td>\n",
       "    </tr>\n",
       "    <tr>\n",
       "      <td>2077</td>\n",
       "      <td>6001000568</td>\n",
       "      <td>NaN</td>\n",
       "      <td>male</td>\n",
       "      <td>1939.0</td>\n",
       "      <td>81.0</td>\n",
       "      <td>Korea</td>\n",
       "      <td>Gyeongsangbuk-do</td>\n",
       "      <td>Gyeongsan-si</td>\n",
       "      <td>NaN</td>\n",
       "      <td>NaN</td>\n",
       "      <td>...</td>\n",
       "      <td>2020-03-20</td>\n",
       "      <td>NaT</td>\n",
       "      <td>2020-03-25</td>\n",
       "      <td>deceased</td>\n",
       "      <td>80-89</td>\n",
       "      <td>NaT</td>\n",
       "      <td>5 days</td>\n",
       "      <td>5 days</td>\n",
       "      <td>5.0</td>\n",
       "      <td>deceased_male</td>\n",
       "    </tr>\n",
       "    <tr>\n",
       "      <td>2080</td>\n",
       "      <td>6001000571</td>\n",
       "      <td>NaN</td>\n",
       "      <td>female</td>\n",
       "      <td>1934.0</td>\n",
       "      <td>86.0</td>\n",
       "      <td>Korea</td>\n",
       "      <td>Gyeongsangbuk-do</td>\n",
       "      <td>Gyeongsan-si</td>\n",
       "      <td>NaN</td>\n",
       "      <td>NaN</td>\n",
       "      <td>...</td>\n",
       "      <td>2020-03-20</td>\n",
       "      <td>NaT</td>\n",
       "      <td>2020-03-29</td>\n",
       "      <td>deceased</td>\n",
       "      <td>80-89</td>\n",
       "      <td>NaT</td>\n",
       "      <td>9 days</td>\n",
       "      <td>9 days</td>\n",
       "      <td>9.0</td>\n",
       "      <td>deceased_female</td>\n",
       "    </tr>\n",
       "    <tr>\n",
       "      <td>2082</td>\n",
       "      <td>6001000573</td>\n",
       "      <td>NaN</td>\n",
       "      <td>male</td>\n",
       "      <td>1941.0</td>\n",
       "      <td>79.0</td>\n",
       "      <td>Korea</td>\n",
       "      <td>Gyeongsangbuk-do</td>\n",
       "      <td>Gyeongsan-si</td>\n",
       "      <td>NaN</td>\n",
       "      <td>NaN</td>\n",
       "      <td>...</td>\n",
       "      <td>2020-03-20</td>\n",
       "      <td>NaT</td>\n",
       "      <td>2020-03-25</td>\n",
       "      <td>deceased</td>\n",
       "      <td>70-79</td>\n",
       "      <td>NaT</td>\n",
       "      <td>5 days</td>\n",
       "      <td>5 days</td>\n",
       "      <td>5.0</td>\n",
       "      <td>deceased_male</td>\n",
       "    </tr>\n",
       "    <tr>\n",
       "      <td>2083</td>\n",
       "      <td>6001000574</td>\n",
       "      <td>NaN</td>\n",
       "      <td>male</td>\n",
       "      <td>1944.0</td>\n",
       "      <td>76.0</td>\n",
       "      <td>Korea</td>\n",
       "      <td>Gyeongsangbuk-do</td>\n",
       "      <td>Gyeongsan-si</td>\n",
       "      <td>NaN</td>\n",
       "      <td>NaN</td>\n",
       "      <td>...</td>\n",
       "      <td>2020-03-20</td>\n",
       "      <td>NaT</td>\n",
       "      <td>2020-03-24</td>\n",
       "      <td>deceased</td>\n",
       "      <td>70-79</td>\n",
       "      <td>NaT</td>\n",
       "      <td>4 days</td>\n",
       "      <td>4 days</td>\n",
       "      <td>4.0</td>\n",
       "      <td>deceased_male</td>\n",
       "    </tr>\n",
       "    <tr>\n",
       "      <td>2097</td>\n",
       "      <td>6001000588</td>\n",
       "      <td>NaN</td>\n",
       "      <td>female</td>\n",
       "      <td>1937.0</td>\n",
       "      <td>83.0</td>\n",
       "      <td>Korea</td>\n",
       "      <td>Gyeongsangbuk-do</td>\n",
       "      <td>Gyeongsan-si</td>\n",
       "      <td>NaN</td>\n",
       "      <td>NaN</td>\n",
       "      <td>...</td>\n",
       "      <td>2020-03-25</td>\n",
       "      <td>NaT</td>\n",
       "      <td>2020-03-26</td>\n",
       "      <td>deceased</td>\n",
       "      <td>80-89</td>\n",
       "      <td>NaT</td>\n",
       "      <td>1 days</td>\n",
       "      <td>1 days</td>\n",
       "      <td>1.0</td>\n",
       "      <td>deceased_female</td>\n",
       "    </tr>\n",
       "    <tr>\n",
       "      <td>2125</td>\n",
       "      <td>6002000002</td>\n",
       "      <td>NaN</td>\n",
       "      <td>male</td>\n",
       "      <td>1980.0</td>\n",
       "      <td>40.0</td>\n",
       "      <td>Korea</td>\n",
       "      <td>Gyeongsangbuk-do</td>\n",
       "      <td>Gyeongju-si</td>\n",
       "      <td>NaN</td>\n",
       "      <td>NaN</td>\n",
       "      <td>...</td>\n",
       "      <td>2020-02-22</td>\n",
       "      <td>NaT</td>\n",
       "      <td>NaT</td>\n",
       "      <td>deceased</td>\n",
       "      <td>40-49</td>\n",
       "      <td>NaT</td>\n",
       "      <td>NaT</td>\n",
       "      <td>NaT</td>\n",
       "      <td>NaN</td>\n",
       "      <td>deceased_male</td>\n",
       "    </tr>\n",
       "    <tr>\n",
       "      <td>2334</td>\n",
       "      <td>6008000060</td>\n",
       "      <td>NaN</td>\n",
       "      <td>female</td>\n",
       "      <td>1930.0</td>\n",
       "      <td>90.0</td>\n",
       "      <td>Korea</td>\n",
       "      <td>Gyeongsangbuk-do</td>\n",
       "      <td>Bonghwa-gun</td>\n",
       "      <td>NaN</td>\n",
       "      <td>Bonghwa Pureun Nursing Home</td>\n",
       "      <td>...</td>\n",
       "      <td>2020-03-11</td>\n",
       "      <td>NaT</td>\n",
       "      <td>2020-03-22</td>\n",
       "      <td>deceased</td>\n",
       "      <td>90-99</td>\n",
       "      <td>NaT</td>\n",
       "      <td>11 days</td>\n",
       "      <td>11 days</td>\n",
       "      <td>11.0</td>\n",
       "      <td>deceased_female</td>\n",
       "    </tr>\n",
       "    <tr>\n",
       "      <td>2373</td>\n",
       "      <td>6010000014</td>\n",
       "      <td>NaN</td>\n",
       "      <td>male</td>\n",
       "      <td>NaN</td>\n",
       "      <td>NaN</td>\n",
       "      <td>Korea</td>\n",
       "      <td>Gyeongsangbuk-do</td>\n",
       "      <td>Seongju-gun</td>\n",
       "      <td>NaN</td>\n",
       "      <td>contact with patient</td>\n",
       "      <td>...</td>\n",
       "      <td>2020-03-04</td>\n",
       "      <td>2020-03-05</td>\n",
       "      <td>NaT</td>\n",
       "      <td>deceased</td>\n",
       "      <td>Unknown</td>\n",
       "      <td>1 days</td>\n",
       "      <td>NaT</td>\n",
       "      <td>1 days</td>\n",
       "      <td>1.0</td>\n",
       "      <td>deceased_male</td>\n",
       "    </tr>\n",
       "    <tr>\n",
       "      <td>2473</td>\n",
       "      <td>6015000035</td>\n",
       "      <td>6309.0</td>\n",
       "      <td>male</td>\n",
       "      <td>NaN</td>\n",
       "      <td>NaN</td>\n",
       "      <td>Korea</td>\n",
       "      <td>Gyeongsangbuk-do</td>\n",
       "      <td>Yeongcheon-si</td>\n",
       "      <td>NaN</td>\n",
       "      <td>etc</td>\n",
       "      <td>...</td>\n",
       "      <td>2020-03-06</td>\n",
       "      <td>NaT</td>\n",
       "      <td>2020-03-07</td>\n",
       "      <td>deceased</td>\n",
       "      <td>Unknown</td>\n",
       "      <td>NaT</td>\n",
       "      <td>1 days</td>\n",
       "      <td>1 days</td>\n",
       "      <td>1.0</td>\n",
       "      <td>deceased_male</td>\n",
       "    </tr>\n",
       "    <tr>\n",
       "      <td>2558</td>\n",
       "      <td>6020100054</td>\n",
       "      <td>54.0</td>\n",
       "      <td>male</td>\n",
       "      <td>1963.0</td>\n",
       "      <td>57.0</td>\n",
       "      <td>Korea</td>\n",
       "      <td>Gyeongsangbuk-do</td>\n",
       "      <td>Cheongdo-gun</td>\n",
       "      <td>True</td>\n",
       "      <td>Cheongdo Daenam Hospital</td>\n",
       "      <td>...</td>\n",
       "      <td>2020-02-19</td>\n",
       "      <td>NaT</td>\n",
       "      <td>2020-02-23</td>\n",
       "      <td>deceased</td>\n",
       "      <td>50-59</td>\n",
       "      <td>NaT</td>\n",
       "      <td>4 days</td>\n",
       "      <td>4 days</td>\n",
       "      <td>4.0</td>\n",
       "      <td>deceased_male</td>\n",
       "    </tr>\n",
       "    <tr>\n",
       "      <td>2559</td>\n",
       "      <td>6020100055</td>\n",
       "      <td>55.0</td>\n",
       "      <td>male</td>\n",
       "      <td>1961.0</td>\n",
       "      <td>59.0</td>\n",
       "      <td>Korea</td>\n",
       "      <td>Gyeongsangbuk-do</td>\n",
       "      <td>Cheongdo-gun</td>\n",
       "      <td>True</td>\n",
       "      <td>Cheongdo Daenam Hospital</td>\n",
       "      <td>...</td>\n",
       "      <td>2020-02-19</td>\n",
       "      <td>NaT</td>\n",
       "      <td>2020-02-23</td>\n",
       "      <td>deceased</td>\n",
       "      <td>50-59</td>\n",
       "      <td>NaT</td>\n",
       "      <td>4 days</td>\n",
       "      <td>4 days</td>\n",
       "      <td>4.0</td>\n",
       "      <td>deceased_male</td>\n",
       "    </tr>\n",
       "    <tr>\n",
       "      <td>2560</td>\n",
       "      <td>6020100104</td>\n",
       "      <td>104.0</td>\n",
       "      <td>male</td>\n",
       "      <td>1957.0</td>\n",
       "      <td>63.0</td>\n",
       "      <td>Korea</td>\n",
       "      <td>Gyeongsangbuk-do</td>\n",
       "      <td>Cheongdo-gun</td>\n",
       "      <td>True</td>\n",
       "      <td>Cheongdo Daenam Hospital</td>\n",
       "      <td>...</td>\n",
       "      <td>2020-02-20</td>\n",
       "      <td>NaT</td>\n",
       "      <td>2020-02-19</td>\n",
       "      <td>deceased</td>\n",
       "      <td>60-69</td>\n",
       "      <td>NaT</td>\n",
       "      <td>-1 days</td>\n",
       "      <td>-1 days</td>\n",
       "      <td>-1.0</td>\n",
       "      <td>deceased_male</td>\n",
       "    </tr>\n",
       "    <tr>\n",
       "      <td>2561</td>\n",
       "      <td>6020100107</td>\n",
       "      <td>107.0</td>\n",
       "      <td>male</td>\n",
       "      <td>1953.0</td>\n",
       "      <td>67.0</td>\n",
       "      <td>Korea</td>\n",
       "      <td>Gyeongsangbuk-do</td>\n",
       "      <td>Cheongdo-gun</td>\n",
       "      <td>True</td>\n",
       "      <td>Cheongdo Daenam Hospital</td>\n",
       "      <td>...</td>\n",
       "      <td>2020-02-21</td>\n",
       "      <td>NaT</td>\n",
       "      <td>2020-02-24</td>\n",
       "      <td>deceased</td>\n",
       "      <td>60-69</td>\n",
       "      <td>NaT</td>\n",
       "      <td>3 days</td>\n",
       "      <td>3 days</td>\n",
       "      <td>3.0</td>\n",
       "      <td>deceased_male</td>\n",
       "    </tr>\n",
       "    <tr>\n",
       "      <td>2562</td>\n",
       "      <td>6020100205</td>\n",
       "      <td>205.0</td>\n",
       "      <td>female</td>\n",
       "      <td>1965.0</td>\n",
       "      <td>55.0</td>\n",
       "      <td>Korea</td>\n",
       "      <td>Gyeongsangbuk-do</td>\n",
       "      <td>Cheongdo-gun</td>\n",
       "      <td>True</td>\n",
       "      <td>Cheongdo Daenam Hospital</td>\n",
       "      <td>...</td>\n",
       "      <td>2020-02-22</td>\n",
       "      <td>NaT</td>\n",
       "      <td>2020-02-21</td>\n",
       "      <td>deceased</td>\n",
       "      <td>50-59</td>\n",
       "      <td>NaT</td>\n",
       "      <td>-1 days</td>\n",
       "      <td>-1 days</td>\n",
       "      <td>-1.0</td>\n",
       "      <td>deceased_female</td>\n",
       "    </tr>\n",
       "    <tr>\n",
       "      <td>2563</td>\n",
       "      <td>6020100286</td>\n",
       "      <td>286.0</td>\n",
       "      <td>male</td>\n",
       "      <td>1958.0</td>\n",
       "      <td>62.0</td>\n",
       "      <td>Korea</td>\n",
       "      <td>Gyeongsangbuk-do</td>\n",
       "      <td>Cheongdo-gun</td>\n",
       "      <td>True</td>\n",
       "      <td>Cheongdo Daenam Hospital</td>\n",
       "      <td>...</td>\n",
       "      <td>2020-02-22</td>\n",
       "      <td>NaT</td>\n",
       "      <td>2020-02-23</td>\n",
       "      <td>deceased</td>\n",
       "      <td>60-69</td>\n",
       "      <td>NaT</td>\n",
       "      <td>1 days</td>\n",
       "      <td>1 days</td>\n",
       "      <td>1.0</td>\n",
       "      <td>deceased_male</td>\n",
       "    </tr>\n",
       "    <tr>\n",
       "      <td>2564</td>\n",
       "      <td>6020100298</td>\n",
       "      <td>298.0</td>\n",
       "      <td>male</td>\n",
       "      <td>1962.0</td>\n",
       "      <td>58.0</td>\n",
       "      <td>Korea</td>\n",
       "      <td>Gyeongsangbuk-do</td>\n",
       "      <td>Cheongdo-gun</td>\n",
       "      <td>True</td>\n",
       "      <td>Cheongdo Daenam Hospital</td>\n",
       "      <td>...</td>\n",
       "      <td>2020-02-22</td>\n",
       "      <td>NaT</td>\n",
       "      <td>2020-02-25</td>\n",
       "      <td>deceased</td>\n",
       "      <td>50-59</td>\n",
       "      <td>NaT</td>\n",
       "      <td>3 days</td>\n",
       "      <td>3 days</td>\n",
       "      <td>3.0</td>\n",
       "      <td>deceased_male</td>\n",
       "    </tr>\n",
       "  </tbody>\n",
       "</table>\n",
       "<p>53 rows × 24 columns</p>\n",
       "</div>"
      ],
      "text/plain": [
       "      patient_id  global_num     sex  birth_year   age   country  \\\n",
       "504   1100000071         NaN    male      1941.0  79.0     Korea   \n",
       "528   1100000095         NaN  female      1932.0  88.0     Korea   \n",
       "530   1100000097         NaN    male      1947.0  73.0     Korea   \n",
       "555   1200000038        38.0  female      1963.0  57.0     Korea   \n",
       "594   1200000114       114.0    male      1946.0  74.0     Korea   \n",
       "595   1200000620       620.0    male      1949.0  71.0     Korea   \n",
       "596   1200000901       901.0  female      1934.0  86.0     Korea   \n",
       "597   1200001064      1064.0  female      1943.0  77.0     Korea   \n",
       "598   1200001288      1288.0    male      1955.0  65.0     Korea   \n",
       "599   1200001443      1443.0    male      1945.0  75.0     Korea   \n",
       "600   1200001921      1921.0    male      1953.0  67.0     Korea   \n",
       "601   1200002085      2085.0    male      1949.0  71.0     Korea   \n",
       "602   1200002289      2289.0    male      1954.0  66.0     Korea   \n",
       "603   1200002614      2614.0  female      1943.0  77.0     Korea   \n",
       "604   1200002769      2769.0  female      1934.0  86.0     Korea   \n",
       "605   1200002936      2936.0    male      1939.0  81.0     Korea   \n",
       "606   1200003550      3550.0  female      1951.0  69.0     Korea   \n",
       "607   1200003578      3578.0    male      1930.0  90.0     Korea   \n",
       "608   1200003896      3896.0    male      1933.0  87.0     Korea   \n",
       "609   1200003914      3914.0    male      1938.0  82.0     Korea   \n",
       "610   1200004046      4046.0  female      1962.0  58.0     Korea   \n",
       "611   1200005767      5767.0    male      1938.0  82.0     Korea   \n",
       "612   1200007196      7196.0    male      1945.0  75.0     Korea   \n",
       "851   2000000039       875.0    male      1984.0  36.0  Mongolia   \n",
       "1314  3014000001         NaN  female         NaN   NaN     Korea   \n",
       "1571  6001000062      1201.0    male      1951.0  69.0     Korea   \n",
       "1581  6001000072      1179.0    male      1969.0  51.0     Korea   \n",
       "1612  6001000103      2034.0    male      1947.0  73.0     Korea   \n",
       "1632  6001000123      2769.0  female      1935.0  85.0     Korea   \n",
       "1794  6001000285      5143.0    male      1960.0  60.0     Korea   \n",
       "1911  6001000402      6064.0  female      1939.0  81.0     Korea   \n",
       "1969  6001000460      7119.0  female      1938.0  82.0     Korea   \n",
       "1981  6001000472      7090.0  female      1929.0  91.0     Korea   \n",
       "2009  6001000500      8062.0    male      1938.0  82.0     Korea   \n",
       "2010  6001000501      7722.0    male      1930.0  90.0     Korea   \n",
       "2037  6001000528         NaN    male      1949.0  71.0     Korea   \n",
       "2076  6001000567         NaN    male      1930.0  90.0     Korea   \n",
       "2077  6001000568         NaN    male      1939.0  81.0     Korea   \n",
       "2080  6001000571         NaN  female      1934.0  86.0     Korea   \n",
       "2082  6001000573         NaN    male      1941.0  79.0     Korea   \n",
       "2083  6001000574         NaN    male      1944.0  76.0     Korea   \n",
       "2097  6001000588         NaN  female      1937.0  83.0     Korea   \n",
       "2125  6002000002         NaN    male      1980.0  40.0     Korea   \n",
       "2334  6008000060         NaN  female      1930.0  90.0     Korea   \n",
       "2373  6010000014         NaN    male         NaN   NaN     Korea   \n",
       "2473  6015000035      6309.0    male         NaN   NaN     Korea   \n",
       "2558  6020100054        54.0    male      1963.0  57.0     Korea   \n",
       "2559  6020100055        55.0    male      1961.0  59.0     Korea   \n",
       "2560  6020100104       104.0    male      1957.0  63.0     Korea   \n",
       "2561  6020100107       107.0    male      1953.0  67.0     Korea   \n",
       "2562  6020100205       205.0  female      1965.0  55.0     Korea   \n",
       "2563  6020100286       286.0    male      1958.0  62.0     Korea   \n",
       "2564  6020100298       298.0    male      1962.0  58.0     Korea   \n",
       "\n",
       "              province           city disease               infection_case  \\\n",
       "504              Busan    Busanjin-gu     NaN                          etc   \n",
       "528              Busan            etc     NaN                          NaN   \n",
       "530              Busan    Busanjin-gu     NaN                          etc   \n",
       "555              Daegu         Nam-gu    True                          NaN   \n",
       "594              Daegu            NaN     NaN           Shincheonji Church   \n",
       "595              Daegu            NaN     NaN                          NaN   \n",
       "596              Daegu            NaN     NaN                          NaN   \n",
       "597              Daegu            NaN     NaN                          NaN   \n",
       "598              Daegu            NaN    True                          NaN   \n",
       "599              Daegu            NaN     NaN                          NaN   \n",
       "600              Daegu            NaN    True                          NaN   \n",
       "601              Daegu            NaN    True                          NaN   \n",
       "602              Daegu            NaN     NaN                          NaN   \n",
       "603              Daegu            NaN    True                          NaN   \n",
       "604              Daegu            NaN     NaN                          NaN   \n",
       "605              Daegu            NaN     NaN                          NaN   \n",
       "606              Daegu            NaN     NaN                          NaN   \n",
       "607              Daegu            NaN     NaN                          NaN   \n",
       "608              Daegu            NaN    True                          NaN   \n",
       "609              Daegu            NaN    True                          NaN   \n",
       "610              Daegu            NaN    True                          NaN   \n",
       "611              Daegu            NaN    True                          NaN   \n",
       "612              Daegu            NaN    True                          NaN   \n",
       "851        Gyeonggi-do   Namyangju-si    True                          etc   \n",
       "1314        Gangwon-do     Taebaek-si    True         contact with patient   \n",
       "1571  Gyeongsangbuk-do   Gyeongsan-si     NaN                          NaN   \n",
       "1581  Gyeongsangbuk-do   Gyeongsan-si     NaN                          NaN   \n",
       "1612  Gyeongsangbuk-do   Gyeongsan-si     NaN                          NaN   \n",
       "1632  Gyeongsangbuk-do   Gyeongsan-si     NaN                          NaN   \n",
       "1794  Gyeongsangbuk-do   Gyeongsan-si     NaN                          NaN   \n",
       "1911  Gyeongsangbuk-do   Gyeongsan-si     NaN                          NaN   \n",
       "1969  Gyeongsangbuk-do   Gyeongsan-si     NaN                          NaN   \n",
       "1981  Gyeongsangbuk-do   Gyeongsan-si     NaN                          NaN   \n",
       "2009  Gyeongsangbuk-do   Gyeongsan-si     NaN                          NaN   \n",
       "2010  Gyeongsangbuk-do   Gyeongsan-si     NaN                          NaN   \n",
       "2037  Gyeongsangbuk-do   Gyeongsan-si     NaN                          NaN   \n",
       "2076  Gyeongsangbuk-do   Gyeongsan-si     NaN                          NaN   \n",
       "2077  Gyeongsangbuk-do   Gyeongsan-si     NaN                          NaN   \n",
       "2080  Gyeongsangbuk-do   Gyeongsan-si     NaN                          NaN   \n",
       "2082  Gyeongsangbuk-do   Gyeongsan-si     NaN                          NaN   \n",
       "2083  Gyeongsangbuk-do   Gyeongsan-si     NaN                          NaN   \n",
       "2097  Gyeongsangbuk-do   Gyeongsan-si     NaN                          NaN   \n",
       "2125  Gyeongsangbuk-do    Gyeongju-si     NaN                          NaN   \n",
       "2334  Gyeongsangbuk-do    Bonghwa-gun     NaN  Bonghwa Pureun Nursing Home   \n",
       "2373  Gyeongsangbuk-do    Seongju-gun     NaN         contact with patient   \n",
       "2473  Gyeongsangbuk-do  Yeongcheon-si     NaN                          etc   \n",
       "2558  Gyeongsangbuk-do   Cheongdo-gun    True     Cheongdo Daenam Hospital   \n",
       "2559  Gyeongsangbuk-do   Cheongdo-gun    True     Cheongdo Daenam Hospital   \n",
       "2560  Gyeongsangbuk-do   Cheongdo-gun    True     Cheongdo Daenam Hospital   \n",
       "2561  Gyeongsangbuk-do   Cheongdo-gun    True     Cheongdo Daenam Hospital   \n",
       "2562  Gyeongsangbuk-do   Cheongdo-gun    True     Cheongdo Daenam Hospital   \n",
       "2563  Gyeongsangbuk-do   Cheongdo-gun    True     Cheongdo Daenam Hospital   \n",
       "2564  Gyeongsangbuk-do   Cheongdo-gun    True     Cheongdo Daenam Hospital   \n",
       "\n",
       "      ...  confirmed_date  released_date  deceased_date     state age_range  \\\n",
       "504   ...      2020-02-28            NaT            NaT  deceased     70-79   \n",
       "528   ...      2020-03-13            NaT            NaT  deceased     80-89   \n",
       "530   ...      2020-03-13            NaT            NaT  deceased     70-79   \n",
       "555   ...      2020-02-18            NaT     2020-02-23  deceased     50-59   \n",
       "594   ...      2020-02-21            NaT     2020-02-26  deceased     70-79   \n",
       "595   ...      2020-02-24            NaT     2020-03-02  deceased     70-79   \n",
       "596   ...      2020-02-25            NaT     2020-03-04  deceased     80-89   \n",
       "597   ...      2020-02-26            NaT     2020-03-01  deceased     70-79   \n",
       "598   ...      2020-02-27            NaT     2020-03-02  deceased     60-69   \n",
       "599   ...      2020-02-27            NaT     2020-02-27  deceased     70-79   \n",
       "600   ...      2020-02-28            NaT     2020-03-05  deceased     60-69   \n",
       "601   ...      2020-02-28            NaT     2020-03-04  deceased     70-79   \n",
       "602   ...      2020-02-28            NaT     2020-03-05  deceased     60-69   \n",
       "603   ...      2020-02-29            NaT     2020-03-01  deceased     70-79   \n",
       "604   ...      2020-02-29            NaT     2020-03-02  deceased     80-89   \n",
       "605   ...      2020-02-29            NaT     2020-03-06  deceased     80-89   \n",
       "606   ...      2020-03-01            NaT     2020-03-09  deceased     60-69   \n",
       "607   ...      2020-03-01            NaT     2020-03-07  deceased     90-99   \n",
       "608   ...      2020-03-01            NaT     2020-03-03  deceased     80-89   \n",
       "609   ...      2020-03-01            NaT     2020-03-09  deceased     80-89   \n",
       "610   ...      2020-03-01            NaT     2020-03-01  deceased     50-59   \n",
       "611   ...      2020-03-05            NaT     2020-03-05  deceased     80-89   \n",
       "612   ...      2020-03-08            NaT     2020-03-09  deceased     70-79   \n",
       "851   ...      2020-02-25            NaT     2020-02-25  deceased     30-39   \n",
       "1314  ...      2020-03-04            NaT     2020-03-04  deceased   Unknown   \n",
       "1571  ...      2020-02-26            NaT     2020-03-08  deceased     60-69   \n",
       "1581  ...      2020-02-26            NaT     2020-03-18  deceased     50-59   \n",
       "1612  ...      2020-02-28            NaT     2020-03-11  deceased     70-79   \n",
       "1632  ...      2020-02-28            NaT     2020-03-02  deceased     80-89   \n",
       "1794  ...      2020-03-03            NaT     2020-03-04  deceased     60-69   \n",
       "1911  ...      2020-03-05            NaT     2020-03-16  deceased     80-89   \n",
       "1969  ...      2020-03-07            NaT     2020-03-20  deceased     80-89   \n",
       "1981  ...      2020-03-07            NaT     2020-03-16  deceased     90-99   \n",
       "2009  ...      2020-03-10            NaT     2020-03-26  deceased     80-89   \n",
       "2010  ...      2020-03-10            NaT     2020-03-26  deceased     90-99   \n",
       "2037  ...      2020-03-15            NaT     2020-03-16  deceased     70-79   \n",
       "2076  ...      2020-03-20            NaT     2020-03-27  deceased     90-99   \n",
       "2077  ...      2020-03-20            NaT     2020-03-25  deceased     80-89   \n",
       "2080  ...      2020-03-20            NaT     2020-03-29  deceased     80-89   \n",
       "2082  ...      2020-03-20            NaT     2020-03-25  deceased     70-79   \n",
       "2083  ...      2020-03-20            NaT     2020-03-24  deceased     70-79   \n",
       "2097  ...      2020-03-25            NaT     2020-03-26  deceased     80-89   \n",
       "2125  ...      2020-02-22            NaT            NaT  deceased     40-49   \n",
       "2334  ...      2020-03-11            NaT     2020-03-22  deceased     90-99   \n",
       "2373  ...      2020-03-04     2020-03-05            NaT  deceased   Unknown   \n",
       "2473  ...      2020-03-06            NaT     2020-03-07  deceased   Unknown   \n",
       "2558  ...      2020-02-19            NaT     2020-02-23  deceased     50-59   \n",
       "2559  ...      2020-02-19            NaT     2020-02-23  deceased     50-59   \n",
       "2560  ...      2020-02-20            NaT     2020-02-19  deceased     60-69   \n",
       "2561  ...      2020-02-21            NaT     2020-02-24  deceased     60-69   \n",
       "2562  ...      2020-02-22            NaT     2020-02-21  deceased     50-59   \n",
       "2563  ...      2020-02-22            NaT     2020-02-23  deceased     60-69   \n",
       "2564  ...      2020-02-22            NaT     2020-02-25  deceased     50-59   \n",
       "\n",
       "     time_to_release_since_confirmed time_to_death_since_confirmed  \\\n",
       "504                              NaT                           NaT   \n",
       "528                              NaT                           NaT   \n",
       "530                              NaT                           NaT   \n",
       "555                              NaT                        5 days   \n",
       "594                              NaT                        5 days   \n",
       "595                              NaT                        7 days   \n",
       "596                              NaT                        8 days   \n",
       "597                              NaT                        4 days   \n",
       "598                              NaT                        4 days   \n",
       "599                              NaT                        0 days   \n",
       "600                              NaT                        6 days   \n",
       "601                              NaT                        5 days   \n",
       "602                              NaT                        6 days   \n",
       "603                              NaT                        1 days   \n",
       "604                              NaT                        2 days   \n",
       "605                              NaT                        6 days   \n",
       "606                              NaT                        8 days   \n",
       "607                              NaT                        6 days   \n",
       "608                              NaT                        2 days   \n",
       "609                              NaT                        8 days   \n",
       "610                              NaT                        0 days   \n",
       "611                              NaT                        0 days   \n",
       "612                              NaT                        1 days   \n",
       "851                              NaT                        0 days   \n",
       "1314                             NaT                        0 days   \n",
       "1571                             NaT                       11 days   \n",
       "1581                             NaT                       21 days   \n",
       "1612                             NaT                       12 days   \n",
       "1632                             NaT                        3 days   \n",
       "1794                             NaT                        1 days   \n",
       "1911                             NaT                       11 days   \n",
       "1969                             NaT                       13 days   \n",
       "1981                             NaT                        9 days   \n",
       "2009                             NaT                       16 days   \n",
       "2010                             NaT                       16 days   \n",
       "2037                             NaT                        1 days   \n",
       "2076                             NaT                        7 days   \n",
       "2077                             NaT                        5 days   \n",
       "2080                             NaT                        9 days   \n",
       "2082                             NaT                        5 days   \n",
       "2083                             NaT                        4 days   \n",
       "2097                             NaT                        1 days   \n",
       "2125                             NaT                           NaT   \n",
       "2334                             NaT                       11 days   \n",
       "2373                          1 days                           NaT   \n",
       "2473                             NaT                        1 days   \n",
       "2558                             NaT                        4 days   \n",
       "2559                             NaT                        4 days   \n",
       "2560                             NaT                       -1 days   \n",
       "2561                             NaT                        3 days   \n",
       "2562                             NaT                       -1 days   \n",
       "2563                             NaT                        1 days   \n",
       "2564                             NaT                        3 days   \n",
       "\n",
       "     duration_since_confirmed duration_days  state_by_gender  \n",
       "504                       NaT           NaN    deceased_male  \n",
       "528                       NaT           NaN  deceased_female  \n",
       "530                       NaT           NaN    deceased_male  \n",
       "555                    5 days           5.0  deceased_female  \n",
       "594                    5 days           5.0    deceased_male  \n",
       "595                    7 days           7.0    deceased_male  \n",
       "596                    8 days           8.0  deceased_female  \n",
       "597                    4 days           4.0  deceased_female  \n",
       "598                    4 days           4.0    deceased_male  \n",
       "599                    0 days           0.0    deceased_male  \n",
       "600                    6 days           6.0    deceased_male  \n",
       "601                    5 days           5.0    deceased_male  \n",
       "602                    6 days           6.0    deceased_male  \n",
       "603                    1 days           1.0  deceased_female  \n",
       "604                    2 days           2.0  deceased_female  \n",
       "605                    6 days           6.0    deceased_male  \n",
       "606                    8 days           8.0  deceased_female  \n",
       "607                    6 days           6.0    deceased_male  \n",
       "608                    2 days           2.0    deceased_male  \n",
       "609                    8 days           8.0    deceased_male  \n",
       "610                    0 days           0.0  deceased_female  \n",
       "611                    0 days           0.0    deceased_male  \n",
       "612                    1 days           1.0    deceased_male  \n",
       "851                    0 days           0.0    deceased_male  \n",
       "1314                   0 days           0.0  deceased_female  \n",
       "1571                  11 days          11.0    deceased_male  \n",
       "1581                  21 days          21.0    deceased_male  \n",
       "1612                  12 days          12.0    deceased_male  \n",
       "1632                   3 days           3.0  deceased_female  \n",
       "1794                   1 days           1.0    deceased_male  \n",
       "1911                  11 days          11.0  deceased_female  \n",
       "1969                  13 days          13.0  deceased_female  \n",
       "1981                   9 days           9.0  deceased_female  \n",
       "2009                  16 days          16.0    deceased_male  \n",
       "2010                  16 days          16.0    deceased_male  \n",
       "2037                   1 days           1.0    deceased_male  \n",
       "2076                   7 days           7.0    deceased_male  \n",
       "2077                   5 days           5.0    deceased_male  \n",
       "2080                   9 days           9.0  deceased_female  \n",
       "2082                   5 days           5.0    deceased_male  \n",
       "2083                   4 days           4.0    deceased_male  \n",
       "2097                   1 days           1.0  deceased_female  \n",
       "2125                      NaT           NaN    deceased_male  \n",
       "2334                  11 days          11.0  deceased_female  \n",
       "2373                   1 days           1.0    deceased_male  \n",
       "2473                   1 days           1.0    deceased_male  \n",
       "2558                   4 days           4.0    deceased_male  \n",
       "2559                   4 days           4.0    deceased_male  \n",
       "2560                  -1 days          -1.0    deceased_male  \n",
       "2561                   3 days           3.0    deceased_male  \n",
       "2562                  -1 days          -1.0  deceased_female  \n",
       "2563                   1 days           1.0    deceased_male  \n",
       "2564                   3 days           3.0    deceased_male  \n",
       "\n",
       "[53 rows x 24 columns]"
      ]
     },
     "execution_count": 22,
     "metadata": {},
     "output_type": "execute_result"
    }
   ],
   "source": [
    "dead.dropna(how='all')\n",
    "dead"
   ]
  },
  {
   "cell_type": "markdown",
   "metadata": {},
   "source": [
    "**Age distribution of the released**"
   ]
  },
  {
   "cell_type": "code",
   "execution_count": 23,
   "metadata": {},
   "outputs": [
    {
     "name": "stderr",
     "output_type": "stream",
     "text": [
      "/Users/ariadnacuffi/opt/anaconda3/lib/python3.7/site-packages/statsmodels/nonparametric/kde.py:447: RuntimeWarning:\n",
      "\n",
      "invalid value encountered in greater\n",
      "\n",
      "/Users/ariadnacuffi/opt/anaconda3/lib/python3.7/site-packages/statsmodels/nonparametric/kde.py:447: RuntimeWarning:\n",
      "\n",
      "invalid value encountered in less\n",
      "\n"
     ]
    },
    {
     "data": {
      "text/plain": [
       "<matplotlib.axes._subplots.AxesSubplot at 0x1a22991f10>"
      ]
     },
     "execution_count": 23,
     "metadata": {},
     "output_type": "execute_result"
    },
    {
     "data": {
      "image/png": "[encoded data removed]",
      "text/plain": [
       "<Figure size 720x432 with 1 Axes>"
      ]
     },
     "metadata": {
      "needs_background": "light"
     },
     "output_type": "display_data"
    }
   ],
   "source": [
    "plt.figure(figsize=(10,6))\n",
    "sns.set_style(\"darkgrid\")\n",
    "plt.title(\"Age distribution of the released\")\n",
    "sns.kdeplot(data=released['age'], shade=True, color=\"pink\")"
   ]
  },
  {
   "cell_type": "markdown",
   "metadata": {},
   "source": [
    "**Age distribution of isolated person**"
   ]
  },
  {
   "cell_type": "code",
   "execution_count": 24,
   "metadata": {},
   "outputs": [
    {
     "data": {
      "text/plain": [
       "<matplotlib.axes._subplots.AxesSubplot at 0x1a22a978d0>"
      ]
     },
     "execution_count": 24,
     "metadata": {},
     "output_type": "execute_result"
    },
    {
     "data": {
      "image/png": "[encoded data removed]",
      "text/plain": [
       "<Figure size 720x432 with 1 Axes>"
      ]
     },
     "metadata": {},
     "output_type": "display_data"
    }
   ],
   "source": [
    "plt.figure(figsize=(10,6))\n",
    "sns.set_style(\"darkgrid\")\n",
    "plt.title(\"Age distribution of the isolated\")\n",
    "sns.kdeplot(data=isolated_state['age'], shade=True, color=\"pink\")"
   ]
  },
  {
   "cell_type": "markdown",
   "metadata": {},
   "source": [
    "**Age distribution of death**"
   ]
  },
  {
   "cell_type": "code",
   "execution_count": 25,
   "metadata": {},
   "outputs": [
    {
     "data": {
      "text/plain": [
       "<matplotlib.axes._subplots.AxesSubplot at 0x1a22d42b10>"
      ]
     },
     "execution_count": 25,
     "metadata": {},
     "output_type": "execute_result"
    },
    {
     "data": {
      "image/png": "[encoded data removed]",
      "text/plain": [
       "<Figure size 720x432 with 1 Axes>"
      ]
     },
     "metadata": {},
     "output_type": "display_data"
    }
   ],
   "source": [
    "plt.figure(figsize=(10,6))\n",
    "sns.set_style(\"whitegrid\")\n",
    "plt.title(\"Age distribution of the deceased\")\n",
    "sns.kdeplot(data=dead['age'], shade=True, color=\"pink\")"
   ]
  },
  {
   "cell_type": "code",
   "execution_count": 26,
   "metadata": {},
   "outputs": [],
   "source": [
    "male_dead = dead[dead.sex=='male']\n",
    "female_dead = dead[dead.sex=='female']"
   ]
  },
  {
   "cell_type": "code",
   "execution_count": 27,
   "metadata": {},
   "outputs": [
    {
     "data": {
      "text/plain": [
       "<bound method DataFrame.dropna of       patient_id  global_num   sex  birth_year   age   country  \\\n",
       "504   1100000071         NaN  male      1941.0  79.0     Korea   \n",
       "530   1100000097         NaN  male      1947.0  73.0     Korea   \n",
       "594   1200000114       114.0  male      1946.0  74.0     Korea   \n",
       "595   1200000620       620.0  male      1949.0  71.0     Korea   \n",
       "598   1200001288      1288.0  male      1955.0  65.0     Korea   \n",
       "599   1200001443      1443.0  male      1945.0  75.0     Korea   \n",
       "600   1200001921      1921.0  male      1953.0  67.0     Korea   \n",
       "601   1200002085      2085.0  male      1949.0  71.0     Korea   \n",
       "602   1200002289      2289.0  male      1954.0  66.0     Korea   \n",
       "605   1200002936      2936.0  male      1939.0  81.0     Korea   \n",
       "607   1200003578      3578.0  male      1930.0  90.0     Korea   \n",
       "608   1200003896      3896.0  male      1933.0  87.0     Korea   \n",
       "609   1200003914      3914.0  male      1938.0  82.0     Korea   \n",
       "611   1200005767      5767.0  male      1938.0  82.0     Korea   \n",
       "612   1200007196      7196.0  male      1945.0  75.0     Korea   \n",
       "851   2000000039       875.0  male      1984.0  36.0  Mongolia   \n",
       "1571  6001000062      1201.0  male      1951.0  69.0     Korea   \n",
       "1581  6001000072      1179.0  male      1969.0  51.0     Korea   \n",
       "1612  6001000103      2034.0  male      1947.0  73.0     Korea   \n",
       "1794  6001000285      5143.0  male      1960.0  60.0     Korea   \n",
       "2009  6001000500      8062.0  male      1938.0  82.0     Korea   \n",
       "2010  6001000501      7722.0  male      1930.0  90.0     Korea   \n",
       "2037  6001000528         NaN  male      1949.0  71.0     Korea   \n",
       "2076  6001000567         NaN  male      1930.0  90.0     Korea   \n",
       "2077  6001000568         NaN  male      1939.0  81.0     Korea   \n",
       "2082  6001000573         NaN  male      1941.0  79.0     Korea   \n",
       "2083  6001000574         NaN  male      1944.0  76.0     Korea   \n",
       "2125  6002000002         NaN  male      1980.0  40.0     Korea   \n",
       "2373  6010000014         NaN  male         NaN   NaN     Korea   \n",
       "2473  6015000035      6309.0  male         NaN   NaN     Korea   \n",
       "2558  6020100054        54.0  male      1963.0  57.0     Korea   \n",
       "2559  6020100055        55.0  male      1961.0  59.0     Korea   \n",
       "2560  6020100104       104.0  male      1957.0  63.0     Korea   \n",
       "2561  6020100107       107.0  male      1953.0  67.0     Korea   \n",
       "2563  6020100286       286.0  male      1958.0  62.0     Korea   \n",
       "2564  6020100298       298.0  male      1962.0  58.0     Korea   \n",
       "\n",
       "              province           city disease            infection_case  ...  \\\n",
       "504              Busan    Busanjin-gu     NaN                       etc  ...   \n",
       "530              Busan    Busanjin-gu     NaN                       etc  ...   \n",
       "594              Daegu            NaN     NaN        Shincheonji Church  ...   \n",
       "595              Daegu            NaN     NaN                       NaN  ...   \n",
       "598              Daegu            NaN    True                       NaN  ...   \n",
       "599              Daegu            NaN     NaN                       NaN  ...   \n",
       "600              Daegu            NaN    True                       NaN  ...   \n",
       "601              Daegu            NaN    True                       NaN  ...   \n",
       "602              Daegu            NaN     NaN                       NaN  ...   \n",
       "605              Daegu            NaN     NaN                       NaN  ...   \n",
       "607              Daegu            NaN     NaN                       NaN  ...   \n",
       "608              Daegu            NaN    True                       NaN  ...   \n",
       "609              Daegu            NaN    True                       NaN  ...   \n",
       "611              Daegu            NaN    True                       NaN  ...   \n",
       "612              Daegu            NaN    True                       NaN  ...   \n",
       "851        Gyeonggi-do   Namyangju-si    True                       etc  ...   \n",
       "1571  Gyeongsangbuk-do   Gyeongsan-si     NaN                       NaN  ...   \n",
       "1581  Gyeongsangbuk-do   Gyeongsan-si     NaN                       NaN  ...   \n",
       "1612  Gyeongsangbuk-do   Gyeongsan-si     NaN                       NaN  ...   \n",
       "1794  Gyeongsangbuk-do   Gyeongsan-si     NaN                       NaN  ...   \n",
       "2009  Gyeongsangbuk-do   Gyeongsan-si     NaN                       NaN  ...   \n",
       "2010  Gyeongsangbuk-do   Gyeongsan-si     NaN                       NaN  ...   \n",
       "2037  Gyeongsangbuk-do   Gyeongsan-si     NaN                       NaN  ...   \n",
       "2076  Gyeongsangbuk-do   Gyeongsan-si     NaN                       NaN  ...   \n",
       "2077  Gyeongsangbuk-do   Gyeongsan-si     NaN                       NaN  ...   \n",
       "2082  Gyeongsangbuk-do   Gyeongsan-si     NaN                       NaN  ...   \n",
       "2083  Gyeongsangbuk-do   Gyeongsan-si     NaN                       NaN  ...   \n",
       "2125  Gyeongsangbuk-do    Gyeongju-si     NaN                       NaN  ...   \n",
       "2373  Gyeongsangbuk-do    Seongju-gun     NaN      contact with patient  ...   \n",
       "2473  Gyeongsangbuk-do  Yeongcheon-si     NaN                       etc  ...   \n",
       "2558  Gyeongsangbuk-do   Cheongdo-gun    True  Cheongdo Daenam Hospital  ...   \n",
       "2559  Gyeongsangbuk-do   Cheongdo-gun    True  Cheongdo Daenam Hospital  ...   \n",
       "2560  Gyeongsangbuk-do   Cheongdo-gun    True  Cheongdo Daenam Hospital  ...   \n",
       "2561  Gyeongsangbuk-do   Cheongdo-gun    True  Cheongdo Daenam Hospital  ...   \n",
       "2563  Gyeongsangbuk-do   Cheongdo-gun    True  Cheongdo Daenam Hospital  ...   \n",
       "2564  Gyeongsangbuk-do   Cheongdo-gun    True  Cheongdo Daenam Hospital  ...   \n",
       "\n",
       "      confirmed_date  released_date  deceased_date     state age_range  \\\n",
       "504       2020-02-28            NaT            NaT  deceased     70-79   \n",
       "530       2020-03-13            NaT            NaT  deceased     70-79   \n",
       "594       2020-02-21            NaT     2020-02-26  deceased     70-79   \n",
       "595       2020-02-24            NaT     2020-03-02  deceased     70-79   \n",
       "598       2020-02-27            NaT     2020-03-02  deceased     60-69   \n",
       "599       2020-02-27            NaT     2020-02-27  deceased     70-79   \n",
       "600       2020-02-28            NaT     2020-03-05  deceased     60-69   \n",
       "601       2020-02-28            NaT     2020-03-04  deceased     70-79   \n",
       "602       2020-02-28            NaT     2020-03-05  deceased     60-69   \n",
       "605       2020-02-29            NaT     2020-03-06  deceased     80-89   \n",
       "607       2020-03-01            NaT     2020-03-07  deceased     90-99   \n",
       "608       2020-03-01            NaT     2020-03-03  deceased     80-89   \n",
       "609       2020-03-01            NaT     2020-03-09  deceased     80-89   \n",
       "611       2020-03-05            NaT     2020-03-05  deceased     80-89   \n",
       "612       2020-03-08            NaT     2020-03-09  deceased     70-79   \n",
       "851       2020-02-25            NaT     2020-02-25  deceased     30-39   \n",
       "1571      2020-02-26            NaT     2020-03-08  deceased     60-69   \n",
       "1581      2020-02-26            NaT     2020-03-18  deceased     50-59   \n",
       "1612      2020-02-28            NaT     2020-03-11  deceased     70-79   \n",
       "1794      2020-03-03            NaT     2020-03-04  deceased     60-69   \n",
       "2009      2020-03-10            NaT     2020-03-26  deceased     80-89   \n",
       "2010      2020-03-10            NaT     2020-03-26  deceased     90-99   \n",
       "2037      2020-03-15            NaT     2020-03-16  deceased     70-79   \n",
       "2076      2020-03-20            NaT     2020-03-27  deceased     90-99   \n",
       "2077      2020-03-20            NaT     2020-03-25  deceased     80-89   \n",
       "2082      2020-03-20            NaT     2020-03-25  deceased     70-79   \n",
       "2083      2020-03-20            NaT     2020-03-24  deceased     70-79   \n",
       "2125      2020-02-22            NaT            NaT  deceased     40-49   \n",
       "2373      2020-03-04     2020-03-05            NaT  deceased   Unknown   \n",
       "2473      2020-03-06            NaT     2020-03-07  deceased   Unknown   \n",
       "2558      2020-02-19            NaT     2020-02-23  deceased     50-59   \n",
       "2559      2020-02-19            NaT     2020-02-23  deceased     50-59   \n",
       "2560      2020-02-20            NaT     2020-02-19  deceased     60-69   \n",
       "2561      2020-02-21            NaT     2020-02-24  deceased     60-69   \n",
       "2563      2020-02-22            NaT     2020-02-23  deceased     60-69   \n",
       "2564      2020-02-22            NaT     2020-02-25  deceased     50-59   \n",
       "\n",
       "     time_to_release_since_confirmed time_to_death_since_confirmed  \\\n",
       "504                              NaT                           NaT   \n",
       "530                              NaT                           NaT   \n",
       "594                              NaT                        5 days   \n",
       "595                              NaT                        7 days   \n",
       "598                              NaT                        4 days   \n",
       "599                              NaT                        0 days   \n",
       "600                              NaT                        6 days   \n",
       "601                              NaT                        5 days   \n",
       "602                              NaT                        6 days   \n",
       "605                              NaT                        6 days   \n",
       "607                              NaT                        6 days   \n",
       "608                              NaT                        2 days   \n",
       "609                              NaT                        8 days   \n",
       "611                              NaT                        0 days   \n",
       "612                              NaT                        1 days   \n",
       "851                              NaT                        0 days   \n",
       "1571                             NaT                       11 days   \n",
       "1581                             NaT                       21 days   \n",
       "1612                             NaT                       12 days   \n",
       "1794                             NaT                        1 days   \n",
       "2009                             NaT                       16 days   \n",
       "2010                             NaT                       16 days   \n",
       "2037                             NaT                        1 days   \n",
       "2076                             NaT                        7 days   \n",
       "2077                             NaT                        5 days   \n",
       "2082                             NaT                        5 days   \n",
       "2083                             NaT                        4 days   \n",
       "2125                             NaT                           NaT   \n",
       "2373                          1 days                           NaT   \n",
       "2473                             NaT                        1 days   \n",
       "2558                             NaT                        4 days   \n",
       "2559                             NaT                        4 days   \n",
       "2560                             NaT                       -1 days   \n",
       "2561                             NaT                        3 days   \n",
       "2563                             NaT                        1 days   \n",
       "2564                             NaT                        3 days   \n",
       "\n",
       "     duration_since_confirmed duration_days state_by_gender  \n",
       "504                       NaT           NaN   deceased_male  \n",
       "530                       NaT           NaN   deceased_male  \n",
       "594                    5 days           5.0   deceased_male  \n",
       "595                    7 days           7.0   deceased_male  \n",
       "598                    4 days           4.0   deceased_male  \n",
       "599                    0 days           0.0   deceased_male  \n",
       "600                    6 days           6.0   deceased_male  \n",
       "601                    5 days           5.0   deceased_male  \n",
       "602                    6 days           6.0   deceased_male  \n",
       "605                    6 days           6.0   deceased_male  \n",
       "607                    6 days           6.0   deceased_male  \n",
       "608                    2 days           2.0   deceased_male  \n",
       "609                    8 days           8.0   deceased_male  \n",
       "611                    0 days           0.0   deceased_male  \n",
       "612                    1 days           1.0   deceased_male  \n",
       "851                    0 days           0.0   deceased_male  \n",
       "1571                  11 days          11.0   deceased_male  \n",
       "1581                  21 days          21.0   deceased_male  \n",
       "1612                  12 days          12.0   deceased_male  \n",
       "1794                   1 days           1.0   deceased_male  \n",
       "2009                  16 days          16.0   deceased_male  \n",
       "2010                  16 days          16.0   deceased_male  \n",
       "2037                   1 days           1.0   deceased_male  \n",
       "2076                   7 days           7.0   deceased_male  \n",
       "2077                   5 days           5.0   deceased_male  \n",
       "2082                   5 days           5.0   deceased_male  \n",
       "2083                   4 days           4.0   deceased_male  \n",
       "2125                      NaT           NaN   deceased_male  \n",
       "2373                   1 days           1.0   deceased_male  \n",
       "2473                   1 days           1.0   deceased_male  \n",
       "2558                   4 days           4.0   deceased_male  \n",
       "2559                   4 days           4.0   deceased_male  \n",
       "2560                  -1 days          -1.0   deceased_male  \n",
       "2561                   3 days           3.0   deceased_male  \n",
       "2563                   1 days           1.0   deceased_male  \n",
       "2564                   3 days           3.0   deceased_male  \n",
       "\n",
       "[36 rows x 24 columns]>"
      ]
     },
     "execution_count": 27,
     "metadata": {},
     "output_type": "execute_result"
    }
   ],
   "source": [
    "male_dead.dropna"
   ]
  },
  {
   "cell_type": "markdown",
   "metadata": {},
   "source": [
    "**Age distribution of death by gender**"
   ]
  },
  {
   "cell_type": "code",
   "execution_count": 28,
   "metadata": {},
   "outputs": [
    {
     "data": {
      "text/plain": [
       "<matplotlib.axes._subplots.AxesSubplot at 0x1a23007fd0>"
      ]
     },
     "execution_count": 28,
     "metadata": {},
     "output_type": "execute_result"
    },
    {
     "data": {
      "image/png": "[encoded data removed]",
      "text/plain": [
       "<Figure size 720x432 with 1 Axes>"
      ]
     },
     "metadata": {},
     "output_type": "display_data"
    }
   ],
   "source": [
    "plt.figure(figsize=(10,6))\n",
    "sns.set_style(\"whitegrid\")\n",
    "plt.title(\"Age distribution of the deceased by gender\")\n",
    "sns.kdeplot(data=female_dead['age'], label=\"Women\", shade=True, color=\"hotpink\")\n",
    "sns.kdeplot(data=male_dead['age'],label=\"Male\" ,shade=True, color=\"salmon\")"
   ]
  },
  {
   "cell_type": "code",
   "execution_count": 30,
   "metadata": {},
   "outputs": [
    {
     "data": {
      "text/plain": [
       "<matplotlib.axes._subplots.AxesSubplot at 0x1a2327a190>"
      ]
     },
     "execution_count": 30,
     "metadata": {},
     "output_type": "execute_result"
    },
    {
     "data": {
      "image/png": "[encoded data removed]",
      "text/plain": [
       "<Figure size 720x432 with 1 Axes>"
      ]
     },
     "metadata": {},
     "output_type": "display_data"
    }
   ],
   "source": [
    "plt.figure(figsize=(10,6))\n",
    "sns.set_style(\"darkgrid\")\n",
    "plt.title(\"Age distribution of the deceased by gender\")\n",
    "sns.kdeplot(data=female_dead['age'], label=\"Women\", shade=True, color=\"hotpink\")\n",
    "sns.kdeplot(data=male_dead['age'],label=\"Male\" ,shade=True, color=\"salmon\")"
   ]
  },
  {
   "cell_type": "markdown",
   "metadata": {},
   "source": [
    "                                      ** Age distribution of deceased **\n",
    " Here, the graph shows the age distribution of the deceased by gender. We can clearly see older people are more likely to be infected, especially older people with underlying lung disease and having problems in their respiration. The age group of 60 to 70 yr are more infected than the rest of the population. As  Dr. Steven Gambert, professor of medicine and director of geriatrics at the University of Maryland School of Medicine says “ Older people have  higher risk of underlying health conditions, older people are already under physical stress, and their immune systems, even if not significantly compromised, simply do not have the same “ability to fight viruses and bacteria”"
   ]
  },
  {
   "cell_type": "markdown",
   "metadata": {},
   "source": [
    "                                    **Gender distribution of deceased **\n",
    "The graph shows the age distribution of deceased gender where men are more likely to die from coronavirus  than women. New research  has found that men, particularly middle-aged and older men, are having a harder time fighting off the virus than women. Chinese researchers found that while the infection rate among men and women is the same, the death rate among men is 2.8% compared with 1.7% for women. As there are a few reasons men are more likely to die from the new coronavirus. Women have a heightened immune response. During Middle East respiratory syndrome coronavirus 32% of men died of the infection compared with 25.8% of women. "
   ]
  },
  {
   "cell_type": "markdown",
   "metadata": {},
   "source": [
    "**Comparison of released and deceased by age**"
   ]
  },
  {
   "cell_type": "code",
   "execution_count": 34,
   "metadata": {},
   "outputs": [
    {
     "data": {
      "text/plain": [
       "<matplotlib.axes._subplots.AxesSubplot at 0x1a23189810>"
      ]
     },
     "execution_count": 34,
     "metadata": {},
     "output_type": "execute_result"
    },
    {
     "data": {
      "image/png": "[encoded data removed]",
      "text/plain": [
       "<Figure size 432x288 with 1 Axes>"
      ]
     },
     "metadata": {},
     "output_type": "display_data"
    }
   ],
   "source": [
    "sns.kdeplot(data=dead['age'],label='deceased', shade=True)\n",
    "sns.kdeplot(data=released['age'],label='released', shade=True)\n",
    "sns.kdeplot(data=isolated_state['age'],label='released', shade=True)"
   ]
  },
  {
   "cell_type": "markdown",
   "metadata": {},
   "source": [
    "**Death by gender**"
   ]
  },
  {
   "cell_type": "code",
   "execution_count": 35,
   "metadata": {},
   "outputs": [
    {
     "data": {
      "image/png": "[encoded data removed]",
      "text/plain": [
       "<Figure size 1080x360 with 1 Axes>"
      ]
     },
     "metadata": {},
     "output_type": "display_data"
    }
   ],
   "source": [
    "plt.figure(figsize=(15, 5))\n",
    "plt.title('Sex')\n",
    "dead.sex.value_counts().plot.bar();"
   ]
  },
  {
   "cell_type": "code",
   "execution_count": 34,
   "metadata": {},
   "outputs": [
    {
     "data": {
      "application/vnd.plotly.v1+json": {
       "config": {
        "linkText": "Export to plot.ly",
        "plotlyServerURL": "https://plot.ly",
        "showLink": false
       },
       "data": [
        {
         "domain": {
          "x": [
           0,
           1
          ],
          "y": [
           0,
           1
          ]
         },
         "hoverlabel": {
          "namelength": 0
         },
         "hovertemplate": "label=%{label}<br>value=%{value}",
         "labels": [
          "female",
          "male"
         ],
         "legendgroup": "",
         "name": "",
         "showlegend": true,
         "type": "pie",
         "values": [
          17,
          36
         ]
        }
       ],
       "layout": {
        "font": {
         "color": "#242323",
         "size": 15
        },
        "legend": {
         "tracegroupgap": 0
        },
        "margin": {
         "t": 60
        },
        "template": {
         "data": {
          "bar": [
           {
            "error_x": {
             "color": "#2a3f5f"
            },
            "error_y": {
             "color": "#2a3f5f"
            },
            "marker": {
             "line": {
              "color": "#E5ECF6",
              "width": 0.5
             }
            },
            "type": "bar"
           }
          ],
          "barpolar": [
           {
            "marker": {
             "line": {
              "color": "#E5ECF6",
              "width": 0.5
             }
            },
            "type": "barpolar"
           }
          ],
          "carpet": [
           {
            "aaxis": {
             "endlinecolor": "#2a3f5f",
             "gridcolor": "white",
             "linecolor": "white",
             "minorgridcolor": "white",
             "startlinecolor": "#2a3f5f"
            },
            "baxis": {
             "endlinecolor": "#2a3f5f",
             "gridcolor": "white",
             "linecolor": "white",
             "minorgridcolor": "white",
             "startlinecolor": "#2a3f5f"
            },
            "type": "carpet"
           }
          ],
          "choropleth": [
           {
            "colorbar": {
             "outlinewidth": 0,
             "ticks": ""
            },
            "type": "choropleth"
           }
          ],
          "contour": [
           {
            "colorbar": {
             "outlinewidth": 0,
             "ticks": ""
            },
            "colorscale": [
             [
              0,
              "#0d0887"
             ],
             [
              0.1111111111111111,
              "#46039f"
             ],
             [
              0.2222222222222222,
              "#7201a8"
             ],
             [
              0.3333333333333333,
              "#9c179e"
             ],
             [
              0.4444444444444444,
              "#bd3786"
             ],
             [
              0.5555555555555556,
              "#d8576b"
             ],
             [
              0.6666666666666666,
              "#ed7953"
             ],
             [
              0.7777777777777778,
              "#fb9f3a"
             ],
             [
              0.8888888888888888,
              "#fdca26"
             ],
             [
              1,
              "#f0f921"
             ]
            ],
            "type": "contour"
           }
          ],
          "contourcarpet": [
           {
            "colorbar": {
             "outlinewidth": 0,
             "ticks": ""
            },
            "type": "contourcarpet"
           }
          ],
          "heatmap": [
           {
            "colorbar": {
             "outlinewidth": 0,
             "ticks": ""
            },
            "colorscale": [
             [
              0,
              "#0d0887"
             ],
             [
              0.1111111111111111,
              "#46039f"
             ],
             [
              0.2222222222222222,
              "#7201a8"
             ],
             [
              0.3333333333333333,
              "#9c179e"
             ],
             [
              0.4444444444444444,
              "#bd3786"
             ],
             [
              0.5555555555555556,
              "#d8576b"
             ],
             [
              0.6666666666666666,
              "#ed7953"
             ],
             [
              0.7777777777777778,
              "#fb9f3a"
             ],
             [
              0.8888888888888888,
              "#fdca26"
             ],
             [
              1,
              "#f0f921"
             ]
            ],
            "type": "heatmap"
           }
          ],
          "heatmapgl": [
           {
            "colorbar": {
             "outlinewidth": 0,
             "ticks": ""
            },
            "colorscale": [
             [
              0,
              "#0d0887"
             ],
             [
              0.1111111111111111,
              "#46039f"
             ],
             [
              0.2222222222222222,
              "#7201a8"
             ],
             [
              0.3333333333333333,
              "#9c179e"
             ],
             [
              0.4444444444444444,
              "#bd3786"
             ],
             [
              0.5555555555555556,
              "#d8576b"
             ],
             [
              0.6666666666666666,
              "#ed7953"
             ],
             [
              0.7777777777777778,
              "#fb9f3a"
             ],
             [
              0.8888888888888888,
              "#fdca26"
             ],
             [
              1,
              "#f0f921"
             ]
            ],
            "type": "heatmapgl"
           }
          ],
          "histogram": [
           {
            "marker": {
             "colorbar": {
              "outlinewidth": 0,
              "ticks": ""
             }
            },
            "type": "histogram"
           }
          ],
          "histogram2d": [
           {
            "colorbar": {
             "outlinewidth": 0,
             "ticks": ""
            },
            "colorscale": [
             [
              0,
              "#0d0887"
             ],
             [
              0.1111111111111111,
              "#46039f"
             ],
             [
              0.2222222222222222,
              "#7201a8"
             ],
             [
              0.3333333333333333,
              "#9c179e"
             ],
             [
              0.4444444444444444,
              "#bd3786"
             ],
             [
              0.5555555555555556,
              "#d8576b"
             ],
             [
              0.6666666666666666,
              "#ed7953"
             ],
             [
              0.7777777777777778,
              "#fb9f3a"
             ],
             [
              0.8888888888888888,
              "#fdca26"
             ],
             [
              1,
              "#f0f921"
             ]
            ],
            "type": "histogram2d"
           }
          ],
          "histogram2dcontour": [
           {
            "colorbar": {
             "outlinewidth": 0,
             "ticks": ""
            },
            "colorscale": [
             [
              0,
              "#0d0887"
             ],
             [
              0.1111111111111111,
              "#46039f"
             ],
             [
              0.2222222222222222,
              "#7201a8"
             ],
             [
              0.3333333333333333,
              "#9c179e"
             ],
             [
              0.4444444444444444,
              "#bd3786"
             ],
             [
              0.5555555555555556,
              "#d8576b"
             ],
             [
              0.6666666666666666,
              "#ed7953"
             ],
             [
              0.7777777777777778,
              "#fb9f3a"
             ],
             [
              0.8888888888888888,
              "#fdca26"
             ],
             [
              1,
              "#f0f921"
             ]
            ],
            "type": "histogram2dcontour"
           }
          ],
          "mesh3d": [
           {
            "colorbar": {
             "outlinewidth": 0,
             "ticks": ""
            },
            "type": "mesh3d"
           }
          ],
          "parcoords": [
           {
            "line": {
             "colorbar": {
              "outlinewidth": 0,
              "ticks": ""
             }
            },
            "type": "parcoords"
           }
          ],
          "pie": [
           {
            "automargin": true,
            "type": "pie"
           }
          ],
          "scatter": [
           {
            "marker": {
             "colorbar": {
              "outlinewidth": 0,
              "ticks": ""
             }
            },
            "type": "scatter"
           }
          ],
          "scatter3d": [
           {
            "line": {
             "colorbar": {
              "outlinewidth": 0,
              "ticks": ""
             }
            },
            "marker": {
             "colorbar": {
              "outlinewidth": 0,
              "ticks": ""
             }
            },
            "type": "scatter3d"
           }
          ],
          "scattercarpet": [
           {
            "marker": {
             "colorbar": {
              "outlinewidth": 0,
              "ticks": ""
             }
            },
            "type": "scattercarpet"
           }
          ],
          "scattergeo": [
           {
            "marker": {
             "colorbar": {
              "outlinewidth": 0,
              "ticks": ""
             }
            },
            "type": "scattergeo"
           }
          ],
          "scattergl": [
           {
            "marker": {
             "colorbar": {
              "outlinewidth": 0,
              "ticks": ""
             }
            },
            "type": "scattergl"
           }
          ],
          "scattermapbox": [
           {
            "marker": {
             "colorbar": {
              "outlinewidth": 0,
              "ticks": ""
             }
            },
            "type": "scattermapbox"
           }
          ],
          "scatterpolar": [
           {
            "marker": {
             "colorbar": {
              "outlinewidth": 0,
              "ticks": ""
             }
            },
            "type": "scatterpolar"
           }
          ],
          "scatterpolargl": [
           {
            "marker": {
             "colorbar": {
              "outlinewidth": 0,
              "ticks": ""
             }
            },
            "type": "scatterpolargl"
           }
          ],
          "scatterternary": [
           {
            "marker": {
             "colorbar": {
              "outlinewidth": 0,
              "ticks": ""
             }
            },
            "type": "scatterternary"
           }
          ],
          "surface": [
           {
            "colorbar": {
             "outlinewidth": 0,
             "ticks": ""
            },
            "colorscale": [
             [
              0,
              "#0d0887"
             ],
             [
              0.1111111111111111,
              "#46039f"
             ],
             [
              0.2222222222222222,
              "#7201a8"
             ],
             [
              0.3333333333333333,
              "#9c179e"
             ],
             [
              0.4444444444444444,
              "#bd3786"
             ],
             [
              0.5555555555555556,
              "#d8576b"
             ],
             [
              0.6666666666666666,
              "#ed7953"
             ],
             [
              0.7777777777777778,
              "#fb9f3a"
             ],
             [
              0.8888888888888888,
              "#fdca26"
             ],
             [
              1,
              "#f0f921"
             ]
            ],
            "type": "surface"
           }
          ],
          "table": [
           {
            "cells": {
             "fill": {
              "color": "#EBF0F8"
             },
             "line": {
              "color": "white"
             }
            },
            "header": {
             "fill": {
              "color": "#C8D4E3"
             },
             "line": {
              "color": "white"
             }
            },
            "type": "table"
           }
          ]
         },
         "layout": {
          "annotationdefaults": {
           "arrowcolor": "#2a3f5f",
           "arrowhead": 0,
           "arrowwidth": 1
          },
          "coloraxis": {
           "colorbar": {
            "outlinewidth": 0,
            "ticks": ""
           }
          },
          "colorscale": {
           "diverging": [
            [
             0,
             "#8e0152"
            ],
            [
             0.1,
             "#c51b7d"
            ],
            [
             0.2,
             "#de77ae"
            ],
            [
             0.3,
             "#f1b6da"
            ],
            [
             0.4,
             "#fde0ef"
            ],
            [
             0.5,
             "#f7f7f7"
            ],
            [
             0.6,
             "#e6f5d0"
            ],
            [
             0.7,
             "#b8e186"
            ],
            [
             0.8,
             "#7fbc41"
            ],
            [
             0.9,
             "#4d9221"
            ],
            [
             1,
             "#276419"
            ]
           ],
           "sequential": [
            [
             0,
             "#0d0887"
            ],
            [
             0.1111111111111111,
             "#46039f"
            ],
            [
             0.2222222222222222,
             "#7201a8"
            ],
            [
             0.3333333333333333,
             "#9c179e"
            ],
            [
             0.4444444444444444,
             "#bd3786"
            ],
            [
             0.5555555555555556,
             "#d8576b"
            ],
            [
             0.6666666666666666,
             "#ed7953"
            ],
            [
             0.7777777777777778,
             "#fb9f3a"
            ],
            [
             0.8888888888888888,
             "#fdca26"
            ],
            [
             1,
             "#f0f921"
            ]
           ],
           "sequentialminus": [
            [
             0,
             "#0d0887"
            ],
            [
             0.1111111111111111,
             "#46039f"
            ],
            [
             0.2222222222222222,
             "#7201a8"
            ],
            [
             0.3333333333333333,
             "#9c179e"
            ],
            [
             0.4444444444444444,
             "#bd3786"
            ],
            [
             0.5555555555555556,
             "#d8576b"
            ],
            [
             0.6666666666666666,
             "#ed7953"
            ],
            [
             0.7777777777777778,
             "#fb9f3a"
            ],
            [
             0.8888888888888888,
             "#fdca26"
            ],
            [
             1,
             "#f0f921"
            ]
           ]
          },
          "colorway": [
           "#636efa",
           "#EF553B",
           "#00cc96",
           "#ab63fa",
           "#FFA15A",
           "#19d3f3",
           "#FF6692",
           "#B6E880",
           "#FF97FF",
           "#FECB52"
          ],
          "font": {
           "color": "#2a3f5f"
          },
          "geo": {
           "bgcolor": "white",
           "lakecolor": "white",
           "landcolor": "#E5ECF6",
           "showlakes": true,
           "showland": true,
           "subunitcolor": "white"
          },
          "hoverlabel": {
           "align": "left"
          },
          "hovermode": "closest",
          "mapbox": {
           "style": "light"
          },
          "paper_bgcolor": "white",
          "plot_bgcolor": "#E5ECF6",
          "polar": {
           "angularaxis": {
            "gridcolor": "white",
            "linecolor": "white",
            "ticks": ""
           },
           "bgcolor": "#E5ECF6",
           "radialaxis": {
            "gridcolor": "white",
            "linecolor": "white",
            "ticks": ""
           }
          },
          "scene": {
           "xaxis": {
            "backgroundcolor": "#E5ECF6",
            "gridcolor": "white",
            "gridwidth": 2,
            "linecolor": "white",
            "showbackground": true,
            "ticks": "",
            "zerolinecolor": "white"
           },
           "yaxis": {
            "backgroundcolor": "#E5ECF6",
            "gridcolor": "white",
            "gridwidth": 2,
            "linecolor": "white",
            "showbackground": true,
            "ticks": "",
            "zerolinecolor": "white"
           },
           "zaxis": {
            "backgroundcolor": "#E5ECF6",
            "gridcolor": "white",
            "gridwidth": 2,
            "linecolor": "white",
            "showbackground": true,
            "ticks": "",
            "zerolinecolor": "white"
           }
          },
          "shapedefaults": {
           "line": {
            "color": "#2a3f5f"
           }
          },
          "ternary": {
           "aaxis": {
            "gridcolor": "white",
            "linecolor": "white",
            "ticks": ""
           },
           "baxis": {
            "gridcolor": "white",
            "linecolor": "white",
            "ticks": ""
           },
           "bgcolor": "#E5ECF6",
           "caxis": {
            "gridcolor": "white",
            "linecolor": "white",
            "ticks": ""
           }
          },
          "title": {
           "x": 0.05
          },
          "xaxis": {
           "automargin": true,
           "gridcolor": "white",
           "linecolor": "white",
           "ticks": "",
           "title": {
            "standoff": 15
           },
           "zerolinecolor": "white",
           "zerolinewidth": 2
          },
          "yaxis": {
           "automargin": true,
           "gridcolor": "white",
           "linecolor": "white",
           "ticks": "",
           "title": {
            "standoff": 15
           },
           "zerolinecolor": "white",
           "zerolinewidth": 2
          }
         }
        }
       }
      },
      "text/html": [
       "<div>\n",
       "        \n",
       "        \n",
       "            <div id=\"f7e643d2-316e-4255-96a2-62b41320063a\" class=\"plotly-graph-div\" style=\"height:525px; width:100%;\"></div>\n",
       "            <script type=\"text/javascript\">\n",
       "                require([\"plotly\"], function(Plotly) {\n",
       "                    window.PLOTLYENV=window.PLOTLYENV || {};\n",
       "                    \n",
       "                if (document.getElementById(\"f7e643d2-316e-4255-96a2-62b41320063a\")) {\n",
       "                    Plotly.newPlot(\n",
       "                        'f7e643d2-316e-4255-96a2-62b41320063a',\n",
       "                        [{\"domain\": {\"x\": [0.0, 1.0], \"y\": [0.0, 1.0]}, \"hoverlabel\": {\"namelength\": 0}, \"hovertemplate\": \"label=%{label}<br>value=%{value}\", \"labels\": [\"female\", \"male\"], \"legendgroup\": \"\", \"name\": \"\", \"showlegend\": true, \"type\": \"pie\", \"values\": [17, 36]}],\n",
       "                        {\"font\": {\"color\": \"#242323\", \"size\": 15}, \"legend\": {\"tracegroupgap\": 0}, \"margin\": {\"t\": 60}, \"template\": {\"data\": {\"bar\": [{\"error_x\": {\"color\": \"#2a3f5f\"}, \"error_y\": {\"color\": \"#2a3f5f\"}, \"marker\": {\"line\": {\"color\": \"#E5ECF6\", \"width\": 0.5}}, \"type\": \"bar\"}], \"barpolar\": [{\"marker\": {\"line\": {\"color\": \"#E5ECF6\", \"width\": 0.5}}, \"type\": \"barpolar\"}], \"carpet\": [{\"aaxis\": {\"endlinecolor\": \"#2a3f5f\", \"gridcolor\": \"white\", \"linecolor\": \"white\", \"minorgridcolor\": \"white\", \"startlinecolor\": \"#2a3f5f\"}, \"baxis\": {\"endlinecolor\": \"#2a3f5f\", \"gridcolor\": \"white\", \"linecolor\": \"white\", \"minorgridcolor\": \"white\", \"startlinecolor\": \"#2a3f5f\"}, \"type\": \"carpet\"}], \"choropleth\": [{\"colorbar\": {\"outlinewidth\": 0, \"ticks\": \"\"}, \"type\": \"choropleth\"}], \"contour\": [{\"colorbar\": {\"outlinewidth\": 0, \"ticks\": \"\"}, \"colorscale\": [[0.0, \"#0d0887\"], [0.1111111111111111, \"#46039f\"], [0.2222222222222222, \"#7201a8\"], [0.3333333333333333, \"#9c179e\"], [0.4444444444444444, \"#bd3786\"], [0.5555555555555556, \"#d8576b\"], [0.6666666666666666, \"#ed7953\"], [0.7777777777777778, \"#fb9f3a\"], [0.8888888888888888, \"#fdca26\"], [1.0, \"#f0f921\"]], \"type\": \"contour\"}], \"contourcarpet\": [{\"colorbar\": {\"outlinewidth\": 0, \"ticks\": \"\"}, \"type\": \"contourcarpet\"}], \"heatmap\": [{\"colorbar\": {\"outlinewidth\": 0, \"ticks\": \"\"}, \"colorscale\": [[0.0, \"#0d0887\"], [0.1111111111111111, \"#46039f\"], [0.2222222222222222, \"#7201a8\"], [0.3333333333333333, \"#9c179e\"], [0.4444444444444444, \"#bd3786\"], [0.5555555555555556, \"#d8576b\"], [0.6666666666666666, \"#ed7953\"], [0.7777777777777778, \"#fb9f3a\"], [0.8888888888888888, \"#fdca26\"], [1.0, \"#f0f921\"]], \"type\": \"heatmap\"}], \"heatmapgl\": [{\"colorbar\": {\"outlinewidth\": 0, \"ticks\": \"\"}, \"colorscale\": [[0.0, \"#0d0887\"], [0.1111111111111111, \"#46039f\"], [0.2222222222222222, \"#7201a8\"], [0.3333333333333333, \"#9c179e\"], [0.4444444444444444, \"#bd3786\"], [0.5555555555555556, \"#d8576b\"], [0.6666666666666666, \"#ed7953\"], [0.7777777777777778, \"#fb9f3a\"], [0.8888888888888888, \"#fdca26\"], [1.0, \"#f0f921\"]], \"type\": \"heatmapgl\"}], \"histogram\": [{\"marker\": {\"colorbar\": {\"outlinewidth\": 0, \"ticks\": \"\"}}, \"type\": \"histogram\"}], \"histogram2d\": [{\"colorbar\": {\"outlinewidth\": 0, \"ticks\": \"\"}, \"colorscale\": [[0.0, \"#0d0887\"], [0.1111111111111111, \"#46039f\"], [0.2222222222222222, \"#7201a8\"], [0.3333333333333333, \"#9c179e\"], [0.4444444444444444, \"#bd3786\"], [0.5555555555555556, \"#d8576b\"], [0.6666666666666666, \"#ed7953\"], [0.7777777777777778, \"#fb9f3a\"], [0.8888888888888888, \"#fdca26\"], [1.0, \"#f0f921\"]], \"type\": \"histogram2d\"}], \"histogram2dcontour\": [{\"colorbar\": {\"outlinewidth\": 0, \"ticks\": \"\"}, \"colorscale\": [[0.0, \"#0d0887\"], [0.1111111111111111, \"#46039f\"], [0.2222222222222222, \"#7201a8\"], [0.3333333333333333, \"#9c179e\"], [0.4444444444444444, \"#bd3786\"], [0.5555555555555556, \"#d8576b\"], [0.6666666666666666, \"#ed7953\"], [0.7777777777777778, \"#fb9f3a\"], [0.8888888888888888, \"#fdca26\"], [1.0, \"#f0f921\"]], \"type\": \"histogram2dcontour\"}], \"mesh3d\": [{\"colorbar\": {\"outlinewidth\": 0, \"ticks\": \"\"}, \"type\": \"mesh3d\"}], \"parcoords\": [{\"line\": {\"colorbar\": {\"outlinewidth\": 0, \"ticks\": \"\"}}, \"type\": \"parcoords\"}], \"pie\": [{\"automargin\": true, \"type\": \"pie\"}], \"scatter\": [{\"marker\": {\"colorbar\": {\"outlinewidth\": 0, \"ticks\": \"\"}}, \"type\": \"scatter\"}], \"scatter3d\": [{\"line\": {\"colorbar\": {\"outlinewidth\": 0, \"ticks\": \"\"}}, \"marker\": {\"colorbar\": {\"outlinewidth\": 0, \"ticks\": \"\"}}, \"type\": \"scatter3d\"}], \"scattercarpet\": [{\"marker\": {\"colorbar\": {\"outlinewidth\": 0, \"ticks\": \"\"}}, \"type\": \"scattercarpet\"}], \"scattergeo\": [{\"marker\": {\"colorbar\": {\"outlinewidth\": 0, \"ticks\": \"\"}}, \"type\": \"scattergeo\"}], \"scattergl\": [{\"marker\": {\"colorbar\": {\"outlinewidth\": 0, \"ticks\": \"\"}}, \"type\": \"scattergl\"}], \"scattermapbox\": [{\"marker\": {\"colorbar\": {\"outlinewidth\": 0, \"ticks\": \"\"}}, \"type\": \"scattermapbox\"}], \"scatterpolar\": [{\"marker\": {\"colorbar\": {\"outlinewidth\": 0, \"ticks\": \"\"}}, \"type\": \"scatterpolar\"}], \"scatterpolargl\": [{\"marker\": {\"colorbar\": {\"outlinewidth\": 0, \"ticks\": \"\"}}, \"type\": \"scatterpolargl\"}], \"scatterternary\": [{\"marker\": {\"colorbar\": {\"outlinewidth\": 0, \"ticks\": \"\"}}, \"type\": \"scatterternary\"}], \"surface\": [{\"colorbar\": {\"outlinewidth\": 0, \"ticks\": \"\"}, \"colorscale\": [[0.0, \"#0d0887\"], [0.1111111111111111, \"#46039f\"], [0.2222222222222222, \"#7201a8\"], [0.3333333333333333, \"#9c179e\"], [0.4444444444444444, \"#bd3786\"], [0.5555555555555556, \"#d8576b\"], [0.6666666666666666, \"#ed7953\"], [0.7777777777777778, \"#fb9f3a\"], [0.8888888888888888, \"#fdca26\"], [1.0, \"#f0f921\"]], \"type\": \"surface\"}], \"table\": [{\"cells\": {\"fill\": {\"color\": \"#EBF0F8\"}, \"line\": {\"color\": \"white\"}}, \"header\": {\"fill\": {\"color\": \"#C8D4E3\"}, \"line\": {\"color\": \"white\"}}, \"type\": \"table\"}]}, \"layout\": {\"annotationdefaults\": {\"arrowcolor\": \"#2a3f5f\", \"arrowhead\": 0, \"arrowwidth\": 1}, \"coloraxis\": {\"colorbar\": {\"outlinewidth\": 0, \"ticks\": \"\"}}, \"colorscale\": {\"diverging\": [[0, \"#8e0152\"], [0.1, \"#c51b7d\"], [0.2, \"#de77ae\"], [0.3, \"#f1b6da\"], [0.4, \"#fde0ef\"], [0.5, \"#f7f7f7\"], [0.6, \"#e6f5d0\"], [0.7, \"#b8e186\"], [0.8, \"#7fbc41\"], [0.9, \"#4d9221\"], [1, \"#276419\"]], \"sequential\": [[0.0, \"#0d0887\"], [0.1111111111111111, \"#46039f\"], [0.2222222222222222, \"#7201a8\"], [0.3333333333333333, \"#9c179e\"], [0.4444444444444444, \"#bd3786\"], [0.5555555555555556, \"#d8576b\"], [0.6666666666666666, \"#ed7953\"], [0.7777777777777778, \"#fb9f3a\"], [0.8888888888888888, \"#fdca26\"], [1.0, \"#f0f921\"]], \"sequentialminus\": [[0.0, \"#0d0887\"], [0.1111111111111111, \"#46039f\"], [0.2222222222222222, \"#7201a8\"], [0.3333333333333333, \"#9c179e\"], [0.4444444444444444, \"#bd3786\"], [0.5555555555555556, \"#d8576b\"], [0.6666666666666666, \"#ed7953\"], [0.7777777777777778, \"#fb9f3a\"], [0.8888888888888888, \"#fdca26\"], [1.0, \"#f0f921\"]]}, \"colorway\": [\"#636efa\", \"#EF553B\", \"#00cc96\", \"#ab63fa\", \"#FFA15A\", \"#19d3f3\", \"#FF6692\", \"#B6E880\", \"#FF97FF\", \"#FECB52\"], \"font\": {\"color\": \"#2a3f5f\"}, \"geo\": {\"bgcolor\": \"white\", \"lakecolor\": \"white\", \"landcolor\": \"#E5ECF6\", \"showlakes\": true, \"showland\": true, \"subunitcolor\": \"white\"}, \"hoverlabel\": {\"align\": \"left\"}, \"hovermode\": \"closest\", \"mapbox\": {\"style\": \"light\"}, \"paper_bgcolor\": \"white\", \"plot_bgcolor\": \"#E5ECF6\", \"polar\": {\"angularaxis\": {\"gridcolor\": \"white\", \"linecolor\": \"white\", \"ticks\": \"\"}, \"bgcolor\": \"#E5ECF6\", \"radialaxis\": {\"gridcolor\": \"white\", \"linecolor\": \"white\", \"ticks\": \"\"}}, \"scene\": {\"xaxis\": {\"backgroundcolor\": \"#E5ECF6\", \"gridcolor\": \"white\", \"gridwidth\": 2, \"linecolor\": \"white\", \"showbackground\": true, \"ticks\": \"\", \"zerolinecolor\": \"white\"}, \"yaxis\": {\"backgroundcolor\": \"#E5ECF6\", \"gridcolor\": \"white\", \"gridwidth\": 2, \"linecolor\": \"white\", \"showbackground\": true, \"ticks\": \"\", \"zerolinecolor\": \"white\"}, \"zaxis\": {\"backgroundcolor\": \"#E5ECF6\", \"gridcolor\": \"white\", \"gridwidth\": 2, \"linecolor\": \"white\", \"showbackground\": true, \"ticks\": \"\", \"zerolinecolor\": \"white\"}}, \"shapedefaults\": {\"line\": {\"color\": \"#2a3f5f\"}}, \"ternary\": {\"aaxis\": {\"gridcolor\": \"white\", \"linecolor\": \"white\", \"ticks\": \"\"}, \"baxis\": {\"gridcolor\": \"white\", \"linecolor\": \"white\", \"ticks\": \"\"}, \"bgcolor\": \"#E5ECF6\", \"caxis\": {\"gridcolor\": \"white\", \"linecolor\": \"white\", \"ticks\": \"\"}}, \"title\": {\"x\": 0.05}, \"xaxis\": {\"automargin\": true, \"gridcolor\": \"white\", \"linecolor\": \"white\", \"ticks\": \"\", \"title\": {\"standoff\": 15}, \"zerolinecolor\": \"white\", \"zerolinewidth\": 2}, \"yaxis\": {\"automargin\": true, \"gridcolor\": \"white\", \"linecolor\": \"white\", \"ticks\": \"\", \"title\": {\"standoff\": 15}, \"zerolinecolor\": \"white\", \"zerolinewidth\": 2}}}},\n",
       "                        {\"responsive\": true}\n",
       "                    ).then(function(){\n",
       "                            \n",
       "var gd = document.getElementById('f7e643d2-316e-4255-96a2-62b41320063a');\n",
       "var x = new MutationObserver(function (mutations, observer) {{\n",
       "        var display = window.getComputedStyle(gd).display;\n",
       "        if (!display || display === 'none') {{\n",
       "            console.log([gd, 'removed!']);\n",
       "            Plotly.purge(gd);\n",
       "            observer.disconnect();\n",
       "        }}\n",
       "}});\n",
       "\n",
       "// Listen for the removal of the full notebook cells\n",
       "var notebookContainer = gd.closest('#notebook-container');\n",
       "if (notebookContainer) {{\n",
       "    x.observe(notebookContainer, {childList: true});\n",
       "}}\n",
       "\n",
       "// Listen for the clearing of the current output cell\n",
       "var outputEl = gd.closest('.output');\n",
       "if (outputEl) {{\n",
       "    x.observe(outputEl, {childList: true});\n",
       "}}\n",
       "\n",
       "                        })\n",
       "                };\n",
       "                });\n",
       "            </script>\n",
       "        </div>"
      ]
     },
     "metadata": {},
     "output_type": "display_data"
    }
   ],
   "source": [
    "fig = px.pie( values=dead.groupby(['sex']).size().values,names=dead.groupby(['sex']).size().index)\n",
    "fig.update_layout(\n",
    "    font=dict(\n",
    "        size=15,\n",
    "        color=\"#242323\"\n",
    "    )\n",
    "    )   \n",
    "    \n",
    "py.iplot(fig)"
   ]
  },
  {
   "cell_type": "markdown",
   "metadata": {},
   "source": [
    "**Isolation by gender**"
   ]
  },
  {
   "cell_type": "code",
   "execution_count": 37,
   "metadata": {},
   "outputs": [
    {
     "data": {
      "image/png": "[encoded data removed]",
      "text/plain": [
       "<Figure size 1080x360 with 1 Axes>"
      ]
     },
     "metadata": {},
     "output_type": "display_data"
    }
   ],
   "source": [
    "plt.figure(figsize=(15, 5))\n",
    "plt.title('Sex')\n",
    "isolated_state.sex.value_counts().plot.bar();"
   ]
  },
  {
   "cell_type": "code",
   "execution_count": 38,
   "metadata": {},
   "outputs": [
    {
     "data": {
      "application/vnd.plotly.v1+json": {
       "config": {
        "linkText": "Export to plot.ly",
        "plotlyServerURL": "https://plot.ly",
        "showLink": false
       },
       "data": [
        {
         "domain": {
          "x": [
           0,
           1
          ],
          "y": [
           0,
           1
          ]
         },
         "hoverlabel": {
          "namelength": 0
         },
         "hovertemplate": "label=%{label}<br>value=%{value}",
         "labels": [
          "female",
          "male"
         ],
         "legendgroup": "",
         "name": "",
         "showlegend": true,
         "type": "pie",
         "values": [
          1019,
          816
         ]
        }
       ],
       "layout": {
        "font": {
         "color": "#242323",
         "size": 15
        },
        "legend": {
         "tracegroupgap": 0
        },
        "margin": {
         "t": 60
        },
        "template": {
         "data": {
          "bar": [
           {
            "error_x": {
             "color": "#2a3f5f"
            },
            "error_y": {
             "color": "#2a3f5f"
            },
            "marker": {
             "line": {
              "color": "#E5ECF6",
              "width": 0.5
             }
            },
            "type": "bar"
           }
          ],
          "barpolar": [
           {
            "marker": {
             "line": {
              "color": "#E5ECF6",
              "width": 0.5
             }
            },
            "type": "barpolar"
           }
          ],
          "carpet": [
           {
            "aaxis": {
             "endlinecolor": "#2a3f5f",
             "gridcolor": "white",
             "linecolor": "white",
             "minorgridcolor": "white",
             "startlinecolor": "#2a3f5f"
            },
            "baxis": {
             "endlinecolor": "#2a3f5f",
             "gridcolor": "white",
             "linecolor": "white",
             "minorgridcolor": "white",
             "startlinecolor": "#2a3f5f"
            },
            "type": "carpet"
           }
          ],
          "choropleth": [
           {
            "colorbar": {
             "outlinewidth": 0,
             "ticks": ""
            },
            "type": "choropleth"
           }
          ],
          "contour": [
           {
            "colorbar": {
             "outlinewidth": 0,
             "ticks": ""
            },
            "colorscale": [
             [
              0,
              "#0d0887"
             ],
             [
              0.1111111111111111,
              "#46039f"
             ],
             [
              0.2222222222222222,
              "#7201a8"
             ],
             [
              0.3333333333333333,
              "#9c179e"
             ],
             [
              0.4444444444444444,
              "#bd3786"
             ],
             [
              0.5555555555555556,
              "#d8576b"
             ],
             [
              0.6666666666666666,
              "#ed7953"
             ],
             [
              0.7777777777777778,
              "#fb9f3a"
             ],
             [
              0.8888888888888888,
              "#fdca26"
             ],
             [
              1,
              "#f0f921"
             ]
            ],
            "type": "contour"
           }
          ],
          "contourcarpet": [
           {
            "colorbar": {
             "outlinewidth": 0,
             "ticks": ""
            },
            "type": "contourcarpet"
           }
          ],
          "heatmap": [
           {
            "colorbar": {
             "outlinewidth": 0,
             "ticks": ""
            },
            "colorscale": [
             [
              0,
              "#0d0887"
             ],
             [
              0.1111111111111111,
              "#46039f"
             ],
             [
              0.2222222222222222,
              "#7201a8"
             ],
             [
              0.3333333333333333,
              "#9c179e"
             ],
             [
              0.4444444444444444,
              "#bd3786"
             ],
             [
              0.5555555555555556,
              "#d8576b"
             ],
             [
              0.6666666666666666,
              "#ed7953"
             ],
             [
              0.7777777777777778,
              "#fb9f3a"
             ],
             [
              0.8888888888888888,
              "#fdca26"
             ],
             [
              1,
              "#f0f921"
             ]
            ],
            "type": "heatmap"
           }
          ],
          "heatmapgl": [
           {
            "colorbar": {
             "outlinewidth": 0,
             "ticks": ""
            },
            "colorscale": [
             [
              0,
              "#0d0887"
             ],
             [
              0.1111111111111111,
              "#46039f"
             ],
             [
              0.2222222222222222,
              "#7201a8"
             ],
             [
              0.3333333333333333,
              "#9c179e"
             ],
             [
              0.4444444444444444,
              "#bd3786"
             ],
             [
              0.5555555555555556,
              "#d8576b"
             ],
             [
              0.6666666666666666,
              "#ed7953"
             ],
             [
              0.7777777777777778,
              "#fb9f3a"
             ],
             [
              0.8888888888888888,
              "#fdca26"
             ],
             [
              1,
              "#f0f921"
             ]
            ],
            "type": "heatmapgl"
           }
          ],
          "histogram": [
           {
            "marker": {
             "colorbar": {
              "outlinewidth": 0,
              "ticks": ""
             }
            },
            "type": "histogram"
           }
          ],
          "histogram2d": [
           {
            "colorbar": {
             "outlinewidth": 0,
             "ticks": ""
            },
            "colorscale": [
             [
              0,
              "#0d0887"
             ],
             [
              0.1111111111111111,
              "#46039f"
             ],
             [
              0.2222222222222222,
              "#7201a8"
             ],
             [
              0.3333333333333333,
              "#9c179e"
             ],
             [
              0.4444444444444444,
              "#bd3786"
             ],
             [
              0.5555555555555556,
              "#d8576b"
             ],
             [
              0.6666666666666666,
              "#ed7953"
             ],
             [
              0.7777777777777778,
              "#fb9f3a"
             ],
             [
              0.8888888888888888,
              "#fdca26"
             ],
             [
              1,
              "#f0f921"
             ]
            ],
            "type": "histogram2d"
           }
          ],
          "histogram2dcontour": [
           {
            "colorbar": {
             "outlinewidth": 0,
             "ticks": ""
            },
            "colorscale": [
             [
              0,
              "#0d0887"
             ],
             [
              0.1111111111111111,
              "#46039f"
             ],
             [
              0.2222222222222222,
              "#7201a8"
             ],
             [
              0.3333333333333333,
              "#9c179e"
             ],
             [
              0.4444444444444444,
              "#bd3786"
             ],
             [
              0.5555555555555556,
              "#d8576b"
             ],
             [
              0.6666666666666666,
              "#ed7953"
             ],
             [
              0.7777777777777778,
              "#fb9f3a"
             ],
             [
              0.8888888888888888,
              "#fdca26"
             ],
             [
              1,
              "#f0f921"
             ]
            ],
            "type": "histogram2dcontour"
           }
          ],
          "mesh3d": [
           {
            "colorbar": {
             "outlinewidth": 0,
             "ticks": ""
            },
            "type": "mesh3d"
           }
          ],
          "parcoords": [
           {
            "line": {
             "colorbar": {
              "outlinewidth": 0,
              "ticks": ""
             }
            },
            "type": "parcoords"
           }
          ],
          "pie": [
           {
            "automargin": true,
            "type": "pie"
           }
          ],
          "scatter": [
           {
            "marker": {
             "colorbar": {
              "outlinewidth": 0,
              "ticks": ""
             }
            },
            "type": "scatter"
           }
          ],
          "scatter3d": [
           {
            "line": {
             "colorbar": {
              "outlinewidth": 0,
              "ticks": ""
             }
            },
            "marker": {
             "colorbar": {
              "outlinewidth": 0,
              "ticks": ""
             }
            },
            "type": "scatter3d"
           }
          ],
          "scattercarpet": [
           {
            "marker": {
             "colorbar": {
              "outlinewidth": 0,
              "ticks": ""
             }
            },
            "type": "scattercarpet"
           }
          ],
          "scattergeo": [
           {
            "marker": {
             "colorbar": {
              "outlinewidth": 0,
              "ticks": ""
             }
            },
            "type": "scattergeo"
           }
          ],
          "scattergl": [
           {
            "marker": {
             "colorbar": {
              "outlinewidth": 0,
              "ticks": ""
             }
            },
            "type": "scattergl"
           }
          ],
          "scattermapbox": [
           {
            "marker": {
             "colorbar": {
              "outlinewidth": 0,
              "ticks": ""
             }
            },
            "type": "scattermapbox"
           }
          ],
          "scatterpolar": [
           {
            "marker": {
             "colorbar": {
              "outlinewidth": 0,
              "ticks": ""
             }
            },
            "type": "scatterpolar"
           }
          ],
          "scatterpolargl": [
           {
            "marker": {
             "colorbar": {
              "outlinewidth": 0,
              "ticks": ""
             }
            },
            "type": "scatterpolargl"
           }
          ],
          "scatterternary": [
           {
            "marker": {
             "colorbar": {
              "outlinewidth": 0,
              "ticks": ""
             }
            },
            "type": "scatterternary"
           }
          ],
          "surface": [
           {
            "colorbar": {
             "outlinewidth": 0,
             "ticks": ""
            },
            "colorscale": [
             [
              0,
              "#0d0887"
             ],
             [
              0.1111111111111111,
              "#46039f"
             ],
             [
              0.2222222222222222,
              "#7201a8"
             ],
             [
              0.3333333333333333,
              "#9c179e"
             ],
             [
              0.4444444444444444,
              "#bd3786"
             ],
             [
              0.5555555555555556,
              "#d8576b"
             ],
             [
              0.6666666666666666,
              "#ed7953"
             ],
             [
              0.7777777777777778,
              "#fb9f3a"
             ],
             [
              0.8888888888888888,
              "#fdca26"
             ],
             [
              1,
              "#f0f921"
             ]
            ],
            "type": "surface"
           }
          ],
          "table": [
           {
            "cells": {
             "fill": {
              "color": "#EBF0F8"
             },
             "line": {
              "color": "white"
             }
            },
            "header": {
             "fill": {
              "color": "#C8D4E3"
             },
             "line": {
              "color": "white"
             }
            },
            "type": "table"
           }
          ]
         },
         "layout": {
          "annotationdefaults": {
           "arrowcolor": "#2a3f5f",
           "arrowhead": 0,
           "arrowwidth": 1
          },
          "coloraxis": {
           "colorbar": {
            "outlinewidth": 0,
            "ticks": ""
           }
          },
          "colorscale": {
           "diverging": [
            [
             0,
             "#8e0152"
            ],
            [
             0.1,
             "#c51b7d"
            ],
            [
             0.2,
             "#de77ae"
            ],
            [
             0.3,
             "#f1b6da"
            ],
            [
             0.4,
             "#fde0ef"
            ],
            [
             0.5,
             "#f7f7f7"
            ],
            [
             0.6,
             "#e6f5d0"
            ],
            [
             0.7,
             "#b8e186"
            ],
            [
             0.8,
             "#7fbc41"
            ],
            [
             0.9,
             "#4d9221"
            ],
            [
             1,
             "#276419"
            ]
           ],
           "sequential": [
            [
             0,
             "#0d0887"
            ],
            [
             0.1111111111111111,
             "#46039f"
            ],
            [
             0.2222222222222222,
             "#7201a8"
            ],
            [
             0.3333333333333333,
             "#9c179e"
            ],
            [
             0.4444444444444444,
             "#bd3786"
            ],
            [
             0.5555555555555556,
             "#d8576b"
            ],
            [
             0.6666666666666666,
             "#ed7953"
            ],
            [
             0.7777777777777778,
             "#fb9f3a"
            ],
            [
             0.8888888888888888,
             "#fdca26"
            ],
            [
             1,
             "#f0f921"
            ]
           ],
           "sequentialminus": [
            [
             0,
             "#0d0887"
            ],
            [
             0.1111111111111111,
             "#46039f"
            ],
            [
             0.2222222222222222,
             "#7201a8"
            ],
            [
             0.3333333333333333,
             "#9c179e"
            ],
            [
             0.4444444444444444,
             "#bd3786"
            ],
            [
             0.5555555555555556,
             "#d8576b"
            ],
            [
             0.6666666666666666,
             "#ed7953"
            ],
            [
             0.7777777777777778,
             "#fb9f3a"
            ],
            [
             0.8888888888888888,
             "#fdca26"
            ],
            [
             1,
             "#f0f921"
            ]
           ]
          },
          "colorway": [
           "#636efa",
           "#EF553B",
           "#00cc96",
           "#ab63fa",
           "#FFA15A",
           "#19d3f3",
           "#FF6692",
           "#B6E880",
           "#FF97FF",
           "#FECB52"
          ],
          "font": {
           "color": "#2a3f5f"
          },
          "geo": {
           "bgcolor": "white",
           "lakecolor": "white",
           "landcolor": "#E5ECF6",
           "showlakes": true,
           "showland": true,
           "subunitcolor": "white"
          },
          "hoverlabel": {
           "align": "left"
          },
          "hovermode": "closest",
          "mapbox": {
           "style": "light"
          },
          "paper_bgcolor": "white",
          "plot_bgcolor": "#E5ECF6",
          "polar": {
           "angularaxis": {
            "gridcolor": "white",
            "linecolor": "white",
            "ticks": ""
           },
           "bgcolor": "#E5ECF6",
           "radialaxis": {
            "gridcolor": "white",
            "linecolor": "white",
            "ticks": ""
           }
          },
          "scene": {
           "xaxis": {
            "backgroundcolor": "#E5ECF6",
            "gridcolor": "white",
            "gridwidth": 2,
            "linecolor": "white",
            "showbackground": true,
            "ticks": "",
            "zerolinecolor": "white"
           },
           "yaxis": {
            "backgroundcolor": "#E5ECF6",
            "gridcolor": "white",
            "gridwidth": 2,
            "linecolor": "white",
            "showbackground": true,
            "ticks": "",
            "zerolinecolor": "white"
           },
           "zaxis": {
            "backgroundcolor": "#E5ECF6",
            "gridcolor": "white",
            "gridwidth": 2,
            "linecolor": "white",
            "showbackground": true,
            "ticks": "",
            "zerolinecolor": "white"
           }
          },
          "shapedefaults": {
           "line": {
            "color": "#2a3f5f"
           }
          },
          "ternary": {
           "aaxis": {
            "gridcolor": "white",
            "linecolor": "white",
            "ticks": ""
           },
           "baxis": {
            "gridcolor": "white",
            "linecolor": "white",
            "ticks": ""
           },
           "bgcolor": "#E5ECF6",
           "caxis": {
            "gridcolor": "white",
            "linecolor": "white",
            "ticks": ""
           }
          },
          "title": {
           "x": 0.05
          },
          "xaxis": {
           "automargin": true,
           "gridcolor": "white",
           "linecolor": "white",
           "ticks": "",
           "title": {
            "standoff": 15
           },
           "zerolinecolor": "white",
           "zerolinewidth": 2
          },
          "yaxis": {
           "automargin": true,
           "gridcolor": "white",
           "linecolor": "white",
           "ticks": "",
           "title": {
            "standoff": 15
           },
           "zerolinecolor": "white",
           "zerolinewidth": 2
          }
         }
        }
       }
      },
      "text/html": [
       "<div>\n",
       "        \n",
       "        \n",
       "            <div id=\"944b2867-19c3-4966-958c-3b5f38eddc8a\" class=\"plotly-graph-div\" style=\"height:525px; width:100%;\"></div>\n",
       "            <script type=\"text/javascript\">\n",
       "                require([\"plotly\"], function(Plotly) {\n",
       "                    window.PLOTLYENV=window.PLOTLYENV || {};\n",
       "                    \n",
       "                if (document.getElementById(\"944b2867-19c3-4966-958c-3b5f38eddc8a\")) {\n",
       "                    Plotly.newPlot(\n",
       "                        '944b2867-19c3-4966-958c-3b5f38eddc8a',\n",
       "                        [{\"domain\": {\"x\": [0.0, 1.0], \"y\": [0.0, 1.0]}, \"hoverlabel\": {\"namelength\": 0}, \"hovertemplate\": \"label=%{label}<br>value=%{value}\", \"labels\": [\"female\", \"male\"], \"legendgroup\": \"\", \"name\": \"\", \"showlegend\": true, \"type\": \"pie\", \"values\": [1019, 816]}],\n",
       "                        {\"font\": {\"color\": \"#242323\", \"size\": 15}, \"legend\": {\"tracegroupgap\": 0}, \"margin\": {\"t\": 60}, \"template\": {\"data\": {\"bar\": [{\"error_x\": {\"color\": \"#2a3f5f\"}, \"error_y\": {\"color\": \"#2a3f5f\"}, \"marker\": {\"line\": {\"color\": \"#E5ECF6\", \"width\": 0.5}}, \"type\": \"bar\"}], \"barpolar\": [{\"marker\": {\"line\": {\"color\": \"#E5ECF6\", \"width\": 0.5}}, \"type\": \"barpolar\"}], \"carpet\": [{\"aaxis\": {\"endlinecolor\": \"#2a3f5f\", \"gridcolor\": \"white\", \"linecolor\": \"white\", \"minorgridcolor\": \"white\", \"startlinecolor\": \"#2a3f5f\"}, \"baxis\": {\"endlinecolor\": \"#2a3f5f\", \"gridcolor\": \"white\", \"linecolor\": \"white\", \"minorgridcolor\": \"white\", \"startlinecolor\": \"#2a3f5f\"}, \"type\": \"carpet\"}], \"choropleth\": [{\"colorbar\": {\"outlinewidth\": 0, \"ticks\": \"\"}, \"type\": \"choropleth\"}], \"contour\": [{\"colorbar\": {\"outlinewidth\": 0, \"ticks\": \"\"}, \"colorscale\": [[0.0, \"#0d0887\"], [0.1111111111111111, \"#46039f\"], [0.2222222222222222, \"#7201a8\"], [0.3333333333333333, \"#9c179e\"], [0.4444444444444444, \"#bd3786\"], [0.5555555555555556, \"#d8576b\"], [0.6666666666666666, \"#ed7953\"], [0.7777777777777778, \"#fb9f3a\"], [0.8888888888888888, \"#fdca26\"], [1.0, \"#f0f921\"]], \"type\": \"contour\"}], \"contourcarpet\": [{\"colorbar\": {\"outlinewidth\": 0, \"ticks\": \"\"}, \"type\": \"contourcarpet\"}], \"heatmap\": [{\"colorbar\": {\"outlinewidth\": 0, \"ticks\": \"\"}, \"colorscale\": [[0.0, \"#0d0887\"], [0.1111111111111111, \"#46039f\"], [0.2222222222222222, \"#7201a8\"], [0.3333333333333333, \"#9c179e\"], [0.4444444444444444, \"#bd3786\"], [0.5555555555555556, \"#d8576b\"], [0.6666666666666666, \"#ed7953\"], [0.7777777777777778, \"#fb9f3a\"], [0.8888888888888888, \"#fdca26\"], [1.0, \"#f0f921\"]], \"type\": \"heatmap\"}], \"heatmapgl\": [{\"colorbar\": {\"outlinewidth\": 0, \"ticks\": \"\"}, \"colorscale\": [[0.0, \"#0d0887\"], [0.1111111111111111, \"#46039f\"], [0.2222222222222222, \"#7201a8\"], [0.3333333333333333, \"#9c179e\"], [0.4444444444444444, \"#bd3786\"], [0.5555555555555556, \"#d8576b\"], [0.6666666666666666, \"#ed7953\"], [0.7777777777777778, \"#fb9f3a\"], [0.8888888888888888, \"#fdca26\"], [1.0, \"#f0f921\"]], \"type\": \"heatmapgl\"}], \"histogram\": [{\"marker\": {\"colorbar\": {\"outlinewidth\": 0, \"ticks\": \"\"}}, \"type\": \"histogram\"}], \"histogram2d\": [{\"colorbar\": {\"outlinewidth\": 0, \"ticks\": \"\"}, \"colorscale\": [[0.0, \"#0d0887\"], [0.1111111111111111, \"#46039f\"], [0.2222222222222222, \"#7201a8\"], [0.3333333333333333, \"#9c179e\"], [0.4444444444444444, \"#bd3786\"], [0.5555555555555556, \"#d8576b\"], [0.6666666666666666, \"#ed7953\"], [0.7777777777777778, \"#fb9f3a\"], [0.8888888888888888, \"#fdca26\"], [1.0, \"#f0f921\"]], \"type\": \"histogram2d\"}], \"histogram2dcontour\": [{\"colorbar\": {\"outlinewidth\": 0, \"ticks\": \"\"}, \"colorscale\": [[0.0, \"#0d0887\"], [0.1111111111111111, \"#46039f\"], [0.2222222222222222, \"#7201a8\"], [0.3333333333333333, \"#9c179e\"], [0.4444444444444444, \"#bd3786\"], [0.5555555555555556, \"#d8576b\"], [0.6666666666666666, \"#ed7953\"], [0.7777777777777778, \"#fb9f3a\"], [0.8888888888888888, \"#fdca26\"], [1.0, \"#f0f921\"]], \"type\": \"histogram2dcontour\"}], \"mesh3d\": [{\"colorbar\": {\"outlinewidth\": 0, \"ticks\": \"\"}, \"type\": \"mesh3d\"}], \"parcoords\": [{\"line\": {\"colorbar\": {\"outlinewidth\": 0, \"ticks\": \"\"}}, \"type\": \"parcoords\"}], \"pie\": [{\"automargin\": true, \"type\": \"pie\"}], \"scatter\": [{\"marker\": {\"colorbar\": {\"outlinewidth\": 0, \"ticks\": \"\"}}, \"type\": \"scatter\"}], \"scatter3d\": [{\"line\": {\"colorbar\": {\"outlinewidth\": 0, \"ticks\": \"\"}}, \"marker\": {\"colorbar\": {\"outlinewidth\": 0, \"ticks\": \"\"}}, \"type\": \"scatter3d\"}], \"scattercarpet\": [{\"marker\": {\"colorbar\": {\"outlinewidth\": 0, \"ticks\": \"\"}}, \"type\": \"scattercarpet\"}], \"scattergeo\": [{\"marker\": {\"colorbar\": {\"outlinewidth\": 0, \"ticks\": \"\"}}, \"type\": \"scattergeo\"}], \"scattergl\": [{\"marker\": {\"colorbar\": {\"outlinewidth\": 0, \"ticks\": \"\"}}, \"type\": \"scattergl\"}], \"scattermapbox\": [{\"marker\": {\"colorbar\": {\"outlinewidth\": 0, \"ticks\": \"\"}}, \"type\": \"scattermapbox\"}], \"scatterpolar\": [{\"marker\": {\"colorbar\": {\"outlinewidth\": 0, \"ticks\": \"\"}}, \"type\": \"scatterpolar\"}], \"scatterpolargl\": [{\"marker\": {\"colorbar\": {\"outlinewidth\": 0, \"ticks\": \"\"}}, \"type\": \"scatterpolargl\"}], \"scatterternary\": [{\"marker\": {\"colorbar\": {\"outlinewidth\": 0, \"ticks\": \"\"}}, \"type\": \"scatterternary\"}], \"surface\": [{\"colorbar\": {\"outlinewidth\": 0, \"ticks\": \"\"}, \"colorscale\": [[0.0, \"#0d0887\"], [0.1111111111111111, \"#46039f\"], [0.2222222222222222, \"#7201a8\"], [0.3333333333333333, \"#9c179e\"], [0.4444444444444444, \"#bd3786\"], [0.5555555555555556, \"#d8576b\"], [0.6666666666666666, \"#ed7953\"], [0.7777777777777778, \"#fb9f3a\"], [0.8888888888888888, \"#fdca26\"], [1.0, \"#f0f921\"]], \"type\": \"surface\"}], \"table\": [{\"cells\": {\"fill\": {\"color\": \"#EBF0F8\"}, \"line\": {\"color\": \"white\"}}, \"header\": {\"fill\": {\"color\": \"#C8D4E3\"}, \"line\": {\"color\": \"white\"}}, \"type\": \"table\"}]}, \"layout\": {\"annotationdefaults\": {\"arrowcolor\": \"#2a3f5f\", \"arrowhead\": 0, \"arrowwidth\": 1}, \"coloraxis\": {\"colorbar\": {\"outlinewidth\": 0, \"ticks\": \"\"}}, \"colorscale\": {\"diverging\": [[0, \"#8e0152\"], [0.1, \"#c51b7d\"], [0.2, \"#de77ae\"], [0.3, \"#f1b6da\"], [0.4, \"#fde0ef\"], [0.5, \"#f7f7f7\"], [0.6, \"#e6f5d0\"], [0.7, \"#b8e186\"], [0.8, \"#7fbc41\"], [0.9, \"#4d9221\"], [1, \"#276419\"]], \"sequential\": [[0.0, \"#0d0887\"], [0.1111111111111111, \"#46039f\"], [0.2222222222222222, \"#7201a8\"], [0.3333333333333333, \"#9c179e\"], [0.4444444444444444, \"#bd3786\"], [0.5555555555555556, \"#d8576b\"], [0.6666666666666666, \"#ed7953\"], [0.7777777777777778, \"#fb9f3a\"], [0.8888888888888888, \"#fdca26\"], [1.0, \"#f0f921\"]], \"sequentialminus\": [[0.0, \"#0d0887\"], [0.1111111111111111, \"#46039f\"], [0.2222222222222222, \"#7201a8\"], [0.3333333333333333, \"#9c179e\"], [0.4444444444444444, \"#bd3786\"], [0.5555555555555556, \"#d8576b\"], [0.6666666666666666, \"#ed7953\"], [0.7777777777777778, \"#fb9f3a\"], [0.8888888888888888, \"#fdca26\"], [1.0, \"#f0f921\"]]}, \"colorway\": [\"#636efa\", \"#EF553B\", \"#00cc96\", \"#ab63fa\", \"#FFA15A\", \"#19d3f3\", \"#FF6692\", \"#B6E880\", \"#FF97FF\", \"#FECB52\"], \"font\": {\"color\": \"#2a3f5f\"}, \"geo\": {\"bgcolor\": \"white\", \"lakecolor\": \"white\", \"landcolor\": \"#E5ECF6\", \"showlakes\": true, \"showland\": true, \"subunitcolor\": \"white\"}, \"hoverlabel\": {\"align\": \"left\"}, \"hovermode\": \"closest\", \"mapbox\": {\"style\": \"light\"}, \"paper_bgcolor\": \"white\", \"plot_bgcolor\": \"#E5ECF6\", \"polar\": {\"angularaxis\": {\"gridcolor\": \"white\", \"linecolor\": \"white\", \"ticks\": \"\"}, \"bgcolor\": \"#E5ECF6\", \"radialaxis\": {\"gridcolor\": \"white\", \"linecolor\": \"white\", \"ticks\": \"\"}}, \"scene\": {\"xaxis\": {\"backgroundcolor\": \"#E5ECF6\", \"gridcolor\": \"white\", \"gridwidth\": 2, \"linecolor\": \"white\", \"showbackground\": true, \"ticks\": \"\", \"zerolinecolor\": \"white\"}, \"yaxis\": {\"backgroundcolor\": \"#E5ECF6\", \"gridcolor\": \"white\", \"gridwidth\": 2, \"linecolor\": \"white\", \"showbackground\": true, \"ticks\": \"\", \"zerolinecolor\": \"white\"}, \"zaxis\": {\"backgroundcolor\": \"#E5ECF6\", \"gridcolor\": \"white\", \"gridwidth\": 2, \"linecolor\": \"white\", \"showbackground\": true, \"ticks\": \"\", \"zerolinecolor\": \"white\"}}, \"shapedefaults\": {\"line\": {\"color\": \"#2a3f5f\"}}, \"ternary\": {\"aaxis\": {\"gridcolor\": \"white\", \"linecolor\": \"white\", \"ticks\": \"\"}, \"baxis\": {\"gridcolor\": \"white\", \"linecolor\": \"white\", \"ticks\": \"\"}, \"bgcolor\": \"#E5ECF6\", \"caxis\": {\"gridcolor\": \"white\", \"linecolor\": \"white\", \"ticks\": \"\"}}, \"title\": {\"x\": 0.05}, \"xaxis\": {\"automargin\": true, \"gridcolor\": \"white\", \"linecolor\": \"white\", \"ticks\": \"\", \"title\": {\"standoff\": 15}, \"zerolinecolor\": \"white\", \"zerolinewidth\": 2}, \"yaxis\": {\"automargin\": true, \"gridcolor\": \"white\", \"linecolor\": \"white\", \"ticks\": \"\", \"title\": {\"standoff\": 15}, \"zerolinecolor\": \"white\", \"zerolinewidth\": 2}}}},\n",
       "                        {\"responsive\": true}\n",
       "                    ).then(function(){\n",
       "                            \n",
       "var gd = document.getElementById('944b2867-19c3-4966-958c-3b5f38eddc8a');\n",
       "var x = new MutationObserver(function (mutations, observer) {{\n",
       "        var display = window.getComputedStyle(gd).display;\n",
       "        if (!display || display === 'none') {{\n",
       "            console.log([gd, 'removed!']);\n",
       "            Plotly.purge(gd);\n",
       "            observer.disconnect();\n",
       "        }}\n",
       "}});\n",
       "\n",
       "// Listen for the removal of the full notebook cells\n",
       "var notebookContainer = gd.closest('#notebook-container');\n",
       "if (notebookContainer) {{\n",
       "    x.observe(notebookContainer, {childList: true});\n",
       "}}\n",
       "\n",
       "// Listen for the clearing of the current output cell\n",
       "var outputEl = gd.closest('.output');\n",
       "if (outputEl) {{\n",
       "    x.observe(outputEl, {childList: true});\n",
       "}}\n",
       "\n",
       "                        })\n",
       "                };\n",
       "                });\n",
       "            </script>\n",
       "        </div>"
      ]
     },
     "metadata": {},
     "output_type": "display_data"
    }
   ],
   "source": [
    "fig = px.pie( values=isolated_state.groupby(['sex']).size().values,names=isolated_state.groupby(['sex']).size().index)\n",
    "fig.update_layout(\n",
    "    font=dict(\n",
    "        size=15,\n",
    "        color=\"#242323\"\n",
    "    )\n",
    "    )   \n",
    "    \n",
    "py.iplot(fig)"
   ]
  },
  {
   "cell_type": "markdown",
   "metadata": {},
   "source": [
    "**Recovery by gender**"
   ]
  },
  {
   "cell_type": "code",
   "execution_count": 39,
   "metadata": {},
   "outputs": [
    {
     "data": {
      "image/png": "[encoded data removed]",
      "text/plain": [
       "<Figure size 1080x360 with 1 Axes>"
      ]
     },
     "metadata": {},
     "output_type": "display_data"
    }
   ],
   "source": [
    "plt.figure(figsize=(15, 5))\n",
    "plt.title('Sex')\n",
    "released.sex.value_counts().plot.bar();"
   ]
  },
  {
   "cell_type": "code",
   "execution_count": 40,
   "metadata": {},
   "outputs": [
    {
     "data": {
      "application/vnd.plotly.v1+json": {
       "config": {
        "linkText": "Export to plot.ly",
        "plotlyServerURL": "https://plot.ly",
        "showLink": false
       },
       "data": [
        {
         "domain": {
          "x": [
           0,
           1
          ],
          "y": [
           0,
           1
          ]
         },
         "hoverlabel": {
          "namelength": 0
         },
         "hovertemplate": "label=%{label}<br>value=%{value}",
         "labels": [
          "female",
          "male"
         ],
         "legendgroup": "",
         "name": "",
         "showlegend": true,
         "type": "pie",
         "values": [
          511,
          366
         ]
        }
       ],
       "layout": {
        "font": {
         "color": "#242323",
         "size": 15
        },
        "legend": {
         "tracegroupgap": 0
        },
        "margin": {
         "t": 60
        },
        "template": {
         "data": {
          "bar": [
           {
            "error_x": {
             "color": "#2a3f5f"
            },
            "error_y": {
             "color": "#2a3f5f"
            },
            "marker": {
             "line": {
              "color": "#E5ECF6",
              "width": 0.5
             }
            },
            "type": "bar"
           }
          ],
          "barpolar": [
           {
            "marker": {
             "line": {
              "color": "#E5ECF6",
              "width": 0.5
             }
            },
            "type": "barpolar"
           }
          ],
          "carpet": [
           {
            "aaxis": {
             "endlinecolor": "#2a3f5f",
             "gridcolor": "white",
             "linecolor": "white",
             "minorgridcolor": "white",
             "startlinecolor": "#2a3f5f"
            },
            "baxis": {
             "endlinecolor": "#2a3f5f",
             "gridcolor": "white",
             "linecolor": "white",
             "minorgridcolor": "white",
             "startlinecolor": "#2a3f5f"
            },
            "type": "carpet"
           }
          ],
          "choropleth": [
           {
            "colorbar": {
             "outlinewidth": 0,
             "ticks": ""
            },
            "type": "choropleth"
           }
          ],
          "contour": [
           {
            "colorbar": {
             "outlinewidth": 0,
             "ticks": ""
            },
            "colorscale": [
             [
              0,
              "#0d0887"
             ],
             [
              0.1111111111111111,
              "#46039f"
             ],
             [
              0.2222222222222222,
              "#7201a8"
             ],
             [
              0.3333333333333333,
              "#9c179e"
             ],
             [
              0.4444444444444444,
              "#bd3786"
             ],
             [
              0.5555555555555556,
              "#d8576b"
             ],
             [
              0.6666666666666666,
              "#ed7953"
             ],
             [
              0.7777777777777778,
              "#fb9f3a"
             ],
             [
              0.8888888888888888,
              "#fdca26"
             ],
             [
              1,
              "#f0f921"
             ]
            ],
            "type": "contour"
           }
          ],
          "contourcarpet": [
           {
            "colorbar": {
             "outlinewidth": 0,
             "ticks": ""
            },
            "type": "contourcarpet"
           }
          ],
          "heatmap": [
           {
            "colorbar": {
             "outlinewidth": 0,
             "ticks": ""
            },
            "colorscale": [
             [
              0,
              "#0d0887"
             ],
             [
              0.1111111111111111,
              "#46039f"
             ],
             [
              0.2222222222222222,
              "#7201a8"
             ],
             [
              0.3333333333333333,
              "#9c179e"
             ],
             [
              0.4444444444444444,
              "#bd3786"
             ],
             [
              0.5555555555555556,
              "#d8576b"
             ],
             [
              0.6666666666666666,
              "#ed7953"
             ],
             [
              0.7777777777777778,
              "#fb9f3a"
             ],
             [
              0.8888888888888888,
              "#fdca26"
             ],
             [
              1,
              "#f0f921"
             ]
            ],
            "type": "heatmap"
           }
          ],
          "heatmapgl": [
           {
            "colorbar": {
             "outlinewidth": 0,
             "ticks": ""
            },
            "colorscale": [
             [
              0,
              "#0d0887"
             ],
             [
              0.1111111111111111,
              "#46039f"
             ],
             [
              0.2222222222222222,
              "#7201a8"
             ],
             [
              0.3333333333333333,
              "#9c179e"
             ],
             [
              0.4444444444444444,
              "#bd3786"
             ],
             [
              0.5555555555555556,
              "#d8576b"
             ],
             [
              0.6666666666666666,
              "#ed7953"
             ],
             [
              0.7777777777777778,
              "#fb9f3a"
             ],
             [
              0.8888888888888888,
              "#fdca26"
             ],
             [
              1,
              "#f0f921"
             ]
            ],
            "type": "heatmapgl"
           }
          ],
          "histogram": [
           {
            "marker": {
             "colorbar": {
              "outlinewidth": 0,
              "ticks": ""
             }
            },
            "type": "histogram"
           }
          ],
          "histogram2d": [
           {
            "colorbar": {
             "outlinewidth": 0,
             "ticks": ""
            },
            "colorscale": [
             [
              0,
              "#0d0887"
             ],
             [
              0.1111111111111111,
              "#46039f"
             ],
             [
              0.2222222222222222,
              "#7201a8"
             ],
             [
              0.3333333333333333,
              "#9c179e"
             ],
             [
              0.4444444444444444,
              "#bd3786"
             ],
             [
              0.5555555555555556,
              "#d8576b"
             ],
             [
              0.6666666666666666,
              "#ed7953"
             ],
             [
              0.7777777777777778,
              "#fb9f3a"
             ],
             [
              0.8888888888888888,
              "#fdca26"
             ],
             [
              1,
              "#f0f921"
             ]
            ],
            "type": "histogram2d"
           }
          ],
          "histogram2dcontour": [
           {
            "colorbar": {
             "outlinewidth": 0,
             "ticks": ""
            },
            "colorscale": [
             [
              0,
              "#0d0887"
             ],
             [
              0.1111111111111111,
              "#46039f"
             ],
             [
              0.2222222222222222,
              "#7201a8"
             ],
             [
              0.3333333333333333,
              "#9c179e"
             ],
             [
              0.4444444444444444,
              "#bd3786"
             ],
             [
              0.5555555555555556,
              "#d8576b"
             ],
             [
              0.6666666666666666,
              "#ed7953"
             ],
             [
              0.7777777777777778,
              "#fb9f3a"
             ],
             [
              0.8888888888888888,
              "#fdca26"
             ],
             [
              1,
              "#f0f921"
             ]
            ],
            "type": "histogram2dcontour"
           }
          ],
          "mesh3d": [
           {
            "colorbar": {
             "outlinewidth": 0,
             "ticks": ""
            },
            "type": "mesh3d"
           }
          ],
          "parcoords": [
           {
            "line": {
             "colorbar": {
              "outlinewidth": 0,
              "ticks": ""
             }
            },
            "type": "parcoords"
           }
          ],
          "pie": [
           {
            "automargin": true,
            "type": "pie"
           }
          ],
          "scatter": [
           {
            "marker": {
             "colorbar": {
              "outlinewidth": 0,
              "ticks": ""
             }
            },
            "type": "scatter"
           }
          ],
          "scatter3d": [
           {
            "line": {
             "colorbar": {
              "outlinewidth": 0,
              "ticks": ""
             }
            },
            "marker": {
             "colorbar": {
              "outlinewidth": 0,
              "ticks": ""
             }
            },
            "type": "scatter3d"
           }
          ],
          "scattercarpet": [
           {
            "marker": {
             "colorbar": {
              "outlinewidth": 0,
              "ticks": ""
             }
            },
            "type": "scattercarpet"
           }
          ],
          "scattergeo": [
           {
            "marker": {
             "colorbar": {
              "outlinewidth": 0,
              "ticks": ""
             }
            },
            "type": "scattergeo"
           }
          ],
          "scattergl": [
           {
            "marker": {
             "colorbar": {
              "outlinewidth": 0,
              "ticks": ""
             }
            },
            "type": "scattergl"
           }
          ],
          "scattermapbox": [
           {
            "marker": {
             "colorbar": {
              "outlinewidth": 0,
              "ticks": ""
             }
            },
            "type": "scattermapbox"
           }
          ],
          "scatterpolar": [
           {
            "marker": {
             "colorbar": {
              "outlinewidth": 0,
              "ticks": ""
             }
            },
            "type": "scatterpolar"
           }
          ],
          "scatterpolargl": [
           {
            "marker": {
             "colorbar": {
              "outlinewidth": 0,
              "ticks": ""
             }
            },
            "type": "scatterpolargl"
           }
          ],
          "scatterternary": [
           {
            "marker": {
             "colorbar": {
              "outlinewidth": 0,
              "ticks": ""
             }
            },
            "type": "scatterternary"
           }
          ],
          "surface": [
           {
            "colorbar": {
             "outlinewidth": 0,
             "ticks": ""
            },
            "colorscale": [
             [
              0,
              "#0d0887"
             ],
             [
              0.1111111111111111,
              "#46039f"
             ],
             [
              0.2222222222222222,
              "#7201a8"
             ],
             [
              0.3333333333333333,
              "#9c179e"
             ],
             [
              0.4444444444444444,
              "#bd3786"
             ],
             [
              0.5555555555555556,
              "#d8576b"
             ],
             [
              0.6666666666666666,
              "#ed7953"
             ],
             [
              0.7777777777777778,
              "#fb9f3a"
             ],
             [
              0.8888888888888888,
              "#fdca26"
             ],
             [
              1,
              "#f0f921"
             ]
            ],
            "type": "surface"
           }
          ],
          "table": [
           {
            "cells": {
             "fill": {
              "color": "#EBF0F8"
             },
             "line": {
              "color": "white"
             }
            },
            "header": {
             "fill": {
              "color": "#C8D4E3"
             },
             "line": {
              "color": "white"
             }
            },
            "type": "table"
           }
          ]
         },
         "layout": {
          "annotationdefaults": {
           "arrowcolor": "#2a3f5f",
           "arrowhead": 0,
           "arrowwidth": 1
          },
          "coloraxis": {
           "colorbar": {
            "outlinewidth": 0,
            "ticks": ""
           }
          },
          "colorscale": {
           "diverging": [
            [
             0,
             "#8e0152"
            ],
            [
             0.1,
             "#c51b7d"
            ],
            [
             0.2,
             "#de77ae"
            ],
            [
             0.3,
             "#f1b6da"
            ],
            [
             0.4,
             "#fde0ef"
            ],
            [
             0.5,
             "#f7f7f7"
            ],
            [
             0.6,
             "#e6f5d0"
            ],
            [
             0.7,
             "#b8e186"
            ],
            [
             0.8,
             "#7fbc41"
            ],
            [
             0.9,
             "#4d9221"
            ],
            [
             1,
             "#276419"
            ]
           ],
           "sequential": [
            [
             0,
             "#0d0887"
            ],
            [
             0.1111111111111111,
             "#46039f"
            ],
            [
             0.2222222222222222,
             "#7201a8"
            ],
            [
             0.3333333333333333,
             "#9c179e"
            ],
            [
             0.4444444444444444,
             "#bd3786"
            ],
            [
             0.5555555555555556,
             "#d8576b"
            ],
            [
             0.6666666666666666,
             "#ed7953"
            ],
            [
             0.7777777777777778,
             "#fb9f3a"
            ],
            [
             0.8888888888888888,
             "#fdca26"
            ],
            [
             1,
             "#f0f921"
            ]
           ],
           "sequentialminus": [
            [
             0,
             "#0d0887"
            ],
            [
             0.1111111111111111,
             "#46039f"
            ],
            [
             0.2222222222222222,
             "#7201a8"
            ],
            [
             0.3333333333333333,
             "#9c179e"
            ],
            [
             0.4444444444444444,
             "#bd3786"
            ],
            [
             0.5555555555555556,
             "#d8576b"
            ],
            [
             0.6666666666666666,
             "#ed7953"
            ],
            [
             0.7777777777777778,
             "#fb9f3a"
            ],
            [
             0.8888888888888888,
             "#fdca26"
            ],
            [
             1,
             "#f0f921"
            ]
           ]
          },
          "colorway": [
           "#636efa",
           "#EF553B",
           "#00cc96",
           "#ab63fa",
           "#FFA15A",
           "#19d3f3",
           "#FF6692",
           "#B6E880",
           "#FF97FF",
           "#FECB52"
          ],
          "font": {
           "color": "#2a3f5f"
          },
          "geo": {
           "bgcolor": "white",
           "lakecolor": "white",
           "landcolor": "#E5ECF6",
           "showlakes": true,
           "showland": true,
           "subunitcolor": "white"
          },
          "hoverlabel": {
           "align": "left"
          },
          "hovermode": "closest",
          "mapbox": {
           "style": "light"
          },
          "paper_bgcolor": "white",
          "plot_bgcolor": "#E5ECF6",
          "polar": {
           "angularaxis": {
            "gridcolor": "white",
            "linecolor": "white",
            "ticks": ""
           },
           "bgcolor": "#E5ECF6",
           "radialaxis": {
            "gridcolor": "white",
            "linecolor": "white",
            "ticks": ""
           }
          },
          "scene": {
           "xaxis": {
            "backgroundcolor": "#E5ECF6",
            "gridcolor": "white",
            "gridwidth": 2,
            "linecolor": "white",
            "showbackground": true,
            "ticks": "",
            "zerolinecolor": "white"
           },
           "yaxis": {
            "backgroundcolor": "#E5ECF6",
            "gridcolor": "white",
            "gridwidth": 2,
            "linecolor": "white",
            "showbackground": true,
            "ticks": "",
            "zerolinecolor": "white"
           },
           "zaxis": {
            "backgroundcolor": "#E5ECF6",
            "gridcolor": "white",
            "gridwidth": 2,
            "linecolor": "white",
            "showbackground": true,
            "ticks": "",
            "zerolinecolor": "white"
           }
          },
          "shapedefaults": {
           "line": {
            "color": "#2a3f5f"
           }
          },
          "ternary": {
           "aaxis": {
            "gridcolor": "white",
            "linecolor": "white",
            "ticks": ""
           },
           "baxis": {
            "gridcolor": "white",
            "linecolor": "white",
            "ticks": ""
           },
           "bgcolor": "#E5ECF6",
           "caxis": {
            "gridcolor": "white",
            "linecolor": "white",
            "ticks": ""
           }
          },
          "title": {
           "x": 0.05
          },
          "xaxis": {
           "automargin": true,
           "gridcolor": "white",
           "linecolor": "white",
           "ticks": "",
           "title": {
            "standoff": 15
           },
           "zerolinecolor": "white",
           "zerolinewidth": 2
          },
          "yaxis": {
           "automargin": true,
           "gridcolor": "white",
           "linecolor": "white",
           "ticks": "",
           "title": {
            "standoff": 15
           },
           "zerolinecolor": "white",
           "zerolinewidth": 2
          }
         }
        }
       }
      },
      "text/html": [
       "<div>\n",
       "        \n",
       "        \n",
       "            <div id=\"9c8e0de4-bb33-4b00-acb3-b13ae15ab431\" class=\"plotly-graph-div\" style=\"height:525px; width:100%;\"></div>\n",
       "            <script type=\"text/javascript\">\n",
       "                require([\"plotly\"], function(Plotly) {\n",
       "                    window.PLOTLYENV=window.PLOTLYENV || {};\n",
       "                    \n",
       "                if (document.getElementById(\"9c8e0de4-bb33-4b00-acb3-b13ae15ab431\")) {\n",
       "                    Plotly.newPlot(\n",
       "                        '9c8e0de4-bb33-4b00-acb3-b13ae15ab431',\n",
       "                        [{\"domain\": {\"x\": [0.0, 1.0], \"y\": [0.0, 1.0]}, \"hoverlabel\": {\"namelength\": 0}, \"hovertemplate\": \"label=%{label}<br>value=%{value}\", \"labels\": [\"female\", \"male\"], \"legendgroup\": \"\", \"name\": \"\", \"showlegend\": true, \"type\": \"pie\", \"values\": [511, 366]}],\n",
       "                        {\"font\": {\"color\": \"#242323\", \"size\": 15}, \"legend\": {\"tracegroupgap\": 0}, \"margin\": {\"t\": 60}, \"template\": {\"data\": {\"bar\": [{\"error_x\": {\"color\": \"#2a3f5f\"}, \"error_y\": {\"color\": \"#2a3f5f\"}, \"marker\": {\"line\": {\"color\": \"#E5ECF6\", \"width\": 0.5}}, \"type\": \"bar\"}], \"barpolar\": [{\"marker\": {\"line\": {\"color\": \"#E5ECF6\", \"width\": 0.5}}, \"type\": \"barpolar\"}], \"carpet\": [{\"aaxis\": {\"endlinecolor\": \"#2a3f5f\", \"gridcolor\": \"white\", \"linecolor\": \"white\", \"minorgridcolor\": \"white\", \"startlinecolor\": \"#2a3f5f\"}, \"baxis\": {\"endlinecolor\": \"#2a3f5f\", \"gridcolor\": \"white\", \"linecolor\": \"white\", \"minorgridcolor\": \"white\", \"startlinecolor\": \"#2a3f5f\"}, \"type\": \"carpet\"}], \"choropleth\": [{\"colorbar\": {\"outlinewidth\": 0, \"ticks\": \"\"}, \"type\": \"choropleth\"}], \"contour\": [{\"colorbar\": {\"outlinewidth\": 0, \"ticks\": \"\"}, \"colorscale\": [[0.0, \"#0d0887\"], [0.1111111111111111, \"#46039f\"], [0.2222222222222222, \"#7201a8\"], [0.3333333333333333, \"#9c179e\"], [0.4444444444444444, \"#bd3786\"], [0.5555555555555556, \"#d8576b\"], [0.6666666666666666, \"#ed7953\"], [0.7777777777777778, \"#fb9f3a\"], [0.8888888888888888, \"#fdca26\"], [1.0, \"#f0f921\"]], \"type\": \"contour\"}], \"contourcarpet\": [{\"colorbar\": {\"outlinewidth\": 0, \"ticks\": \"\"}, \"type\": \"contourcarpet\"}], \"heatmap\": [{\"colorbar\": {\"outlinewidth\": 0, \"ticks\": \"\"}, \"colorscale\": [[0.0, \"#0d0887\"], [0.1111111111111111, \"#46039f\"], [0.2222222222222222, \"#7201a8\"], [0.3333333333333333, \"#9c179e\"], [0.4444444444444444, \"#bd3786\"], [0.5555555555555556, \"#d8576b\"], [0.6666666666666666, \"#ed7953\"], [0.7777777777777778, \"#fb9f3a\"], [0.8888888888888888, \"#fdca26\"], [1.0, \"#f0f921\"]], \"type\": \"heatmap\"}], \"heatmapgl\": [{\"colorbar\": {\"outlinewidth\": 0, \"ticks\": \"\"}, \"colorscale\": [[0.0, \"#0d0887\"], [0.1111111111111111, \"#46039f\"], [0.2222222222222222, \"#7201a8\"], [0.3333333333333333, \"#9c179e\"], [0.4444444444444444, \"#bd3786\"], [0.5555555555555556, \"#d8576b\"], [0.6666666666666666, \"#ed7953\"], [0.7777777777777778, \"#fb9f3a\"], [0.8888888888888888, \"#fdca26\"], [1.0, \"#f0f921\"]], \"type\": \"heatmapgl\"}], \"histogram\": [{\"marker\": {\"colorbar\": {\"outlinewidth\": 0, \"ticks\": \"\"}}, \"type\": \"histogram\"}], \"histogram2d\": [{\"colorbar\": {\"outlinewidth\": 0, \"ticks\": \"\"}, \"colorscale\": [[0.0, \"#0d0887\"], [0.1111111111111111, \"#46039f\"], [0.2222222222222222, \"#7201a8\"], [0.3333333333333333, \"#9c179e\"], [0.4444444444444444, \"#bd3786\"], [0.5555555555555556, \"#d8576b\"], [0.6666666666666666, \"#ed7953\"], [0.7777777777777778, \"#fb9f3a\"], [0.8888888888888888, \"#fdca26\"], [1.0, \"#f0f921\"]], \"type\": \"histogram2d\"}], \"histogram2dcontour\": [{\"colorbar\": {\"outlinewidth\": 0, \"ticks\": \"\"}, \"colorscale\": [[0.0, \"#0d0887\"], [0.1111111111111111, \"#46039f\"], [0.2222222222222222, \"#7201a8\"], [0.3333333333333333, \"#9c179e\"], [0.4444444444444444, \"#bd3786\"], [0.5555555555555556, \"#d8576b\"], [0.6666666666666666, \"#ed7953\"], [0.7777777777777778, \"#fb9f3a\"], [0.8888888888888888, \"#fdca26\"], [1.0, \"#f0f921\"]], \"type\": \"histogram2dcontour\"}], \"mesh3d\": [{\"colorbar\": {\"outlinewidth\": 0, \"ticks\": \"\"}, \"type\": \"mesh3d\"}], \"parcoords\": [{\"line\": {\"colorbar\": {\"outlinewidth\": 0, \"ticks\": \"\"}}, \"type\": \"parcoords\"}], \"pie\": [{\"automargin\": true, \"type\": \"pie\"}], \"scatter\": [{\"marker\": {\"colorbar\": {\"outlinewidth\": 0, \"ticks\": \"\"}}, \"type\": \"scatter\"}], \"scatter3d\": [{\"line\": {\"colorbar\": {\"outlinewidth\": 0, \"ticks\": \"\"}}, \"marker\": {\"colorbar\": {\"outlinewidth\": 0, \"ticks\": \"\"}}, \"type\": \"scatter3d\"}], \"scattercarpet\": [{\"marker\": {\"colorbar\": {\"outlinewidth\": 0, \"ticks\": \"\"}}, \"type\": \"scattercarpet\"}], \"scattergeo\": [{\"marker\": {\"colorbar\": {\"outlinewidth\": 0, \"ticks\": \"\"}}, \"type\": \"scattergeo\"}], \"scattergl\": [{\"marker\": {\"colorbar\": {\"outlinewidth\": 0, \"ticks\": \"\"}}, \"type\": \"scattergl\"}], \"scattermapbox\": [{\"marker\": {\"colorbar\": {\"outlinewidth\": 0, \"ticks\": \"\"}}, \"type\": \"scattermapbox\"}], \"scatterpolar\": [{\"marker\": {\"colorbar\": {\"outlinewidth\": 0, \"ticks\": \"\"}}, \"type\": \"scatterpolar\"}], \"scatterpolargl\": [{\"marker\": {\"colorbar\": {\"outlinewidth\": 0, \"ticks\": \"\"}}, \"type\": \"scatterpolargl\"}], \"scatterternary\": [{\"marker\": {\"colorbar\": {\"outlinewidth\": 0, \"ticks\": \"\"}}, \"type\": \"scatterternary\"}], \"surface\": [{\"colorbar\": {\"outlinewidth\": 0, \"ticks\": \"\"}, \"colorscale\": [[0.0, \"#0d0887\"], [0.1111111111111111, \"#46039f\"], [0.2222222222222222, \"#7201a8\"], [0.3333333333333333, \"#9c179e\"], [0.4444444444444444, \"#bd3786\"], [0.5555555555555556, \"#d8576b\"], [0.6666666666666666, \"#ed7953\"], [0.7777777777777778, \"#fb9f3a\"], [0.8888888888888888, \"#fdca26\"], [1.0, \"#f0f921\"]], \"type\": \"surface\"}], \"table\": [{\"cells\": {\"fill\": {\"color\": \"#EBF0F8\"}, \"line\": {\"color\": \"white\"}}, \"header\": {\"fill\": {\"color\": \"#C8D4E3\"}, \"line\": {\"color\": \"white\"}}, \"type\": \"table\"}]}, \"layout\": {\"annotationdefaults\": {\"arrowcolor\": \"#2a3f5f\", \"arrowhead\": 0, \"arrowwidth\": 1}, \"coloraxis\": {\"colorbar\": {\"outlinewidth\": 0, \"ticks\": \"\"}}, \"colorscale\": {\"diverging\": [[0, \"#8e0152\"], [0.1, \"#c51b7d\"], [0.2, \"#de77ae\"], [0.3, \"#f1b6da\"], [0.4, \"#fde0ef\"], [0.5, \"#f7f7f7\"], [0.6, \"#e6f5d0\"], [0.7, \"#b8e186\"], [0.8, \"#7fbc41\"], [0.9, \"#4d9221\"], [1, \"#276419\"]], \"sequential\": [[0.0, \"#0d0887\"], [0.1111111111111111, \"#46039f\"], [0.2222222222222222, \"#7201a8\"], [0.3333333333333333, \"#9c179e\"], [0.4444444444444444, \"#bd3786\"], [0.5555555555555556, \"#d8576b\"], [0.6666666666666666, \"#ed7953\"], [0.7777777777777778, \"#fb9f3a\"], [0.8888888888888888, \"#fdca26\"], [1.0, \"#f0f921\"]], \"sequentialminus\": [[0.0, \"#0d0887\"], [0.1111111111111111, \"#46039f\"], [0.2222222222222222, \"#7201a8\"], [0.3333333333333333, \"#9c179e\"], [0.4444444444444444, \"#bd3786\"], [0.5555555555555556, \"#d8576b\"], [0.6666666666666666, \"#ed7953\"], [0.7777777777777778, \"#fb9f3a\"], [0.8888888888888888, \"#fdca26\"], [1.0, \"#f0f921\"]]}, \"colorway\": [\"#636efa\", \"#EF553B\", \"#00cc96\", \"#ab63fa\", \"#FFA15A\", \"#19d3f3\", \"#FF6692\", \"#B6E880\", \"#FF97FF\", \"#FECB52\"], \"font\": {\"color\": \"#2a3f5f\"}, \"geo\": {\"bgcolor\": \"white\", \"lakecolor\": \"white\", \"landcolor\": \"#E5ECF6\", \"showlakes\": true, \"showland\": true, \"subunitcolor\": \"white\"}, \"hoverlabel\": {\"align\": \"left\"}, \"hovermode\": \"closest\", \"mapbox\": {\"style\": \"light\"}, \"paper_bgcolor\": \"white\", \"plot_bgcolor\": \"#E5ECF6\", \"polar\": {\"angularaxis\": {\"gridcolor\": \"white\", \"linecolor\": \"white\", \"ticks\": \"\"}, \"bgcolor\": \"#E5ECF6\", \"radialaxis\": {\"gridcolor\": \"white\", \"linecolor\": \"white\", \"ticks\": \"\"}}, \"scene\": {\"xaxis\": {\"backgroundcolor\": \"#E5ECF6\", \"gridcolor\": \"white\", \"gridwidth\": 2, \"linecolor\": \"white\", \"showbackground\": true, \"ticks\": \"\", \"zerolinecolor\": \"white\"}, \"yaxis\": {\"backgroundcolor\": \"#E5ECF6\", \"gridcolor\": \"white\", \"gridwidth\": 2, \"linecolor\": \"white\", \"showbackground\": true, \"ticks\": \"\", \"zerolinecolor\": \"white\"}, \"zaxis\": {\"backgroundcolor\": \"#E5ECF6\", \"gridcolor\": \"white\", \"gridwidth\": 2, \"linecolor\": \"white\", \"showbackground\": true, \"ticks\": \"\", \"zerolinecolor\": \"white\"}}, \"shapedefaults\": {\"line\": {\"color\": \"#2a3f5f\"}}, \"ternary\": {\"aaxis\": {\"gridcolor\": \"white\", \"linecolor\": \"white\", \"ticks\": \"\"}, \"baxis\": {\"gridcolor\": \"white\", \"linecolor\": \"white\", \"ticks\": \"\"}, \"bgcolor\": \"#E5ECF6\", \"caxis\": {\"gridcolor\": \"white\", \"linecolor\": \"white\", \"ticks\": \"\"}}, \"title\": {\"x\": 0.05}, \"xaxis\": {\"automargin\": true, \"gridcolor\": \"white\", \"linecolor\": \"white\", \"ticks\": \"\", \"title\": {\"standoff\": 15}, \"zerolinecolor\": \"white\", \"zerolinewidth\": 2}, \"yaxis\": {\"automargin\": true, \"gridcolor\": \"white\", \"linecolor\": \"white\", \"ticks\": \"\", \"title\": {\"standoff\": 15}, \"zerolinecolor\": \"white\", \"zerolinewidth\": 2}}}},\n",
       "                        {\"responsive\": true}\n",
       "                    ).then(function(){\n",
       "                            \n",
       "var gd = document.getElementById('9c8e0de4-bb33-4b00-acb3-b13ae15ab431');\n",
       "var x = new MutationObserver(function (mutations, observer) {{\n",
       "        var display = window.getComputedStyle(gd).display;\n",
       "        if (!display || display === 'none') {{\n",
       "            console.log([gd, 'removed!']);\n",
       "            Plotly.purge(gd);\n",
       "            observer.disconnect();\n",
       "        }}\n",
       "}});\n",
       "\n",
       "// Listen for the removal of the full notebook cells\n",
       "var notebookContainer = gd.closest('#notebook-container');\n",
       "if (notebookContainer) {{\n",
       "    x.observe(notebookContainer, {childList: true});\n",
       "}}\n",
       "\n",
       "// Listen for the clearing of the current output cell\n",
       "var outputEl = gd.closest('.output');\n",
       "if (outputEl) {{\n",
       "    x.observe(outputEl, {childList: true});\n",
       "}}\n",
       "\n",
       "                        })\n",
       "                };\n",
       "                });\n",
       "            </script>\n",
       "        </div>"
      ]
     },
     "metadata": {},
     "output_type": "display_data"
    }
   ],
   "source": [
    "fig = px.pie( values=released.groupby(['sex']).size().values,names=released.groupby(['sex']).size().index)\n",
    "fig.update_layout(\n",
    "    font=dict(\n",
    "        size=15,\n",
    "        color=\"#242323\"\n",
    "    )\n",
    "    )   \n",
    "    \n",
    "py.iplot(fig)"
   ]
  },
  {
   "cell_type": "markdown",
   "metadata": {},
   "source": [
    "**State of male patient**"
   ]
  },
  {
   "cell_type": "code",
   "execution_count": 46,
   "metadata": {},
   "outputs": [
    {
     "data": {
      "text/plain": [
       "<matplotlib.axes._subplots.AxesSubplot at 0x1a26e72910>"
      ]
     },
     "execution_count": 46,
     "metadata": {},
     "output_type": "execute_result"
    },
    {
     "data": {
      "image/png": "[encoded data removed]",
      "text/plain": [
       "<Figure size 360x360 with 1 Axes>"
      ]
     },
     "metadata": {},
     "output_type": "display_data"
    }
   ],
   "source": [
    "sns.set(rc={'figure.figsize':(5,5)})\n",
    "sns.countplot(x=df_patient['state'].loc[(df_patient['sex']==\"male\")])"
   ]
  },
  {
   "cell_type": "markdown",
   "metadata": {},
   "source": [
    "**State of female patient**"
   ]
  },
  {
   "cell_type": "code",
   "execution_count": 47,
   "metadata": {},
   "outputs": [
    {
     "data": {
      "text/plain": [
       "<matplotlib.axes._subplots.AxesSubplot at 0x1a26c4f1d0>"
      ]
     },
     "execution_count": 47,
     "metadata": {},
     "output_type": "execute_result"
    },
    {
     "data": {
      "image/png": "[encoded data removed]",
      "text/plain": [
       "<Figure size 360x360 with 1 Axes>"
      ]
     },
     "metadata": {},
     "output_type": "display_data"
    }
   ],
   "source": [
    "sns.set(rc={'figure.figsize':(5,5)})\n",
    "sns.countplot(x=df_patient['state'].loc[(df_patient['sex']==\"female\")])"
   ]
  },
  {
   "cell_type": "markdown",
   "metadata": {},
   "source": [
    "The first case of coronavirus in the country on January 20. At the moment, 31 patients were discharged from hospitals after making a full recovery from the virus and 22 deaths are reported. In total, over 105 thousand people have been tested until now. "
   ]
  },
  {
   "cell_type": "markdown",
   "metadata": {},
   "source": [
    "**State of patient(male and female) vs age **"
   ]
  },
  {
   "cell_type": "code",
   "execution_count": 48,
   "metadata": {},
   "outputs": [
    {
     "data": {
      "image/png": "[encoded data removed]",
      "text/plain": [
       "<Figure size 864x576 with 1 Axes>"
      ]
     },
     "metadata": {},
     "output_type": "display_data"
    }
   ],
   "source": [
    "age_gender_hue_order =[\"isolated_female\", \"released_female\", \"deceased_female\",\n",
    "                       \"isolated_male\", \"released_male\", \"deceased_male\"]\n",
    "custom_palette = sns.color_palette(\"Reds\")[3:6] + sns.color_palette(\"Blues\")[2:5]\n",
    "\n",
    "plt.figure(figsize=(12, 8))\n",
    "sns.countplot(x = \"age_range\",\n",
    "              hue=\"state_by_gender\",\n",
    "              order=age_ranges,\n",
    "              hue_order=age_gender_hue_order,\n",
    "              palette=custom_palette,\n",
    "              data=patient)\n",
    "plt.title(\"State by gender and age\", fontsize=16)\n",
    "plt.xlabel(\"Age range\", fontsize=16)\n",
    "plt.ylabel(\"Count\", fontsize=16)\n",
    "plt.xticks(fontsize=12)\n",
    "plt.yticks(fontsize=12)\n",
    "plt.legend(loc=\"upper right\")\n",
    "plt.show()"
   ]
  }
 ],
 "metadata": {
  "kernelspec": {
   "display_name": "Python 3",
   "language": "python",
   "name": "python3"
  },
  "language_info": {
   "codemirror_mode": {
    "name": "ipython",
    "version": 3
   },
   "file_extension": ".py",
   "mimetype": "text/x-python",
   "name": "python",
   "nbconvert_exporter": "python",
   "pygments_lexer": "ipython3",
   "version": "3.7.4"
  }
 },
 "nbformat": 4,
 "nbformat_minor": 4
}
