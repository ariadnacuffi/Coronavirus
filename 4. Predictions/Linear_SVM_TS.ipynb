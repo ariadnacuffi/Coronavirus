{
 "cells": [
  {
   "cell_type": "markdown",
   "metadata": {},
   "source": [
    "# Predictions using Machine Learning Models - Zoom in Spain"
   ]
  },
  {
   "cell_type": "code",
   "execution_count": 1,
   "metadata": {},
   "outputs": [
    {
     "data": {
      "text/html": [
       "        <script type=\"text/javascript\">\n",
       "        window.PlotlyConfig = {MathJaxConfig: 'local'};\n",
       "        if (window.MathJax) {MathJax.Hub.Config({SVG: {font: \"STIX-Web\"}});}\n",
       "        if (typeof require !== 'undefined') {\n",
       "        require.undef(\"plotly\");\n",
       "        requirejs.config({\n",
       "            paths: {\n",
       "                'plotly': ['https://cdn.plot.ly/plotly-latest.min']\n",
       "            }\n",
       "        });\n",
       "        require(['plotly'], function(Plotly) {\n",
       "            window._Plotly = Plotly;\n",
       "        });\n",
       "        }\n",
       "        </script>\n",
       "        "
      ]
     },
     "metadata": {},
     "output_type": "display_data"
    }
   ],
   "source": [
    "# Essential libraries: \n",
    "import pandas as pd\n",
    "import numpy as np\n",
    "\n",
    "# visualization\n",
    "import matplotlib.pyplot as plt\n",
    "import seaborn as sns\n",
    "import plotly.express as px\n",
    "import plotly.graph_objs as go\n",
    "import plotly.figure_factory as ff\n",
    "import plotly.offline as py\n",
    "from plotly import tools\n",
    "py.init_notebook_mode(connected=True)\n",
    "import plotly.io as pio\n",
    "pio.templates.default = \"plotly_white\"\n",
    "from plotly.subplots import make_subplots\n",
    "\n",
    "# import folium\n",
    "%matplotlib inline\n",
    "\n",
    "# hide warnings\n",
    "import warnings\n",
    "warnings.filterwarnings('ignore')\n",
    "\n",
    "# Prediction Models\n",
    "import datetime as dt\n",
    "from datetime import timedelta\n",
    "from sklearn.model_selection import GridSearchCV\n",
    "from sklearn.linear_model import LinearRegression,Ridge,Lasso\n",
    "from sklearn.svm import SVR\n",
    "from sklearn.metrics import mean_squared_error,r2_score\n",
    "import statsmodels.api as sm\n",
    "from statsmodels.tsa.api import Holt,SimpleExpSmoothing,ExponentialSmoothing\n",
    "from sklearn.preprocessing import PolynomialFeatures\n",
    "from statsmodels.tsa.stattools import adfuller\n",
    "from statsmodels.tsa.ar_model import AR\n",
    "from statsmodels.tsa.arima_model import ARIMA\n",
    "from statsmodels.graphics.tsaplots import plot_acf,plot_pacf\n",
    "pd.set_option('display.float_format', lambda x: '%.6f' % x)"
   ]
  },
  {
   "cell_type": "markdown",
   "metadata": {},
   "source": [
    "## a) Confirmed cases"
   ]
  },
  {
   "cell_type": "code",
   "execution_count": 2,
   "metadata": {},
   "outputs": [
    {
     "data": {
      "text/html": [
       "<div>\n",
       "<style scoped>\n",
       "    .dataframe tbody tr th:only-of-type {\n",
       "        vertical-align: middle;\n",
       "    }\n",
       "\n",
       "    .dataframe tbody tr th {\n",
       "        vertical-align: top;\n",
       "    }\n",
       "\n",
       "    .dataframe thead th {\n",
       "        text-align: right;\n",
       "    }\n",
       "</style>\n",
       "<table border=\"1\" class=\"dataframe\">\n",
       "  <thead>\n",
       "    <tr style=\"text-align: right;\">\n",
       "      <th></th>\n",
       "      <th>fecha</th>\n",
       "      <th>CCAA</th>\n",
       "      <th>Confirmed</th>\n",
       "    </tr>\n",
       "  </thead>\n",
       "  <tbody>\n",
       "    <tr>\n",
       "      <th>0</th>\n",
       "      <td>2020-02-27</td>\n",
       "      <td>Andalucía</td>\n",
       "      <td>1</td>\n",
       "    </tr>\n",
       "    <tr>\n",
       "      <th>1</th>\n",
       "      <td>2020-02-28</td>\n",
       "      <td>Andalucía</td>\n",
       "      <td>6</td>\n",
       "    </tr>\n",
       "    <tr>\n",
       "      <th>2</th>\n",
       "      <td>2020-02-29</td>\n",
       "      <td>Andalucía</td>\n",
       "      <td>8</td>\n",
       "    </tr>\n",
       "    <tr>\n",
       "      <th>3</th>\n",
       "      <td>2020-03-01</td>\n",
       "      <td>Andalucía</td>\n",
       "      <td>12</td>\n",
       "    </tr>\n",
       "    <tr>\n",
       "      <th>4</th>\n",
       "      <td>2020-03-02</td>\n",
       "      <td>Andalucía</td>\n",
       "      <td>12</td>\n",
       "    </tr>\n",
       "  </tbody>\n",
       "</table>\n",
       "</div>"
      ],
      "text/plain": [
       "        fecha       CCAA  Confirmed\n",
       "0  2020-02-27  Andalucía          1\n",
       "1  2020-02-28  Andalucía          6\n",
       "2  2020-02-29  Andalucía          8\n",
       "3  2020-03-01  Andalucía         12\n",
       "4  2020-03-02  Andalucía         12"
      ]
     },
     "execution_count": 2,
     "metadata": {},
     "output_type": "execute_result"
    }
   ],
   "source": [
    "spain_confirmed = pd.read_csv(\"https://raw.githubusercontent.com/datadista/datasets/master/COVID%2019/ccaa_covid19_casos_long.csv\")\n",
    "spain_confirmed = spain_confirmed.drop(['cod_ine'], axis=1)\n",
    "spain_confirmed.rename(columns={'total': 'Confirmed'}, inplace=True)\n",
    "spain_confirmed.head()"
   ]
  },
  {
   "cell_type": "code",
   "execution_count": 3,
   "metadata": {},
   "outputs": [
    {
     "data": {
      "text/html": [
       "<div>\n",
       "<style scoped>\n",
       "    .dataframe tbody tr th:only-of-type {\n",
       "        vertical-align: middle;\n",
       "    }\n",
       "\n",
       "    .dataframe tbody tr th {\n",
       "        vertical-align: top;\n",
       "    }\n",
       "\n",
       "    .dataframe thead th {\n",
       "        text-align: right;\n",
       "    }\n",
       "</style>\n",
       "<table border=\"1\" class=\"dataframe\">\n",
       "  <thead>\n",
       "    <tr style=\"text-align: right;\">\n",
       "      <th></th>\n",
       "      <th>fecha</th>\n",
       "      <th>CCAA</th>\n",
       "      <th>Deaths</th>\n",
       "    </tr>\n",
       "  </thead>\n",
       "  <tbody>\n",
       "    <tr>\n",
       "      <th>0</th>\n",
       "      <td>2020-03-03</td>\n",
       "      <td>Andalucía</td>\n",
       "      <td>0</td>\n",
       "    </tr>\n",
       "    <tr>\n",
       "      <th>1</th>\n",
       "      <td>2020-03-04</td>\n",
       "      <td>Andalucía</td>\n",
       "      <td>0</td>\n",
       "    </tr>\n",
       "    <tr>\n",
       "      <th>2</th>\n",
       "      <td>2020-03-05</td>\n",
       "      <td>Andalucía</td>\n",
       "      <td>0</td>\n",
       "    </tr>\n",
       "    <tr>\n",
       "      <th>3</th>\n",
       "      <td>2020-03-06</td>\n",
       "      <td>Andalucía</td>\n",
       "      <td>0</td>\n",
       "    </tr>\n",
       "    <tr>\n",
       "      <th>4</th>\n",
       "      <td>2020-03-07</td>\n",
       "      <td>Andalucía</td>\n",
       "      <td>0</td>\n",
       "    </tr>\n",
       "  </tbody>\n",
       "</table>\n",
       "</div>"
      ],
      "text/plain": [
       "        fecha       CCAA  Deaths\n",
       "0  2020-03-03  Andalucía       0\n",
       "1  2020-03-04  Andalucía       0\n",
       "2  2020-03-05  Andalucía       0\n",
       "3  2020-03-06  Andalucía       0\n",
       "4  2020-03-07  Andalucía       0"
      ]
     },
     "execution_count": 3,
     "metadata": {},
     "output_type": "execute_result"
    }
   ],
   "source": [
    "spain_deaths = pd.read_csv('https://raw.githubusercontent.com/datadista/datasets/master/COVID%2019/ccaa_covid19_fallecidos_long.csv')\n",
    "spain_deaths = spain_deaths.drop(['cod_ine'], axis=1)\n",
    "spain_deaths.rename(columns={'total': 'Deaths'}, inplace=True)\n",
    "spain_deaths.head()"
   ]
  },
  {
   "cell_type": "code",
   "execution_count": 4,
   "metadata": {},
   "outputs": [
    {
     "data": {
      "text/html": [
       "<div>\n",
       "<style scoped>\n",
       "    .dataframe tbody tr th:only-of-type {\n",
       "        vertical-align: middle;\n",
       "    }\n",
       "\n",
       "    .dataframe tbody tr th {\n",
       "        vertical-align: top;\n",
       "    }\n",
       "\n",
       "    .dataframe thead th {\n",
       "        text-align: right;\n",
       "    }\n",
       "</style>\n",
       "<table border=\"1\" class=\"dataframe\">\n",
       "  <thead>\n",
       "    <tr style=\"text-align: right;\">\n",
       "      <th></th>\n",
       "      <th>Date</th>\n",
       "      <th>CCAA</th>\n",
       "      <th>Confirmed</th>\n",
       "      <th>Deaths</th>\n",
       "    </tr>\n",
       "  </thead>\n",
       "  <tbody>\n",
       "    <tr>\n",
       "      <th>0</th>\n",
       "      <td>2020-03-03</td>\n",
       "      <td>Andalucía</td>\n",
       "      <td>13</td>\n",
       "      <td>0</td>\n",
       "    </tr>\n",
       "    <tr>\n",
       "      <th>1</th>\n",
       "      <td>2020-03-04</td>\n",
       "      <td>Andalucía</td>\n",
       "      <td>13</td>\n",
       "      <td>0</td>\n",
       "    </tr>\n",
       "    <tr>\n",
       "      <th>2</th>\n",
       "      <td>2020-03-05</td>\n",
       "      <td>Andalucía</td>\n",
       "      <td>12</td>\n",
       "      <td>0</td>\n",
       "    </tr>\n",
       "    <tr>\n",
       "      <th>3</th>\n",
       "      <td>2020-03-06</td>\n",
       "      <td>Andalucía</td>\n",
       "      <td>21</td>\n",
       "      <td>0</td>\n",
       "    </tr>\n",
       "    <tr>\n",
       "      <th>4</th>\n",
       "      <td>2020-03-07</td>\n",
       "      <td>Andalucía</td>\n",
       "      <td>27</td>\n",
       "      <td>0</td>\n",
       "    </tr>\n",
       "  </tbody>\n",
       "</table>\n",
       "</div>"
      ],
      "text/plain": [
       "         Date       CCAA  Confirmed  Deaths\n",
       "0  2020-03-03  Andalucía         13       0\n",
       "1  2020-03-04  Andalucía         13       0\n",
       "2  2020-03-05  Andalucía         12       0\n",
       "3  2020-03-06  Andalucía         21       0\n",
       "4  2020-03-07  Andalucía         27       0"
      ]
     },
     "execution_count": 4,
     "metadata": {},
     "output_type": "execute_result"
    }
   ],
   "source": [
    "spain = spain_confirmed.merge(spain_deaths, on=['fecha','CCAA'], how='inner')\n",
    "spain.rename(columns={'fecha': 'Date'}, inplace=True)\n",
    "spain.head()"
   ]
  },
  {
   "cell_type": "code",
   "execution_count": 5,
   "metadata": {},
   "outputs": [],
   "source": [
    "spain[\"Date\"]=pd.to_datetime(spain[\"Date\"])"
   ]
  },
  {
   "cell_type": "code",
   "execution_count": 6,
   "metadata": {},
   "outputs": [
    {
     "data": {
      "text/html": [
       "<div>\n",
       "<style scoped>\n",
       "    .dataframe tbody tr th:only-of-type {\n",
       "        vertical-align: middle;\n",
       "    }\n",
       "\n",
       "    .dataframe tbody tr th {\n",
       "        vertical-align: top;\n",
       "    }\n",
       "\n",
       "    .dataframe thead th {\n",
       "        text-align: right;\n",
       "    }\n",
       "</style>\n",
       "<table border=\"1\" class=\"dataframe\">\n",
       "  <thead>\n",
       "    <tr style=\"text-align: right;\">\n",
       "      <th></th>\n",
       "      <th>Confirmed</th>\n",
       "      <th>Deaths</th>\n",
       "    </tr>\n",
       "    <tr>\n",
       "      <th>Date</th>\n",
       "      <th></th>\n",
       "      <th></th>\n",
       "    </tr>\n",
       "  </thead>\n",
       "  <tbody>\n",
       "    <tr>\n",
       "      <th>2020-03-03</th>\n",
       "      <td>300</td>\n",
       "      <td>0</td>\n",
       "    </tr>\n",
       "    <tr>\n",
       "      <th>2020-03-04</th>\n",
       "      <td>396</td>\n",
       "      <td>2</td>\n",
       "    </tr>\n",
       "    <tr>\n",
       "      <th>2020-03-05</th>\n",
       "      <td>474</td>\n",
       "      <td>6</td>\n",
       "    </tr>\n",
       "    <tr>\n",
       "      <th>2020-03-06</th>\n",
       "      <td>730</td>\n",
       "      <td>10</td>\n",
       "    </tr>\n",
       "    <tr>\n",
       "      <th>2020-03-07</th>\n",
       "      <td>860</td>\n",
       "      <td>16</td>\n",
       "    </tr>\n",
       "  </tbody>\n",
       "</table>\n",
       "</div>"
      ],
      "text/plain": [
       "            Confirmed  Deaths\n",
       "Date                         \n",
       "2020-03-03        300       0\n",
       "2020-03-04        396       2\n",
       "2020-03-05        474       6\n",
       "2020-03-06        730      10\n",
       "2020-03-07        860      16"
      ]
     },
     "execution_count": 6,
     "metadata": {},
     "output_type": "execute_result"
    }
   ],
   "source": [
    "datewise=spain.groupby([\"Date\"]).agg({\"Confirmed\":'sum',\"Deaths\":'sum'})\n",
    "datewise.head()"
   ]
  },
  {
   "cell_type": "code",
   "execution_count": 7,
   "metadata": {},
   "outputs": [
    {
     "data": {
      "text/plain": [
       "Confirmed    int64\n",
       "Deaths       int64\n",
       "dtype: object"
      ]
     },
     "execution_count": 7,
     "metadata": {},
     "output_type": "execute_result"
    }
   ],
   "source": [
    "datewise.dtypes"
   ]
  },
  {
   "cell_type": "code",
   "execution_count": 8,
   "metadata": {},
   "outputs": [
    {
     "data": {
      "text/html": [
       "<div>\n",
       "<style scoped>\n",
       "    .dataframe tbody tr th:only-of-type {\n",
       "        vertical-align: middle;\n",
       "    }\n",
       "\n",
       "    .dataframe tbody tr th {\n",
       "        vertical-align: top;\n",
       "    }\n",
       "\n",
       "    .dataframe thead th {\n",
       "        text-align: right;\n",
       "    }\n",
       "</style>\n",
       "<table border=\"1\" class=\"dataframe\">\n",
       "  <thead>\n",
       "    <tr style=\"text-align: right;\">\n",
       "      <th></th>\n",
       "      <th>Confirmed</th>\n",
       "      <th>Deaths</th>\n",
       "      <th>Date</th>\n",
       "    </tr>\n",
       "    <tr>\n",
       "      <th>Date</th>\n",
       "      <th></th>\n",
       "      <th></th>\n",
       "      <th></th>\n",
       "    </tr>\n",
       "  </thead>\n",
       "  <tbody>\n",
       "    <tr>\n",
       "      <th>2020-03-03</th>\n",
       "      <td>300</td>\n",
       "      <td>0</td>\n",
       "      <td>2020-03-03</td>\n",
       "    </tr>\n",
       "    <tr>\n",
       "      <th>2020-03-04</th>\n",
       "      <td>396</td>\n",
       "      <td>2</td>\n",
       "      <td>2020-03-04</td>\n",
       "    </tr>\n",
       "    <tr>\n",
       "      <th>2020-03-05</th>\n",
       "      <td>474</td>\n",
       "      <td>6</td>\n",
       "      <td>2020-03-05</td>\n",
       "    </tr>\n",
       "    <tr>\n",
       "      <th>2020-03-06</th>\n",
       "      <td>730</td>\n",
       "      <td>10</td>\n",
       "      <td>2020-03-06</td>\n",
       "    </tr>\n",
       "    <tr>\n",
       "      <th>2020-03-07</th>\n",
       "      <td>860</td>\n",
       "      <td>16</td>\n",
       "      <td>2020-03-07</td>\n",
       "    </tr>\n",
       "    <tr>\n",
       "      <th>2020-03-08</th>\n",
       "      <td>1178</td>\n",
       "      <td>34</td>\n",
       "      <td>2020-03-08</td>\n",
       "    </tr>\n",
       "    <tr>\n",
       "      <th>2020-03-09</th>\n",
       "      <td>1998</td>\n",
       "      <td>34</td>\n",
       "      <td>2020-03-09</td>\n",
       "    </tr>\n",
       "    <tr>\n",
       "      <th>2020-03-10</th>\n",
       "      <td>3244</td>\n",
       "      <td>70</td>\n",
       "      <td>2020-03-10</td>\n",
       "    </tr>\n",
       "    <tr>\n",
       "      <th>2020-03-11</th>\n",
       "      <td>4256</td>\n",
       "      <td>94</td>\n",
       "      <td>2020-03-11</td>\n",
       "    </tr>\n",
       "    <tr>\n",
       "      <th>2020-03-12</th>\n",
       "      <td>5900</td>\n",
       "      <td>168</td>\n",
       "      <td>2020-03-12</td>\n",
       "    </tr>\n",
       "    <tr>\n",
       "      <th>2020-03-13</th>\n",
       "      <td>8418</td>\n",
       "      <td>238</td>\n",
       "      <td>2020-03-13</td>\n",
       "    </tr>\n",
       "    <tr>\n",
       "      <th>2020-03-14</th>\n",
       "      <td>11506</td>\n",
       "      <td>272</td>\n",
       "      <td>2020-03-14</td>\n",
       "    </tr>\n",
       "    <tr>\n",
       "      <th>2020-03-15</th>\n",
       "      <td>15506</td>\n",
       "      <td>576</td>\n",
       "      <td>2020-03-15</td>\n",
       "    </tr>\n",
       "    <tr>\n",
       "      <th>2020-03-16</th>\n",
       "      <td>18382</td>\n",
       "      <td>618</td>\n",
       "      <td>2020-03-16</td>\n",
       "    </tr>\n",
       "    <tr>\n",
       "      <th>2020-03-17</th>\n",
       "      <td>22356</td>\n",
       "      <td>982</td>\n",
       "      <td>2020-03-17</td>\n",
       "    </tr>\n",
       "    <tr>\n",
       "      <th>2020-03-18</th>\n",
       "      <td>27432</td>\n",
       "      <td>1196</td>\n",
       "      <td>2020-03-18</td>\n",
       "    </tr>\n",
       "    <tr>\n",
       "      <th>2020-03-19</th>\n",
       "      <td>34294</td>\n",
       "      <td>1534</td>\n",
       "      <td>2020-03-19</td>\n",
       "    </tr>\n",
       "    <tr>\n",
       "      <th>2020-03-20</th>\n",
       "      <td>39960</td>\n",
       "      <td>1984</td>\n",
       "      <td>2020-03-20</td>\n",
       "    </tr>\n",
       "    <tr>\n",
       "      <th>2020-03-21</th>\n",
       "      <td>49852</td>\n",
       "      <td>2652</td>\n",
       "      <td>2020-03-21</td>\n",
       "    </tr>\n",
       "    <tr>\n",
       "      <th>2020-03-22</th>\n",
       "      <td>57144</td>\n",
       "      <td>3440</td>\n",
       "      <td>2020-03-22</td>\n",
       "    </tr>\n",
       "    <tr>\n",
       "      <th>2020-03-23</th>\n",
       "      <td>66178</td>\n",
       "      <td>4364</td>\n",
       "      <td>2020-03-23</td>\n",
       "    </tr>\n",
       "    <tr>\n",
       "      <th>2020-03-24</th>\n",
       "      <td>79346</td>\n",
       "      <td>5392</td>\n",
       "      <td>2020-03-24</td>\n",
       "    </tr>\n",
       "    <tr>\n",
       "      <th>2020-03-25</th>\n",
       "      <td>95220</td>\n",
       "      <td>6868</td>\n",
       "      <td>2020-03-25</td>\n",
       "    </tr>\n",
       "    <tr>\n",
       "      <th>2020-03-26</th>\n",
       "      <td>112376</td>\n",
       "      <td>8178</td>\n",
       "      <td>2020-03-26</td>\n",
       "    </tr>\n",
       "    <tr>\n",
       "      <th>2020-03-27</th>\n",
       "      <td>128118</td>\n",
       "      <td>9716</td>\n",
       "      <td>2020-03-27</td>\n",
       "    </tr>\n",
       "    <tr>\n",
       "      <th>2020-03-28</th>\n",
       "      <td>144496</td>\n",
       "      <td>11380</td>\n",
       "      <td>2020-03-28</td>\n",
       "    </tr>\n",
       "    <tr>\n",
       "      <th>2020-03-29</th>\n",
       "      <td>157594</td>\n",
       "      <td>13056</td>\n",
       "      <td>2020-03-29</td>\n",
       "    </tr>\n",
       "    <tr>\n",
       "      <th>2020-03-30</th>\n",
       "      <td>170390</td>\n",
       "      <td>14680</td>\n",
       "      <td>2020-03-30</td>\n",
       "    </tr>\n",
       "    <tr>\n",
       "      <th>2020-03-31</th>\n",
       "      <td>188834</td>\n",
       "      <td>16378</td>\n",
       "      <td>2020-03-31</td>\n",
       "    </tr>\n",
       "    <tr>\n",
       "      <th>2020-04-01</th>\n",
       "      <td>204272</td>\n",
       "      <td>18106</td>\n",
       "      <td>2020-04-01</td>\n",
       "    </tr>\n",
       "    <tr>\n",
       "      <th>2020-04-02</th>\n",
       "      <td>220476</td>\n",
       "      <td>20006</td>\n",
       "      <td>2020-04-02</td>\n",
       "    </tr>\n",
       "    <tr>\n",
       "      <th>2020-04-03</th>\n",
       "      <td>235420</td>\n",
       "      <td>21870</td>\n",
       "      <td>2020-04-03</td>\n",
       "    </tr>\n",
       "    <tr>\n",
       "      <th>2020-04-04</th>\n",
       "      <td>249472</td>\n",
       "      <td>23488</td>\n",
       "      <td>2020-04-04</td>\n",
       "    </tr>\n",
       "    <tr>\n",
       "      <th>2020-04-05</th>\n",
       "      <td>261518</td>\n",
       "      <td>24836</td>\n",
       "      <td>2020-04-05</td>\n",
       "    </tr>\n",
       "    <tr>\n",
       "      <th>2020-04-06</th>\n",
       "      <td>270064</td>\n",
       "      <td>26110</td>\n",
       "      <td>2020-04-06</td>\n",
       "    </tr>\n",
       "  </tbody>\n",
       "</table>\n",
       "</div>"
      ],
      "text/plain": [
       "            Confirmed  Deaths       Date\n",
       "Date                                    \n",
       "2020-03-03        300       0 2020-03-03\n",
       "2020-03-04        396       2 2020-03-04\n",
       "2020-03-05        474       6 2020-03-05\n",
       "2020-03-06        730      10 2020-03-06\n",
       "2020-03-07        860      16 2020-03-07\n",
       "2020-03-08       1178      34 2020-03-08\n",
       "2020-03-09       1998      34 2020-03-09\n",
       "2020-03-10       3244      70 2020-03-10\n",
       "2020-03-11       4256      94 2020-03-11\n",
       "2020-03-12       5900     168 2020-03-12\n",
       "2020-03-13       8418     238 2020-03-13\n",
       "2020-03-14      11506     272 2020-03-14\n",
       "2020-03-15      15506     576 2020-03-15\n",
       "2020-03-16      18382     618 2020-03-16\n",
       "2020-03-17      22356     982 2020-03-17\n",
       "2020-03-18      27432    1196 2020-03-18\n",
       "2020-03-19      34294    1534 2020-03-19\n",
       "2020-03-20      39960    1984 2020-03-20\n",
       "2020-03-21      49852    2652 2020-03-21\n",
       "2020-03-22      57144    3440 2020-03-22\n",
       "2020-03-23      66178    4364 2020-03-23\n",
       "2020-03-24      79346    5392 2020-03-24\n",
       "2020-03-25      95220    6868 2020-03-25\n",
       "2020-03-26     112376    8178 2020-03-26\n",
       "2020-03-27     128118    9716 2020-03-27\n",
       "2020-03-28     144496   11380 2020-03-28\n",
       "2020-03-29     157594   13056 2020-03-29\n",
       "2020-03-30     170390   14680 2020-03-30\n",
       "2020-03-31     188834   16378 2020-03-31\n",
       "2020-04-01     204272   18106 2020-04-01\n",
       "2020-04-02     220476   20006 2020-04-02\n",
       "2020-04-03     235420   21870 2020-04-03\n",
       "2020-04-04     249472   23488 2020-04-04\n",
       "2020-04-05     261518   24836 2020-04-05\n",
       "2020-04-06     270064   26110 2020-04-06"
      ]
     },
     "execution_count": 8,
     "metadata": {},
     "output_type": "execute_result"
    }
   ],
   "source": [
    "datewise['Date'] = datewise.index\n",
    "datewise"
   ]
  },
  {
   "cell_type": "code",
   "execution_count": 9,
   "metadata": {},
   "outputs": [
    {
     "name": "stdout",
     "output_type": "stream",
     "text": [
      "<class 'pandas.core.frame.DataFrame'>\n",
      "DatetimeIndex: 35 entries, 2020-03-03 to 2020-04-06\n",
      "Data columns (total 3 columns):\n",
      " #   Column     Non-Null Count  Dtype         \n",
      "---  ------     --------------  -----         \n",
      " 0   Confirmed  35 non-null     int64         \n",
      " 1   Deaths     35 non-null     int64         \n",
      " 2   Date       35 non-null     datetime64[ns]\n",
      "dtypes: datetime64[ns](1), int64(2)\n",
      "memory usage: 1.1 KB\n"
     ]
    }
   ],
   "source": [
    "datewise.info()"
   ]
  },
  {
   "cell_type": "code",
   "execution_count": 10,
   "metadata": {},
   "outputs": [
    {
     "data": {
      "text/plain": [
       "Confirmed             int64\n",
       "Deaths                int64\n",
       "Date         datetime64[ns]\n",
       "dtype: object"
      ]
     },
     "execution_count": 10,
     "metadata": {},
     "output_type": "execute_result"
    }
   ],
   "source": [
    "datewise.dtypes"
   ]
  },
  {
   "cell_type": "code",
   "execution_count": 11,
   "metadata": {},
   "outputs": [],
   "source": [
    "datewise.to_csv('data_pred.csv')"
   ]
  },
  {
   "cell_type": "markdown",
   "metadata": {},
   "source": [
    "### 1. Lineal Regression Model for Confirm Cases Prediction"
   ]
  },
  {
   "cell_type": "code",
   "execution_count": 12,
   "metadata": {},
   "outputs": [],
   "source": [
    "from sklearn.linear_model import LinearRegression,Ridge,Lasso\n",
    "from datetime import timedelta\n",
    "from sklearn.svm import SVR\n",
    "from sklearn.metrics import mean_squared_error,r2_score\n",
    "from statsmodels.tsa.stattools import adfuller\n",
    "from sklearn.ensemble import RandomForestRegressor\n",
    "from statsmodels.graphics.tsaplots import plot_acf,plot_pacf\n",
    "from statsmodels.tsa.api import Holt,SimpleExpSmoothing,ExponentialSmoothing\n",
    "from sklearn.metrics import mean_squared_error,r2_score\n",
    "from statsmodels.tsa.api import Holt,SimpleExpSmoothing,ExponentialSmoothing\n",
    "from statsmodels.tsa.arima_model import ARIMA\n",
    "from statsmodels.tsa.ar_model import AR\n",
    "from pandas.plotting import autocorrelation_plot\n",
    "import statsmodels.api as sm\n",
    "from statsmodels.tsa.stattools import adfuller"
   ]
  },
  {
   "cell_type": "code",
   "execution_count": 13,
   "metadata": {},
   "outputs": [],
   "source": [
    "datewise[\"Days Since\"]=datewise.index-datewise.index[0]\n",
    "datewise[\"Days Since\"]=datewise[\"Days Since\"].dt.days"
   ]
  },
  {
   "cell_type": "code",
   "execution_count": 14,
   "metadata": {},
   "outputs": [],
   "source": [
    "train_ml=datewise.iloc[:int(datewise.shape[0]*0.85)]\n",
    "valid_ml=datewise.iloc[int(datewise.shape[0]*0.85):]\n",
    "model_scores=[]"
   ]
  },
  {
   "cell_type": "code",
   "execution_count": 15,
   "metadata": {},
   "outputs": [
    {
     "data": {
      "text/html": [
       "<div>\n",
       "<style scoped>\n",
       "    .dataframe tbody tr th:only-of-type {\n",
       "        vertical-align: middle;\n",
       "    }\n",
       "\n",
       "    .dataframe tbody tr th {\n",
       "        vertical-align: top;\n",
       "    }\n",
       "\n",
       "    .dataframe thead th {\n",
       "        text-align: right;\n",
       "    }\n",
       "</style>\n",
       "<table border=\"1\" class=\"dataframe\">\n",
       "  <thead>\n",
       "    <tr style=\"text-align: right;\">\n",
       "      <th></th>\n",
       "      <th>Confirmed</th>\n",
       "      <th>Deaths</th>\n",
       "      <th>Date</th>\n",
       "      <th>Days Since</th>\n",
       "    </tr>\n",
       "    <tr>\n",
       "      <th>Date</th>\n",
       "      <th></th>\n",
       "      <th></th>\n",
       "      <th></th>\n",
       "      <th></th>\n",
       "    </tr>\n",
       "  </thead>\n",
       "  <tbody>\n",
       "    <tr>\n",
       "      <th>2020-03-03</th>\n",
       "      <td>300</td>\n",
       "      <td>0</td>\n",
       "      <td>2020-03-03</td>\n",
       "      <td>0</td>\n",
       "    </tr>\n",
       "    <tr>\n",
       "      <th>2020-03-04</th>\n",
       "      <td>396</td>\n",
       "      <td>2</td>\n",
       "      <td>2020-03-04</td>\n",
       "      <td>1</td>\n",
       "    </tr>\n",
       "    <tr>\n",
       "      <th>2020-03-05</th>\n",
       "      <td>474</td>\n",
       "      <td>6</td>\n",
       "      <td>2020-03-05</td>\n",
       "      <td>2</td>\n",
       "    </tr>\n",
       "    <tr>\n",
       "      <th>2020-03-06</th>\n",
       "      <td>730</td>\n",
       "      <td>10</td>\n",
       "      <td>2020-03-06</td>\n",
       "      <td>3</td>\n",
       "    </tr>\n",
       "    <tr>\n",
       "      <th>2020-03-07</th>\n",
       "      <td>860</td>\n",
       "      <td>16</td>\n",
       "      <td>2020-03-07</td>\n",
       "      <td>4</td>\n",
       "    </tr>\n",
       "  </tbody>\n",
       "</table>\n",
       "</div>"
      ],
      "text/plain": [
       "            Confirmed  Deaths       Date  Days Since\n",
       "Date                                                \n",
       "2020-03-03        300       0 2020-03-03           0\n",
       "2020-03-04        396       2 2020-03-04           1\n",
       "2020-03-05        474       6 2020-03-05           2\n",
       "2020-03-06        730      10 2020-03-06           3\n",
       "2020-03-07        860      16 2020-03-07           4"
      ]
     },
     "execution_count": 15,
     "metadata": {},
     "output_type": "execute_result"
    }
   ],
   "source": [
    "train_ml.head()"
   ]
  },
  {
   "cell_type": "code",
   "execution_count": 16,
   "metadata": {},
   "outputs": [
    {
     "data": {
      "text/html": [
       "<div>\n",
       "<style scoped>\n",
       "    .dataframe tbody tr th:only-of-type {\n",
       "        vertical-align: middle;\n",
       "    }\n",
       "\n",
       "    .dataframe tbody tr th {\n",
       "        vertical-align: top;\n",
       "    }\n",
       "\n",
       "    .dataframe thead th {\n",
       "        text-align: right;\n",
       "    }\n",
       "</style>\n",
       "<table border=\"1\" class=\"dataframe\">\n",
       "  <thead>\n",
       "    <tr style=\"text-align: right;\">\n",
       "      <th></th>\n",
       "      <th>Confirmed</th>\n",
       "      <th>Deaths</th>\n",
       "      <th>Date</th>\n",
       "      <th>Days Since</th>\n",
       "    </tr>\n",
       "    <tr>\n",
       "      <th>Date</th>\n",
       "      <th></th>\n",
       "      <th></th>\n",
       "      <th></th>\n",
       "      <th></th>\n",
       "    </tr>\n",
       "  </thead>\n",
       "  <tbody>\n",
       "    <tr>\n",
       "      <th>2020-04-01</th>\n",
       "      <td>204272</td>\n",
       "      <td>18106</td>\n",
       "      <td>2020-04-01</td>\n",
       "      <td>29</td>\n",
       "    </tr>\n",
       "    <tr>\n",
       "      <th>2020-04-02</th>\n",
       "      <td>220476</td>\n",
       "      <td>20006</td>\n",
       "      <td>2020-04-02</td>\n",
       "      <td>30</td>\n",
       "    </tr>\n",
       "    <tr>\n",
       "      <th>2020-04-03</th>\n",
       "      <td>235420</td>\n",
       "      <td>21870</td>\n",
       "      <td>2020-04-03</td>\n",
       "      <td>31</td>\n",
       "    </tr>\n",
       "    <tr>\n",
       "      <th>2020-04-04</th>\n",
       "      <td>249472</td>\n",
       "      <td>23488</td>\n",
       "      <td>2020-04-04</td>\n",
       "      <td>32</td>\n",
       "    </tr>\n",
       "    <tr>\n",
       "      <th>2020-04-05</th>\n",
       "      <td>261518</td>\n",
       "      <td>24836</td>\n",
       "      <td>2020-04-05</td>\n",
       "      <td>33</td>\n",
       "    </tr>\n",
       "  </tbody>\n",
       "</table>\n",
       "</div>"
      ],
      "text/plain": [
       "            Confirmed  Deaths       Date  Days Since\n",
       "Date                                                \n",
       "2020-04-01     204272   18106 2020-04-01          29\n",
       "2020-04-02     220476   20006 2020-04-02          30\n",
       "2020-04-03     235420   21870 2020-04-03          31\n",
       "2020-04-04     249472   23488 2020-04-04          32\n",
       "2020-04-05     261518   24836 2020-04-05          33"
      ]
     },
     "execution_count": 16,
     "metadata": {},
     "output_type": "execute_result"
    }
   ],
   "source": [
    "valid_ml.head()"
   ]
  },
  {
   "cell_type": "code",
   "execution_count": 17,
   "metadata": {},
   "outputs": [
    {
     "data": {
      "text/plain": [
       "((29, 4), (6, 4))"
      ]
     },
     "execution_count": 17,
     "metadata": {},
     "output_type": "execute_result"
    }
   ],
   "source": [
    "train_ml.shape, valid_ml.shape"
   ]
  },
  {
   "cell_type": "code",
   "execution_count": 18,
   "metadata": {},
   "outputs": [],
   "source": [
    "lin_reg=LinearRegression(normalize=True)"
   ]
  },
  {
   "cell_type": "code",
   "execution_count": 19,
   "metadata": {},
   "outputs": [
    {
     "data": {
      "text/plain": [
       "LinearRegression(copy_X=True, fit_intercept=True, n_jobs=None, normalize=True)"
      ]
     },
     "execution_count": 19,
     "metadata": {},
     "output_type": "execute_result"
    }
   ],
   "source": [
    "lin_reg.fit(np.array(train_ml[\"Days Since\"]).reshape(-1,1),np.array(train_ml[\"Confirmed\"]).reshape(-1,1))"
   ]
  },
  {
   "cell_type": "code",
   "execution_count": 20,
   "metadata": {},
   "outputs": [],
   "source": [
    "prediction_valid_linreg=lin_reg.predict(np.array(valid_ml[\"Days Since\"]).reshape(-1,1))"
   ]
  },
  {
   "cell_type": "code",
   "execution_count": 21,
   "metadata": {},
   "outputs": [
    {
     "name": "stdout",
     "output_type": "stream",
     "text": [
      "Root Mean Square Error for Linear Regression:  80950.44394161373\n"
     ]
    }
   ],
   "source": [
    "model_scores.append(np.sqrt(mean_squared_error(valid_ml[\"Confirmed\"],prediction_valid_linreg)))\n",
    "print(\"Root Mean Square Error for Linear Regression: \",np.sqrt(mean_squared_error(valid_ml[\"Confirmed\"],prediction_valid_linreg)))"
   ]
  },
  {
   "cell_type": "code",
   "execution_count": 22,
   "metadata": {},
   "outputs": [
    {
     "data": {
      "text/plain": [
       "<matplotlib.legend.Legend at 0x1a2584ee10>"
      ]
     },
     "execution_count": 22,
     "metadata": {},
     "output_type": "execute_result"
    },
    {
     "data": {
      "image/png": "[encoded data removed]",
      "text/plain": [
       "<Figure size 792x432 with 1 Axes>"
      ]
     },
     "metadata": {
      "needs_background": "light"
     },
     "output_type": "display_data"
    }
   ],
   "source": [
    "plt.figure(figsize=(11,6))\n",
    "prediction_linreg=lin_reg.predict(np.array(datewise[\"Days Since\"]).reshape(-1,1))\n",
    "plt.plot(datewise[\"Confirmed\"],label=\"Actual Confirmed Cases\")\n",
    "plt.plot(datewise.index,prediction_linreg, linestyle='--',label=\"Predicted Confirmed Cases using Linear Regression\",color='black')\n",
    "plt.xlabel('Time')\n",
    "plt.ylabel('Confirmed Cases')\n",
    "plt.title(\"Linear Regression Prediction\")\n",
    "plt.xticks(rotation=90)\n",
    "plt.legend()"
   ]
  },
  {
   "cell_type": "markdown",
   "metadata": {},
   "source": [
    "### 2. Support Vector Machine ModelRegressor for Prediction of Confirmed Cases"
   ]
  },
  {
   "cell_type": "code",
   "execution_count": 24,
   "metadata": {},
   "outputs": [],
   "source": [
    "#Intializing SVR Model and with hyperparameters for GridSearchCV\n",
    "svm=SVR(C=1,degree=8,kernel='poly',epsilon=0.01)"
   ]
  },
  {
   "cell_type": "code",
   "execution_count": 25,
   "metadata": {},
   "outputs": [
    {
     "data": {
      "text/plain": [
       "SVR(C=1, cache_size=200, coef0=0.0, degree=8, epsilon=0.01, gamma='scale',\n",
       "    kernel='poly', max_iter=-1, shrinking=True, tol=0.001, verbose=False)"
      ]
     },
     "execution_count": 25,
     "metadata": {},
     "output_type": "execute_result"
    }
   ],
   "source": [
    "#Performing GridSearchCV to find the Best Estimator\n",
    "svm.fit(np.array(train_ml[\"Days Since\"]).reshape(-1,1),np.array(train_ml[\"Confirmed\"]).reshape(-1,1))"
   ]
  },
  {
   "cell_type": "code",
   "execution_count": 26,
   "metadata": {},
   "outputs": [],
   "source": [
    "prediction_valid_svm=svm.predict(np.array(valid_ml[\"Days Since\"]).reshape(-1,1))"
   ]
  },
  {
   "cell_type": "code",
   "execution_count": 27,
   "metadata": {},
   "outputs": [
    {
     "name": "stdout",
     "output_type": "stream",
     "text": [
      "Root Mean Square Error for Support Vectore Machine:  564630.7413399613\n"
     ]
    }
   ],
   "source": [
    "model_scores.append(np.sqrt(mean_squared_error(valid_ml[\"Confirmed\"],prediction_valid_svm)))\n",
    "print(\"Root Mean Square Error for Support Vectore Machine: \",np.sqrt(mean_squared_error(valid_ml[\"Confirmed\"],prediction_valid_svm)))"
   ]
  },
  {
   "cell_type": "code",
   "execution_count": 28,
   "metadata": {},
   "outputs": [
    {
     "data": {
      "text/plain": [
       "<matplotlib.legend.Legend at 0x1a25bb9f60>"
      ]
     },
     "execution_count": 28,
     "metadata": {},
     "output_type": "execute_result"
    },
    {
     "data": {
      "image/png": "[encoded data removed]",
      "text/plain": [
       "<Figure size 792x432 with 1 Axes>"
      ]
     },
     "metadata": {
      "needs_background": "light"
     },
     "output_type": "display_data"
    }
   ],
   "source": [
    "plt.figure(figsize=(11,6))\n",
    "prediction_svm=svm.predict(np.array(datewise[\"Days Since\"]).reshape(-1,1))\n",
    "plt.plot(datewise[\"Confirmed\"],label=\"Train Confirmed Cases\",linewidth=3)\n",
    "plt.plot(datewise.index,prediction_svm, linestyle='--',label=\"Best Fit for SVR\",color='black')\n",
    "plt.xlabel('Time')\n",
    "plt.ylabel('Confirmed Cases')\n",
    "plt.title(\"Support Vector Machine Regressor Prediction\")\n",
    "plt.xticks(rotation=90)\n",
    "plt.legend()"
   ]
  },
  {
   "cell_type": "code",
   "execution_count": 29,
   "metadata": {},
   "outputs": [],
   "source": [
    "new_date=[]\n",
    "new_prediction_lr=[]\n",
    "new_prediction_svm=[]\n",
    "for i in range(1,18):\n",
    "    new_date.append(datewise.index[-1]+timedelta(days=i))\n",
    "    new_prediction_lr.append(lin_reg.predict(np.array(datewise[\"Days Since\"].max()+i).reshape(-1,1))[0][0])\n",
    "    new_prediction_svm.append(svm.predict(np.array(datewise[\"Days Since\"].max()+i).reshape(-1,1))[0])"
   ]
  },
  {
   "cell_type": "code",
   "execution_count": 30,
   "metadata": {},
   "outputs": [
    {
     "data": {
      "text/html": [
       "<div>\n",
       "<style scoped>\n",
       "    .dataframe tbody tr th:only-of-type {\n",
       "        vertical-align: middle;\n",
       "    }\n",
       "\n",
       "    .dataframe tbody tr th {\n",
       "        vertical-align: top;\n",
       "    }\n",
       "\n",
       "    .dataframe thead th {\n",
       "        text-align: right;\n",
       "    }\n",
       "</style>\n",
       "<table border=\"1\" class=\"dataframe\">\n",
       "  <thead>\n",
       "    <tr style=\"text-align: right;\">\n",
       "      <th></th>\n",
       "      <th>Dates</th>\n",
       "      <th>Linear Regression Prediction</th>\n",
       "      <th>SVM Prediction</th>\n",
       "    </tr>\n",
       "  </thead>\n",
       "  <tbody>\n",
       "    <tr>\n",
       "      <th>0</th>\n",
       "      <td>2020-04-07</td>\n",
       "      <td>182235.020690</td>\n",
       "      <td>1550662.918062</td>\n",
       "    </tr>\n",
       "    <tr>\n",
       "      <th>1</th>\n",
       "      <td>2020-04-08</td>\n",
       "      <td>188537.282759</td>\n",
       "      <td>1938797.718178</td>\n",
       "    </tr>\n",
       "    <tr>\n",
       "      <th>2</th>\n",
       "      <td>2020-04-09</td>\n",
       "      <td>194839.544828</td>\n",
       "      <td>2410210.769907</td>\n",
       "    </tr>\n",
       "    <tr>\n",
       "      <th>3</th>\n",
       "      <td>2020-04-10</td>\n",
       "      <td>201141.806897</td>\n",
       "      <td>2979772.018000</td>\n",
       "    </tr>\n",
       "    <tr>\n",
       "      <th>4</th>\n",
       "      <td>2020-04-11</td>\n",
       "      <td>207444.068966</td>\n",
       "      <td>3664501.422830</td>\n",
       "    </tr>\n",
       "  </tbody>\n",
       "</table>\n",
       "</div>"
      ],
      "text/plain": [
       "       Dates  Linear Regression Prediction  SVM Prediction\n",
       "0 2020-04-07                 182235.020690  1550662.918062\n",
       "1 2020-04-08                 188537.282759  1938797.718178\n",
       "2 2020-04-09                 194839.544828  2410210.769907\n",
       "3 2020-04-10                 201141.806897  2979772.018000\n",
       "4 2020-04-11                 207444.068966  3664501.422830"
      ]
     },
     "execution_count": 30,
     "metadata": {},
     "output_type": "execute_result"
    }
   ],
   "source": [
    "model_predictions=pd.DataFrame(zip(new_date,new_prediction_lr,new_prediction_svm),columns=[\"Dates\",\"Linear Regression Prediction\",\"SVM Prediction\"])\n",
    "model_predictions.head()"
   ]
  },
  {
   "cell_type": "markdown",
   "metadata": {},
   "source": [
    "### 3.  Times Series Forecasting"
   ]
  },
  {
   "cell_type": "markdown",
   "metadata": {},
   "source": [
    "**Holt's Linear Model**"
   ]
  },
  {
   "cell_type": "code",
   "execution_count": 31,
   "metadata": {},
   "outputs": [],
   "source": [
    "model_train=datewise.iloc[:int(datewise.shape[0]*0.85)]\n",
    "valid=datewise.iloc[int(datewise.shape[0]*0.85):]"
   ]
  },
  {
   "cell_type": "code",
   "execution_count": 32,
   "metadata": {},
   "outputs": [],
   "source": [
    "holt=Holt(np.asarray(model_train[\"Confirmed\"])).fit(smoothing_level=1.3, smoothing_slope=1.1)\n",
    "y_pred=valid.copy()"
   ]
  },
  {
   "cell_type": "code",
   "execution_count": 33,
   "metadata": {},
   "outputs": [
    {
     "name": "stdout",
     "output_type": "stream",
     "text": [
      "Root Mean Square Error Holt's Linear Model:  28669.520553705155\n"
     ]
    }
   ],
   "source": [
    "y_pred[\"Holt\"]=holt.forecast(len(valid))\n",
    "model_scores.append(np.sqrt(mean_squared_error(y_pred[\"Confirmed\"],y_pred[\"Holt\"])))\n",
    "print(\"Root Mean Square Error Holt's Linear Model: \",np.sqrt(mean_squared_error(y_pred[\"Confirmed\"],y_pred[\"Holt\"])))"
   ]
  },
  {
   "cell_type": "code",
   "execution_count": 34,
   "metadata": {},
   "outputs": [
    {
     "data": {
      "text/plain": [
       "<matplotlib.legend.Legend at 0x1a22d15278>"
      ]
     },
     "execution_count": 34,
     "metadata": {},
     "output_type": "execute_result"
    },
    {
     "data": {
      "image/png": "[encoded data removed]",
      "text/plain": [
       "<Figure size 720x360 with 1 Axes>"
      ]
     },
     "metadata": {
      "needs_background": "light"
     },
     "output_type": "display_data"
    }
   ],
   "source": [
    "plt.figure(figsize=(10,5))\n",
    "plt.plot(model_train.Confirmed,label=\"Train Set\",marker='o')\n",
    "valid.Confirmed.plot(label=\"Validation Set\",marker='*')\n",
    "y_pred.Holt.plot(label=\"Holt's Linear Model Predicted Set\",marker='^')\n",
    "plt.ylabel(\"Confirmed Cases\")\n",
    "plt.xlabel(\"Date Time\")\n",
    "plt.title(\"Holt's Linear Model Prediction\")\n",
    "plt.xticks(rotation=90)\n",
    "plt.legend()"
   ]
  },
  {
   "cell_type": "code",
   "execution_count": 35,
   "metadata": {},
   "outputs": [
    {
     "data": {
      "text/html": [
       "<div>\n",
       "<style scoped>\n",
       "    .dataframe tbody tr th:only-of-type {\n",
       "        vertical-align: middle;\n",
       "    }\n",
       "\n",
       "    .dataframe tbody tr th {\n",
       "        vertical-align: top;\n",
       "    }\n",
       "\n",
       "    .dataframe thead th {\n",
       "        text-align: right;\n",
       "    }\n",
       "</style>\n",
       "<table border=\"1\" class=\"dataframe\">\n",
       "  <thead>\n",
       "    <tr style=\"text-align: right;\">\n",
       "      <th></th>\n",
       "      <th>Dates</th>\n",
       "      <th>Linear Regression Prediction</th>\n",
       "      <th>SVM Prediction</th>\n",
       "      <th>Holt's Linear Model Prediction</th>\n",
       "    </tr>\n",
       "  </thead>\n",
       "  <tbody>\n",
       "    <tr>\n",
       "      <th>0</th>\n",
       "      <td>2020-04-07</td>\n",
       "      <td>182235.020690</td>\n",
       "      <td>1550662.918062</td>\n",
       "      <td>339931.639126</td>\n",
       "    </tr>\n",
       "    <tr>\n",
       "      <th>1</th>\n",
       "      <td>2020-04-08</td>\n",
       "      <td>188537.282759</td>\n",
       "      <td>1938797.718178</td>\n",
       "      <td>361254.525108</td>\n",
       "    </tr>\n",
       "    <tr>\n",
       "      <th>2</th>\n",
       "      <td>2020-04-09</td>\n",
       "      <td>194839.544828</td>\n",
       "      <td>2410210.769907</td>\n",
       "      <td>382577.411090</td>\n",
       "    </tr>\n",
       "    <tr>\n",
       "      <th>3</th>\n",
       "      <td>2020-04-10</td>\n",
       "      <td>201141.806897</td>\n",
       "      <td>2979772.018000</td>\n",
       "      <td>403900.297071</td>\n",
       "    </tr>\n",
       "    <tr>\n",
       "      <th>4</th>\n",
       "      <td>2020-04-11</td>\n",
       "      <td>207444.068966</td>\n",
       "      <td>3664501.422830</td>\n",
       "      <td>425223.183053</td>\n",
       "    </tr>\n",
       "  </tbody>\n",
       "</table>\n",
       "</div>"
      ],
      "text/plain": [
       "       Dates  Linear Regression Prediction  SVM Prediction  \\\n",
       "0 2020-04-07                 182235.020690  1550662.918062   \n",
       "1 2020-04-08                 188537.282759  1938797.718178   \n",
       "2 2020-04-09                 194839.544828  2410210.769907   \n",
       "3 2020-04-10                 201141.806897  2979772.018000   \n",
       "4 2020-04-11                 207444.068966  3664501.422830   \n",
       "\n",
       "   Holt's Linear Model Prediction  \n",
       "0                   339931.639126  \n",
       "1                   361254.525108  \n",
       "2                   382577.411090  \n",
       "3                   403900.297071  \n",
       "4                   425223.183053  "
      ]
     },
     "execution_count": 35,
     "metadata": {},
     "output_type": "execute_result"
    }
   ],
   "source": [
    "holt_new_date=[]\n",
    "holt_new_prediction=[]\n",
    "for i in range(1,18):\n",
    "    holt_new_date.append(datewise.index[-1]+timedelta(days=i))\n",
    "    holt_new_prediction.append(holt.forecast((len(valid)+i))[-1])\n",
    "\n",
    "model_predictions[\"Holt's Linear Model Prediction\"]=holt_new_prediction\n",
    "model_predictions.head()"
   ]
  },
  {
   "cell_type": "markdown",
   "metadata": {},
   "source": [
    "**Holt's Winter Model for Daily Time Series**"
   ]
  },
  {
   "cell_type": "code",
   "execution_count": 36,
   "metadata": {},
   "outputs": [],
   "source": [
    "es=ExponentialSmoothing(np.asarray(model_train['Confirmed']),seasonal_periods=2,trend='mul', seasonal='add').fit()"
   ]
  },
  {
   "cell_type": "code",
   "execution_count": 37,
   "metadata": {},
   "outputs": [],
   "source": [
    "y_pred[\"Holt's Winter Model\"]=es.forecast(len(valid))"
   ]
  },
  {
   "cell_type": "code",
   "execution_count": 38,
   "metadata": {},
   "outputs": [
    {
     "name": "stdout",
     "output_type": "stream",
     "text": [
      "Root Mean Square Error for Holt's Winter Model:  35233.34119398889\n"
     ]
    }
   ],
   "source": [
    "model_scores.append(np.sqrt(mean_squared_error(y_pred[\"Confirmed\"],y_pred[\"Holt's Winter Model\"])))\n",
    "print(\"Root Mean Square Error for Holt's Winter Model: \",np.sqrt(mean_squared_error(y_pred[\"Confirmed\"],y_pred[\"Holt's Winter Model\"])))"
   ]
  },
  {
   "cell_type": "code",
   "execution_count": 39,
   "metadata": {},
   "outputs": [
    {
     "data": {
      "text/plain": [
       "<matplotlib.legend.Legend at 0x1a25d85390>"
      ]
     },
     "execution_count": 39,
     "metadata": {},
     "output_type": "execute_result"
    },
    {
     "data": {
      "image/png": "[encoded data removed]",
      "text/plain": [
       "<Figure size 720x360 with 1 Axes>"
      ]
     },
     "metadata": {
      "needs_background": "light"
     },
     "output_type": "display_data"
    }
   ],
   "source": [
    "plt.figure(figsize=(10,5))\n",
    "plt.plot(model_train.Confirmed,label=\"Train Set\",marker='o')\n",
    "valid.Confirmed.plot(label=\"Validation Set\",marker='*')\n",
    "y_pred[\"Holt\\'s Winter Model\"].plot(label=\"Holt's Winter Model Predicted Set\",marker='^')\n",
    "plt.ylabel(\"Confirmed Cases\")\n",
    "plt.xlabel(\"Date Time\")\n",
    "plt.title(\"Holt's Winter Model Prediction\")\n",
    "plt.xticks(rotation=90)\n",
    "plt.legend()"
   ]
  },
  {
   "cell_type": "code",
   "execution_count": 40,
   "metadata": {},
   "outputs": [
    {
     "data": {
      "text/html": [
       "<div>\n",
       "<style scoped>\n",
       "    .dataframe tbody tr th:only-of-type {\n",
       "        vertical-align: middle;\n",
       "    }\n",
       "\n",
       "    .dataframe tbody tr th {\n",
       "        vertical-align: top;\n",
       "    }\n",
       "\n",
       "    .dataframe thead th {\n",
       "        text-align: right;\n",
       "    }\n",
       "</style>\n",
       "<table border=\"1\" class=\"dataframe\">\n",
       "  <thead>\n",
       "    <tr style=\"text-align: right;\">\n",
       "      <th></th>\n",
       "      <th>Dates</th>\n",
       "      <th>Linear Regression Prediction</th>\n",
       "      <th>SVM Prediction</th>\n",
       "      <th>Holt's Linear Model Prediction</th>\n",
       "      <th>Holt's Winter Model Prediction</th>\n",
       "    </tr>\n",
       "  </thead>\n",
       "  <tbody>\n",
       "    <tr>\n",
       "      <th>0</th>\n",
       "      <td>2020-04-07</td>\n",
       "      <td>182235.020690</td>\n",
       "      <td>1550662.918062</td>\n",
       "      <td>339931.639126</td>\n",
       "      <td>367011.942615</td>\n",
       "    </tr>\n",
       "    <tr>\n",
       "      <th>1</th>\n",
       "      <td>2020-04-08</td>\n",
       "      <td>188537.282759</td>\n",
       "      <td>1938797.718178</td>\n",
       "      <td>361254.525108</td>\n",
       "      <td>401410.472756</td>\n",
       "    </tr>\n",
       "    <tr>\n",
       "      <th>2</th>\n",
       "      <td>2020-04-09</td>\n",
       "      <td>194839.544828</td>\n",
       "      <td>2410210.769907</td>\n",
       "      <td>382577.411090</td>\n",
       "      <td>438847.080357</td>\n",
       "    </tr>\n",
       "    <tr>\n",
       "      <th>3</th>\n",
       "      <td>2020-04-10</td>\n",
       "      <td>201141.806897</td>\n",
       "      <td>2979772.018000</td>\n",
       "      <td>403900.297071</td>\n",
       "      <td>479170.419059</td>\n",
       "    </tr>\n",
       "    <tr>\n",
       "      <th>4</th>\n",
       "      <td>2020-04-11</td>\n",
       "      <td>207444.068966</td>\n",
       "      <td>3664501.422830</td>\n",
       "      <td>425223.183053</td>\n",
       "      <td>523020.500763</td>\n",
       "    </tr>\n",
       "  </tbody>\n",
       "</table>\n",
       "</div>"
      ],
      "text/plain": [
       "       Dates  Linear Regression Prediction  SVM Prediction  \\\n",
       "0 2020-04-07                 182235.020690  1550662.918062   \n",
       "1 2020-04-08                 188537.282759  1938797.718178   \n",
       "2 2020-04-09                 194839.544828  2410210.769907   \n",
       "3 2020-04-10                 201141.806897  2979772.018000   \n",
       "4 2020-04-11                 207444.068966  3664501.422830   \n",
       "\n",
       "   Holt's Linear Model Prediction  Holt's Winter Model Prediction  \n",
       "0                   339931.639126                   367011.942615  \n",
       "1                   361254.525108                   401410.472756  \n",
       "2                   382577.411090                   438847.080357  \n",
       "3                   403900.297071                   479170.419059  \n",
       "4                   425223.183053                   523020.500763  "
      ]
     },
     "execution_count": 40,
     "metadata": {},
     "output_type": "execute_result"
    }
   ],
   "source": [
    "holt_winter_new_prediction=[]\n",
    "for i in range(1,18):\n",
    "    holt_winter_new_prediction.append(es.forecast((len(valid)+i))[-1])\n",
    "model_predictions[\"Holt's Winter Model Prediction\"]=holt_winter_new_prediction\n",
    "model_predictions.head()"
   ]
  },
  {
   "cell_type": "code",
   "execution_count": 41,
   "metadata": {},
   "outputs": [],
   "source": [
    "model_train=datewise.iloc[:int(datewise.shape[0]*0.80)]\n",
    "valid=datewise.iloc[int(datewise.shape[0]*0.80):]\n",
    "y_pred=valid.copy()"
   ]
  },
  {
   "cell_type": "code",
   "execution_count": 42,
   "metadata": {},
   "outputs": [
    {
     "data": {
      "text/plain": [
       "<matplotlib.axes._subplots.AxesSubplot at 0x1a25d566d8>"
      ]
     },
     "execution_count": 42,
     "metadata": {},
     "output_type": "execute_result"
    },
    {
     "data": {
      "image/png": "[encoded data removed]",
      "text/plain": [
       "<Figure size 720x360 with 1 Axes>"
      ]
     },
     "metadata": {
      "needs_background": "light"
     },
     "output_type": "display_data"
    }
   ],
   "source": [
    "plt.figure(figsize=(10, 5))\n",
    "autocorrelation_plot(datewise[\"Confirmed\"])"
   ]
  },
  {
   "cell_type": "code",
   "execution_count": 43,
   "metadata": {},
   "outputs": [
    {
     "data": {
      "text/plain": [
       "[<matplotlib.lines.Line2D at 0x1a26188d68>]"
      ]
     },
     "execution_count": 43,
     "metadata": {},
     "output_type": "execute_result"
    },
    {
     "data": {
      "image/png": "[encoded data removed]",
      "text/plain": [
       "<Figure size 1080x504 with 3 Axes>"
      ]
     },
     "metadata": {
      "needs_background": "light"
     },
     "output_type": "display_data"
    }
   ],
   "source": [
    "fig, (ax1,ax2,ax3) = plt.subplots(3, 1,figsize=(15,7))\n",
    "\n",
    "results=sm.tsa.seasonal_decompose(model_train[\"Confirmed\"])\n",
    "ax1.plot(results.trend)\n",
    "ax2.plot(results.seasonal)\n",
    "ax3.plot(results.resid)"
   ]
  },
  {
   "cell_type": "code",
   "execution_count": 44,
   "metadata": {},
   "outputs": [],
   "source": [
    "# We can see that it has a trend because the growth is exponential"
   ]
  },
  {
   "cell_type": "code",
   "execution_count": 45,
   "metadata": {},
   "outputs": [
    {
     "name": "stdout",
     "output_type": "stream",
     "text": [
      "Results of Dickey-Fuller test for Original Time Series\n",
      "Test Statistic                -0.377182\n",
      "p-value                        0.913839\n",
      "#Lags Used                     1.000000\n",
      "Number of Observations Used   26.000000\n",
      "Critical Value (1%)           -3.711212\n",
      "Critical Value (5%)           -2.981247\n",
      "Critical Value (10%)          -2.630095\n",
      "dtype: float64\n"
     ]
    }
   ],
   "source": [
    "print(\"Results of Dickey-Fuller test for Original Time Series\")\n",
    "dftest = adfuller(model_train[\"Confirmed\"], autolag='AIC')\n",
    "dfoutput = pd.Series(dftest[0:4], index=['Test Statistic','p-value','#Lags Used','Number of Observations Used'])\n",
    "for key,value in dftest[4].items():\n",
    "    dfoutput['Critical Value (%s)'%key] = value\n",
    "print(dfoutput)"
   ]
  },
  {
   "cell_type": "code",
   "execution_count": 46,
   "metadata": {},
   "outputs": [],
   "source": [
    "# If the P-value is close to 0 it means it is stationary. "
   ]
  },
  {
   "cell_type": "code",
   "execution_count": 47,
   "metadata": {},
   "outputs": [],
   "source": [
    "# We apply a logarithmic scale to correct the trend in order to be stationary. \n",
    "log_series=np.log(model_train[\"Confirmed\"])"
   ]
  },
  {
   "cell_type": "code",
   "execution_count": 48,
   "metadata": {},
   "outputs": [
    {
     "name": "stdout",
     "output_type": "stream",
     "text": [
      "Results of Dickey-Fuller test for Log Transformed Time-Series\n",
      "Test Statistic                -4.504191\n",
      "p-value                        0.000193\n",
      "#Lags Used                     0.000000\n",
      "Number of Observations Used   27.000000\n",
      "Critical Value (1%)           -3.699608\n",
      "Critical Value (5%)           -2.976430\n",
      "Critical Value (10%)          -2.627601\n",
      "dtype: float64\n"
     ]
    }
   ],
   "source": [
    "print(\"Results of Dickey-Fuller test for Log Transformed Time-Series\")\n",
    "dftest = adfuller(log_series, autolag='AIC')\n",
    "dfoutput = pd.Series(dftest[0:4], index=['Test Statistic','p-value','#Lags Used','Number of Observations Used'])\n",
    "for key,value in dftest[4].items():\n",
    "    dfoutput['Critical Value (%s)'%key] = value\n",
    "print(dfoutput)"
   ]
  },
  {
   "cell_type": "code",
   "execution_count": 49,
   "metadata": {},
   "outputs": [
    {
     "data": {
      "text/plain": [
       "[<matplotlib.lines.Line2D at 0x1a26e47f60>]"
      ]
     },
     "execution_count": 49,
     "metadata": {},
     "output_type": "execute_result"
    },
    {
     "data": {
      "image/png": "[encoded data removed]",
      "text/plain": [
       "<Figure size 1080x504 with 3 Axes>"
      ]
     },
     "metadata": {
      "needs_background": "light"
     },
     "output_type": "display_data"
    }
   ],
   "source": [
    "# We print the parameters again. And we see that the growth is more constant than the one we had before. The line is flatter. \n",
    "fig, (ax1,ax2,ax3) = plt.subplots(3, 1,figsize=(15,7))\n",
    "\n",
    "results=sm.tsa.seasonal_decompose(log_series)\n",
    "ax1.plot(results.trend)\n",
    "ax2.plot(results.seasonal)\n",
    "ax3.plot(results.resid)"
   ]
  },
  {
   "cell_type": "markdown",
   "metadata": {},
   "source": [
    "**AR MODEL**"
   ]
  },
  {
   "cell_type": "code",
   "execution_count": 50,
   "metadata": {},
   "outputs": [],
   "source": [
    "# Ho fa amb el log i dp fa un fit amb l'interval de predicció: \n",
    "model_ar=ARIMA(log_series,(1,1,0))\n",
    "model_ar_fit=model_ar.fit()"
   ]
  },
  {
   "cell_type": "code",
   "execution_count": 51,
   "metadata": {},
   "outputs": [],
   "source": [
    "# Torna amb les dades originals amb el exp:\n",
    "prediction_ar=model_ar_fit.forecast(len(valid))[0]\n",
    "y_pred[\"AR Model Prediction\"]=list(np.exp(prediction_ar))"
   ]
  },
  {
   "cell_type": "code",
   "execution_count": 52,
   "metadata": {},
   "outputs": [
    {
     "name": "stdout",
     "output_type": "stream",
     "text": [
      "Root Mean Square Error for AR Model:  224007.02918413695\n"
     ]
    }
   ],
   "source": [
    "model_scores.append(np.sqrt(mean_squared_error(list(valid[\"Confirmed\"]),np.exp(prediction_ar))))\n",
    "print(\"Root Mean Square Error for AR Model: \",np.sqrt(mean_squared_error(list(valid[\"Confirmed\"]),np.exp(prediction_ar))))"
   ]
  },
  {
   "cell_type": "code",
   "execution_count": 53,
   "metadata": {},
   "outputs": [
    {
     "data": {
      "text/plain": [
       "(array([737489., 737493., 737497., 737501., 737505., 737509., 737513.,\n",
       "        737516., 737520.]),\n",
       " <a list of 9 Text xticklabel objects>)"
      ]
     },
     "execution_count": 53,
     "metadata": {},
     "output_type": "execute_result"
    },
    {
     "data": {
      "image/png": "[encoded data removed]",
      "text/plain": [
       "<Figure size 720x360 with 1 Axes>"
      ]
     },
     "metadata": {
      "needs_background": "light"
     },
     "output_type": "display_data"
    }
   ],
   "source": [
    "plt.figure(figsize=(10,5))\n",
    "plt.plot(model_train.index,model_train[\"Confirmed\"],label=\"Train Set\",marker='o')\n",
    "plt.plot(valid.index,valid[\"Confirmed\"],label=\"Validation Set\",marker='*')\n",
    "plt.plot(y_pred[\"AR Model Prediction\"],label=\"AR Model Prediction set\",marker=\"^\")\n",
    "plt.legend()\n",
    "plt.xlabel(\"Date Time\")\n",
    "plt.ylabel('Confirmed Cases')\n",
    "plt.title(\"AR Model Forecasting\")\n",
    "plt.xticks(rotation=90)"
   ]
  },
  {
   "cell_type": "code",
   "execution_count": 54,
   "metadata": {},
   "outputs": [
    {
     "data": {
      "text/html": [
       "<div>\n",
       "<style scoped>\n",
       "    .dataframe tbody tr th:only-of-type {\n",
       "        vertical-align: middle;\n",
       "    }\n",
       "\n",
       "    .dataframe tbody tr th {\n",
       "        vertical-align: top;\n",
       "    }\n",
       "\n",
       "    .dataframe thead th {\n",
       "        text-align: right;\n",
       "    }\n",
       "</style>\n",
       "<table border=\"1\" class=\"dataframe\">\n",
       "  <thead>\n",
       "    <tr style=\"text-align: right;\">\n",
       "      <th></th>\n",
       "      <th>Dates</th>\n",
       "      <th>Linear Regression Prediction</th>\n",
       "      <th>SVM Prediction</th>\n",
       "      <th>Holt's Linear Model Prediction</th>\n",
       "      <th>Holt's Winter Model Prediction</th>\n",
       "      <th>AR Model Prediction</th>\n",
       "    </tr>\n",
       "  </thead>\n",
       "  <tbody>\n",
       "    <tr>\n",
       "      <th>0</th>\n",
       "      <td>2020-04-07</td>\n",
       "      <td>182235.020690</td>\n",
       "      <td>1550662.918062</td>\n",
       "      <td>339931.639126</td>\n",
       "      <td>367011.942615</td>\n",
       "      <td>894764.225809</td>\n",
       "    </tr>\n",
       "    <tr>\n",
       "      <th>1</th>\n",
       "      <td>2020-04-08</td>\n",
       "      <td>188537.282759</td>\n",
       "      <td>1938797.718178</td>\n",
       "      <td>361254.525108</td>\n",
       "      <td>401410.472756</td>\n",
       "      <td>1125596.872111</td>\n",
       "    </tr>\n",
       "    <tr>\n",
       "      <th>2</th>\n",
       "      <td>2020-04-09</td>\n",
       "      <td>194839.544828</td>\n",
       "      <td>2410210.769907</td>\n",
       "      <td>382577.411090</td>\n",
       "      <td>438847.080357</td>\n",
       "      <td>1416414.969936</td>\n",
       "    </tr>\n",
       "    <tr>\n",
       "      <th>3</th>\n",
       "      <td>2020-04-10</td>\n",
       "      <td>201141.806897</td>\n",
       "      <td>2979772.018000</td>\n",
       "      <td>403900.297071</td>\n",
       "      <td>479170.419059</td>\n",
       "      <td>1782671.175144</td>\n",
       "    </tr>\n",
       "    <tr>\n",
       "      <th>4</th>\n",
       "      <td>2020-04-11</td>\n",
       "      <td>207444.068966</td>\n",
       "      <td>3664501.422830</td>\n",
       "      <td>425223.183053</td>\n",
       "      <td>523020.500763</td>\n",
       "      <td>2243840.837438</td>\n",
       "    </tr>\n",
       "  </tbody>\n",
       "</table>\n",
       "</div>"
      ],
      "text/plain": [
       "       Dates  Linear Regression Prediction  SVM Prediction  \\\n",
       "0 2020-04-07                 182235.020690  1550662.918062   \n",
       "1 2020-04-08                 188537.282759  1938797.718178   \n",
       "2 2020-04-09                 194839.544828  2410210.769907   \n",
       "3 2020-04-10                 201141.806897  2979772.018000   \n",
       "4 2020-04-11                 207444.068966  3664501.422830   \n",
       "\n",
       "   Holt's Linear Model Prediction  Holt's Winter Model Prediction  \\\n",
       "0                   339931.639126                   367011.942615   \n",
       "1                   361254.525108                   401410.472756   \n",
       "2                   382577.411090                   438847.080357   \n",
       "3                   403900.297071                   479170.419059   \n",
       "4                   425223.183053                   523020.500763   \n",
       "\n",
       "   AR Model Prediction  \n",
       "0        894764.225809  \n",
       "1       1125596.872111  \n",
       "2       1416414.969936  \n",
       "3       1782671.175144  \n",
       "4       2243840.837438  "
      ]
     },
     "execution_count": 54,
     "metadata": {},
     "output_type": "execute_result"
    }
   ],
   "source": [
    "# Aqui ens diu segons cada model, el numero de casos que prediuen per cada fecha:\n",
    "AR_model_new_prediction=[]\n",
    "for i in range(1,18):\n",
    "    AR_model_new_prediction.append(np.exp(model_ar_fit.forecast(len(valid)+i)[0][-1]))\n",
    "model_predictions[\"AR Model Prediction\"]=AR_model_new_prediction\n",
    "model_predictions.head()"
   ]
  },
  {
   "cell_type": "markdown",
   "metadata": {},
   "source": [
    "**MA Model**"
   ]
  },
  {
   "cell_type": "code",
   "execution_count": 55,
   "metadata": {},
   "outputs": [],
   "source": [
    "# Utilitza el rolling per agafar valors passats i fas la mitjana. El MA va be perque tenen tendencia a pujar i com això és exponencial va be. \n",
    "model_train=datewise.iloc[:int(datewise.shape[0]*0.85)]\n",
    "valid=datewise.iloc[int(datewise.shape[0]*0.85):]\n",
    "log_series=np.log(model_train[\"Confirmed\"])\n",
    "y_pred=valid.copy()"
   ]
  },
  {
   "cell_type": "code",
   "execution_count": 56,
   "metadata": {},
   "outputs": [],
   "source": [
    "model_ma=ARIMA(log_series,(0,1,5))\n",
    "model_ma_fit=model_ma.fit()"
   ]
  },
  {
   "cell_type": "code",
   "execution_count": 57,
   "metadata": {},
   "outputs": [],
   "source": [
    "prediction_ma=model_ma_fit.forecast(len(valid))[0]\n",
    "y_pred[\"MA Model Prediction\"]=list(np.exp(prediction_ma))"
   ]
  },
  {
   "cell_type": "code",
   "execution_count": 58,
   "metadata": {},
   "outputs": [
    {
     "name": "stdout",
     "output_type": "stream",
     "text": [
      "Root Mean Square Error for MA Model:  112418.44745133014\n"
     ]
    }
   ],
   "source": [
    "model_scores.append(np.sqrt(mean_squared_error(list(valid[\"Confirmed\"]),np.exp(prediction_ma))))\n",
    "print(\"Root Mean Square Error for MA Model: \",np.sqrt(mean_squared_error(list(valid[\"Confirmed\"]),np.exp(prediction_ma))))"
   ]
  },
  {
   "cell_type": "code",
   "execution_count": 59,
   "metadata": {},
   "outputs": [
    {
     "data": {
      "text/plain": [
       "(array([737489., 737493., 737497., 737501., 737505., 737509., 737513.,\n",
       "        737516., 737520.]),\n",
       " <a list of 9 Text xticklabel objects>)"
      ]
     },
     "execution_count": 59,
     "metadata": {},
     "output_type": "execute_result"
    },
    {
     "data": {
      "image/png": "[encoded data removed]",
      "text/plain": [
       "<Figure size 720x360 with 1 Axes>"
      ]
     },
     "metadata": {
      "needs_background": "light"
     },
     "output_type": "display_data"
    }
   ],
   "source": [
    "plt.figure(figsize=(10,5))\n",
    "plt.plot(model_train.index,model_train[\"Confirmed\"],label=\"Train Set\",marker='o')\n",
    "plt.plot(valid.index,valid[\"Confirmed\"],label=\"Validation Set\",marker='*')\n",
    "plt.plot(y_pred[\"MA Model Prediction\"],label=\"MA Mode Prediction Set\",marker='^')\n",
    "plt.legend()\n",
    "plt.xlabel(\"Date Time\")\n",
    "plt.ylabel('Confirmed Cases')\n",
    "plt.title(\"MA Model Forecasting\")\n",
    "plt.xticks(rotation=90)"
   ]
  },
  {
   "cell_type": "code",
   "execution_count": 60,
   "metadata": {},
   "outputs": [
    {
     "data": {
      "text/html": [
       "<div>\n",
       "<style scoped>\n",
       "    .dataframe tbody tr th:only-of-type {\n",
       "        vertical-align: middle;\n",
       "    }\n",
       "\n",
       "    .dataframe tbody tr th {\n",
       "        vertical-align: top;\n",
       "    }\n",
       "\n",
       "    .dataframe thead th {\n",
       "        text-align: right;\n",
       "    }\n",
       "</style>\n",
       "<table border=\"1\" class=\"dataframe\">\n",
       "  <thead>\n",
       "    <tr style=\"text-align: right;\">\n",
       "      <th></th>\n",
       "      <th>Dates</th>\n",
       "      <th>Linear Regression Prediction</th>\n",
       "      <th>SVM Prediction</th>\n",
       "      <th>Holt's Linear Model Prediction</th>\n",
       "      <th>Holt's Winter Model Prediction</th>\n",
       "      <th>AR Model Prediction</th>\n",
       "      <th>MA Model Prediction</th>\n",
       "    </tr>\n",
       "  </thead>\n",
       "  <tbody>\n",
       "    <tr>\n",
       "      <th>0</th>\n",
       "      <td>2020-04-07</td>\n",
       "      <td>182235.020690</td>\n",
       "      <td>1550662.918062</td>\n",
       "      <td>339931.639126</td>\n",
       "      <td>367011.942615</td>\n",
       "      <td>894764.225809</td>\n",
       "      <td>618243.878356</td>\n",
       "    </tr>\n",
       "    <tr>\n",
       "      <th>1</th>\n",
       "      <td>2020-04-08</td>\n",
       "      <td>188537.282759</td>\n",
       "      <td>1938797.718178</td>\n",
       "      <td>361254.525108</td>\n",
       "      <td>401410.472756</td>\n",
       "      <td>1125596.872111</td>\n",
       "      <td>770352.146104</td>\n",
       "    </tr>\n",
       "    <tr>\n",
       "      <th>2</th>\n",
       "      <td>2020-04-09</td>\n",
       "      <td>194839.544828</td>\n",
       "      <td>2410210.769907</td>\n",
       "      <td>382577.411090</td>\n",
       "      <td>438847.080357</td>\n",
       "      <td>1416414.969936</td>\n",
       "      <td>959884.035706</td>\n",
       "    </tr>\n",
       "    <tr>\n",
       "      <th>3</th>\n",
       "      <td>2020-04-10</td>\n",
       "      <td>201141.806897</td>\n",
       "      <td>2979772.018000</td>\n",
       "      <td>403900.297071</td>\n",
       "      <td>479170.419059</td>\n",
       "      <td>1782671.175144</td>\n",
       "      <td>1196046.985348</td>\n",
       "    </tr>\n",
       "    <tr>\n",
       "      <th>4</th>\n",
       "      <td>2020-04-11</td>\n",
       "      <td>207444.068966</td>\n",
       "      <td>3664501.422830</td>\n",
       "      <td>425223.183053</td>\n",
       "      <td>523020.500763</td>\n",
       "      <td>2243840.837438</td>\n",
       "      <td>1490313.764941</td>\n",
       "    </tr>\n",
       "  </tbody>\n",
       "</table>\n",
       "</div>"
      ],
      "text/plain": [
       "       Dates  Linear Regression Prediction  SVM Prediction  \\\n",
       "0 2020-04-07                 182235.020690  1550662.918062   \n",
       "1 2020-04-08                 188537.282759  1938797.718178   \n",
       "2 2020-04-09                 194839.544828  2410210.769907   \n",
       "3 2020-04-10                 201141.806897  2979772.018000   \n",
       "4 2020-04-11                 207444.068966  3664501.422830   \n",
       "\n",
       "   Holt's Linear Model Prediction  Holt's Winter Model Prediction  \\\n",
       "0                   339931.639126                   367011.942615   \n",
       "1                   361254.525108                   401410.472756   \n",
       "2                   382577.411090                   438847.080357   \n",
       "3                   403900.297071                   479170.419059   \n",
       "4                   425223.183053                   523020.500763   \n",
       "\n",
       "   AR Model Prediction  MA Model Prediction  \n",
       "0        894764.225809        618243.878356  \n",
       "1       1125596.872111        770352.146104  \n",
       "2       1416414.969936        959884.035706  \n",
       "3       1782671.175144       1196046.985348  \n",
       "4       2243840.837438       1490313.764941  "
      ]
     },
     "execution_count": 60,
     "metadata": {},
     "output_type": "execute_result"
    }
   ],
   "source": [
    "MA_model_new_prediction=[]\n",
    "for i in range(1,18):\n",
    "    MA_model_new_prediction.append(np.exp(model_ma_fit.forecast(len(valid)+i)[0][-1]))\n",
    "model_predictions[\"MA Model Prediction\"]=MA_model_new_prediction\n",
    "model_predictions.head()"
   ]
  },
  {
   "cell_type": "markdown",
   "metadata": {},
   "source": [
    "**ARIMA Model**"
   ]
  },
  {
   "cell_type": "code",
   "execution_count": 61,
   "metadata": {},
   "outputs": [],
   "source": [
    "model_train=datewise.iloc[:int(datewise.shape[0]*0.80)]\n",
    "valid=datewise.iloc[int(datewise.shape[0]*0.80):]\n",
    "log_series=np.log(model_train[\"Confirmed\"])\n",
    "y_pred=valid.copy()"
   ]
  },
  {
   "cell_type": "code",
   "execution_count": 62,
   "metadata": {},
   "outputs": [],
   "source": [
    "model_arima=ARIMA(log_series,(2,1,1))\n",
    "model_arima_fit=model_arima.fit()"
   ]
  },
  {
   "cell_type": "code",
   "execution_count": 63,
   "metadata": {},
   "outputs": [],
   "source": [
    "prediction_arima=model_arima_fit.forecast(len(valid))[0]\n",
    "y_pred[\"ARIMA Model Prediction\"]=list(np.exp(prediction_arima))"
   ]
  },
  {
   "cell_type": "code",
   "execution_count": 64,
   "metadata": {},
   "outputs": [
    {
     "name": "stdout",
     "output_type": "stream",
     "text": [
      "Root Mean Square Error for ARIMA Model:  108165.59754272221\n"
     ]
    }
   ],
   "source": [
    "model_scores.append(np.sqrt(mean_squared_error(list(valid[\"Confirmed\"]),np.exp(prediction_arima))))\n",
    "print(\"Root Mean Square Error for ARIMA Model: \",np.sqrt(mean_squared_error(list(valid[\"Confirmed\"]),np.exp(prediction_arima))))"
   ]
  },
  {
   "cell_type": "code",
   "execution_count": 65,
   "metadata": {},
   "outputs": [
    {
     "data": {
      "text/plain": [
       "(array([737489., 737493., 737497., 737501., 737505., 737509., 737513.,\n",
       "        737516., 737520.]),\n",
       " <a list of 9 Text xticklabel objects>)"
      ]
     },
     "execution_count": 65,
     "metadata": {},
     "output_type": "execute_result"
    },
    {
     "data": {
      "image/png": "[encoded data removed]",
      "text/plain": [
       "<Figure size 720x360 with 1 Axes>"
      ]
     },
     "metadata": {
      "needs_background": "light"
     },
     "output_type": "display_data"
    }
   ],
   "source": [
    "plt.figure(figsize=(10,5))\n",
    "plt.plot(model_train.index,model_train[\"Confirmed\"],label=\"Train Set\",marker='o')\n",
    "plt.plot(valid.index,valid[\"Confirmed\"],label=\"Validation Set\",marker='*')\n",
    "plt.plot(y_pred[\"ARIMA Model Prediction\"],label=\"ARIMA Model Prediction Set\",marker='^')\n",
    "plt.legend()\n",
    "plt.xlabel(\"Date Time\")\n",
    "plt.ylabel('Confirmed Cases')\n",
    "plt.title(\"ARIMA Model Forecasting\")\n",
    "plt.xticks(rotation=90)"
   ]
  },
  {
   "cell_type": "code",
   "execution_count": 66,
   "metadata": {},
   "outputs": [
    {
     "data": {
      "text/html": [
       "<div>\n",
       "<style scoped>\n",
       "    .dataframe tbody tr th:only-of-type {\n",
       "        vertical-align: middle;\n",
       "    }\n",
       "\n",
       "    .dataframe tbody tr th {\n",
       "        vertical-align: top;\n",
       "    }\n",
       "\n",
       "    .dataframe thead th {\n",
       "        text-align: right;\n",
       "    }\n",
       "</style>\n",
       "<table border=\"1\" class=\"dataframe\">\n",
       "  <thead>\n",
       "    <tr style=\"text-align: right;\">\n",
       "      <th></th>\n",
       "      <th>Dates</th>\n",
       "      <th>Linear Regression Prediction</th>\n",
       "      <th>SVM Prediction</th>\n",
       "      <th>Holt's Linear Model Prediction</th>\n",
       "      <th>Holt's Winter Model Prediction</th>\n",
       "      <th>AR Model Prediction</th>\n",
       "      <th>MA Model Prediction</th>\n",
       "      <th>ARIMA Model Prediction</th>\n",
       "    </tr>\n",
       "  </thead>\n",
       "  <tbody>\n",
       "    <tr>\n",
       "      <th>0</th>\n",
       "      <td>2020-04-07</td>\n",
       "      <td>182235.020690</td>\n",
       "      <td>1550662.918062</td>\n",
       "      <td>339931.639126</td>\n",
       "      <td>367011.942615</td>\n",
       "      <td>894764.225809</td>\n",
       "      <td>618243.878356</td>\n",
       "      <td>577235.426073</td>\n",
       "    </tr>\n",
       "    <tr>\n",
       "      <th>1</th>\n",
       "      <td>2020-04-08</td>\n",
       "      <td>188537.282759</td>\n",
       "      <td>1938797.718178</td>\n",
       "      <td>361254.525108</td>\n",
       "      <td>401410.472756</td>\n",
       "      <td>1125596.872111</td>\n",
       "      <td>770352.146104</td>\n",
       "      <td>691210.349737</td>\n",
       "    </tr>\n",
       "    <tr>\n",
       "      <th>2</th>\n",
       "      <td>2020-04-09</td>\n",
       "      <td>194839.544828</td>\n",
       "      <td>2410210.769907</td>\n",
       "      <td>382577.411090</td>\n",
       "      <td>438847.080357</td>\n",
       "      <td>1416414.969936</td>\n",
       "      <td>959884.035706</td>\n",
       "      <td>831076.991118</td>\n",
       "    </tr>\n",
       "    <tr>\n",
       "      <th>3</th>\n",
       "      <td>2020-04-10</td>\n",
       "      <td>201141.806897</td>\n",
       "      <td>2979772.018000</td>\n",
       "      <td>403900.297071</td>\n",
       "      <td>479170.419059</td>\n",
       "      <td>1782671.175144</td>\n",
       "      <td>1196046.985348</td>\n",
       "      <td>1002886.060524</td>\n",
       "    </tr>\n",
       "    <tr>\n",
       "      <th>4</th>\n",
       "      <td>2020-04-11</td>\n",
       "      <td>207444.068966</td>\n",
       "      <td>3664501.422830</td>\n",
       "      <td>425223.183053</td>\n",
       "      <td>523020.500763</td>\n",
       "      <td>2243840.837438</td>\n",
       "      <td>1490313.764941</td>\n",
       "      <td>1214138.131599</td>\n",
       "    </tr>\n",
       "  </tbody>\n",
       "</table>\n",
       "</div>"
      ],
      "text/plain": [
       "       Dates  Linear Regression Prediction  SVM Prediction  \\\n",
       "0 2020-04-07                 182235.020690  1550662.918062   \n",
       "1 2020-04-08                 188537.282759  1938797.718178   \n",
       "2 2020-04-09                 194839.544828  2410210.769907   \n",
       "3 2020-04-10                 201141.806897  2979772.018000   \n",
       "4 2020-04-11                 207444.068966  3664501.422830   \n",
       "\n",
       "   Holt's Linear Model Prediction  Holt's Winter Model Prediction  \\\n",
       "0                   339931.639126                   367011.942615   \n",
       "1                   361254.525108                   401410.472756   \n",
       "2                   382577.411090                   438847.080357   \n",
       "3                   403900.297071                   479170.419059   \n",
       "4                   425223.183053                   523020.500763   \n",
       "\n",
       "   AR Model Prediction  MA Model Prediction  ARIMA Model Prediction  \n",
       "0        894764.225809        618243.878356           577235.426073  \n",
       "1       1125596.872111        770352.146104           691210.349737  \n",
       "2       1416414.969936        959884.035706           831076.991118  \n",
       "3       1782671.175144       1196046.985348          1002886.060524  \n",
       "4       2243840.837438       1490313.764941          1214138.131599  "
      ]
     },
     "execution_count": 66,
     "metadata": {},
     "output_type": "execute_result"
    }
   ],
   "source": [
    "ARIMA_model_new_prediction=[]\n",
    "for i in range(1,18):\n",
    "    ARIMA_model_new_prediction.append(np.exp(model_arima_fit.forecast(len(valid)+i)[0][-1]))\n",
    "model_predictions[\"ARIMA Model Prediction\"]=ARIMA_model_new_prediction\n",
    "model_predictions.head()"
   ]
  },
  {
   "cell_type": "markdown",
   "metadata": {},
   "source": [
    "**Summarization of forecats using different Models**"
   ]
  },
  {
   "cell_type": "code",
   "execution_count": 67,
   "metadata": {},
   "outputs": [
    {
     "data": {
      "text/html": [
       "<div>\n",
       "<style scoped>\n",
       "    .dataframe tbody tr th:only-of-type {\n",
       "        vertical-align: middle;\n",
       "    }\n",
       "\n",
       "    .dataframe tbody tr th {\n",
       "        vertical-align: top;\n",
       "    }\n",
       "\n",
       "    .dataframe thead th {\n",
       "        text-align: right;\n",
       "    }\n",
       "</style>\n",
       "<table border=\"1\" class=\"dataframe\">\n",
       "  <thead>\n",
       "    <tr style=\"text-align: right;\">\n",
       "      <th></th>\n",
       "      <th>Model Name</th>\n",
       "      <th>Root Mean Squared Error</th>\n",
       "    </tr>\n",
       "  </thead>\n",
       "  <tbody>\n",
       "    <tr>\n",
       "      <th>2</th>\n",
       "      <td>Holt's Linear</td>\n",
       "      <td>28669.520554</td>\n",
       "    </tr>\n",
       "    <tr>\n",
       "      <th>3</th>\n",
       "      <td>Holt's Winter Model</td>\n",
       "      <td>35233.341194</td>\n",
       "    </tr>\n",
       "    <tr>\n",
       "      <th>0</th>\n",
       "      <td>Linear Regression</td>\n",
       "      <td>80950.443942</td>\n",
       "    </tr>\n",
       "    <tr>\n",
       "      <th>6</th>\n",
       "      <td>ARIMA Model</td>\n",
       "      <td>108165.597543</td>\n",
       "    </tr>\n",
       "    <tr>\n",
       "      <th>5</th>\n",
       "      <td>Moving Average Model (MA)</td>\n",
       "      <td>112418.447451</td>\n",
       "    </tr>\n",
       "    <tr>\n",
       "      <th>4</th>\n",
       "      <td>Auto Regressive Model (AR)</td>\n",
       "      <td>224007.029184</td>\n",
       "    </tr>\n",
       "    <tr>\n",
       "      <th>1</th>\n",
       "      <td>Support Vector Machine Regressor</td>\n",
       "      <td>564630.741340</td>\n",
       "    </tr>\n",
       "  </tbody>\n",
       "</table>\n",
       "</div>"
      ],
      "text/plain": [
       "                         Model Name  Root Mean Squared Error\n",
       "2                     Holt's Linear             28669.520554\n",
       "3               Holt's Winter Model             35233.341194\n",
       "0                 Linear Regression             80950.443942\n",
       "6                       ARIMA Model            108165.597543\n",
       "5         Moving Average Model (MA)            112418.447451\n",
       "4        Auto Regressive Model (AR)            224007.029184\n",
       "1  Support Vector Machine Regressor            564630.741340"
      ]
     },
     "execution_count": 67,
     "metadata": {},
     "output_type": "execute_result"
    }
   ],
   "source": [
    "model_names=[\"Linear Regression\",\"Support Vector Machine Regressor\",\"Holt's Linear\",\"Holt's Winter Model\",\n",
    "            \"Auto Regressive Model (AR)\",\"Moving Average Model (MA)\",\"ARIMA Model\"]\n",
    "pd.DataFrame(zip(model_names,model_scores),columns=[\"Model Name\",\"Root Mean Squared Error\"]).sort_values([\"Root Mean Squared Error\"])"
   ]
  },
  {
   "cell_type": "markdown",
   "metadata": {},
   "source": [
    "## b) Death Cases"
   ]
  },
  {
   "cell_type": "markdown",
   "metadata": {},
   "source": [
    "### 1. Time Series Forecasting"
   ]
  },
  {
   "cell_type": "code",
   "execution_count": 68,
   "metadata": {},
   "outputs": [
    {
     "data": {
      "text/plain": [
       "(array([737489., 737493., 737497., 737501., 737505., 737509., 737513.,\n",
       "        737516., 737520.]),\n",
       " <a list of 9 Text xticklabel objects>)"
      ]
     },
     "execution_count": 68,
     "metadata": {},
     "output_type": "execute_result"
    },
    {
     "data": {
      "image/png": "[encoded data removed]",
      "text/plain": [
       "<Figure size 720x360 with 1 Axes>"
      ]
     },
     "metadata": {
      "needs_background": "light"
     },
     "output_type": "display_data"
    }
   ],
   "source": [
    "plt.figure(figsize=(10,5))\n",
    "plt.plot(datewise[\"Deaths\"],marker='o')\n",
    "plt.ylabel(\"Death Cases\")\n",
    "plt.xlabel(\"Datetime\")\n",
    "plt.title(\"Plot for Death Cases\")\n",
    "plt.xticks(rotation=90)"
   ]
  },
  {
   "cell_type": "code",
   "execution_count": 69,
   "metadata": {},
   "outputs": [],
   "source": [
    "model_train=datewise.iloc[:int(datewise.shape[0]*0.85)]\n",
    "valid=datewise.iloc[int(datewise.shape[0]*0.85):]\n",
    "y_pred=valid.copy()"
   ]
  },
  {
   "cell_type": "code",
   "execution_count": 70,
   "metadata": {},
   "outputs": [
    {
     "name": "stdout",
     "output_type": "stream",
     "text": [
      "Results of Dickey-Fuller test for Original Time Series\n",
      "Test Statistic                -3.256464\n",
      "p-value                        0.016940\n",
      "#Lags Used                     3.000000\n",
      "Number of Observations Used   25.000000\n",
      "Critical Value (1%)           -3.723863\n",
      "Critical Value (5%)           -2.986489\n",
      "Critical Value (10%)          -2.632800\n",
      "dtype: float64\n"
     ]
    }
   ],
   "source": [
    "print(\"Results of Dickey-Fuller test for Original Time Series\")\n",
    "dftest = adfuller(model_train[\"Deaths\"], autolag='AIC')\n",
    "dfoutput = pd.Series(dftest[0:4], index=['Test Statistic','p-value','#Lags Used','Number of Observations Used'])\n",
    "for key,value in dftest[4].items():\n",
    "    dfoutput['Critical Value (%s)'%key] = value\n",
    "print(dfoutput)"
   ]
  },
  {
   "cell_type": "code",
   "execution_count": 122,
   "metadata": {},
   "outputs": [
    {
     "name": "stdout",
     "output_type": "stream",
     "text": [
      "Results of Dickey-Fuller test for Original Time Series\n",
      "Test Statistic                -3.256464\n",
      "p-value                        0.016940\n",
      "#Lags Used                     3.000000\n",
      "Number of Observations Used   25.000000\n",
      "Critical Value (1%)           -3.723863\n",
      "Critical Value (5%)           -2.986489\n",
      "Critical Value (10%)          -2.632800\n",
      "dtype: float64\n"
     ]
    }
   ],
   "source": [
    "log_deaths=(model_train[\"Deaths\"])\n",
    "print(\"Results of Dickey-Fuller test for Original Time Series\")\n",
    "dftest = adfuller((log_deaths).dropna(), autolag='AIC')\n",
    "dfoutput = pd.Series(dftest[0:4], index=['Test Statistic','p-value','#Lags Used','Number of Observations Used'])\n",
    "for key,value in dftest[4].items():\n",
    "    dfoutput['Critical Value (%s)'%key] = value\n",
    "print(dfoutput)"
   ]
  },
  {
   "cell_type": "code",
   "execution_count": 123,
   "metadata": {},
   "outputs": [
    {
     "data": {
      "text/plain": [
       "Date\n",
       "2020-03-03        0\n",
       "2020-03-04        2\n",
       "2020-03-05        6\n",
       "2020-03-06       10\n",
       "2020-03-07       16\n",
       "2020-03-08       34\n",
       "2020-03-09       34\n",
       "2020-03-10       70\n",
       "2020-03-11       94\n",
       "2020-03-12      168\n",
       "2020-03-13      238\n",
       "2020-03-14      272\n",
       "2020-03-15      576\n",
       "2020-03-16      618\n",
       "2020-03-17      982\n",
       "2020-03-18     1196\n",
       "2020-03-19     1534\n",
       "2020-03-20     1984\n",
       "2020-03-21     2652\n",
       "2020-03-22     3440\n",
       "2020-03-23     4364\n",
       "2020-03-24     5392\n",
       "2020-03-25     6868\n",
       "2020-03-26     8178\n",
       "2020-03-27     9716\n",
       "2020-03-28    11380\n",
       "2020-03-29    13056\n",
       "2020-03-30    14680\n",
       "2020-03-31    16378\n",
       "Name: Deaths, dtype: int64"
      ]
     },
     "execution_count": 123,
     "metadata": {},
     "output_type": "execute_result"
    }
   ],
   "source": [
    "log_deaths"
   ]
  },
  {
   "cell_type": "code",
   "execution_count": 124,
   "metadata": {},
   "outputs": [],
   "source": [
    "log_deaths = log_deaths[log_deaths != 0]"
   ]
  },
  {
   "cell_type": "code",
   "execution_count": 125,
   "metadata": {},
   "outputs": [
    {
     "name": "stdout",
     "output_type": "stream",
     "text": [
      "Results of Dickey-Fuller test for Original Time Series\n",
      "Test Statistic                -1.678288\n",
      "p-value                        0.442332\n",
      "#Lags Used                     9.000000\n",
      "Number of Observations Used   15.000000\n",
      "Critical Value (1%)           -3.964443\n",
      "Critical Value (5%)           -3.084908\n",
      "Critical Value (10%)          -2.681814\n",
      "dtype: float64\n"
     ]
    }
   ],
   "source": [
    "# NO FUNCIONA AMB LOG\n",
    "no_log_deaths=np.log(model_train[\"Deaths\"])\n",
    "print(\"Results of Dickey-Fuller test for Original Time Series\")\n",
    "dftest = adfuller((log_deaths.diff().diff().diff()).dropna(), autolag='AIC')\n",
    "dfoutput = pd.Series(dftest[0:4], index=['Test Statistic','p-value','#Lags Used','Number of Observations Used'])\n",
    "for key,value in dftest[4].items():\n",
    "    dfoutput['Critical Value (%s)'%key] = value\n",
    "print(dfoutput)"
   ]
  },
  {
   "cell_type": "code",
   "execution_count": 126,
   "metadata": {},
   "outputs": [
    {
     "data": {
      "text/plain": [
       "(array([737493., 737497., 737501., 737505., 737509., 737513., 737516.]),\n",
       " <a list of 7 Text xticklabel objects>)"
      ]
     },
     "execution_count": 126,
     "metadata": {},
     "output_type": "execute_result"
    },
    {
     "data": {
      "image/png": "[encoded data removed]",
      "text/plain": [
       "<Figure size 576x288 with 1 Axes>"
      ]
     },
     "metadata": {
      "needs_background": "light"
     },
     "output_type": "display_data"
    }
   ],
   "source": [
    "series=(log_deaths.diff().diff().diff()).dropna()\n",
    "plt.figure(figsize=(8,4))\n",
    "plt.plot(series)\n",
    "plt.title(\"Stationary Series plot\")\n",
    "plt.xticks(rotation=90)"
   ]
  },
  {
   "cell_type": "code",
   "execution_count": 127,
   "metadata": {},
   "outputs": [
    {
     "data": {
      "image/png": "[encoded data removed]",
      "text/plain": [
       "<Figure size 432x288 with 1 Axes>"
      ]
     },
     "metadata": {
      "needs_background": "light"
     },
     "output_type": "display_data"
    },
    {
     "data": {
      "image/png": "[encoded data removed]",
      "text/plain": [
       "<Figure size 432x288 with 1 Axes>"
      ]
     },
     "metadata": {
      "needs_background": "light"
     },
     "output_type": "display_data"
    }
   ],
   "source": [
    "plot_acf(series)\n",
    "plt.show()\n",
    "plot_pacf(series)\n",
    "plt.show()"
   ]
  },
  {
   "cell_type": "code",
   "execution_count": 128,
   "metadata": {},
   "outputs": [],
   "source": [
    "model_arima_deaths=ARIMA(log_deaths,(2,2,1))"
   ]
  },
  {
   "cell_type": "code",
   "execution_count": 129,
   "metadata": {},
   "outputs": [],
   "source": [
    "model_arima_deaths_fit=model_arima_deaths.fit()"
   ]
  },
  {
   "cell_type": "code",
   "execution_count": 130,
   "metadata": {},
   "outputs": [
    {
     "data": {
      "text/plain": [
       "array([18099.46313197, 19881.77679122, 21703.63153366, 23581.76719611,\n",
       "       25507.34812161, 27487.97772505])"
      ]
     },
     "execution_count": 130,
     "metadata": {},
     "output_type": "execute_result"
    }
   ],
   "source": [
    "predictions_deaths"
   ]
  },
  {
   "cell_type": "code",
   "execution_count": 131,
   "metadata": {},
   "outputs": [],
   "source": [
    "predictions_deaths=np.exp(model_arima_deaths_fit.forecast(len(valid))[0])\n",
    "y_pred[\"ARIMA Death Prediction\"]=predictions_deaths"
   ]
  },
  {
   "cell_type": "code",
   "execution_count": 132,
   "metadata": {},
   "outputs": [],
   "source": [
    "predictions_deaths=(model_arima_deaths_fit.forecast(len(valid))[0])\n",
    "y_pred[\"ARIMA Death Prediction\"]=predictions_deaths"
   ]
  },
  {
   "cell_type": "code",
   "execution_count": 133,
   "metadata": {},
   "outputs": [],
   "source": [
    "y_pred[\"ARIMA Death Prediction\"]=predictions_deaths"
   ]
  },
  {
   "cell_type": "code",
   "execution_count": 134,
   "metadata": {},
   "outputs": [
    {
     "data": {
      "text/plain": [
       "array([18099.46313197, 19881.77679122, 21703.63153366, 23581.76719611,\n",
       "       25507.34812161, 27487.97772505])"
      ]
     },
     "execution_count": 134,
     "metadata": {},
     "output_type": "execute_result"
    }
   ],
   "source": [
    "predictions_deaths"
   ]
  },
  {
   "cell_type": "code",
   "execution_count": 135,
   "metadata": {},
   "outputs": [
    {
     "data": {
      "text/plain": [
       "(array([-1.,  0.,  1.,  2.,  3.,  4.,  5.,  6.]),\n",
       " <a list of 8 Text xticklabel objects>)"
      ]
     },
     "execution_count": 135,
     "metadata": {},
     "output_type": "execute_result"
    },
    {
     "data": {
      "image/png": "[encoded data removed]",
      "text/plain": [
       "<Figure size 720x360 with 1 Axes>"
      ]
     },
     "metadata": {
      "needs_background": "light"
     },
     "output_type": "display_data"
    }
   ],
   "source": [
    "plt.figure(figsize=(10,5))\n",
    "plt.plot(predictions_deaths,marker='o')\n",
    "plt.ylabel(\"predictions_deaths\")\n",
    "plt.xlabel(\"Date\")\n",
    "plt.title(\"Plot for Death Cases\")\n",
    "plt.xticks(rotation=90)"
   ]
  },
  {
   "cell_type": "code",
   "execution_count": 136,
   "metadata": {},
   "outputs": [],
   "source": [
    "test = np.exp(predictions_deaths)"
   ]
  },
  {
   "cell_type": "code",
   "execution_count": 137,
   "metadata": {},
   "outputs": [
    {
     "data": {
      "text/plain": [
       "array([inf, inf, inf, inf, inf, inf])"
      ]
     },
     "execution_count": 137,
     "metadata": {},
     "output_type": "execute_result"
    }
   ],
   "source": [
    "test"
   ]
  },
  {
   "cell_type": "code",
   "execution_count": 138,
   "metadata": {},
   "outputs": [
    {
     "data": {
      "text/html": [
       "<div>\n",
       "<style scoped>\n",
       "    .dataframe tbody tr th:only-of-type {\n",
       "        vertical-align: middle;\n",
       "    }\n",
       "\n",
       "    .dataframe tbody tr th {\n",
       "        vertical-align: top;\n",
       "    }\n",
       "\n",
       "    .dataframe thead th {\n",
       "        text-align: right;\n",
       "    }\n",
       "</style>\n",
       "<table border=\"1\" class=\"dataframe\">\n",
       "  <thead>\n",
       "    <tr style=\"text-align: right;\">\n",
       "      <th></th>\n",
       "      <th>Confirmed</th>\n",
       "      <th>Deaths</th>\n",
       "      <th>Date</th>\n",
       "      <th>Days Since</th>\n",
       "    </tr>\n",
       "    <tr>\n",
       "      <th>Date</th>\n",
       "      <th></th>\n",
       "      <th></th>\n",
       "      <th></th>\n",
       "      <th></th>\n",
       "    </tr>\n",
       "  </thead>\n",
       "  <tbody>\n",
       "    <tr>\n",
       "      <th>2020-04-01</th>\n",
       "      <td>204272</td>\n",
       "      <td>18106</td>\n",
       "      <td>2020-04-01</td>\n",
       "      <td>29</td>\n",
       "    </tr>\n",
       "    <tr>\n",
       "      <th>2020-04-02</th>\n",
       "      <td>220476</td>\n",
       "      <td>20006</td>\n",
       "      <td>2020-04-02</td>\n",
       "      <td>30</td>\n",
       "    </tr>\n",
       "    <tr>\n",
       "      <th>2020-04-03</th>\n",
       "      <td>235420</td>\n",
       "      <td>21870</td>\n",
       "      <td>2020-04-03</td>\n",
       "      <td>31</td>\n",
       "    </tr>\n",
       "    <tr>\n",
       "      <th>2020-04-04</th>\n",
       "      <td>249472</td>\n",
       "      <td>23488</td>\n",
       "      <td>2020-04-04</td>\n",
       "      <td>32</td>\n",
       "    </tr>\n",
       "    <tr>\n",
       "      <th>2020-04-05</th>\n",
       "      <td>261518</td>\n",
       "      <td>24836</td>\n",
       "      <td>2020-04-05</td>\n",
       "      <td>33</td>\n",
       "    </tr>\n",
       "    <tr>\n",
       "      <th>2020-04-06</th>\n",
       "      <td>270064</td>\n",
       "      <td>26110</td>\n",
       "      <td>2020-04-06</td>\n",
       "      <td>34</td>\n",
       "    </tr>\n",
       "  </tbody>\n",
       "</table>\n",
       "</div>"
      ],
      "text/plain": [
       "            Confirmed  Deaths       Date  Days Since\n",
       "Date                                                \n",
       "2020-04-01     204272   18106 2020-04-01          29\n",
       "2020-04-02     220476   20006 2020-04-02          30\n",
       "2020-04-03     235420   21870 2020-04-03          31\n",
       "2020-04-04     249472   23488 2020-04-04          32\n",
       "2020-04-05     261518   24836 2020-04-05          33\n",
       "2020-04-06     270064   26110 2020-04-06          34"
      ]
     },
     "execution_count": 138,
     "metadata": {},
     "output_type": "execute_result"
    }
   ],
   "source": [
    "valid"
   ]
  },
  {
   "cell_type": "code",
   "execution_count": 139,
   "metadata": {},
   "outputs": [
    {
     "name": "stdout",
     "output_type": "stream",
     "text": [
      "Root Mean Square Error:  632.6499560081293\n"
     ]
    }
   ],
   "source": [
    "print(\"Root Mean Square Error: \",np.sqrt(mean_squared_error(valid[\"Deaths\"],predictions_deaths)))"
   ]
  },
  {
   "cell_type": "code",
   "execution_count": 140,
   "metadata": {},
   "outputs": [
    {
     "name": "stdout",
     "output_type": "stream",
     "text": [
      "Root Mean Square Error:  632.6499560081293\n"
     ]
    }
   ],
   "source": [
    "print(\"Root Mean Square Error: \",np.sqrt(mean_squared_error(valid[\"Deaths\"],predictions_deaths)))"
   ]
  },
  {
   "cell_type": "code",
   "execution_count": 141,
   "metadata": {},
   "outputs": [
    {
     "data": {
      "text/plain": [
       "(array([737489., 737493., 737497., 737501., 737505., 737509., 737513.,\n",
       "        737516., 737520.]),\n",
       " <a list of 9 Text xticklabel objects>)"
      ]
     },
     "execution_count": 141,
     "metadata": {},
     "output_type": "execute_result"
    },
    {
     "data": {
      "image/png": "[encoded data removed]",
      "text/plain": [
       "<Figure size 720x360 with 1 Axes>"
      ]
     },
     "metadata": {
      "needs_background": "light"
     },
     "output_type": "display_data"
    }
   ],
   "source": [
    "plt.figure(figsize=(10,5))\n",
    "plt.plot(model_train[\"Deaths\"],label=\"Train Set\",marker=\"o\")\n",
    "plt.plot(valid[\"Deaths\"],label=\"Validation Set\",marker=\"*\")\n",
    "plt.plot(y_pred[\"ARIMA Death Prediction\"],label=\"ARIMA Prediction Set\",marker=\"^\")\n",
    "plt.legend()\n",
    "plt.xlabel(\"Date\")\n",
    "plt.ylabel(\"Number of Death Cases\")\n",
    "plt.xticks(rotation=90)"
   ]
  },
  {
   "cell_type": "code",
   "execution_count": 142,
   "metadata": {},
   "outputs": [],
   "source": [
    "ARIMA_model_death_forecast=[]\n",
    "for i in range(1,18):\n",
    "    ARIMA_model_death_forecast.append(np.exp(model_arima_deaths_fit.forecast(len(valid)+i)[0][-1]))"
   ]
  },
  {
   "cell_type": "code",
   "execution_count": 143,
   "metadata": {},
   "outputs": [
    {
     "data": {
      "text/html": [
       "<div>\n",
       "<style scoped>\n",
       "    .dataframe tbody tr th:only-of-type {\n",
       "        vertical-align: middle;\n",
       "    }\n",
       "\n",
       "    .dataframe tbody tr th {\n",
       "        vertical-align: top;\n",
       "    }\n",
       "\n",
       "    .dataframe thead th {\n",
       "        text-align: right;\n",
       "    }\n",
       "</style>\n",
       "<table border=\"1\" class=\"dataframe\">\n",
       "  <thead>\n",
       "    <tr style=\"text-align: right;\">\n",
       "      <th></th>\n",
       "      <th>Deaths</th>\n",
       "      <th>ARIMA Model Death Forecast</th>\n",
       "    </tr>\n",
       "  </thead>\n",
       "  <tbody>\n",
       "    <tr>\n",
       "      <th>0</th>\n",
       "      <td>2020-04-07</td>\n",
       "      <td>inf</td>\n",
       "    </tr>\n",
       "    <tr>\n",
       "      <th>1</th>\n",
       "      <td>2020-04-08</td>\n",
       "      <td>inf</td>\n",
       "    </tr>\n",
       "    <tr>\n",
       "      <th>2</th>\n",
       "      <td>2020-04-09</td>\n",
       "      <td>inf</td>\n",
       "    </tr>\n",
       "    <tr>\n",
       "      <th>3</th>\n",
       "      <td>2020-04-10</td>\n",
       "      <td>inf</td>\n",
       "    </tr>\n",
       "    <tr>\n",
       "      <th>4</th>\n",
       "      <td>2020-04-11</td>\n",
       "      <td>inf</td>\n",
       "    </tr>\n",
       "  </tbody>\n",
       "</table>\n",
       "</div>"
      ],
      "text/plain": [
       "      Deaths  ARIMA Model Death Forecast\n",
       "0 2020-04-07                         inf\n",
       "1 2020-04-08                         inf\n",
       "2 2020-04-09                         inf\n",
       "3 2020-04-10                         inf\n",
       "4 2020-04-11                         inf"
      ]
     },
     "execution_count": 143,
     "metadata": {},
     "output_type": "execute_result"
    }
   ],
   "source": [
    "pd.DataFrame(zip(new_date,ARIMA_model_death_forecast),columns=[\"Deaths\",\"ARIMA Model Death Forecast\"]).head()"
   ]
  }
 ],
 "metadata": {
  "kernelspec": {
   "display_name": "Python 3",
   "language": "python",
   "name": "python3"
  },
  "language_info": {
   "codemirror_mode": {
    "name": "ipython",
    "version": 3
   },
   "file_extension": ".py",
   "mimetype": "text/x-python",
   "name": "python",
   "nbconvert_exporter": "python",
   "pygments_lexer": "ipython3",
   "version": "3.7.4"
  }
 },
 "nbformat": 4,
 "nbformat_minor": 2
}
